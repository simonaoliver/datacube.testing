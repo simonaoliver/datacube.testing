{
 "cells": [
  {
   "cell_type": "markdown",
   "metadata": {},
   "source": [
    "For a given ga-metadata.yaml - draw the polygon as a shapely object"
   ]
  },
  {
   "cell_type": "code",
   "execution_count": 1,
   "metadata": {
    "collapsed": false
   },
   "outputs": [],
   "source": [
    "from datetime import timedelta, datetime\n",
    "import ephem\n",
    "import math\n",
    "import os\n",
    "import sys\n",
    "import time\n",
    "import wget\n",
    "from pyorbital.orbital import Orbital\n",
    "from pyorbital import tlefile\n",
    "from geographiclib.geodesic import Geodesic\n",
    "import osgeo.ogr\n",
    "import osgeo.osr\n",
    "from osgeo import ogr\n",
    "import shutil\n",
    "\n",
    "import fiona\n",
    "import folium\n",
    "from IPython.display import display\n",
    "import geopandas\n",
    "from shapely.geometry import mapping\n",
    "from shapely.geometry import shape\n",
    "from shapely.geometry import Polygon\n",
    "from shapely.geometry import MultiPolygon\n",
    "from shapely.geometry import LineString\n",
    "%matplotlib inline\n",
    "import yaml\n",
    "import pandas"
   ]
  },
  {
   "cell_type": "code",
   "execution_count": 2,
   "metadata": {
    "collapsed": false
   },
   "outputs": [
    {
     "data": {
      "text/plain": [
       "'1.11.3'"
      ]
     },
     "execution_count": 2,
     "metadata": {},
     "output_type": "execute_result"
    }
   ],
   "source": [
    "from osgeo import gdal\n",
    "gdal.__version__"
   ]
  },
  {
   "cell_type": "code",
   "execution_count": 3,
   "metadata": {
    "collapsed": false
   },
   "outputs": [
    {
     "data": {
      "text/plain": [
       "'1.6.3'"
      ]
     },
     "execution_count": 3,
     "metadata": {},
     "output_type": "execute_result"
    }
   ],
   "source": [
    "fiona.__version__"
   ]
  },
  {
   "cell_type": "markdown",
   "metadata": {},
   "source": [
    "## Get information from the RCC metadata AOS LOS and Platform"
   ]
  },
  {
   "cell_type": "code",
   "execution_count": 4,
   "metadata": {
    "collapsed": false
   },
   "outputs": [
    {
     "ename": "IOError",
     "evalue": "[Errno 2] No such file or directory: 'ga-metadata.yaml'",
     "output_type": "error",
     "traceback": [
      "\u001b[1;31m---------------------------------------------------------------------------\u001b[0m",
      "\u001b[1;31mIOError\u001b[0m                                   Traceback (most recent call last)",
      "\u001b[1;32m<ipython-input-4-4947e7e82c7d>\u001b[0m in \u001b[0;36m<module>\u001b[1;34m()\u001b[0m\n\u001b[1;32m----> 1\u001b[1;33m \u001b[1;32mwith\u001b[0m \u001b[0mopen\u001b[0m\u001b[1;33m(\u001b[0m\u001b[1;34m'ga-metadata.yaml'\u001b[0m\u001b[1;33m,\u001b[0m \u001b[1;34m'r'\u001b[0m\u001b[1;33m)\u001b[0m \u001b[1;32mas\u001b[0m \u001b[0mstream\u001b[0m\u001b[1;33m:\u001b[0m\u001b[1;33m\u001b[0m\u001b[0m\n\u001b[0m\u001b[0;32m      2\u001b[0m     \u001b[1;32mtry\u001b[0m\u001b[1;33m:\u001b[0m\u001b[1;33m\u001b[0m\u001b[0m\n\u001b[0;32m      3\u001b[0m         \u001b[0mmeta\u001b[0m \u001b[1;33m=\u001b[0m \u001b[1;33m(\u001b[0m\u001b[0myaml\u001b[0m\u001b[1;33m.\u001b[0m\u001b[0mload\u001b[0m\u001b[1;33m(\u001b[0m\u001b[0mstream\u001b[0m\u001b[1;33m)\u001b[0m\u001b[1;33m)\u001b[0m\u001b[1;33m\u001b[0m\u001b[0m\n\u001b[0;32m      4\u001b[0m         \u001b[1;32mprint\u001b[0m\u001b[1;33m(\u001b[0m\u001b[0mmeta\u001b[0m\u001b[1;33m)\u001b[0m\u001b[1;33m\u001b[0m\u001b[0m\n\u001b[0;32m      5\u001b[0m     \u001b[1;32mexcept\u001b[0m \u001b[0myaml\u001b[0m\u001b[1;33m.\u001b[0m\u001b[0mYAMLError\u001b[0m \u001b[1;32mas\u001b[0m \u001b[0mexc\u001b[0m\u001b[1;33m:\u001b[0m\u001b[1;33m\u001b[0m\u001b[0m\n",
      "\u001b[1;31mIOError\u001b[0m: [Errno 2] No such file or directory: 'ga-metadata.yaml'"
     ]
    }
   ],
   "source": [
    "with open('ga-metadata.yaml', 'r') as stream:\n",
    "    try:\n",
    "        meta = (yaml.load(stream))\n",
    "        print(meta)\n",
    "    except yaml.YAMLError as exc:\n",
    "        print(exc)"
   ]
  },
  {
   "cell_type": "code",
   "execution_count": null,
   "metadata": {
    "collapsed": false
   },
   "outputs": [],
   "source": [
    "meta['platform']['code']"
   ]
  },
  {
   "cell_type": "code",
   "execution_count": 27,
   "metadata": {
    "collapsed": false
   },
   "outputs": [
    {
     "data": {
      "text/plain": [
       "1986"
      ]
     },
     "execution_count": 27,
     "metadata": {},
     "output_type": "execute_result"
    }
   ],
   "source": [
    "meta['acquisition']['aos'].year"
   ]
  },
  {
   "cell_type": "code",
   "execution_count": 28,
   "metadata": {
    "collapsed": false
   },
   "outputs": [
    {
     "data": {
      "text/plain": [
       "datetime.datetime(1986, 8, 15, 23, 56, 27)"
      ]
     },
     "execution_count": 28,
     "metadata": {},
     "output_type": "execute_result"
    }
   ],
   "source": [
    "meta['acquisition']['los']"
   ]
  },
  {
   "cell_type": "code",
   "execution_count": 29,
   "metadata": {
    "collapsed": true
   },
   "outputs": [],
   "source": [
    "def dms2dec(dms):\n",
    "    strdms = str(dms)\n",
    "    dms = [float(x) for x in strdms.split(':')]\n",
    "    dec = dms[0]+(dms[1]/60)+(dms[2]/3600)\n",
    "    return dec"
   ]
  },
  {
   "cell_type": "markdown",
   "metadata": {},
   "source": [
    "## From the archive TLEs find a reasonably close match to determine where the satellite was and the sub satellite position - use 7 days as the limit"
   ]
  },
  {
   "cell_type": "code",
   "execution_count": 35,
   "metadata": {
    "collapsed": false
   },
   "outputs": [
    {
     "name": "stdout",
     "output_type": "stream",
     "text": [
      "[[143.51608333333334, -15.603666666666667], [143.44847222222222, -15.303777777777778], [143.38072222222223, -15.003916666666667], [143.31283333333334, -16.704083333333333], [143.24477777777776, -16.40425], [143.17655555555555, -16.104416666666665], [143.10819444444445, -17.80463888888889], [143.03963888888887, -17.504833333333334], [142.97094444444446, -17.20508333333333], [142.90208333333334, -18.905305555555557], [142.83302777777777, -18.605583333333335], [142.76383333333334, -18.30586111111111], [142.69441666666668, -18.006138888888888], [142.62483333333333, -19.70647222222222], [142.55505555555555, -19.406805555555557], [142.4850833333333, -19.10713888888889], [142.41491666666667, -20.8075], [142.34458333333333, -20.50788888888889], [142.274, -20.208277777777777], [142.20322222222222, -21.908694444444446], [142.13222222222223, -21.60913888888889], [142.06102777777778, -21.30961111111111], [141.9896111111111, -21.010083333333334], [141.9179722222222, -22.710583333333332], [141.84608333333335, -22.411083333333334], [141.77397222222223, -22.11163888888889], [141.70163888888888, -23.812194444444444], [141.62905555555557, -23.512777777777778], [141.55622222222223, -23.21336111111111], [141.4831388888889, -24.914], [141.40977777777778, -24.61463888888889], [141.33619444444446, -24.315305555555554], [141.26233333333334, -24.016], [141.18819444444443, -25.716722222222224], [141.11377777777778, -25.417444444444445], [141.03908333333334, -25.118194444444445], [140.9641111111111, -26.819], [140.88883333333334, -26.519805555555557], [140.81327777777778, -26.22063888888889], [140.73741666666666, -27.9215], [140.66125, -27.62238888888889], [140.58475, -27.323277777777776], [140.50797222222224, -27.024222222222225], [140.4308333333333, -28.725194444444444], [140.35338888888887, -28.426166666666667], [140.27561111111112, -28.127194444444445], [140.19747222222222, -29.828249999999997], [140.11897222222223, -29.529333333333334], [140.0401388888889, -29.230416666666667], [139.96094444444444, -30.931555555555555], [139.8813888888889, -30.63272222222222], [139.80147222222223, -30.333916666666667], [139.7211388888889, -30.03513888888889], [139.64044444444443, -31.73638888888889], [139.55933333333334, -31.437694444444443], [139.47783333333334, -31.139027777777777], [139.39591666666666, -32.840361111111115], [139.31361111111113, -32.54175], [139.23086111111112, -32.24316666666667], [139.14766666666665, -33.94463888888889], [139.06405555555557, -33.646138888888885], [138.97997222222222, -33.34763888888889], [138.89544444444445, -33.04922222222222], [138.81044444444444, -34.75080555555555], [138.72497222222222, -34.452444444444446], [138.63905555555556, -34.15413888888889], [138.55261111111113, -35.85583333333334], [138.46566666666666, -35.557611111111115], [138.37822222222223, -35.259388888888886], [138.29025, -36.961222222222226], [138.20174999999998, -36.66311111111111], [138.1127222222222, -36.365027777777776], [138.0231388888889, -36.066972222222226], [137.933, -37.769], [137.84227777777778, -37.47102777777778], [137.751, -37.173138888888886]]\n"
     ]
    }
   ],
   "source": [
    "LS5tle = 'tle/LS5_ARCHIVE.txt'\n",
    "platform = meta['platform']['code']\n",
    "aos = meta['acquisition']['aos']\n",
    "los = meta['acquisition']['los']\n",
    "deltadays = 7 # Tolerance for time delta between TLE epoch and AOS\n",
    "track = []\n",
    "with open(LS5tle, 'r') as f:\n",
    "    data = f.readlines()\n",
    "    index = 0\n",
    "    found = False\n",
    "    \n",
    "    for line in data:\n",
    "        if (line[0]=='1'):\n",
    "            #print line[18:20]\n",
    "            index +=1\n",
    "            #print data[index]\n",
    "            sat = ephem.readtle(platform,line,data[index])\n",
    "            try:\n",
    "                sat.compute(str(aos))\n",
    "                epoch =  datetime.strptime(str(sat._epoch), \"%Y/%m/%d %H:%M:%S\")\n",
    "                absolute = abs(aos-epoch)\n",
    "                delta = timedelta(days=deltadays)\n",
    "                timestep = timedelta(seconds=5)\n",
    "                if absolute < delta:\n",
    "                    while aos < los:\n",
    "                        sat.compute(str(aos))\n",
    "                        track.append([dms2dec(sat.sublong),dms2dec(sat.sublat)])\n",
    "                        #print dms2dec(sat.sublat)\n",
    "                        #print sat.sublat, sat.sublong\n",
    "                        aos+=timestep\n",
    "                    sat.compute(str(los))\n",
    "                    # GO DO GETPASSES IGNORE OBSERVER\n",
    "                    print track\n",
    "                    satellite_track = LineString(track)\n",
    "                    break\n",
    "            except ValueError:\n",
    "                pass            \n",
    "        else:\n",
    "            index +=1\n",
    "\n",
    "    "
   ]
  },
  {
   "cell_type": "code",
   "execution_count": 36,
   "metadata": {
    "collapsed": false
   },
   "outputs": [
    {
     "data": {
      "image/svg+xml": [
       "<svg xmlns=\"http://www.w3.org/2000/svg\" xmlns:xlink=\"http://www.w3.org/1999/xlink\" width=\"100.0\" height=\"100.0\" viewBox=\"136.840396667 -38.6796033333 7.58629 24.58629\" preserveAspectRatio=\"xMinYMin meet\"><g transform=\"matrix(1,0,0,-1,0,-52.7729166667)\"><polyline fill=\"none\" stroke=\"#66cc99\" stroke-width=\"0.4917258\" points=\"143.516083333,-15.6036666667 143.448472222,-15.3037777778 143.380722222,-15.0039166667 143.312833333,-16.7040833333 143.244777778,-16.40425 143.176555556,-16.1044166667 143.108194444,-17.8046388889 143.039638889,-17.5048333333 142.970944444,-17.2050833333 142.902083333,-18.9053055556 142.833027778,-18.6055833333 142.763833333,-18.3058611111 142.694416667,-18.0061388889 142.624833333,-19.7064722222 142.555055556,-19.4068055556 142.485083333,-19.1071388889 142.414916667,-20.8075 142.344583333,-20.5078888889 142.274,-20.2082777778 142.203222222,-21.9086944444 142.132222222,-21.6091388889 142.061027778,-21.3096111111 141.989611111,-21.0100833333 141.917972222,-22.7105833333 141.846083333,-22.4110833333 141.773972222,-22.1116388889 141.701638889,-23.8121944444 141.629055556,-23.5127777778 141.556222222,-23.2133611111 141.483138889,-24.914 141.409777778,-24.6146388889 141.336194444,-24.3153055556 141.262333333,-24.016 141.188194444,-25.7167222222 141.113777778,-25.4174444444 141.039083333,-25.1181944444 140.964111111,-26.819 140.888833333,-26.5198055556 140.813277778,-26.2206388889 140.737416667,-27.9215 140.66125,-27.6223888889 140.58475,-27.3232777778 140.507972222,-27.0242222222 140.430833333,-28.7251944444 140.353388889,-28.4261666667 140.275611111,-28.1271944444 140.197472222,-29.82825 140.118972222,-29.5293333333 140.040138889,-29.2304166667 139.960944444,-30.9315555556 139.881388889,-30.6327222222 139.801472222,-30.3339166667 139.721138889,-30.0351388889 139.640444444,-31.7363888889 139.559333333,-31.4376944444 139.477833333,-31.1390277778 139.395916667,-32.8403611111 139.313611111,-32.54175 139.230861111,-32.2431666667 139.147666667,-33.9446388889 139.064055556,-33.6461388889 138.979972222,-33.3476388889 138.895444444,-33.0492222222 138.810444444,-34.7508055556 138.724972222,-34.4524444444 138.639055556,-34.1541388889 138.552611111,-35.8558333333 138.465666667,-35.5576111111 138.378222222,-35.2593888889 138.29025,-36.9612222222 138.20175,-36.6631111111 138.112722222,-36.3650277778 138.023138889,-36.0669722222 137.933,-37.769 137.842277778,-37.4710277778 137.751,-37.1731388889\" opacity=\"0.8\" /></g></svg>"
      ],
      "text/plain": [
       "<shapely.geometry.linestring.LineString at 0x7fbf4ed7a990>"
      ]
     },
     "execution_count": 36,
     "metadata": {},
     "output_type": "execute_result"
    }
   ],
   "source": [
    "satellite_track"
   ]
  },
  {
   "cell_type": "markdown",
   "metadata": {},
   "source": [
    "## Intersect the sub satellite track with the WRS2 map to show which path rows constitute the data segment"
   ]
  },
  {
   "cell_type": "code",
   "execution_count": 38,
   "metadata": {
    "collapsed": true
   },
   "outputs": [],
   "source": [
    "shapes = []\n",
    "\n",
    "for pol in fiona.open('reference/wrs2_descending.shp'):\n",
    "    if satellite_track.intersects(shape(pol['geometry'])):\n",
    "        if shape(pol['geometry']).is_valid:\n",
    "            shapes.append(shape(pol['geometry']).buffer(0))\n",
    "\n",
    "satellite_scenes = MultiPolygon(shapes)"
   ]
  },
  {
   "cell_type": "code",
   "execution_count": 39,
   "metadata": {
    "collapsed": false
   },
   "outputs": [
    {
     "name": "stderr",
     "output_type": "stream",
     "text": [
      "Self-intersection at or near point 138.71383297021046 -33.784497532375788\n",
      "WARNING:shapely.geos:Self-intersection at or near point 138.71383297021046 -33.784497532375788\n"
     ]
    },
    {
     "data": {
      "image/svg+xml": [
       "<svg xmlns=\"http://www.w3.org/2000/svg\" xmlns:xlink=\"http://www.w3.org/1999/xlink\" width=\"100.0\" height=\"100.0\" viewBox=\"134.37588 -39.37052 11.59024 26.78724\" preserveAspectRatio=\"xMinYMin meet\"><g transform=\"matrix(1,0,0,-1,0,-51.9538)\"><g><path fill-rule=\"evenodd\" fill=\"#ff3333\" stroke=\"#555555\" stroke-width=\"0.5357448\" opacity=\"0.6\" d=\"M 138.656733175,-34.0007612175 L 138.64483239,-34.0458350698 L 138.637,-34.0755 L 138.636824392,-34.0754744748 L 136.668096088,-33.7893139667 L 136.668,-33.7893 L 137.089618978,-32.3156878699 L 137.099,-32.2829 L 139.035364437,-32.5642076678 L 139.036,-32.5643 L 138.656733175,-34.0007612175 z\" /><path fill-rule=\"evenodd\" fill=\"#ff3333\" stroke=\"#555555\" stroke-width=\"0.5357448\" opacity=\"0.6\" d=\"M 137.871725082,-36.8705600255 L 137.860125519,-36.9123350623 L 137.851,-36.9452 L 137.850783719,-36.9451685506 L 135.814,-36.649 L 135.820330762,-36.6280806585 L 136.265335603,-35.1576086171 L 136.269,-35.1455 L 138.26921338,-35.436085722 L 138.27,-35.4362 L 137.871725082,-36.8705600255 z\" /><path fill-rule=\"evenodd\" fill=\"#ff3333\" stroke=\"#555555\" stroke-width=\"0.5357448\" opacity=\"0.6\" d=\"M 135.39119298,-38.0023280673 L 135.820330762,-36.6280806585 L 135.837,-36.5747 L 137.871725082,-36.8705600255 L 137.872,-36.8706 L 137.860125519,-36.9123350623 L 137.850783719,-36.9451685506 L 137.443,-38.3784 L 137.442196443,-38.378283126 L 135.368,-38.0766 L 135.39119298,-38.0023280673 z\" /><path fill-rule=\"evenodd\" fill=\"#ff3333\" stroke=\"#555555\" stroke-width=\"0.5357448\" opacity=\"0.6\" d=\"M 144.10306854,-15.2629934489 L 144.080171887,-15.2596665732 L 142.94,-15.094 L 142.953838838,-15.0327298548 L 143.266036278,-13.6505052702 L 143.283,-13.5754 L 143.72651595,-13.6398422643 L 144.37,-13.7333396215 L 144.636856127,-13.7721134539 L 144.974,-13.8211 L 144.957589908,-13.8962404252 L 144.677324011,-15.1795543314 L 144.659828113,-15.2596665732 L 144.658419678,-15.2661156794 L 144.642,-15.3413 L 144.37,-15.3017784959 L 144.10306854,-15.2629934489 z\" /><path fill-rule=\"evenodd\" fill=\"#ff3333\" stroke=\"#555555\" stroke-width=\"0.5357448\" opacity=\"0.6\" d=\"M 144.658419678,-15.2661156794 L 144.659,-15.2662 L 144.37,-16.5812365269 L 144.325,-16.786 L 144.324363463,-16.7859075814 L 142.61,-16.537 L 142.627160662,-16.46192334 L 142.953838838,-15.0327298548 L 142.957,-15.0189 L 144.062675989,-15.1795543314 L 144.37,-15.2242084019 L 144.63693146,-15.2629934489 L 144.658419678,-15.2661156794 z\" /><path fill-rule=\"evenodd\" fill=\"#ff3333\" stroke=\"#555555\" stroke-width=\"0.5357448\" opacity=\"0.6\" d=\"M 144.324363463,-16.7859075814 L 144.020689226,-18.1550548684 L 144.004,-18.2303 L 142.277,-17.9793 L 142.294289626,-17.9043420604 L 142.627,-16.4619 L 142.627160662,-16.46192334 L 144.341,-16.7109 L 144.324363463,-16.7859075814 z\" /><path fill-rule=\"evenodd\" fill=\"#ff3333\" stroke=\"#555555\" stroke-width=\"0.5357448\" opacity=\"0.6\" d=\"M 143.697816804,-19.5988733993 L 143.682175868,-19.6687469835 L 143.681,-19.674 L 143.680986228,-19.6739979998 L 141.939157684,-19.4210229012 L 141.939,-19.421 L 142.294,-17.9043 L 142.294289626,-17.9043420604 L 144.020689226,-18.1550548684 L 144.021,-18.1551 L 143.697816804,-19.5988733993 z\" /><path fill-rule=\"evenodd\" fill=\"#ff3333\" stroke=\"#555555\" stroke-width=\"0.5357448\" opacity=\"0.6\" d=\"M 141.602496651,-20.8347194642 L 141.939157684,-19.4210229012 L 141.957,-19.3461 L 143.697816804,-19.5988733993 L 143.698,-19.5989 L 143.682175868,-19.6687469835 L 143.680986228,-19.6739979998 L 143.354,-21.1173 L 143.353788183,-21.1172692396 L 141.596,-20.862 L 141.602496651,-20.8347194642 z\" /><path fill-rule=\"evenodd\" fill=\"#ff3333\" stroke=\"#555555\" stroke-width=\"0.5357448\" opacity=\"0.6\" d=\"M 143.022590136,-22.5599404716 L 141.248579534,-22.3022841712 L 141.248,-22.3022 L 141.602496651,-20.8347194642 L 141.614,-20.7871 L 143.371,-21.0422 L 143.353788183,-21.1172692396 L 143.023,-22.56 L 143.022590136,-22.5599404716 z\" /><path fill-rule=\"evenodd\" fill=\"#ff3333\" stroke=\"#555555\" stroke-width=\"0.5357448\" opacity=\"0.6\" d=\"M 143.022590136,-22.5599404716 L 142.70542001,-23.9270157995 L 142.688,-24.0021 L 140.895,-23.7416 L 140.913362302,-23.6668525974 L 141.248579534,-22.3022841712 L 141.267,-22.2273 L 143.04,-22.4849 L 143.022590136,-22.5599404716 z\" /><path fill-rule=\"evenodd\" fill=\"#ff3333\" stroke=\"#555555\" stroke-width=\"0.5357448\" opacity=\"0.6\" d=\"M 142.70542001,-23.9270157995 L 142.706,-23.9271 L 142.365716144,-25.3684587688 L 142.348,-25.4435 L 140.535,-25.1801 L 140.537157372,-25.1714630907 L 140.913,-23.6668 L 140.913362302,-23.6668525974 L 142.70542001,-23.9270157995 z\" /><path fill-rule=\"evenodd\" fill=\"#ff3333\" stroke=\"#555555\" stroke-width=\"0.5357448\" opacity=\"0.6\" d=\"M 142.020940131,-26.8092913022 L 142.016608637,-26.8273773818 L 142.003,-26.8842 L 142.002811907,-26.8841726681 L 140.169,-26.6177 L 140.188015239,-26.543002214 L 140.537157372,-25.1714630907 L 140.554,-25.1053 L 142.365716144,-25.3684587688 L 142.366,-25.3685 L 142.020940131,-26.8092913022 z\" /><path fill-rule=\"evenodd\" fill=\"#ff3333\" stroke=\"#555555\" stroke-width=\"0.5357448\" opacity=\"0.6\" d=\"M 139.814409595,-27.9796594873 L 140.188,-26.543 L 140.188015239,-26.543002214 L 142.020940131,-26.8092913022 L 142.021,-26.8093 L 142.016608637,-26.8273773818 L 142.002811907,-26.8841726681 L 141.653,-28.3242 L 141.652467317,-28.3241226204 L 139.795,-28.0543 L 139.814409595,-27.9796594873 z\" /><path fill-rule=\"evenodd\" fill=\"#ff3333\" stroke=\"#555555\" stroke-width=\"0.5357448\" opacity=\"0.6\" d=\"M 141.652467317,-28.3241226204 L 141.3145435,-29.6884337081 L 141.296,-29.7633 L 139.413,-29.4898 L 139.424568678,-29.4462313792 L 139.814,-27.9796 L 139.814409595,-27.9796594873 L 141.671,-28.2493 L 141.652467317,-28.3241226204 z\" /><path fill-rule=\"evenodd\" fill=\"#ff3333\" stroke=\"#555555\" stroke-width=\"0.5357448\" opacity=\"0.6\" d=\"M 141.3145435,-29.6884337081 L 141.315,-29.6885 L 140.950970191,-31.1267504106 L 140.932,-31.2017 L 139.023,-30.9242 L 139.043258837,-30.8496375984 L 139.424568678,-29.4462313792 L 139.433,-29.4152 L 141.3145435,-29.6884337081 z\" /><path fill-rule=\"evenodd\" fill=\"#ff3333\" stroke=\"#555555\" stroke-width=\"0.5357448\" opacity=\"0.6\" d=\"M 140.950970191,-31.1267504106 L 140.952,-31.1269 L 140.580364437,-32.5642076678 L 140.561,-32.6391 L 138.623,-32.3574 L 138.634618978,-32.3156878699 L 139.043,-30.8496 L 139.043258837,-30.8496375984 L 140.950970191,-31.1267504106 z\" /><path fill-rule=\"evenodd\" fill=\"#ff3333\" stroke=\"#555555\" stroke-width=\"0.5357448\" opacity=\"0.6\" d=\"M 140.201733175,-34.0007612175 L 140.18983239,-34.0458350698 L 140.182,-34.0755 L 140.181824392,-34.0754744748 L 138.213096088,-33.7893139667 L 138.213,-33.7893 L 138.634618978,-32.3156878699 L 138.644,-32.2829 L 140.580364437,-32.5642076678 L 140.581,-32.5643 L 140.201733175,-34.0007612175 z\" /><path fill-rule=\"evenodd\" fill=\"#ff3333\" stroke=\"#555555\" stroke-width=\"0.5357448\" opacity=\"0.6\" d=\"M 137.810335603,-35.1576086171 L 138.213096088,-33.7893139667 L 138.235,-33.7149 L 140.201733175,-34.0007612175 L 140.202,-34.0008 L 140.18983239,-34.0458350698 L 140.181824392,-34.0754744748 L 139.81421338,-35.436085722 L 139.794,-35.5109 L 137.792,-35.2199 L 137.810335603,-35.1576086171 z\" /><path fill-rule=\"evenodd\" fill=\"#ff3333\" stroke=\"#555555\" stroke-width=\"0.5357448\" opacity=\"0.6\" d=\"M 139.416725082,-36.8705600255 L 139.405125519,-36.9123350623 L 139.396,-36.9452 L 139.395783719,-36.9451685506 L 137.359,-36.649 L 137.365330762,-36.6280806585 L 137.810335603,-35.1576086171 L 137.814,-35.1455 L 139.81421338,-35.436085722 L 139.815,-35.4362 L 139.416725082,-36.8705600255 z\" /><path fill-rule=\"evenodd\" fill=\"#ff3333\" stroke=\"#555555\" stroke-width=\"0.5357448\" opacity=\"0.6\" d=\"M 136.936192984,-38.0023280543 L 137.365330762,-36.6280806585 L 137.382,-36.5747 L 139.416725082,-36.8705600255 L 139.417,-36.8706 L 139.405125519,-36.9123350623 L 139.395783719,-36.9451685506 L 139.009256001,-38.303691844 L 138.988,-38.3784 L 136.913,-38.0766 L 136.936192984,-38.0023280543 z\" /></g></g></svg>"
      ],
      "text/plain": [
       "<shapely.geometry.multipolygon.MultiPolygon at 0x7fbf4f383c10>"
      ]
     },
     "execution_count": 39,
     "metadata": {},
     "output_type": "execute_result"
    }
   ],
   "source": [
    "satellite_scenes"
   ]
  },
  {
   "cell_type": "code",
   "execution_count": 33,
   "metadata": {
    "collapsed": false
   },
   "outputs": [
    {
     "name": "stderr",
     "output_type": "stream",
     "text": [
      "ERROR:Fiona:CPLE_AppDefined in satellite_scenes.shp is not a directory.\n",
      "\n"
     ]
    },
    {
     "ename": "AttributeError",
     "evalue": "'NoneType' object has no attribute 'CreateLayer'",
     "output_type": "error",
     "traceback": [
      "\u001b[1;31m---------------------------------------------------------------------------\u001b[0m",
      "\u001b[1;31mAttributeError\u001b[0m                            Traceback (most recent call last)",
      "\u001b[1;32m<ipython-input-33-acbf74bfedd7>\u001b[0m in \u001b[0;36m<module>\u001b[1;34m()\u001b[0m\n\u001b[0;32m      2\u001b[0m \u001b[0mdriver\u001b[0m \u001b[1;33m=\u001b[0m \u001b[0mogr\u001b[0m\u001b[1;33m.\u001b[0m\u001b[0mGetDriverByName\u001b[0m\u001b[1;33m(\u001b[0m\u001b[1;34m'Esri Shapefile'\u001b[0m\u001b[1;33m)\u001b[0m\u001b[1;33m\u001b[0m\u001b[0m\n\u001b[0;32m      3\u001b[0m \u001b[0mds\u001b[0m \u001b[1;33m=\u001b[0m \u001b[0mdriver\u001b[0m\u001b[1;33m.\u001b[0m\u001b[0mCreateDataSource\u001b[0m\u001b[1;33m(\u001b[0m\u001b[1;34m'satellite_scenes.shp'\u001b[0m\u001b[1;33m)\u001b[0m\u001b[1;33m\u001b[0m\u001b[0m\n\u001b[1;32m----> 4\u001b[1;33m \u001b[0mlayer\u001b[0m \u001b[1;33m=\u001b[0m \u001b[0mds\u001b[0m\u001b[1;33m.\u001b[0m\u001b[0mCreateLayer\u001b[0m\u001b[1;33m(\u001b[0m\u001b[1;34m''\u001b[0m\u001b[1;33m,\u001b[0m \u001b[0mNone\u001b[0m\u001b[1;33m,\u001b[0m \u001b[0mogr\u001b[0m\u001b[1;33m.\u001b[0m\u001b[0mwkbPolygon\u001b[0m\u001b[1;33m)\u001b[0m\u001b[1;33m\u001b[0m\u001b[0m\n\u001b[0m\u001b[0;32m      5\u001b[0m \u001b[1;31m# Add one attribute\u001b[0m\u001b[1;33m\u001b[0m\u001b[1;33m\u001b[0m\u001b[0m\n\u001b[0;32m      6\u001b[0m \u001b[0mlayer\u001b[0m\u001b[1;33m.\u001b[0m\u001b[0mCreateField\u001b[0m\u001b[1;33m(\u001b[0m\u001b[0mogr\u001b[0m\u001b[1;33m.\u001b[0m\u001b[0mFieldDefn\u001b[0m\u001b[1;33m(\u001b[0m\u001b[1;34m'id'\u001b[0m\u001b[1;33m,\u001b[0m \u001b[0mogr\u001b[0m\u001b[1;33m.\u001b[0m\u001b[0mOFTInteger\u001b[0m\u001b[1;33m)\u001b[0m\u001b[1;33m)\u001b[0m\u001b[1;33m\u001b[0m\u001b[0m\n",
      "\u001b[1;31mAttributeError\u001b[0m: 'NoneType' object has no attribute 'CreateLayer'"
     ]
    }
   ],
   "source": [
    "# Now convert it to a shapefile with OGR    \n",
    "driver = ogr.GetDriverByName('Esri Shapefile')\n",
    "ds = driver.CreateDataSource('satellite_scenes.shp')\n",
    "layer = ds.CreateLayer('', None, ogr.wkbPolygon)\n",
    "# Add one attribute\n",
    "layer.CreateField(ogr.FieldDefn('id', ogr.OFTInteger))\n",
    "defn = layer.GetLayerDefn()\n",
    "\n",
    "## If there are multiple geometries, put the \"for\" loop here\n",
    "\n",
    "# Create a new feature (attribute and geometry)\n",
    "feat = ogr.Feature(defn)\n",
    "feat.SetField('id', 123)\n",
    "\n",
    "# Make a geometry, from Shapely object\n",
    "geom = ogr.CreateGeometryFromWkb(satellite_scenes.wkb)\n",
    "feat.SetGeometry(geom)\n",
    "\n",
    "layer.CreateFeature(feat)\n",
    "feat = geom = None  # destroy these\n",
    "\n",
    "# Save and close everything\n",
    "ds = layer = feat = geom = None"
   ]
  },
  {
   "cell_type": "markdown",
   "metadata": {},
   "source": [
    "## Do the same for LS7 and LS8 - the above should work for those too"
   ]
  },
  {
   "cell_type": "code",
   "execution_count": null,
   "metadata": {
    "collapsed": true
   },
   "outputs": [],
   "source": []
  }
 ],
 "metadata": {
  "kernelspec": {
   "display_name": "Python 2",
   "language": "python",
   "name": "python2"
  },
  "language_info": {
   "codemirror_mode": {
    "name": "ipython",
    "version": 2
   },
   "file_extension": ".py",
   "mimetype": "text/x-python",
   "name": "python",
   "nbconvert_exporter": "python",
   "pygments_lexer": "ipython2",
   "version": "2.7.9"
  },
  "widgets": {
   "state": {},
   "version": "1.1.1"
  }
 },
 "nbformat": 4,
 "nbformat_minor": 0
}
