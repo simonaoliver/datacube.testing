{
 "cells": [
  {
   "cell_type": "code",
   "execution_count": 7,
   "metadata": {
    "collapsed": false,
    "scrolled": true
   },
   "outputs": [
    {
     "data": {
      "text/plain": [
       "'\\n@click.command(help=\"Prepare Sentinel 2 dataset for ingestion into the Data Cube.\")\\n@click.argument(\\'datasets\\',\\n                type=click.Path(exists=True, readable=True, writable=True),\\n                nargs=-1)\\ndef main(datasets):\\n    logging.basicConfig(format=\\'%(asctime)s %(levelname)s %(message)s\\', level=logging.INFO)\\n\\n    for dataset in datasets:\\n        path = Path(dataset)\\n\\n        if path.is_dir():\\n            path = Path(path.joinpath(path.stem.replace(\\'PRD_MSIL1C\\', \\'MTD_SAFL1C\\')+\\'.xml\\'))\\n        if path.suffix != \\'.xml\\':\\n            raise RuntimeError(\\'want xml\\')\\n\\n        logging.info(\"Processing %s\", path)\\n        documents = prepare_dataset(path)\\n        if documents:\\n            yaml_path = str(path.parent.joinpath(\\'agdc-metadata.yaml\\'))\\n            logging.info(\"Writing %s dataset(s) into %s\", len(documents), yaml_path)\\n            with open(yaml_path, \\'w\\') as stream:\\n                yaml.dump_all(documents, stream)\\n        else:\\n            logging.info(\"No datasets discovered. Bye!\")\\n\\n\\nif __name__ == \"__main__\":\\n    main()\\n'"
      ]
     },
     "execution_count": 7,
     "metadata": {},
     "output_type": "execute_result"
    }
   ],
   "source": [
    "-\n",
    "\n",
    "\n",
    "datasets = ['/home/simonaoliver/data/S2A_OPER_PRD_MSIL1C_PDMC_20151205T075851_R073_V20151205T001643_20151205T001643.SAFE']\n",
    "for dataset in datasets:\n",
    "    path = Path(dataset)\n",
    "\n",
    "    if path.is_dir():\n",
    "        path = Path(path.joinpath(path.stem.replace('PRD_MSIL1C', 'MTD_SAFL1C')+'.xml'))\n",
    "    if path.suffix != '.xml':\n",
    "        raise RuntimeError('want xml')\n",
    "\n",
    "    logging.info(\"Processing %s\", path)\n",
    "    documents = prepare_dataset(path)\n",
    "    if documents:\n",
    "        yaml_path = str(path.parent.joinpath('agdc-metadata.yaml'))\n",
    "        logging.info(\"Writing %s dataset(s) into %s\", len(documents), yaml_path)\n",
    "        with open(yaml_path, 'w') as stream:\n",
    "            yaml.dump_all(documents, stream)\n",
    "    else:\n",
    "        logging.info(\"No datasets discovered. Bye!\")\n",
    "\n",
    "'''\n",
    "@click.command(help=\"Prepare Sentinel 2 dataset for ingestion into the Data Cube.\")\n",
    "@click.argument('datasets',\n",
    "                type=click.Path(exists=True, readable=True, writable=True),\n",
    "                nargs=-1)\n",
    "def main(datasets):\n",
    "    logging.basicConfig(format='%(asctime)s %(levelname)s %(message)s', level=logging.INFO)\n",
    "\n",
    "    for dataset in datasets:\n",
    "        path = Path(dataset)\n",
    "\n",
    "        if path.is_dir():\n",
    "            path = Path(path.joinpath(path.stem.replace('PRD_MSIL1C', 'MTD_SAFL1C')+'.xml'))\n",
    "        if path.suffix != '.xml':\n",
    "            raise RuntimeError('want xml')\n",
    "\n",
    "        logging.info(\"Processing %s\", path)\n",
    "        documents = prepare_dataset(path)\n",
    "        if documents:\n",
    "            yaml_path = str(path.parent.joinpath('agdc-metadata.yaml'))\n",
    "            logging.info(\"Writing %s dataset(s) into %s\", len(documents), yaml_path)\n",
    "            with open(yaml_path, 'w') as stream:\n",
    "                yaml.dump_all(documents, stream)\n",
    "        else:\n",
    "            logging.info(\"No datasets discovered. Bye!\")\n",
    "\n",
    "\n",
    "if __name__ == \"__main__\":\n",
    "    main()\n",
    "'''"
   ]
  },
  {
   "cell_type": "code",
   "execution_count": 2,
   "metadata": {
    "collapsed": true
   },
   "outputs": [],
   "source": [
    "import folium"
   ]
  },
  {
   "cell_type": "code",
   "execution_count": 3,
   "metadata": {
    "collapsed": false
   },
   "outputs": [
    {
     "ename": "KeyboardInterrupt",
     "evalue": "",
     "output_type": "error",
     "traceback": [
      "\u001b[1;31m---------------------------------------------------------------------------\u001b[0m",
      "\u001b[1;31mKeyboardInterrupt\u001b[0m                         Traceback (most recent call last)",
      "\u001b[1;32m<ipython-input-3-9e8eb56a055a>\u001b[0m in \u001b[0;36m<module>\u001b[1;34m()\u001b[0m\n\u001b[1;32m----> 1\u001b[1;33m \u001b[0mshapely\u001b[0m\u001b[1;33m.\u001b[0m\u001b[0mops\u001b[0m\u001b[1;33m.\u001b[0m\u001b[0munary_union\u001b[0m\u001b[1;33m(\u001b[0m\u001b[1;33m[\u001b[0m\u001b[0msafe_valid_region\u001b[0m\u001b[1;33m(\u001b[0m\u001b[1;33m[\u001b[0m\u001b[1;34m'/home/simonaoliver/data/S2A_OPER_PRD_MSIL1C_PDMC_20151205T075742_R073_V20151205T001643_20151205T001643.SAFE/GRANULE/S2A_OPER_MSI_L1C_TL_SGS__20151205T065551_A002358_T55HES_N02.00/IMG_DATA/S2A_OPER_MSI_L1C_TL_SGS__20151205T065551_A002358_T55HES_B12.jp2'\u001b[0m\u001b[1;33m,\u001b[0m \u001b[1;34m'/home/simonaoliver/data/S2A_OPER_PRD_MSIL1C_PDMC_20151205T075742_R073_V20151205T001643_20151205T001643.SAFE/GRANULE/S2A_OPER_MSI_L1C_TL_SGS__20151205T065551_A002358_T55HES_N02.00/IMG_DATA/S2A_OPER_MSI_L1C_TL_SGS__20151205T065551_A002358_T55HES_B11.jp2'\u001b[0m\u001b[1;33m,\u001b[0m \u001b[1;34m'/home/simonaoliver/data/S2A_OPER_PRD_MSIL1C_PDMC_20151205T075742_R073_V20151205T001643_20151205T001643.SAFE/GRANULE/S2A_OPER_MSI_L1C_TL_SGS__20151205T065551_A002358_T55HES_N02.00/IMG_DATA/S2A_OPER_MSI_L1C_TL_SGS__20151205T065551_A002358_T55HES_B06.jp2'\u001b[0m\u001b[1;33m,\u001b[0m \u001b[1;34m'/home/simonaoliver/data/S2A_OPER_PRD_MSIL1C_PDMC_20151205T075742_R073_V20151205T001643_20151205T001643.SAFE/GRANULE/S2A_OPER_MSI_L1C_TL_SGS__20151205T065551_A002358_T55HES_N02.00/IMG_DATA/S2A_OPER_MSI_L1C_TL_SGS__20151205T065551_A002358_T55HES_B07.jp2'\u001b[0m\u001b[1;33m,\u001b[0m \u001b[1;34m'/home/simonaoliver/data/S2A_OPER_PRD_MSIL1C_PDMC_20151205T075742_R073_V20151205T001643_20151205T001643.SAFE/GRANULE/S2A_OPER_MSI_L1C_TL_SGS__20151205T065551_A002358_T55HES_N02.00/IMG_DATA/S2A_OPER_MSI_L1C_TL_SGS__20151205T065551_A002358_T55HES_B8A.jp2'\u001b[0m\u001b[1;33m,\u001b[0m \u001b[1;34m'/home/simonaoliver/data/S2A_OPER_PRD_MSIL1C_PDMC_20151205T075742_R073_V20151205T001643_20151205T001643.SAFE/GRANULE/S2A_OPER_MSI_L1C_TL_SGS__20151205T065551_A002358_T55HES_N02.00/IMG_DATA/S2A_OPER_MSI_L1C_TL_SGS__20151205T065551_A002358_T55HES_B05.jp2'\u001b[0m\u001b[1;33m]\u001b[0m\u001b[1;33m)\u001b[0m\u001b[1;33m,\u001b[0m                                                  \u001b[0msafe_valid_region\u001b[0m\u001b[1;33m(\u001b[0m\u001b[1;33m[\u001b[0m\u001b[1;34m'/home/simonaoliver/data/S2A_OPER_PRD_MSIL1C_PDMC_20151205T075742_R073_V20151205T001643_20151205T001643.SAFE/GRANULE/S2A_OPER_MSI_L1C_TL_SGS__20151205T065551_A002358_T55HES_N02.00/IMG_DATA/S2A_OPER_MSI_L1C_TL_SGS__20151205T065551_A002358_T55HES_B12.jp2'\u001b[0m\u001b[1;33m,\u001b[0m \u001b[1;34m'/home/simonaoliver/data/S2A_OPER_PRD_MSIL1C_PDMC_20151205T075742_R073_V20151205T001643_20151205T001643.SAFE/GRANULE/S2A_OPER_MSI_L1C_TL_SGS__20151205T065551_A002358_T55HES_N02.00/IMG_DATA/S2A_OPER_MSI_L1C_TL_SGS__20151205T065551_A002358_T55HES_B11.jp2'\u001b[0m\u001b[1;33m,\u001b[0m \u001b[1;34m'/home/simonaoliver/data/S2A_OPER_PRD_MSIL1C_PDMC_20151205T075742_R073_V20151205T001643_20151205T001643.SAFE/GRANULE/S2A_OPER_MSI_L1C_TL_SGS__20151205T065551_A002358_T55HES_N02.00/IMG_DATA/S2A_OPER_MSI_L1C_TL_SGS__20151205T065551_A002358_T55HES_B06.jp2'\u001b[0m\u001b[1;33m,\u001b[0m \u001b[1;34m'/home/simonaoliver/data/S2A_OPER_PRD_MSIL1C_PDMC_20151205T075742_R073_V20151205T001643_20151205T001643.SAFE/GRANULE/S2A_OPER_MSI_L1C_TL_SGS__20151205T065551_A002358_T55HES_N02.00/IMG_DATA/S2A_OPER_MSI_L1C_TL_SGS__20151205T065551_A002358_T55HES_B07.jp2'\u001b[0m\u001b[1;33m,\u001b[0m \u001b[1;34m'/home/simonaoliver/data/S2A_OPER_PRD_MSIL1C_PDMC_20151205T075742_R073_V20151205T001643_20151205T001643.SAFE/GRANULE/S2A_OPER_MSI_L1C_TL_SGS__20151205T065551_A002358_T55HES_N02.00/IMG_DATA/S2A_OPER_MSI_L1C_TL_SGS__20151205T065551_A002358_T55HES_B8A.jp2'\u001b[0m\u001b[1;33m,\u001b[0m \u001b[1;34m'/home/simonaoliver/data/S2A_OPER_PRD_MSIL1C_PDMC_20151205T075742_R073_V20151205T001643_20151205T001643.SAFE/GRANULE/S2A_OPER_MSI_L1C_TL_SGS__20151205T065551_A002358_T55HES_N02.00/IMG_DATA/S2A_OPER_MSI_L1C_TL_SGS__20151205T065551_A002358_T55HES_B05.jp2'\u001b[0m\u001b[1;33m]\u001b[0m\u001b[1;33m)\u001b[0m\u001b[1;33m,\u001b[0m                                                  \u001b[0msafe_valid_region\u001b[0m\u001b[1;33m(\u001b[0m\u001b[1;33m[\u001b[0m\u001b[1;34m'/home/simonaoliver/data/S2A_OPER_PRD_MSIL1C_PDMC_20151205T075742_R073_V20151205T001643_20151205T001643.SAFE/GRANULE/S2A_OPER_MSI_L1C_TL_SGS__20151205T065551_A002358_T55HES_N02.00/IMG_DATA/S2A_OPER_MSI_L1C_TL_SGS__20151205T065551_A002358_T55HES_B12.jp2'\u001b[0m\u001b[1;33m,\u001b[0m \u001b[1;34m'/home/simonaoliver/data/S2A_OPER_PRD_MSIL1C_PDMC_20151205T075742_R073_V20151205T001643_20151205T001643.SAFE/GRANULE/S2A_OPER_MSI_L1C_TL_SGS__20151205T065551_A002358_T55HES_N02.00/IMG_DATA/S2A_OPER_MSI_L1C_TL_SGS__20151205T065551_A002358_T55HES_B11.jp2'\u001b[0m\u001b[1;33m,\u001b[0m \u001b[1;34m'/home/simonaoliver/data/S2A_OPER_PRD_MSIL1C_PDMC_20151205T075742_R073_V20151205T001643_20151205T001643.SAFE/GRANULE/S2A_OPER_MSI_L1C_TL_SGS__20151205T065551_A002358_T55HES_N02.00/IMG_DATA/S2A_OPER_MSI_L1C_TL_SGS__20151205T065551_A002358_T55HES_B06.jp2'\u001b[0m\u001b[1;33m,\u001b[0m \u001b[1;34m'/home/simonaoliver/data/S2A_OPER_PRD_MSIL1C_PDMC_20151205T075742_R073_V20151205T001643_20151205T001643.SAFE/GRANULE/S2A_OPER_MSI_L1C_TL_SGS__20151205T065551_A002358_T55HES_N02.00/IMG_DATA/S2A_OPER_MSI_L1C_TL_SGS__20151205T065551_A002358_T55HES_B07.jp2'\u001b[0m\u001b[1;33m,\u001b[0m \u001b[1;34m'/home/simonaoliver/data/S2A_OPER_PRD_MSIL1C_PDMC_20151205T075742_R073_V20151205T001643_20151205T001643.SAFE/GRANULE/S2A_OPER_MSI_L1C_TL_SGS__20151205T065551_A002358_T55HES_N02.00/IMG_DATA/S2A_OPER_MSI_L1C_TL_SGS__20151205T065551_A002358_T55HES_B8A.jp2'\u001b[0m\u001b[1;33m,\u001b[0m \u001b[1;34m'/home/simonaoliver/data/S2A_OPER_PRD_MSIL1C_PDMC_20151205T075742_R073_V20151205T001643_20151205T001643.SAFE/GRANULE/S2A_OPER_MSI_L1C_TL_SGS__20151205T065551_A002358_T55HES_N02.00/IMG_DATA/S2A_OPER_MSI_L1C_TL_SGS__20151205T065551_A002358_T55HES_B05.jp2'\u001b[0m\u001b[1;33m]\u001b[0m\u001b[1;33m)\u001b[0m\u001b[1;33m]\u001b[0m\u001b[1;33m)\u001b[0m\u001b[1;33m\u001b[0m\u001b[0m\n\u001b[0m",
      "\u001b[1;32m<ipython-input-1-e5cdbadb6a23>\u001b[0m in \u001b[0;36msafe_valid_region\u001b[1;34m(images, mask_value)\u001b[0m\n\u001b[0;32m     25\u001b[0m \u001b[1;32mdef\u001b[0m \u001b[0msafe_valid_region\u001b[0m\u001b[1;33m(\u001b[0m\u001b[0mimages\u001b[0m\u001b[1;33m,\u001b[0m \u001b[0mmask_value\u001b[0m\u001b[1;33m=\u001b[0m\u001b[0mNone\u001b[0m\u001b[1;33m)\u001b[0m\u001b[1;33m:\u001b[0m\u001b[1;33m\u001b[0m\u001b[0m\n\u001b[0;32m     26\u001b[0m     \u001b[1;32mtry\u001b[0m\u001b[1;33m:\u001b[0m\u001b[1;33m\u001b[0m\u001b[0m\n\u001b[1;32m---> 27\u001b[1;33m         \u001b[1;32mreturn\u001b[0m \u001b[0mvalid_region\u001b[0m\u001b[1;33m(\u001b[0m\u001b[0mimages\u001b[0m\u001b[1;33m,\u001b[0m \u001b[0mmask_value\u001b[0m\u001b[1;33m)\u001b[0m\u001b[1;33m\u001b[0m\u001b[0m\n\u001b[0m\u001b[0;32m     28\u001b[0m     \u001b[1;32mexcept\u001b[0m \u001b[1;33m(\u001b[0m\u001b[0mOSError\u001b[0m\u001b[1;33m,\u001b[0m \u001b[0mRasterioIOError\u001b[0m\u001b[1;33m)\u001b[0m\u001b[1;33m:\u001b[0m\u001b[1;33m\u001b[0m\u001b[0m\n\u001b[0;32m     29\u001b[0m         \u001b[1;32mreturn\u001b[0m \u001b[0mNone\u001b[0m\u001b[1;33m\u001b[0m\u001b[0m\n",
      "\u001b[1;32m<ipython-input-1-e5cdbadb6a23>\u001b[0m in \u001b[0;36mvalid_region\u001b[1;34m(images, mask_value)\u001b[0m\n\u001b[0;32m     36\u001b[0m         \u001b[1;32mwith\u001b[0m \u001b[0mrasterio\u001b[0m\u001b[1;33m.\u001b[0m\u001b[0mopen\u001b[0m\u001b[1;33m(\u001b[0m\u001b[0mstr\u001b[0m\u001b[1;33m(\u001b[0m\u001b[0mfname\u001b[0m\u001b[1;33m)\u001b[0m\u001b[1;33m,\u001b[0m \u001b[1;34m'r'\u001b[0m\u001b[1;33m)\u001b[0m \u001b[1;32mas\u001b[0m \u001b[0mds\u001b[0m\u001b[1;33m:\u001b[0m\u001b[1;33m\u001b[0m\u001b[0m\n\u001b[0;32m     37\u001b[0m             \u001b[0mtransform\u001b[0m \u001b[1;33m=\u001b[0m \u001b[0mds\u001b[0m\u001b[1;33m.\u001b[0m\u001b[0maffine\u001b[0m\u001b[1;33m\u001b[0m\u001b[0m\n\u001b[1;32m---> 38\u001b[1;33m             \u001b[0mimg\u001b[0m \u001b[1;33m=\u001b[0m \u001b[0mds\u001b[0m\u001b[1;33m.\u001b[0m\u001b[0mread\u001b[0m\u001b[1;33m(\u001b[0m\u001b[1;36m1\u001b[0m\u001b[1;33m)\u001b[0m\u001b[1;33m\u001b[0m\u001b[0m\n\u001b[0m\u001b[0;32m     39\u001b[0m \u001b[1;33m\u001b[0m\u001b[0m\n\u001b[0;32m     40\u001b[0m             \u001b[1;32mif\u001b[0m \u001b[0mmask_value\u001b[0m \u001b[1;32mis\u001b[0m \u001b[1;32mnot\u001b[0m \u001b[0mNone\u001b[0m\u001b[1;33m:\u001b[0m\u001b[1;33m\u001b[0m\u001b[0m\n",
      "\u001b[1;31mKeyboardInterrupt\u001b[0m: "
     ]
    }
   ],
   "source": [
    "shapely.ops.unary_union([safe_valid_region(['/home/simonaoliver/data/S2A_OPER_PRD_MSIL1C_PDMC_20151205T075742_R073_V20151205T001643_20151205T001643.SAFE/GRANULE/S2A_OPER_MSI_L1C_TL_SGS__20151205T065551_A002358_T55HES_N02.00/IMG_DATA/S2A_OPER_MSI_L1C_TL_SGS__20151205T065551_A002358_T55HES_B12.jp2', '/home/simonaoliver/data/S2A_OPER_PRD_MSIL1C_PDMC_20151205T075742_R073_V20151205T001643_20151205T001643.SAFE/GRANULE/S2A_OPER_MSI_L1C_TL_SGS__20151205T065551_A002358_T55HES_N02.00/IMG_DATA/S2A_OPER_MSI_L1C_TL_SGS__20151205T065551_A002358_T55HES_B11.jp2', '/home/simonaoliver/data/S2A_OPER_PRD_MSIL1C_PDMC_20151205T075742_R073_V20151205T001643_20151205T001643.SAFE/GRANULE/S2A_OPER_MSI_L1C_TL_SGS__20151205T065551_A002358_T55HES_N02.00/IMG_DATA/S2A_OPER_MSI_L1C_TL_SGS__20151205T065551_A002358_T55HES_B06.jp2', '/home/simonaoliver/data/S2A_OPER_PRD_MSIL1C_PDMC_20151205T075742_R073_V20151205T001643_20151205T001643.SAFE/GRANULE/S2A_OPER_MSI_L1C_TL_SGS__20151205T065551_A002358_T55HES_N02.00/IMG_DATA/S2A_OPER_MSI_L1C_TL_SGS__20151205T065551_A002358_T55HES_B07.jp2', '/home/simonaoliver/data/S2A_OPER_PRD_MSIL1C_PDMC_20151205T075742_R073_V20151205T001643_20151205T001643.SAFE/GRANULE/S2A_OPER_MSI_L1C_TL_SGS__20151205T065551_A002358_T55HES_N02.00/IMG_DATA/S2A_OPER_MSI_L1C_TL_SGS__20151205T065551_A002358_T55HES_B8A.jp2', '/home/simonaoliver/data/S2A_OPER_PRD_MSIL1C_PDMC_20151205T075742_R073_V20151205T001643_20151205T001643.SAFE/GRANULE/S2A_OPER_MSI_L1C_TL_SGS__20151205T065551_A002358_T55HES_N02.00/IMG_DATA/S2A_OPER_MSI_L1C_TL_SGS__20151205T065551_A002358_T55HES_B05.jp2']),\\\n",
    "                                                  safe_valid_region(['/home/simonaoliver/data/S2A_OPER_PRD_MSIL1C_PDMC_20151205T075742_R073_V20151205T001643_20151205T001643.SAFE/GRANULE/S2A_OPER_MSI_L1C_TL_SGS__20151205T065551_A002358_T55HES_N02.00/IMG_DATA/S2A_OPER_MSI_L1C_TL_SGS__20151205T065551_A002358_T55HES_B12.jp2', '/home/simonaoliver/data/S2A_OPER_PRD_MSIL1C_PDMC_20151205T075742_R073_V20151205T001643_20151205T001643.SAFE/GRANULE/S2A_OPER_MSI_L1C_TL_SGS__20151205T065551_A002358_T55HES_N02.00/IMG_DATA/S2A_OPER_MSI_L1C_TL_SGS__20151205T065551_A002358_T55HES_B11.jp2', '/home/simonaoliver/data/S2A_OPER_PRD_MSIL1C_PDMC_20151205T075742_R073_V20151205T001643_20151205T001643.SAFE/GRANULE/S2A_OPER_MSI_L1C_TL_SGS__20151205T065551_A002358_T55HES_N02.00/IMG_DATA/S2A_OPER_MSI_L1C_TL_SGS__20151205T065551_A002358_T55HES_B06.jp2', '/home/simonaoliver/data/S2A_OPER_PRD_MSIL1C_PDMC_20151205T075742_R073_V20151205T001643_20151205T001643.SAFE/GRANULE/S2A_OPER_MSI_L1C_TL_SGS__20151205T065551_A002358_T55HES_N02.00/IMG_DATA/S2A_OPER_MSI_L1C_TL_SGS__20151205T065551_A002358_T55HES_B07.jp2', '/home/simonaoliver/data/S2A_OPER_PRD_MSIL1C_PDMC_20151205T075742_R073_V20151205T001643_20151205T001643.SAFE/GRANULE/S2A_OPER_MSI_L1C_TL_SGS__20151205T065551_A002358_T55HES_N02.00/IMG_DATA/S2A_OPER_MSI_L1C_TL_SGS__20151205T065551_A002358_T55HES_B8A.jp2', '/home/simonaoliver/data/S2A_OPER_PRD_MSIL1C_PDMC_20151205T075742_R073_V20151205T001643_20151205T001643.SAFE/GRANULE/S2A_OPER_MSI_L1C_TL_SGS__20151205T065551_A002358_T55HES_N02.00/IMG_DATA/S2A_OPER_MSI_L1C_TL_SGS__20151205T065551_A002358_T55HES_B05.jp2']),\\\n",
    "                                                  safe_valid_region(['/home/simonaoliver/data/S2A_OPER_PRD_MSIL1C_PDMC_20151205T075742_R073_V20151205T001643_20151205T001643.SAFE/GRANULE/S2A_OPER_MSI_L1C_TL_SGS__20151205T065551_A002358_T55HES_N02.00/IMG_DATA/S2A_OPER_MSI_L1C_TL_SGS__20151205T065551_A002358_T55HES_B12.jp2', '/home/simonaoliver/data/S2A_OPER_PRD_MSIL1C_PDMC_20151205T075742_R073_V20151205T001643_20151205T001643.SAFE/GRANULE/S2A_OPER_MSI_L1C_TL_SGS__20151205T065551_A002358_T55HES_N02.00/IMG_DATA/S2A_OPER_MSI_L1C_TL_SGS__20151205T065551_A002358_T55HES_B11.jp2', '/home/simonaoliver/data/S2A_OPER_PRD_MSIL1C_PDMC_20151205T075742_R073_V20151205T001643_20151205T001643.SAFE/GRANULE/S2A_OPER_MSI_L1C_TL_SGS__20151205T065551_A002358_T55HES_N02.00/IMG_DATA/S2A_OPER_MSI_L1C_TL_SGS__20151205T065551_A002358_T55HES_B06.jp2', '/home/simonaoliver/data/S2A_OPER_PRD_MSIL1C_PDMC_20151205T075742_R073_V20151205T001643_20151205T001643.SAFE/GRANULE/S2A_OPER_MSI_L1C_TL_SGS__20151205T065551_A002358_T55HES_N02.00/IMG_DATA/S2A_OPER_MSI_L1C_TL_SGS__20151205T065551_A002358_T55HES_B07.jp2', '/home/simonaoliver/data/S2A_OPER_PRD_MSIL1C_PDMC_20151205T075742_R073_V20151205T001643_20151205T001643.SAFE/GRANULE/S2A_OPER_MSI_L1C_TL_SGS__20151205T065551_A002358_T55HES_N02.00/IMG_DATA/S2A_OPER_MSI_L1C_TL_SGS__20151205T065551_A002358_T55HES_B8A.jp2', '/home/simonaoliver/data/S2A_OPER_PRD_MSIL1C_PDMC_20151205T075742_R073_V20151205T001643_20151205T001643.SAFE/GRANULE/S2A_OPER_MSI_L1C_TL_SGS__20151205T065551_A002358_T55HES_N02.00/IMG_DATA/S2A_OPER_MSI_L1C_TL_SGS__20151205T065551_A002358_T55HES_B05.jp2'])])\n"
   ]
  },
  {
   "cell_type": "code",
   "execution_count": null,
   "metadata": {
    "collapsed": true
   },
   "outputs": [],
   "source": []
  }
 ],
 "metadata": {
  "kernelspec": {
   "display_name": "Python 2",
   "language": "python",
   "name": "python2"
  },
  "language_info": {
   "codemirror_mode": {
    "name": "ipython",
    "version": 2
   },
   "file_extension": ".py",
   "mimetype": "text/x-python",
   "name": "python",
   "nbconvert_exporter": "python",
   "pygments_lexer": "ipython2",
   "version": "2.7.9"
  },
  "widgets": {
   "state": {},
   "version": "1.1.1"
  }
 },
 "nbformat": 4,
 "nbformat_minor": 0
}
