{
 "cells": [
  {
   "cell_type": "code",
   "execution_count": null,
   "metadata": {
    "collapsed": false,
    "scrolled": true
   },
   "outputs": [
    {
     "name": "stdout",
     "output_type": "stream",
     "text": [
      "dropdb: database removal failed: ERROR:  database \"datacube\" is being accessed by other users\n",
      "DETAIL:  There is 1 other session using the database.\n",
      "createdb: database creation failed: ERROR:  database \"datacube\" already exists\n",
      "Initialising database...\n",
      "Updated.\n",
      "Added \"ls5_satellite_telemetry_data\"\n",
      "Added \"ls5_level1_scene\"\n",
      "Added \"ls5_nbar_scene\"\n",
      "Added \"ls5_nbart_scene\"\n",
      "Traceback (most recent call last):\n",
      "  File \"/home/simonaoliver/venvs/agdc-v2/bin/datacube\", line 11, in <module>\n",
      "    sys.exit(cli())\n",
      "  File \"/home/simonaoliver/venvs/agdc-v2/local/lib/python2.7/site-packages/click/core.py\", line 716, in __call__\n",
      "    return self.main(*args, **kwargs)\n",
      "  File \"/home/simonaoliver/venvs/agdc-v2/local/lib/python2.7/site-packages/click/core.py\", line 696, in main\n",
      "    rv = self.invoke(ctx)\n",
      "  File \"/home/simonaoliver/venvs/agdc-v2/local/lib/python2.7/site-packages/click/core.py\", line 1060, in invoke\n",
      "    return _process_result(sub_ctx.command.invoke(sub_ctx))\n",
      "  File \"/home/simonaoliver/venvs/agdc-v2/local/lib/python2.7/site-packages/click/core.py\", line 1060, in invoke\n",
      "    return _process_result(sub_ctx.command.invoke(sub_ctx))\n",
      "  File \"/home/simonaoliver/venvs/agdc-v2/local/lib/python2.7/site-packages/click/core.py\", line 889, in invoke\n",
      "    return ctx.invoke(self.callback, **ctx.params)\n",
      "  File \"/home/simonaoliver/venvs/agdc-v2/local/lib/python2.7/site-packages/click/core.py\", line 534, in invoke\n",
      "    return callback(*args, **kwargs)\n",
      "  File \"/home/simonaoliver/venvs/agdc-v2/local/lib/python2.7/site-packages/datacube/ui/click.py\", line 182, in with_index\n",
      "    return f(index, *args, **kwargs)\n",
      "  File \"/home/simonaoliver/venvs/agdc-v2/local/lib/python2.7/site-packages/datacube/scripts/product.py\", line 34, in add_dataset_types\n",
      "    index.products.add(type_)\n",
      "  File \"/home/simonaoliver/venvs/agdc-v2/local/lib/python2.7/site-packages/datacube/index/_datasets.py\", line 143, in add\n",
      "    'Dataset type {}'.format(type_.name)\n",
      "  File \"/home/simonaoliver/venvs/agdc-v2/local/lib/python2.7/site-packages/datacube/utils.py\", line 371, in check_doc_unchanged\n",
      "    ', '.join(['{}: {!r}!={!r}'.format('.'.join(offset), v1, v2) for offset, v1, v2 in changes])\n",
      "ValueError: Dataset type ls5_pq_scene differs from stored (measurements: [{u'name': u'pqa', u'aliases': [u'qa_flags', u'quality'], u'dtype': u'int16', u'units': u'1', u'nodata': 0, u'flags_definition': {u'swir2_saturated': {u'values': {u'1': False, u'0': True}, u'bits': 7, u'description': u'SWIR2 band is saturated'}, u'cloud_shadow_acca': {u'values': {u'1': u'no_cloud_shadow', u'0': u'cloud_shadow'}, u'bits': 12, u'description': u'Cloud Shadow (ACCA)'}, u'cloud_acca': {u'values': {u'1': u'no_cloud', u'0': u'cloud'}, u'bits': 10, u'description': u'Cloud Shadow (ACCA)'}, u'red_saturated': {u'values': {u'1': False, u'0': True}, u'bits': 2, u'description': u'Red band is saturated'}, u'contiguous': {u'values': {u'1': True, u'0': False}, u'bits': 8, u'description': u'All bands for this pixel contain non-null values'}, u'swir1_saturated': {u'values': {u'1': False, u'0': True}, u'bits': 4, u'description': u'SWIR1 band is saturated'}, u'ga_good_pixel': {u'values': {u'16383': True}, u'bits': [13, 12, 11, 10, 9, 8, 7, 6, 5, 4, 3, 2, 1, 0], u'description': u'Best Quality Pixel'}, u'land_sea': {u'values': {u'1': u'land', u'0': u'sea'}, u'bits': 9, u'description': u'Land or Sea'}, u'blue_saturated': {u'values': {u'1': False, u'0': True}, u'bits': 0, u'description': u'Blue band is saturated'}, u'green_saturated': {u'values': {u'1': False, u'0': True}, u'bits': 1, u'description': u'Green band is saturated'}, u'cloud_fmask': {u'values': {u'1': u'no_cloud', u'0': u'cloud'}, u'bits': 11, u'description': u'Cloud (Fmask)'}, u'tir_saturated': {u'values': {u'1': False, u'0': True}, u'bits': 5, u'description': u'Thermal Infrared band is saturated'}, u'nir_saturated': {u'values': {u'1': False, u'0': True}, u'bits': 3, u'description': u'NIR band is saturated'}, u'cloud_shadow_fmask': {u'values': {u'1': u'no_cloud_shadow', u'0': u'cloud_shadow'}, u'bits': 13, u'description': u'Cloud Shadow (Fmask)'}}}]!=[{'flags_definition': {'swir2_saturated': {'bits': 7, 'values': {0: True, 1: False}, 'description': 'SWIR2 band is saturated'}, 'cloud_shadow_acca': {'bits': 12, 'values': {0: 'cloud_shadow', 1: 'no_cloud_shadow'}, 'description': 'Cloud Shadow (ACCA)'}, 'cloud_acca': {'bits': 10, 'values': {0: 'cloud', 1: 'no_cloud'}, 'description': 'Cloud Shadow (ACCA)'}, 'red_saturated': {'bits': 2, 'values': {0: True, 1: False}, 'description': 'Red band is saturated'}, 'contiguous': {'bits': 8, 'values': {0: False, 1: True}, 'description': 'All bands for this pixel contain non-null values'}, 'swir1_saturated': {'bits': 4, 'values': {0: True, 1: False}, 'description': 'SWIR1 band is saturated'}, 'ga_good_pixel': {'bits': [13, 12, 11, 10, 9, 8, 7, 6, 5, 4, 3, 2, 1, 0], 'values': {16383: True}, 'description': 'Best Quality Pixel'}, 'land_sea': {'bits': 9, 'values': {0: 'sea', 1: 'land'}, 'description': 'Land or Sea'}, 'blue_saturated': {'bits': 0, 'values': {0: True, 1: False}, 'description': 'Blue band is saturated'}, 'green_saturated': {'bits': 1, 'values': {0: True, 1: False}, 'description': 'Green band is saturated'}, 'cloud_fmask': {'bits': 11, 'values': {0: 'cloud', 1: 'no_cloud'}, 'description': 'Cloud (Fmask)'}, 'tir_saturated': {'bits': 5, 'values': {0: True, 1: False}, 'description': 'Thermal Infrared band is saturated'}, 'nir_saturated': {'bits': 3, 'values': {0: True, 1: False}, 'description': 'NIR band is saturated'}, 'cloud_shadow_fmask': {'bits': 13, 'values': {0: 'cloud_shadow', 1: 'no_cloud_shadow'}, 'description': 'Cloud Shadow (Fmask)'}}, 'name': 'pqa', 'units': '1', 'dtype': 'int16', 'nodata': 0, 'aliases': ['qa_flags', 'quality']}])\n",
      "Added \"ls7_satellite_telemetry_data\"\n",
      "Added \"ls7_level1_scene\"\n",
      "Added \"ls7_nbar_scene\"\n",
      "Added \"ls7_nbart_scene\"\n",
      "Traceback (most recent call last):\n",
      "  File \"/home/simonaoliver/venvs/agdc-v2/bin/datacube\", line 11, in <module>\n",
      "    sys.exit(cli())\n",
      "  File \"/home/simonaoliver/venvs/agdc-v2/local/lib/python2.7/site-packages/click/core.py\", line 716, in __call__\n",
      "    return self.main(*args, **kwargs)\n",
      "  File \"/home/simonaoliver/venvs/agdc-v2/local/lib/python2.7/site-packages/click/core.py\", line 696, in main\n",
      "    rv = self.invoke(ctx)\n",
      "  File \"/home/simonaoliver/venvs/agdc-v2/local/lib/python2.7/site-packages/click/core.py\", line 1060, in invoke\n",
      "    return _process_result(sub_ctx.command.invoke(sub_ctx))\n",
      "  File \"/home/simonaoliver/venvs/agdc-v2/local/lib/python2.7/site-packages/click/core.py\", line 1060, in invoke\n",
      "    return _process_result(sub_ctx.command.invoke(sub_ctx))\n",
      "  File \"/home/simonaoliver/venvs/agdc-v2/local/lib/python2.7/site-packages/click/core.py\", line 889, in invoke\n",
      "    return ctx.invoke(self.callback, **ctx.params)\n",
      "  File \"/home/simonaoliver/venvs/agdc-v2/local/lib/python2.7/site-packages/click/core.py\", line 534, in invoke\n",
      "    return callback(*args, **kwargs)\n",
      "  File \"/home/simonaoliver/venvs/agdc-v2/local/lib/python2.7/site-packages/datacube/ui/click.py\", line 182, in with_index\n",
      "    return f(index, *args, **kwargs)\n",
      "  File \"/home/simonaoliver/venvs/agdc-v2/local/lib/python2.7/site-packages/datacube/scripts/product.py\", line 34, in add_dataset_types\n",
      "    index.products.add(type_)\n",
      "  File \"/home/simonaoliver/venvs/agdc-v2/local/lib/python2.7/site-packages/datacube/index/_datasets.py\", line 143, in add\n",
      "    'Dataset type {}'.format(type_.name)\n",
      "  File \"/home/simonaoliver/venvs/agdc-v2/local/lib/python2.7/site-packages/datacube/utils.py\", line 371, in check_doc_unchanged\n",
      "    ', '.join(['{}: {!r}!={!r}'.format('.'.join(offset), v1, v2) for offset, v1, v2 in changes])\n",
      "ValueError: Dataset type ls7_pq_scene differs from stored (measurements: [{u'name': u'pqa', u'aliases': [u'qa_flags', u'quality'], u'dtype': u'int16', u'units': u'1', u'nodata': 0, u'flags_definition': {u'swir2_saturated': {u'values': {u'1': False, u'0': True}, u'bits': 7, u'description': u'SWIR2 band is saturated'}, u'cloud_shadow_acca': {u'values': {u'1': u'no_cloud_shadow', u'0': u'cloud_shadow'}, u'bits': 12, u'description': u'Cloud Shadow (ACCA)'}, u'cloud_acca': {u'values': {u'1': u'no_cloud', u'0': u'cloud'}, u'bits': 10, u'description': u'Cloud Shadow (ACCA)'}, u'red_saturated': {u'values': {u'1': False, u'0': True}, u'bits': 2, u'description': u'Red band is saturated'}, u'contiguous': {u'values': {u'1': True, u'0': False}, u'bits': 8, u'description': u'All bands for this pixel contain non-null values'}, u'swir1_saturated': {u'values': {u'1': False, u'0': True}, u'bits': 4, u'description': u'SWIR1 band is saturated'}, u'ga_good_pixel': {u'values': {u'16383': True}, u'bits': [13, 12, 11, 10, 9, 8, 7, 6, 5, 4, 3, 2, 1, 0], u'description': u'Best Quality Pixel'}, u'land_sea': {u'values': {u'1': u'land', u'0': u'sea'}, u'bits': 9, u'description': u'Land or Sea'}, u'blue_saturated': {u'values': {u'1': False, u'0': True}, u'bits': 0, u'description': u'Blue band is saturated'}, u'green_saturated': {u'values': {u'1': False, u'0': True}, u'bits': 1, u'description': u'Green band is saturated'}, u'cloud_fmask': {u'values': {u'1': u'no_cloud', u'0': u'cloud'}, u'bits': 11, u'description': u'Cloud (Fmask)'}, u'tir_saturated': {u'values': {u'1': False, u'0': True}, u'bits': 5, u'description': u'Thermal Infrared band is saturated'}, u'nir_saturated': {u'values': {u'1': False, u'0': True}, u'bits': 3, u'description': u'NIR band is saturated'}, u'cloud_shadow_fmask': {u'values': {u'1': u'no_cloud_shadow', u'0': u'cloud_shadow'}, u'bits': 13, u'description': u'Cloud Shadow (Fmask)'}}}]!=[{'flags_definition': {'swir2_saturated': {'bits': 7, 'values': {0: True, 1: False}, 'description': 'SWIR2 band is saturated'}, 'cloud_shadow_acca': {'bits': 12, 'values': {0: 'cloud_shadow', 1: 'no_cloud_shadow'}, 'description': 'Cloud Shadow (ACCA)'}, 'cloud_acca': {'bits': 10, 'values': {0: 'cloud', 1: 'no_cloud'}, 'description': 'Cloud Shadow (ACCA)'}, 'red_saturated': {'bits': 2, 'values': {0: True, 1: False}, 'description': 'Red band is saturated'}, 'contiguous': {'bits': 8, 'values': {0: False, 1: True}, 'description': 'All bands for this pixel contain non-null values'}, 'swir1_saturated': {'bits': 4, 'values': {0: True, 1: False}, 'description': 'SWIR1 band is saturated'}, 'ga_good_pixel': {'bits': [13, 12, 11, 10, 9, 8, 7, 6, 5, 4, 3, 2, 1, 0], 'values': {16383: True}, 'description': 'Best Quality Pixel'}, 'land_sea': {'bits': 9, 'values': {0: 'sea', 1: 'land'}, 'description': 'Land or Sea'}, 'blue_saturated': {'bits': 0, 'values': {0: True, 1: False}, 'description': 'Blue band is saturated'}, 'green_saturated': {'bits': 1, 'values': {0: True, 1: False}, 'description': 'Green band is saturated'}, 'cloud_fmask': {'bits': 11, 'values': {0: 'cloud', 1: 'no_cloud'}, 'description': 'Cloud (Fmask)'}, 'tir_saturated': {'bits': 5, 'values': {0: True, 1: False}, 'description': 'Thermal Infrared band is saturated'}, 'nir_saturated': {'bits': 3, 'values': {0: True, 1: False}, 'description': 'NIR band is saturated'}, 'cloud_shadow_fmask': {'bits': 13, 'values': {0: 'cloud_shadow', 1: 'no_cloud_shadow'}, 'description': 'Cloud Shadow (Fmask)'}}, 'name': 'pqa', 'units': '1', 'dtype': 'int16', 'nodata': 0, 'aliases': ['qa_flags', 'quality']}])\n",
      "Added \"ls8_satellite_telemetry_data\"\n",
      "Added \"ls8_level1_scene\"\n",
      "Added \"ls8_nbar_scene\"\n",
      "Added \"ls8_nbart_scene\"\n",
      "Traceback (most recent call last):\n",
      "  File \"/home/simonaoliver/venvs/agdc-v2/bin/datacube\", line 11, in <module>\n",
      "    sys.exit(cli())\n",
      "  File \"/home/simonaoliver/venvs/agdc-v2/local/lib/python2.7/site-packages/click/core.py\", line 716, in __call__\n",
      "    return self.main(*args, **kwargs)\n",
      "  File \"/home/simonaoliver/venvs/agdc-v2/local/lib/python2.7/site-packages/click/core.py\", line 696, in main\n",
      "    rv = self.invoke(ctx)\n",
      "  File \"/home/simonaoliver/venvs/agdc-v2/local/lib/python2.7/site-packages/click/core.py\", line 1060, in invoke\n",
      "    return _process_result(sub_ctx.command.invoke(sub_ctx))\n",
      "  File \"/home/simonaoliver/venvs/agdc-v2/local/lib/python2.7/site-packages/click/core.py\", line 1060, in invoke\n",
      "    return _process_result(sub_ctx.command.invoke(sub_ctx))\n",
      "  File \"/home/simonaoliver/venvs/agdc-v2/local/lib/python2.7/site-packages/click/core.py\", line 889, in invoke\n",
      "    return ctx.invoke(self.callback, **ctx.params)\n",
      "  File \"/home/simonaoliver/venvs/agdc-v2/local/lib/python2.7/site-packages/click/core.py\", line 534, in invoke\n",
      "    return callback(*args, **kwargs)\n",
      "  File \"/home/simonaoliver/venvs/agdc-v2/local/lib/python2.7/site-packages/datacube/ui/click.py\", line 182, in with_index\n",
      "    return f(index, *args, **kwargs)\n",
      "  File \"/home/simonaoliver/venvs/agdc-v2/local/lib/python2.7/site-packages/datacube/scripts/product.py\", line 34, in add_dataset_types\n",
      "    index.products.add(type_)\n",
      "  File \"/home/simonaoliver/venvs/agdc-v2/local/lib/python2.7/site-packages/datacube/index/_datasets.py\", line 143, in add\n",
      "    'Dataset type {}'.format(type_.name)\n",
      "  File \"/home/simonaoliver/venvs/agdc-v2/local/lib/python2.7/site-packages/datacube/utils.py\", line 371, in check_doc_unchanged\n",
      "    ', '.join(['{}: {!r}!={!r}'.format('.'.join(offset), v1, v2) for offset, v1, v2 in changes])\n",
      "ValueError: Dataset type ls8_pq_scene differs from stored (measurements: [{u'name': u'pqa', u'aliases': [u'qa_flags', u'quality'], u'dtype': u'int16', u'units': u'1', u'nodata': 0, u'flags_definition': {u'swir2_saturated': {u'values': {u'1': False, u'0': True}, u'bits': 7, u'description': u'SWIR2 band is saturated'}, u'cloud_shadow_acca': {u'values': {u'1': u'no_cloud_shadow', u'0': u'cloud_shadow'}, u'bits': 12, u'description': u'Cloud Shadow (ACCA)'}, u'cloud_acca': {u'values': {u'1': u'no_cloud', u'0': u'cloud'}, u'bits': 10, u'description': u'Cloud Shadow (ACCA)'}, u'red_saturated': {u'values': {u'1': False, u'0': True}, u'bits': 2, u'description': u'Red band is saturated'}, u'contiguous': {u'values': {u'1': True, u'0': False}, u'bits': 8, u'description': u'All bands for this pixel contain non-null values'}, u'swir1_saturated': {u'values': {u'1': False, u'0': True}, u'bits': 4, u'description': u'SWIR1 band is saturated'}, u'ga_good_pixel': {u'values': {u'16383': True}, u'bits': [13, 12, 11, 10, 9, 8, 7, 6, 5, 4, 3, 2, 1, 0], u'description': u'Best Quality Pixel'}, u'land_sea': {u'values': {u'1': u'land', u'0': u'sea'}, u'bits': 9, u'description': u'Land or Sea'}, u'blue_saturated': {u'values': {u'1': False, u'0': True}, u'bits': 0, u'description': u'Blue band is saturated'}, u'green_saturated': {u'values': {u'1': False, u'0': True}, u'bits': 1, u'description': u'Green band is saturated'}, u'cloud_fmask': {u'values': {u'1': u'no_cloud', u'0': u'cloud'}, u'bits': 11, u'description': u'Cloud (Fmask)'}, u'tir_saturated': {u'values': {u'1': False, u'0': True}, u'bits': 5, u'description': u'Thermal Infrared band is saturated'}, u'nir_saturated': {u'values': {u'1': False, u'0': True}, u'bits': 3, u'description': u'NIR band is saturated'}, u'cloud_shadow_fmask': {u'values': {u'1': u'no_cloud_shadow', u'0': u'cloud_shadow'}, u'bits': 13, u'description': u'Cloud Shadow (Fmask)'}}}]!=[{'flags_definition': {'swir2_saturated': {'bits': 7, 'values': {0: True, 1: False}, 'description': 'SWIR2 band is saturated'}, 'cloud_shadow_acca': {'bits': 12, 'values': {0: 'cloud_shadow', 1: 'no_cloud_shadow'}, 'description': 'Cloud Shadow (ACCA)'}, 'cloud_acca': {'bits': 10, 'values': {0: 'cloud', 1: 'no_cloud'}, 'description': 'Cloud Shadow (ACCA)'}, 'red_saturated': {'bits': 2, 'values': {0: True, 1: False}, 'description': 'Red band is saturated'}, 'contiguous': {'bits': 8, 'values': {0: False, 1: True}, 'description': 'All bands for this pixel contain non-null values'}, 'swir1_saturated': {'bits': 4, 'values': {0: True, 1: False}, 'description': 'SWIR1 band is saturated'}, 'ga_good_pixel': {'bits': [13, 12, 11, 10, 9, 8, 7, 6, 5, 4, 3, 2, 1, 0], 'values': {16383: True}, 'description': 'Best Quality Pixel'}, 'land_sea': {'bits': 9, 'values': {0: 'sea', 1: 'land'}, 'description': 'Land or Sea'}, 'blue_saturated': {'bits': 0, 'values': {0: True, 1: False}, 'description': 'Blue band is saturated'}, 'green_saturated': {'bits': 1, 'values': {0: True, 1: False}, 'description': 'Green band is saturated'}, 'cloud_fmask': {'bits': 11, 'values': {0: 'cloud', 1: 'no_cloud'}, 'description': 'Cloud (Fmask)'}, 'tir_saturated': {'bits': 5, 'values': {0: True, 1: False}, 'description': 'Thermal Infrared band is saturated'}, 'nir_saturated': {'bits': 3, 'values': {0: True, 1: False}, 'description': 'NIR band is saturated'}, 'cloud_shadow_fmask': {'bits': 13, 'values': {0: 'cloud_shadow', 1: 'no_cloud_shadow'}, 'description': 'Cloud Shadow (Fmask)'}}, 'name': 'pqa', 'units': '1', 'dtype': 'int16', 'nodata': 0, 'aliases': ['qa_flags', 'quality']}])\n",
      "Added \"s2a_level1c_granule\"\n",
      "Added \"modis_mcd43a1_tile\"\n",
      "Traceback (most recent call last):\n",
      "  File \"/home/simonaoliver/venvs/agdc-v2/bin/datacube\", line 11, in <module>\n",
      "    sys.exit(cli())\n",
      "  File \"/home/simonaoliver/venvs/agdc-v2/local/lib/python2.7/site-packages/click/core.py\", line 716, in __call__\n",
      "    return self.main(*args, **kwargs)\n",
      "  File \"/home/simonaoliver/venvs/agdc-v2/local/lib/python2.7/site-packages/click/core.py\", line 696, in main\n",
      "    rv = self.invoke(ctx)\n",
      "  File \"/home/simonaoliver/venvs/agdc-v2/local/lib/python2.7/site-packages/click/core.py\", line 1060, in invoke\n",
      "    return _process_result(sub_ctx.command.invoke(sub_ctx))\n",
      "  File \"/home/simonaoliver/venvs/agdc-v2/local/lib/python2.7/site-packages/click/core.py\", line 1060, in invoke\n",
      "    return _process_result(sub_ctx.command.invoke(sub_ctx))\n",
      "  File \"/home/simonaoliver/venvs/agdc-v2/local/lib/python2.7/site-packages/click/core.py\", line 889, in invoke\n",
      "    return ctx.invoke(self.callback, **ctx.params)\n",
      "  File \"/home/simonaoliver/venvs/agdc-v2/local/lib/python2.7/site-packages/click/core.py\", line 534, in invoke\n",
      "    return callback(*args, **kwargs)\n",
      "  File \"/home/simonaoliver/venvs/agdc-v2/local/lib/python2.7/site-packages/datacube/ui/click.py\", line 182, in with_index\n",
      "    return f(index, *args, **kwargs)\n",
      "  File \"/home/simonaoliver/venvs/agdc-v2/local/lib/python2.7/site-packages/datacube/scripts/product.py\", line 34, in add_dataset_types\n",
      "    index.products.add(type_)\n",
      "  File \"/home/simonaoliver/venvs/agdc-v2/local/lib/python2.7/site-packages/datacube/index/_datasets.py\", line 143, in add\n",
      "    'Dataset type {}'.format(type_.name)\n",
      "  File \"/home/simonaoliver/venvs/agdc-v2/local/lib/python2.7/site-packages/datacube/utils.py\", line 371, in check_doc_unchanged\n",
      "    ', '.join(['{}: {!r}!={!r}'.format('.'.join(offset), v1, v2) for offset, v1, v2 in changes])\n",
      "ValueError: Dataset type modis_mcd43a2_tile differs from stored (measurements: [{u'units': u'1', u'dtype': u'int16', u'nodata': 32767, u'name': u'BRDF_Albedo_Ancillary', u'flags_definition': {u'platform': {u'values': {u'1': u'aqua_terra', u'0': u'terra', u'2': u'aqua'}, u'bits': [0, 1, 2, 3], u'description': u'Platform name'}, u'land_water': {u'values': {u'1': u'Land (Nothing else but land)', u'0': u'Shallow ocean', u'3': u'Shallow inland water', u'2': u'Ocean coastlines and lake shorelines', u'5': u'Deep inland water', u'4': u'Ephemeral water', u'7': u'Deep ocean', u'6': u'Moderate or continental ocean'}, u'bits': [4, 5, 6, 7], u'description': u'Land/Water'}}}, {u'units': u'1', u'dtype': u'uint32', u'nodata': 32767, u'name': u'BRDF_Albedo_Band_Quality', u'flags_definition': {u'band_7_brdf_inversion_Information': {u'values': {u'1': u'good', u'0': u'best', u'3': u'low', u'2': u'medium'}, u'bits': [24, 25, 26, 27], u'description': u'Band7Quality 0 = best quality, full inversion(WoDs,RMSE majority good) 1 = good quality, full inversion 2 = magnitude inversion (numobs >=7 ) 3 = magnitude inversion (numobs>=3&<7) 4 = fill value'}, u'band_5_brdf_inversion_Information': {u'values': {u'1': u'good', u'0': u'best', u'3': u'low', u'2': u'medium'}, u'bits': [16, 17, 18, 19], u'description': u'Band4Quality 0 = best quality, full inversion(WoDs,RMSE majority good) 1 = good quality, full inversion 2 = magnitude inversion (numobs >=7 ) 3 = magnitude inversion (numobs>=3&<7) 4 = fill value'}, u'band_6_brdf_inversion_Information': {u'values': {u'1': u'good', u'0': u'best', u'3': u'low', u'2': u'medium'}, u'bits': [20, 21, 22, 23], u'description': u'Band6Quality 0 = best quality, full inversion(WoDs,RMSE majority good) 1 = good quality, full inversion 2 = magnitude inversion (numobs >=7 ) 3 = magnitude inversion (numobs>=3&<7) 4 = fill value'}, u'band_3_brdf_inversion_Information': {u'values': {u'1': u'good', u'0': u'best', u'3': u'low', u'2': u'medium'}, u'bits': [8, 9, 10, 11], u'description': u'Band3Quality 0 = best quality, full inversion(WoDs,RMSE majority good) 1 = good quality, full inversion 2 = magnitude inversion (numobs >=7 ) 3 = magnitude inversion (numobs>=3&<7) 4 = fill value'}, u'band_4_brdf_inversion_Information': {u'values': {u'1': u'good', u'0': u'best', u'3': u'low', u'2': u'medium'}, u'bits': [12, 13, 14, 15], u'description': u'Band4Quality 0 = best quality, full inversion(WoDs,RMSE majority good) 1 = good quality, full inversion 2 = magnitude inversion (numobs >=7 ) 3 = magnitude inversion (numobs>=3&<7) 4 = fill value'}, u'band_1_brdf_inversion_Information': {u'values': {u'1': u'good', u'0': u'best', u'3': u'low', u'2': u'medium'}, u'bits': [0, 1, 2, 3], u'description': u'Band1 Quality 0 = best quality, full inversion(WoDs,RMSE majority good) 1 = good quality, full inversion 2 = magnitude inversion (numobs >=7 ) 3 = magnitude inversion (numobs>=3&<7) 4 = fill value'}, u'band_2_brdf_inversion_Information': {u'values': {u'1': u'good', u'0': u'best', u'3': u'low', u'2': u'medium'}, u'bits': [4, 5, 6, 7], u'description': u'Band2 Quality 0 = best quality, full inversion(WoDs,RMSE majority good) 1 = good quality, full inversion 2 = magnitude inversion (numobs >=7 ) 3 = magnitude inversion (numobs>=3&<7) 4 = fill value'}}}, {u'units': u'1', u'dtype': u'uint8', u'nodata': 255, u'name': u'BRDF_Albedo_Quality', u'flags_definition': {u'brdf_albedo_quality': {u'values': {u'1': u'other', u'0': u'good', u'255': u'fill'}, u'bits': [0, 1, 2, 3, 4, 5, 6, 7], u'description': u'BRDF and albedo quality information'}}}, {u'units': u'1', u'dtype': u'uint8', u'nodata': 255, u'name': u'Snow_BRDF_Albedo', u'flags_definition': {u'brdf_albedo_quality': {u'values': {u'1': u'snow_albedo_retrieved', u'0': u'snow_free_albedo_retrieved', u'255': u'fill'}, u'bits': [0, 1, 2, 3, 4, 5, 6, 7], u'description': u'Snow-free or snow BRDF/Albedo retrieved'}}}]!=[{'units': '1', 'dtype': 'int16', 'nodata': 32767, 'name': 'BRDF_Albedo_Ancillary', 'flags_definition': {'platform': {'bits': [0, 1, 2, 3], 'values': {0: 'terra', 1: 'aqua_terra', 2: 'aqua'}, 'description': 'Platform name'}, 'land_water': {'bits': [4, 5, 6, 7], 'values': {0: 'Shallow ocean', 1: 'Land (Nothing else but land)', 2: 'Ocean coastlines and lake shorelines', 3: 'Shallow inland water', 4: 'Ephemeral water', 5: 'Deep inland water', 6: 'Moderate or continental ocean', 7: 'Deep ocean'}, 'description': 'Land/Water'}}}, {'units': '1', 'dtype': 'uint32', 'nodata': 32767, 'name': 'BRDF_Albedo_Band_Quality', 'flags_definition': {'band_3_brdf_inversion_Information': {'bits': [8, 9, 10, 11], 'values': {0: 'best', 1: 'good', 2: 'medium', 3: 'low'}, 'description': 'Band3Quality 0 = best quality, full inversion(WoDs,RMSE majority good) 1 = good quality, full inversion 2 = magnitude inversion (numobs >=7 ) 3 = magnitude inversion (numobs>=3&<7) 4 = fill value'}, 'band_4_brdf_inversion_Information': {'bits': [12, 13, 14, 15], 'values': {0: 'best', 1: 'good', 2: 'medium', 3: 'low'}, 'description': 'Band4Quality 0 = best quality, full inversion(WoDs,RMSE majority good) 1 = good quality, full inversion 2 = magnitude inversion (numobs >=7 ) 3 = magnitude inversion (numobs>=3&<7) 4 = fill value'}, 'band_1_brdf_inversion_Information': {'bits': [0, 1, 2, 3], 'values': {0: 'best', 1: 'good', 2: 'medium', 3: 'low'}, 'description': 'Band1 Quality 0 = best quality, full inversion(WoDs,RMSE majority good) 1 = good quality, full inversion 2 = magnitude inversion (numobs >=7 ) 3 = magnitude inversion (numobs>=3&<7) 4 = fill value'}, 'band_2_brdf_inversion_Information': {'bits': [4, 5, 6, 7], 'values': {0: 'best', 1: 'good', 2: 'medium', 3: 'low'}, 'description': 'Band2 Quality 0 = best quality, full inversion(WoDs,RMSE majority good) 1 = good quality, full inversion 2 = magnitude inversion (numobs >=7 ) 3 = magnitude inversion (numobs>=3&<7) 4 = fill value'}, 'band_7_brdf_inversion_Information': {'bits': [24, 25, 26, 27], 'values': {0: 'best', 1: 'good', 2: 'medium', 3: 'low'}, 'description': 'Band7Quality 0 = best quality, full inversion(WoDs,RMSE majority good) 1 = good quality, full inversion 2 = magnitude inversion (numobs >=7 ) 3 = magnitude inversion (numobs>=3&<7) 4 = fill value'}, 'band_5_brdf_inversion_Information': {'bits': [16, 17, 18, 19], 'values': {0: 'best', 1: 'good', 2: 'medium', 3: 'low'}, 'description': 'Band4Quality 0 = best quality, full inversion(WoDs,RMSE majority good) 1 = good quality, full inversion 2 = magnitude inversion (numobs >=7 ) 3 = magnitude inversion (numobs>=3&<7) 4 = fill value'}, 'band_6_brdf_inversion_Information': {'bits': [20, 21, 22, 23], 'values': {0: 'best', 1: 'good', 2: 'medium', 3: 'low'}, 'description': 'Band6Quality 0 = best quality, full inversion(WoDs,RMSE majority good) 1 = good quality, full inversion 2 = magnitude inversion (numobs >=7 ) 3 = magnitude inversion (numobs>=3&<7) 4 = fill value'}}}, {'units': '1', 'dtype': 'uint8', 'nodata': 255, 'name': 'BRDF_Albedo_Quality', 'flags_definition': {'brdf_albedo_quality': {'bits': [0, 1, 2, 3, 4, 5, 6, 7], 'values': {0: 'good', 1: 'other', 255: 'fill'}, 'description': 'BRDF and albedo quality information'}}}, {'units': '1', 'dtype': 'uint8', 'nodata': 255, 'name': 'Snow_BRDF_Albedo', 'flags_definition': {'brdf_albedo_quality': {'bits': [0, 1, 2, 3, 4, 5, 6, 7], 'values': {0: 'snow_free_albedo_retrieved', 1: 'snow_albedo_retrieved', 255: 'fill'}, 'description': 'Snow-free or snow BRDF/Albedo retrieved'}}}])\n",
      "Added \"h8_ahi_brf_granule\"\n"
     ]
    }
   ],
   "source": [
    "!dropdb datacube\n",
    "!createdb datacube\n",
    "!datacube system init\n",
    "!datacube product add '/home/simonaoliver/code/agdc-v2/docs/config_samples/dataset_types/ls5_scenes.yaml'\n",
    "!datacube product add '/home/simonaoliver/code/agdc-v2/docs/config_samples/dataset_types/ls7_scenes.yaml'\n",
    "!datacube product add '/home/simonaoliver/code/agdc-v2/docs/config_samples/dataset_types/ls8_scenes.yaml'\n",
    "!datacube product add '/home/simonaoliver/code/agdc-v2/docs/config_samples/dataset_types/s2_granules.yaml'\n",
    "!datacube product add '/home/simonaoliver/code/agdc-v2/docs/config_samples/dataset_types/modis_tiles.yaml'\n",
    "!datacube product add '/home/simonaoliver/code/agdc-v2/docs/config_samples/dataset_types/h8_granules.yaml'\n",
    "!datacube system check"
   ]
  },
  {
   "cell_type": "code",
   "execution_count": 2,
   "metadata": {
    "collapsed": true
   },
   "outputs": [],
   "source": [
    "ls8ledapsscene = '/media/simonaoliver/datacube/input/LordHowe/*/agdc-metadata.yaml'"
   ]
  },
  {
   "cell_type": "code",
   "execution_count": 3,
   "metadata": {
    "collapsed": false
   },
   "outputs": [
    {
     "name": "stdout",
     "output_type": "stream",
     "text": [
      "2016-07-19 07:22:53,511 \u001b[37mINFO\u001b[0m Matched Dataset <id=0399be45-8192-47e5-93d6-620fd41eea0f type=ls8_ledaps_scene location=/media/simonaoliver/datacube/input/LordHowe/LC80840822013338-SC20160630035828/agdc-metadata.yaml>\n",
      "2016-07-19 07:22:53,511 \u001b[37mINFO\u001b[0m Indexing 0399be45-8192-47e5-93d6-620fd41eea0f\n",
      "2016-07-19 07:22:53,557 \u001b[37mINFO\u001b[0m Matched Dataset <id=43dbe69d-5125-46f6-90e6-acc65466c843 type=ls8_ledaps_scene location=/media/simonaoliver/datacube/input/LordHowe/LC80840822013354-SC20160630033729/agdc-metadata.yaml>\n",
      "2016-07-19 07:22:53,566 \u001b[37mINFO\u001b[0m Indexing 43dbe69d-5125-46f6-90e6-acc65466c843\n",
      "2016-07-19 07:22:53,618 \u001b[37mINFO\u001b[0m Matched Dataset <id=df98a848-3bac-41fb-bec8-16420de21d07 type=ls8_ledaps_scene location=/media/simonaoliver/datacube/input/LordHowe/LC80840822014005-SC20160630035505/agdc-metadata.yaml>\n",
      "2016-07-19 07:22:53,618 \u001b[37mINFO\u001b[0m Indexing df98a848-3bac-41fb-bec8-16420de21d07\n",
      "2016-07-19 07:22:53,659 \u001b[37mINFO\u001b[0m Matched Dataset <id=ebb8b18f-caad-4be1-8a9b-a5e1b7c26799 type=ls8_ledaps_scene location=/media/simonaoliver/datacube/input/LordHowe/LC80840822014021-SC20160630032531/agdc-metadata.yaml>\n",
      "2016-07-19 07:22:53,659 \u001b[37mINFO\u001b[0m Indexing ebb8b18f-caad-4be1-8a9b-a5e1b7c26799\n",
      "2016-07-19 07:22:53,702 \u001b[37mINFO\u001b[0m Matched Dataset <id=61879976-efc5-4b2e-81c5-4c045c8d87b2 type=ls8_ledaps_scene location=/media/simonaoliver/datacube/input/LordHowe/LC80840822014069-SC20160630033133/agdc-metadata.yaml>\n",
      "2016-07-19 07:22:53,703 \u001b[37mINFO\u001b[0m Indexing 61879976-efc5-4b2e-81c5-4c045c8d87b2\n",
      "2016-07-19 07:22:53,757 \u001b[37mINFO\u001b[0m Matched Dataset <id=1a2ce5d9-6f7c-4968-9768-6981319eff36 type=ls8_ledaps_scene location=/media/simonaoliver/datacube/input/LordHowe/LC80840822014101-SC20160630032803/agdc-metadata.yaml>\n",
      "2016-07-19 07:22:53,757 \u001b[37mINFO\u001b[0m Indexing 1a2ce5d9-6f7c-4968-9768-6981319eff36\n",
      "2016-07-19 07:22:53,806 \u001b[37mINFO\u001b[0m Matched Dataset <id=fbe87372-3544-445c-a767-9857728008b5 type=ls8_ledaps_scene location=/media/simonaoliver/datacube/input/LordHowe/LC80840822014117-SC20160630034453/agdc-metadata.yaml>\n",
      "2016-07-19 07:22:53,806 \u001b[37mINFO\u001b[0m Indexing fbe87372-3544-445c-a767-9857728008b5\n",
      "2016-07-19 07:22:53,846 \u001b[37mINFO\u001b[0m Matched Dataset <id=efff8a7e-2ff8-4b98-b6f6-52fa61f4f3b8 type=ls8_ledaps_scene location=/media/simonaoliver/datacube/input/LordHowe/LC80840822014133-SC20160630032130/agdc-metadata.yaml>\n",
      "2016-07-19 07:22:53,847 \u001b[37mINFO\u001b[0m Indexing efff8a7e-2ff8-4b98-b6f6-52fa61f4f3b8\n",
      "2016-07-19 07:22:53,881 \u001b[37mINFO\u001b[0m Matched Dataset <id=93c1c26a-fadc-4f02-ba94-f6810df67e4d type=ls8_ledaps_scene location=/media/simonaoliver/datacube/input/LordHowe/LC80840822014149-SC20160630033230/agdc-metadata.yaml>\n",
      "2016-07-19 07:22:53,881 \u001b[37mINFO\u001b[0m Indexing 93c1c26a-fadc-4f02-ba94-f6810df67e4d\n",
      "2016-07-19 07:22:53,938 \u001b[37mINFO\u001b[0m Matched Dataset <id=896efbcc-438a-4dad-a8f5-547f95e8c260 type=ls8_ledaps_scene location=/media/simonaoliver/datacube/input/LordHowe/LC80840822014181-SC20160630033035/agdc-metadata.yaml>\n",
      "2016-07-19 07:22:53,938 \u001b[37mINFO\u001b[0m Indexing 896efbcc-438a-4dad-a8f5-547f95e8c260\n",
      "2016-07-19 07:22:53,965 \u001b[37mINFO\u001b[0m Matched Dataset <id=062c5650-881b-4525-8fed-53b5a39e391a type=ls8_ledaps_scene location=/media/simonaoliver/datacube/input/LordHowe/LC80840822014197-SC20160630033756/agdc-metadata.yaml>\n",
      "2016-07-19 07:22:53,966 \u001b[37mINFO\u001b[0m Indexing 062c5650-881b-4525-8fed-53b5a39e391a\n",
      "2016-07-19 07:22:54,020 \u001b[37mINFO\u001b[0m Matched Dataset <id=8d144272-0496-47ae-b739-0330875e0663 type=ls8_ledaps_scene location=/media/simonaoliver/datacube/input/LordHowe/LC80840822014213-SC20160630031935/agdc-metadata.yaml>\n",
      "2016-07-19 07:22:54,021 \u001b[37mINFO\u001b[0m Indexing 8d144272-0496-47ae-b739-0330875e0663\n",
      "2016-07-19 07:22:54,045 \u001b[37mINFO\u001b[0m Matched Dataset <id=ee867f89-8775-441e-a35e-81d91db336ae type=ls8_ledaps_scene location=/media/simonaoliver/datacube/input/LordHowe/LC80840822014229-SC20160630032942/agdc-metadata.yaml>\n",
      "2016-07-19 07:22:54,045 \u001b[37mINFO\u001b[0m Indexing ee867f89-8775-441e-a35e-81d91db336ae\n",
      "2016-07-19 07:22:54,069 \u001b[37mINFO\u001b[0m Matched Dataset <id=1376490c-1f30-4771-8e30-36707081da0f type=ls8_ledaps_scene location=/media/simonaoliver/datacube/input/LordHowe/LC80840822014245-SC20160630032923/agdc-metadata.yaml>\n",
      "2016-07-19 07:22:54,069 \u001b[37mINFO\u001b[0m Indexing 1376490c-1f30-4771-8e30-36707081da0f\n",
      "2016-07-19 07:22:54,102 \u001b[37mINFO\u001b[0m Matched Dataset <id=ca35c749-5789-491d-b678-15896d45afa7 type=ls8_ledaps_scene location=/media/simonaoliver/datacube/input/LordHowe/LC80840822014261-SC20160630034131/agdc-metadata.yaml>\n",
      "2016-07-19 07:22:54,102 \u001b[37mINFO\u001b[0m Indexing ca35c749-5789-491d-b678-15896d45afa7\n",
      "2016-07-19 07:22:54,129 \u001b[37mINFO\u001b[0m Matched Dataset <id=7d392ed4-1a18-49d3-923a-bb51e657bfca type=ls8_ledaps_scene location=/media/simonaoliver/datacube/input/LordHowe/LC80840822014277-SC20160630031908/agdc-metadata.yaml>\n",
      "2016-07-19 07:22:54,129 \u001b[37mINFO\u001b[0m Indexing 7d392ed4-1a18-49d3-923a-bb51e657bfca\n",
      "2016-07-19 07:22:54,154 \u001b[37mINFO\u001b[0m Matched Dataset <id=98a811b8-2229-4c75-99a2-459c614ff4c3 type=ls8_ledaps_scene location=/media/simonaoliver/datacube/input/LordHowe/LC80840822014293-SC20160630032604/agdc-metadata.yaml>\n",
      "2016-07-19 07:22:54,155 \u001b[37mINFO\u001b[0m Indexing 98a811b8-2229-4c75-99a2-459c614ff4c3\n",
      "2016-07-19 07:22:54,200 \u001b[37mINFO\u001b[0m Matched Dataset <id=6656bdf8-8a0a-4f25-bb85-2c9f7ebf6e34 type=ls8_ledaps_scene location=/media/simonaoliver/datacube/input/LordHowe/LC80840822014309-SC20160630034046/agdc-metadata.yaml>\n",
      "2016-07-19 07:22:54,200 \u001b[37mINFO\u001b[0m Indexing 6656bdf8-8a0a-4f25-bb85-2c9f7ebf6e34\n",
      "2016-07-19 07:22:54,228 \u001b[37mINFO\u001b[0m Matched Dataset <id=17cf21b2-57bf-4824-8c26-9be19b487ed4 type=ls8_ledaps_scene location=/media/simonaoliver/datacube/input/LordHowe/LC80840822014325-SC20160630033047/agdc-metadata.yaml>\n",
      "2016-07-19 07:22:54,229 \u001b[37mINFO\u001b[0m Indexing 17cf21b2-57bf-4824-8c26-9be19b487ed4\n",
      "2016-07-19 07:22:54,255 \u001b[37mINFO\u001b[0m Matched Dataset <id=36df7637-2418-427d-9125-ad0bc55934be type=ls8_ledaps_scene location=/media/simonaoliver/datacube/input/LordHowe/LC80840822014341-SC20160630031338/agdc-metadata.yaml>\n",
      "2016-07-19 07:22:54,256 \u001b[37mINFO\u001b[0m Indexing 36df7637-2418-427d-9125-ad0bc55934be\n",
      "2016-07-19 07:22:54,292 \u001b[37mINFO\u001b[0m Matched Dataset <id=b814f86c-a471-4964-a0a2-3b7c3dcdec62 type=ls8_ledaps_scene location=/media/simonaoliver/datacube/input/LordHowe/LC80840822014357-SC20160630032557/agdc-metadata.yaml>\n",
      "2016-07-19 07:22:54,293 \u001b[37mINFO\u001b[0m Indexing b814f86c-a471-4964-a0a2-3b7c3dcdec62\n",
      "2016-07-19 07:22:54,317 \u001b[37mINFO\u001b[0m Matched Dataset <id=485fd62b-4e72-4124-829b-3fb13008d4a2 type=ls8_ledaps_scene location=/media/simonaoliver/datacube/input/LordHowe/LC80840822015008-SC20160630034125/agdc-metadata.yaml>\n",
      "2016-07-19 07:22:54,317 \u001b[37mINFO\u001b[0m Indexing 485fd62b-4e72-4124-829b-3fb13008d4a2\n",
      "2016-07-19 07:22:54,342 \u001b[37mINFO\u001b[0m Matched Dataset <id=bfe0f9a6-402e-449c-9e03-c4897e167f2b type=ls8_ledaps_scene location=/media/simonaoliver/datacube/input/LordHowe/LC80840822015024-SC20160630033702/agdc-metadata.yaml>\n",
      "2016-07-19 07:22:54,343 \u001b[37mINFO\u001b[0m Indexing bfe0f9a6-402e-449c-9e03-c4897e167f2b\n",
      "2016-07-19 07:22:54,372 \u001b[37mINFO\u001b[0m Matched Dataset <id=7f1b9758-6981-4847-bd83-7d3e4f9d4ba9 type=ls8_ledaps_scene location=/media/simonaoliver/datacube/input/LordHowe/LC80840822015040-SC20160630033636/agdc-metadata.yaml>\n",
      "2016-07-19 07:22:54,373 \u001b[37mINFO\u001b[0m Indexing 7f1b9758-6981-4847-bd83-7d3e4f9d4ba9\n",
      "2016-07-19 07:22:54,400 \u001b[37mINFO\u001b[0m Matched Dataset <id=6397ad30-46d9-4e42-9cb3-fe4ff6535e8a type=ls8_ledaps_scene location=/media/simonaoliver/datacube/input/LordHowe/LC80840822015056-SC20160630032512/agdc-metadata.yaml>\n",
      "2016-07-19 07:22:54,401 \u001b[37mINFO\u001b[0m Indexing 6397ad30-46d9-4e42-9cb3-fe4ff6535e8a\n",
      "2016-07-19 07:22:54,438 \u001b[37mINFO\u001b[0m Matched Dataset <id=f704fe81-0c01-4819-8673-a69dea2ac405 type=ls8_ledaps_scene location=/media/simonaoliver/datacube/input/LordHowe/LC80840822015072-SC20160630032250/agdc-metadata.yaml>\n",
      "2016-07-19 07:22:54,440 \u001b[37mINFO\u001b[0m Indexing f704fe81-0c01-4819-8673-a69dea2ac405\n",
      "2016-07-19 07:22:54,500 \u001b[37mINFO\u001b[0m Matched Dataset <id=dd90be38-4ac8-4537-82ff-a098cc03a038 type=ls8_ledaps_scene location=/media/simonaoliver/datacube/input/LordHowe/LC80840822015088-SC20160630030915/agdc-metadata.yaml>\n",
      "2016-07-19 07:22:54,501 \u001b[37mINFO\u001b[0m Indexing dd90be38-4ac8-4537-82ff-a098cc03a038\n",
      "2016-07-19 07:22:54,538 \u001b[37mINFO\u001b[0m Matched Dataset <id=e3c2e630-d23c-4f3b-9d50-b128f59a5af3 type=ls8_ledaps_scene location=/media/simonaoliver/datacube/input/LordHowe/LC80840822015104-SC20160630032627/agdc-metadata.yaml>\n",
      "2016-07-19 07:22:54,538 \u001b[37mINFO\u001b[0m Indexing e3c2e630-d23c-4f3b-9d50-b128f59a5af3\n",
      "2016-07-19 07:22:54,583 \u001b[37mINFO\u001b[0m Matched Dataset <id=d0f070ad-9d5d-4dca-8404-7a32d6b43211 type=ls8_ledaps_scene location=/media/simonaoliver/datacube/input/LordHowe/LC80840822015120-SC20160630030332/agdc-metadata.yaml>\n",
      "2016-07-19 07:22:54,584 \u001b[37mINFO\u001b[0m Indexing d0f070ad-9d5d-4dca-8404-7a32d6b43211\n",
      "2016-07-19 07:22:54,643 \u001b[37mINFO\u001b[0m Matched Dataset <id=1768ddd8-29e2-4599-b74f-c66210987891 type=ls8_ledaps_scene location=/media/simonaoliver/datacube/input/LordHowe/LC80840822015136-SC20160630034154/agdc-metadata.yaml>\n",
      "2016-07-19 07:22:54,649 \u001b[37mINFO\u001b[0m Indexing 1768ddd8-29e2-4599-b74f-c66210987891\n",
      "2016-07-19 07:22:54,674 \u001b[37mINFO\u001b[0m Matched Dataset <id=d37597eb-0278-4fe9-9d9d-341d292af9f8 type=ls8_ledaps_scene location=/media/simonaoliver/datacube/input/LordHowe/LC80840822015152-SC20160630033858/agdc-metadata.yaml>\n",
      "2016-07-19 07:22:54,674 \u001b[37mINFO\u001b[0m Indexing d37597eb-0278-4fe9-9d9d-341d292af9f8\n",
      "2016-07-19 07:22:54,700 \u001b[37mINFO\u001b[0m Matched Dataset <id=ac500895-88d5-47d5-ab75-86cf241869c6 type=ls8_ledaps_scene location=/media/simonaoliver/datacube/input/LordHowe/LC80840822015168-SC20160630033515/agdc-metadata.yaml>\n",
      "2016-07-19 07:22:54,700 \u001b[37mINFO\u001b[0m Indexing ac500895-88d5-47d5-ab75-86cf241869c6\n",
      "2016-07-19 07:22:54,759 \u001b[37mINFO\u001b[0m Matched Dataset <id=5b04de2a-2f00-479d-b29e-0832e667c653 type=ls8_ledaps_scene location=/media/simonaoliver/datacube/input/LordHowe/LC80840822015184-SC20160630032805/agdc-metadata.yaml>\n",
      "2016-07-19 07:22:54,759 \u001b[37mINFO\u001b[0m Indexing 5b04de2a-2f00-479d-b29e-0832e667c653\n",
      "2016-07-19 07:22:54,788 \u001b[37mINFO\u001b[0m Matched Dataset <id=8803eaf7-3826-4390-8db7-51debdc90c20 type=ls8_ledaps_scene location=/media/simonaoliver/datacube/input/LordHowe/LC80840822015200-SC20160630033915/agdc-metadata.yaml>\n",
      "2016-07-19 07:22:54,788 \u001b[37mINFO\u001b[0m Indexing 8803eaf7-3826-4390-8db7-51debdc90c20\n",
      "2016-07-19 07:22:54,827 \u001b[37mINFO\u001b[0m Matched Dataset <id=01746901-6206-4bea-afbf-fcc6c8527ade type=ls8_ledaps_scene location=/media/simonaoliver/datacube/input/LordHowe/LC80840822015216-SC20160630033443/agdc-metadata.yaml>\n",
      "2016-07-19 07:22:54,828 \u001b[37mINFO\u001b[0m Indexing 01746901-6206-4bea-afbf-fcc6c8527ade\n",
      "2016-07-19 07:22:54,876 \u001b[37mINFO\u001b[0m Matched Dataset <id=eddd7b99-2db7-4f8b-8b2c-d7c1128d8964 type=ls8_ledaps_scene location=/media/simonaoliver/datacube/input/LordHowe/LC80840822015232-SC20160630033806/agdc-metadata.yaml>\n",
      "2016-07-19 07:22:54,876 \u001b[37mINFO\u001b[0m Indexing eddd7b99-2db7-4f8b-8b2c-d7c1128d8964\n",
      "2016-07-19 07:22:54,907 \u001b[37mINFO\u001b[0m Matched Dataset <id=0105f14b-9ed1-4f99-a634-a1459b147c7b type=ls8_ledaps_scene location=/media/simonaoliver/datacube/input/LordHowe/LC80840822015248-SC20160630033909/agdc-metadata.yaml>\n",
      "2016-07-19 07:22:54,908 \u001b[37mINFO\u001b[0m Indexing 0105f14b-9ed1-4f99-a634-a1459b147c7b\n",
      "2016-07-19 07:22:54,953 \u001b[37mINFO\u001b[0m Matched Dataset <id=c7beccba-d2f1-426d-87f9-eb2c3e4b0a43 type=ls8_ledaps_scene location=/media/simonaoliver/datacube/input/LordHowe/LC80840822015264-SC20160630034055/agdc-metadata.yaml>\n",
      "2016-07-19 07:22:54,953 \u001b[37mINFO\u001b[0m Indexing c7beccba-d2f1-426d-87f9-eb2c3e4b0a43\n",
      "2016-07-19 07:22:55,013 \u001b[37mINFO\u001b[0m Matched Dataset <id=3b7af804-9e68-4418-a9e4-a1e99db75984 type=ls8_ledaps_scene location=/media/simonaoliver/datacube/input/LordHowe/LC80840822015280-SC20160630034053/agdc-metadata.yaml>\n",
      "2016-07-19 07:22:55,014 \u001b[37mINFO\u001b[0m Indexing 3b7af804-9e68-4418-a9e4-a1e99db75984\n",
      "2016-07-19 07:22:55,049 \u001b[37mINFO\u001b[0m Matched Dataset <id=1fd3a302-a705-411a-ab30-b99c0708c198 type=ls8_ledaps_scene location=/media/simonaoliver/datacube/input/LordHowe/LC80840822015296-SC20160630032647/agdc-metadata.yaml>\n",
      "2016-07-19 07:22:55,050 \u001b[37mINFO\u001b[0m Indexing 1fd3a302-a705-411a-ab30-b99c0708c198\n",
      "2016-07-19 07:22:55,088 \u001b[37mINFO\u001b[0m Matched Dataset <id=e6fe23af-36b6-48d1-9e82-7b6b17348a1f type=ls8_ledaps_scene location=/media/simonaoliver/datacube/input/LordHowe/LC80840822015312-SC20160630034100/agdc-metadata.yaml>\n",
      "2016-07-19 07:22:55,089 \u001b[37mINFO\u001b[0m Indexing e6fe23af-36b6-48d1-9e82-7b6b17348a1f\n",
      "2016-07-19 07:22:55,140 \u001b[37mINFO\u001b[0m Matched Dataset <id=856fb1fc-8ae4-4749-8a53-3c2a09e6012b type=ls8_ledaps_scene location=/media/simonaoliver/datacube/input/LordHowe/LC80840822015328-SC20160630033701/agdc-metadata.yaml>\n",
      "2016-07-19 07:22:55,140 \u001b[37mINFO\u001b[0m Indexing 856fb1fc-8ae4-4749-8a53-3c2a09e6012b\n",
      "2016-07-19 07:22:55,169 \u001b[37mINFO\u001b[0m Matched Dataset <id=18f8110f-2cbb-4e74-92c6-3c43c1aa0bff type=ls8_ledaps_scene location=/media/simonaoliver/datacube/input/LordHowe/LC80840822015344-SC20160630034145/agdc-metadata.yaml>\n",
      "2016-07-19 07:22:55,170 \u001b[37mINFO\u001b[0m Indexing 18f8110f-2cbb-4e74-92c6-3c43c1aa0bff\n",
      "2016-07-19 07:22:55,211 \u001b[37mINFO\u001b[0m Matched Dataset <id=ba5f58a2-3337-4c97-b96b-7937362f0cce type=ls8_ledaps_scene location=/media/simonaoliver/datacube/input/LordHowe/LC80840822015360-SC20160630031524/agdc-metadata.yaml>\n",
      "2016-07-19 07:22:55,212 \u001b[37mINFO\u001b[0m Indexing ba5f58a2-3337-4c97-b96b-7937362f0cce\n",
      "2016-07-19 07:22:55,247 \u001b[37mINFO\u001b[0m Matched Dataset <id=d6de028c-101b-4073-8faf-1c7f9b3413ee type=ls8_ledaps_scene location=/media/simonaoliver/datacube/input/LordHowe/LC80840822016011-SC20160630032424/agdc-metadata.yaml>\n",
      "2016-07-19 07:22:55,247 \u001b[37mINFO\u001b[0m Indexing d6de028c-101b-4073-8faf-1c7f9b3413ee\n",
      "2016-07-19 07:22:55,286 \u001b[37mINFO\u001b[0m Matched Dataset <id=08735ced-25aa-4c8c-b6b7-a2ee4dbf3b64 type=ls8_ledaps_scene location=/media/simonaoliver/datacube/input/LordHowe/LC80840822016027-SC20160630033547/agdc-metadata.yaml>\n",
      "2016-07-19 07:22:55,287 \u001b[37mINFO\u001b[0m Indexing 08735ced-25aa-4c8c-b6b7-a2ee4dbf3b64\n",
      "2016-07-19 07:22:55,309 \u001b[37mINFO\u001b[0m Matched Dataset <id=83bd047b-b18d-4d75-af67-dd56c18ce64a type=ls8_ledaps_scene location=/media/simonaoliver/datacube/input/LordHowe/LC80840822016043-SC20160630033925/agdc-metadata.yaml>\n",
      "2016-07-19 07:22:55,310 \u001b[37mINFO\u001b[0m Indexing 83bd047b-b18d-4d75-af67-dd56c18ce64a\n",
      "2016-07-19 07:22:55,378 \u001b[37mINFO\u001b[0m Matched Dataset <id=4ceb78b0-5157-40e0-b841-022dce5dfe0b type=ls8_ledaps_scene location=/media/simonaoliver/datacube/input/LordHowe/LC80840822016059-SC20160630034101/agdc-metadata.yaml>\n",
      "2016-07-19 07:22:55,379 \u001b[37mINFO\u001b[0m Indexing 4ceb78b0-5157-40e0-b841-022dce5dfe0b\n",
      "2016-07-19 07:22:55,405 \u001b[37mINFO\u001b[0m Matched Dataset <id=aed241c0-cb05-4896-a82e-6b81b4440e0e type=ls8_ledaps_scene location=/media/simonaoliver/datacube/input/LordHowe/LC80840822016075-SC20160630031739/agdc-metadata.yaml>\n",
      "2016-07-19 07:22:55,406 \u001b[37mINFO\u001b[0m Indexing aed241c0-cb05-4896-a82e-6b81b4440e0e\n",
      "2016-07-19 07:22:55,450 \u001b[37mINFO\u001b[0m Matched Dataset <id=e4b2a786-3ee4-4d09-b1c8-9c52f825e64f type=ls8_ledaps_scene location=/media/simonaoliver/datacube/input/LordHowe/LC80840822016091-SC20160630032822/agdc-metadata.yaml>\n",
      "2016-07-19 07:22:55,450 \u001b[37mINFO\u001b[0m Indexing e4b2a786-3ee4-4d09-b1c8-9c52f825e64f\n",
      "2016-07-19 07:22:55,480 \u001b[37mINFO\u001b[0m Matched Dataset <id=206c3c2b-7196-4d48-9241-589fbf9e487a type=ls8_ledaps_scene location=/media/simonaoliver/datacube/input/LordHowe/LC80840822016107-SC20160630032337/agdc-metadata.yaml>\n",
      "2016-07-19 07:22:55,481 \u001b[37mINFO\u001b[0m Indexing 206c3c2b-7196-4d48-9241-589fbf9e487a\n",
      "2016-07-19 07:22:55,510 \u001b[37mINFO\u001b[0m Matched Dataset <id=9bed7189-36d2-45f3-a91b-317176e39ce9 type=ls8_ledaps_scene location=/media/simonaoliver/datacube/input/LordHowe/LC80840822016123-SC20160630032208/agdc-metadata.yaml>\n",
      "2016-07-19 07:22:55,510 \u001b[37mINFO\u001b[0m Indexing 9bed7189-36d2-45f3-a91b-317176e39ce9\n",
      "2016-07-19 07:22:55,538 \u001b[37mINFO\u001b[0m Matched Dataset <id=75e18e13-dc1d-4fb6-bb29-80d52ff34e4d type=ls8_ledaps_scene location=/media/simonaoliver/datacube/input/LordHowe/LC80840822016139-SC20160630030623/agdc-metadata.yaml>\n",
      "2016-07-19 07:22:55,539 \u001b[37mINFO\u001b[0m Indexing 75e18e13-dc1d-4fb6-bb29-80d52ff34e4d\n",
      "2016-07-19 07:22:55,586 \u001b[37mINFO\u001b[0m Matched Dataset <id=35debd58-a1f9-419d-83fd-fdbed997d1b1 type=ls8_ledaps_scene location=/media/simonaoliver/datacube/input/LordHowe/LC80840822016155-SC20160630032640/agdc-metadata.yaml>\n",
      "2016-07-19 07:22:55,586 \u001b[37mINFO\u001b[0m Indexing 35debd58-a1f9-419d-83fd-fdbed997d1b1\n",
      "2016-07-19 07:22:55,616 \u001b[37mINFO\u001b[0m Matched Dataset <id=b350a790-7d93-4e90-8fd3-8a1f1d291095 type=ls8_ledaps_scene location=/media/simonaoliver/datacube/input/LordHowe/LC80840822016171-SC20160630030921/agdc-metadata.yaml>\n",
      "2016-07-19 07:22:55,616 \u001b[37mINFO\u001b[0m Indexing b350a790-7d93-4e90-8fd3-8a1f1d291095\n",
      "2016-07-19 07:22:55,660 \u001b[37mINFO\u001b[0m Matched Dataset <id=5fee0b60-b2c0-462d-ac2a-fb5d13013f14 type=ls8_ledaps_scene location=/media/simonaoliver/datacube/input/LordHowe/LC80850822013121-SC20160630032347/agdc-metadata.yaml>\n",
      "2016-07-19 07:22:55,661 \u001b[37mINFO\u001b[0m Indexing 5fee0b60-b2c0-462d-ac2a-fb5d13013f14\n",
      "2016-07-19 07:22:55,696 \u001b[37mINFO\u001b[0m Matched Dataset <id=86f1cfe0-6576-45a0-a1e8-769cf30ca049 type=ls8_ledaps_scene location=/media/simonaoliver/datacube/input/LordHowe/LC80850822013137-SC20160630034042/agdc-metadata.yaml>\n",
      "2016-07-19 07:22:55,696 \u001b[37mINFO\u001b[0m Indexing 86f1cfe0-6576-45a0-a1e8-769cf30ca049\n",
      "2016-07-19 07:22:55,743 \u001b[37mINFO\u001b[0m Matched Dataset <id=897c39b1-e533-4be9-a833-840872a0a370 type=ls8_ledaps_scene location=/media/simonaoliver/datacube/input/LordHowe/LC80850822013233-SC20160630033956/agdc-metadata.yaml>\n",
      "2016-07-19 07:22:55,743 \u001b[37mINFO\u001b[0m Indexing 897c39b1-e533-4be9-a833-840872a0a370\n",
      "2016-07-19 07:22:55,779 \u001b[37mINFO\u001b[0m Matched Dataset <id=84ab172e-72a1-4b4e-8cb6-af03a4b34eea type=ls8_ledaps_scene location=/media/simonaoliver/datacube/input/LordHowe/LC80850822013297-SC20160630040239/agdc-metadata.yaml>\n",
      "2016-07-19 07:22:55,779 \u001b[37mINFO\u001b[0m Indexing 84ab172e-72a1-4b4e-8cb6-af03a4b34eea\n",
      "2016-07-19 07:22:55,811 \u001b[37mINFO\u001b[0m Matched Dataset <id=c92998d7-dc02-426d-b45d-f705a8e0149e type=ls8_ledaps_scene location=/media/simonaoliver/datacube/input/LordHowe/LC80850822013329-SC20160630034436/agdc-metadata.yaml>\n",
      "2016-07-19 07:22:55,812 \u001b[37mINFO\u001b[0m Indexing c92998d7-dc02-426d-b45d-f705a8e0149e\n",
      "2016-07-19 07:22:55,843 \u001b[37mINFO\u001b[0m Matched Dataset <id=9948eeac-c037-4020-abdf-e8e2aeb8e95d type=ls8_ledaps_scene location=/media/simonaoliver/datacube/input/LordHowe/LC80850822013345-SC20160630031833/agdc-metadata.yaml>\n",
      "2016-07-19 07:22:55,844 \u001b[37mINFO\u001b[0m Indexing 9948eeac-c037-4020-abdf-e8e2aeb8e95d\n",
      "2016-07-19 07:22:55,880 \u001b[37mINFO\u001b[0m Matched Dataset <id=42a574e0-c693-43db-97ff-0b87e999f9f2 type=ls8_ledaps_scene location=/media/simonaoliver/datacube/input/LordHowe/LC80850822013361-SC20160630035315/agdc-metadata.yaml>\n",
      "2016-07-19 07:22:55,880 \u001b[37mINFO\u001b[0m Indexing 42a574e0-c693-43db-97ff-0b87e999f9f2\n",
      "2016-07-19 07:22:55,923 \u001b[37mINFO\u001b[0m Matched Dataset <id=e277f1a5-0451-40dc-b5c4-3c050d369f5a type=ls8_ledaps_scene location=/media/simonaoliver/datacube/input/LordHowe/LC80850822014012-SC20160630034400/agdc-metadata.yaml>\n",
      "2016-07-19 07:22:55,924 \u001b[37mINFO\u001b[0m Indexing e277f1a5-0451-40dc-b5c4-3c050d369f5a\n",
      "2016-07-19 07:22:55,954 \u001b[37mINFO\u001b[0m Matched Dataset <id=ed7334a8-340e-4a92-b8b1-f310b03cbf72 type=ls8_ledaps_scene location=/media/simonaoliver/datacube/input/LordHowe/LC80850822014028-SC20160630032803/agdc-metadata.yaml>\n",
      "2016-07-19 07:22:55,955 \u001b[37mINFO\u001b[0m Indexing ed7334a8-340e-4a92-b8b1-f310b03cbf72\n",
      "2016-07-19 07:22:55,986 \u001b[37mINFO\u001b[0m Matched Dataset <id=ff8e12f9-b8e2-4c3a-b135-d37010b0236d type=ls8_ledaps_scene location=/media/simonaoliver/datacube/input/LordHowe/LC80850822014060-SC20160630033801/agdc-metadata.yaml>\n",
      "2016-07-19 07:22:55,987 \u001b[37mINFO\u001b[0m Indexing ff8e12f9-b8e2-4c3a-b135-d37010b0236d\n",
      "2016-07-19 07:22:56,016 \u001b[37mINFO\u001b[0m Matched Dataset <id=77c90c9e-0790-4a40-9152-b5c14d3d1b7d type=ls8_ledaps_scene location=/media/simonaoliver/datacube/input/LordHowe/LC80850822014076-SC20160630032224/agdc-metadata.yaml>\n",
      "2016-07-19 07:22:56,016 \u001b[37mINFO\u001b[0m Indexing 77c90c9e-0790-4a40-9152-b5c14d3d1b7d\n",
      "2016-07-19 07:22:56,045 \u001b[37mINFO\u001b[0m Matched Dataset <id=ab495a30-474c-4b3f-b441-6e2a0c3260d8 type=ls8_ledaps_scene location=/media/simonaoliver/datacube/input/LordHowe/LC80850822014092-SC20160630032827/agdc-metadata.yaml>\n",
      "2016-07-19 07:22:56,046 \u001b[37mINFO\u001b[0m Indexing ab495a30-474c-4b3f-b441-6e2a0c3260d8\n",
      "2016-07-19 07:22:56,082 \u001b[37mINFO\u001b[0m Matched Dataset <id=b211fcca-1897-49c7-8a17-eb95fe8efff0 type=ls8_ledaps_scene location=/media/simonaoliver/datacube/input/LordHowe/LC80850822014108-SC20160630032223/agdc-metadata.yaml>\n",
      "2016-07-19 07:22:56,083 \u001b[37mINFO\u001b[0m Indexing b211fcca-1897-49c7-8a17-eb95fe8efff0\n",
      "2016-07-19 07:22:56,125 \u001b[37mINFO\u001b[0m Matched Dataset <id=271ee735-e4bc-43bd-a02c-0e43a5097613 type=ls8_ledaps_scene location=/media/simonaoliver/datacube/input/LordHowe/LC80850822014124-SC20160630033308/agdc-metadata.yaml>\n",
      "2016-07-19 07:22:56,125 \u001b[37mINFO\u001b[0m Indexing 271ee735-e4bc-43bd-a02c-0e43a5097613\n",
      "2016-07-19 07:22:56,157 \u001b[37mINFO\u001b[0m Matched Dataset <id=44bc6d80-1bcc-41e1-84f3-3574f32ad1dd type=ls8_ledaps_scene location=/media/simonaoliver/datacube/input/LordHowe/LC80850822014140-SC20160630032757/agdc-metadata.yaml>\n",
      "2016-07-19 07:22:56,158 \u001b[37mINFO\u001b[0m Indexing 44bc6d80-1bcc-41e1-84f3-3574f32ad1dd\n",
      "2016-07-19 07:22:56,206 \u001b[37mINFO\u001b[0m Matched Dataset <id=3f25b533-f94e-4b1b-93e1-8deba3d95c8e type=ls8_ledaps_scene location=/media/simonaoliver/datacube/input/LordHowe/LC80850822014156-SC20160630032514/agdc-metadata.yaml>\n",
      "2016-07-19 07:22:56,207 \u001b[37mINFO\u001b[0m Indexing 3f25b533-f94e-4b1b-93e1-8deba3d95c8e\n",
      "2016-07-19 07:22:56,245 \u001b[37mINFO\u001b[0m Matched Dataset <id=56516dca-cf61-4574-a55d-59e17391a6bc type=ls8_ledaps_scene location=/media/simonaoliver/datacube/input/LordHowe/LC80850822014172-SC20160630032821/agdc-metadata.yaml>\n",
      "2016-07-19 07:22:56,246 \u001b[37mINFO\u001b[0m Indexing 56516dca-cf61-4574-a55d-59e17391a6bc\n",
      "2016-07-19 07:22:56,285 \u001b[37mINFO\u001b[0m Matched Dataset <id=e97aaed9-0205-46ca-ac2d-0fec5d0e6f15 type=ls8_ledaps_scene location=/media/simonaoliver/datacube/input/LordHowe/LC80850822014188-SC20160630033041/agdc-metadata.yaml>\n",
      "2016-07-19 07:22:56,285 \u001b[37mINFO\u001b[0m Indexing e97aaed9-0205-46ca-ac2d-0fec5d0e6f15\n",
      "2016-07-19 07:22:56,322 \u001b[37mINFO\u001b[0m Matched Dataset <id=3e31b1ad-b544-4941-a404-b2115e222f19 type=ls8_ledaps_scene location=/media/simonaoliver/datacube/input/LordHowe/LC80850822014220-SC20160630033059/agdc-metadata.yaml>\n",
      "2016-07-19 07:22:56,322 \u001b[37mINFO\u001b[0m Indexing 3e31b1ad-b544-4941-a404-b2115e222f19\n",
      "2016-07-19 07:22:56,355 \u001b[37mINFO\u001b[0m Matched Dataset <id=84653b7e-5509-4256-91ce-cc5b4fd2818d type=ls8_ledaps_scene location=/media/simonaoliver/datacube/input/LordHowe/LC80850822014236-SC20160630032419/agdc-metadata.yaml>\n",
      "2016-07-19 07:22:56,356 \u001b[37mINFO\u001b[0m Indexing 84653b7e-5509-4256-91ce-cc5b4fd2818d\n",
      "2016-07-19 07:22:56,381 \u001b[37mINFO\u001b[0m Matched Dataset <id=939aff65-427b-4604-b9e5-aa7c3f4da4e7 type=ls8_ledaps_scene location=/media/simonaoliver/datacube/input/LordHowe/LC80850822014252-SC20160630034220/agdc-metadata.yaml>\n",
      "2016-07-19 07:22:56,381 \u001b[37mINFO\u001b[0m Indexing 939aff65-427b-4604-b9e5-aa7c3f4da4e7\n",
      "2016-07-19 07:22:56,415 \u001b[37mINFO\u001b[0m Matched Dataset <id=9886d54d-af3c-4eea-8694-0651a2c8c69e type=ls8_ledaps_scene location=/media/simonaoliver/datacube/input/LordHowe/LC80850822014284-SC20160630032539/agdc-metadata.yaml>\n",
      "2016-07-19 07:22:56,416 \u001b[37mINFO\u001b[0m Indexing 9886d54d-af3c-4eea-8694-0651a2c8c69e\n",
      "2016-07-19 07:22:56,462 \u001b[37mINFO\u001b[0m Matched Dataset <id=a680a5e5-0894-434f-99d1-c06c217f784f type=ls8_ledaps_scene location=/media/simonaoliver/datacube/input/LordHowe/LC80850822014300-SC20160630034739/agdc-metadata.yaml>\n",
      "2016-07-19 07:22:56,462 \u001b[37mINFO\u001b[0m Indexing a680a5e5-0894-434f-99d1-c06c217f784f\n",
      "2016-07-19 07:22:56,487 \u001b[37mINFO\u001b[0m Matched Dataset <id=e28b8e68-f35b-4704-bb67-548b04a68a0c type=ls8_ledaps_scene location=/media/simonaoliver/datacube/input/LordHowe/LC80850822014332-SC20160630034246/agdc-metadata.yaml>\n",
      "2016-07-19 07:22:56,487 \u001b[37mINFO\u001b[0m Indexing e28b8e68-f35b-4704-bb67-548b04a68a0c\n",
      "2016-07-19 07:22:56,517 \u001b[37mINFO\u001b[0m Matched Dataset <id=8bcd3a11-6a8a-410f-9a52-8af918da9a59 type=ls8_ledaps_scene location=/media/simonaoliver/datacube/input/LordHowe/LC80850822014348-SC20160630035025/agdc-metadata.yaml>\n",
      "2016-07-19 07:22:56,518 \u001b[37mINFO\u001b[0m Indexing 8bcd3a11-6a8a-410f-9a52-8af918da9a59\n",
      "2016-07-19 07:22:56,543 \u001b[37mINFO\u001b[0m Matched Dataset <id=9d183e87-b38a-4c1c-ae65-48884d688f3d type=ls8_ledaps_scene location=/media/simonaoliver/datacube/input/LordHowe/LC80850822014364-SC20160630034422/agdc-metadata.yaml>\n",
      "2016-07-19 07:22:56,544 \u001b[37mINFO\u001b[0m Indexing 9d183e87-b38a-4c1c-ae65-48884d688f3d\n",
      "2016-07-19 07:22:56,574 \u001b[37mINFO\u001b[0m Matched Dataset <id=5704191c-6895-4e8d-b123-7a212c1e97d4 type=ls8_ledaps_scene location=/media/simonaoliver/datacube/input/LordHowe/LC80850822015015-SC20160630033321/agdc-metadata.yaml>\n",
      "2016-07-19 07:22:56,575 \u001b[37mINFO\u001b[0m Indexing 5704191c-6895-4e8d-b123-7a212c1e97d4\n",
      "2016-07-19 07:22:56,616 \u001b[37mINFO\u001b[0m Matched Dataset <id=2577feeb-8f5a-4c93-bf1f-f93df810a248 type=ls8_ledaps_scene location=/media/simonaoliver/datacube/input/LordHowe/LC80850822015031-SC20160630032518/agdc-metadata.yaml>\n",
      "2016-07-19 07:22:56,616 \u001b[37mINFO\u001b[0m Indexing 2577feeb-8f5a-4c93-bf1f-f93df810a248\n",
      "2016-07-19 07:22:56,647 \u001b[37mINFO\u001b[0m Matched Dataset <id=9039c76a-06fc-40da-8693-592a9b85babf type=ls8_ledaps_scene location=/media/simonaoliver/datacube/input/LordHowe/LC80850822015047-SC20160630033909/agdc-metadata.yaml>\n",
      "2016-07-19 07:22:56,648 \u001b[37mINFO\u001b[0m Indexing 9039c76a-06fc-40da-8693-592a9b85babf\n",
      "2016-07-19 07:22:56,678 \u001b[37mINFO\u001b[0m Matched Dataset <id=33f61730-95b3-4ab1-9fdc-bffe43144017 type=ls8_ledaps_scene location=/media/simonaoliver/datacube/input/LordHowe/LC80850822015063-SC20160630033420/agdc-metadata.yaml>\n",
      "2016-07-19 07:22:56,679 \u001b[37mINFO\u001b[0m Indexing 33f61730-95b3-4ab1-9fdc-bffe43144017\n",
      "2016-07-19 07:22:56,707 \u001b[37mINFO\u001b[0m Matched Dataset <id=391b1e74-6175-4a2c-afd1-a57f5deff8e4 type=ls8_ledaps_scene location=/media/simonaoliver/datacube/input/LordHowe/LC80850822015079-SC20160630031345/agdc-metadata.yaml>\n",
      "2016-07-19 07:22:56,709 \u001b[37mINFO\u001b[0m Indexing 391b1e74-6175-4a2c-afd1-a57f5deff8e4\n",
      "2016-07-19 07:22:56,737 \u001b[37mINFO\u001b[0m Matched Dataset <id=f5c9a530-c286-4c6e-a01c-10ead420d3a8 type=ls8_ledaps_scene location=/media/simonaoliver/datacube/input/LordHowe/LC80850822015095-SC20160630031255/agdc-metadata.yaml>\n",
      "2016-07-19 07:22:56,738 \u001b[37mINFO\u001b[0m Indexing f5c9a530-c286-4c6e-a01c-10ead420d3a8\n",
      "2016-07-19 07:22:56,783 \u001b[37mINFO\u001b[0m Matched Dataset <id=9d2299f5-7797-40b6-a89d-700032232229 type=ls8_ledaps_scene location=/media/simonaoliver/datacube/input/LordHowe/LC80850822015111-SC20160630030959/agdc-metadata.yaml>\n",
      "2016-07-19 07:22:56,783 \u001b[37mINFO\u001b[0m Indexing 9d2299f5-7797-40b6-a89d-700032232229\n",
      "2016-07-19 07:22:56,822 \u001b[37mINFO\u001b[0m Matched Dataset <id=aef0af5f-87c6-4a8c-b350-c2bfeacb89af type=ls8_ledaps_scene location=/media/simonaoliver/datacube/input/LordHowe/LC80850822015127-SC20160630032501/agdc-metadata.yaml>\n",
      "2016-07-19 07:22:56,823 \u001b[37mINFO\u001b[0m Indexing aef0af5f-87c6-4a8c-b350-c2bfeacb89af\n",
      "2016-07-19 07:22:56,866 \u001b[37mINFO\u001b[0m Matched Dataset <id=0db7a1a6-15a5-4470-88ce-aff1cf5b5b45 type=ls8_ledaps_scene location=/media/simonaoliver/datacube/input/LordHowe/LC80850822015159-SC20160630032329/agdc-metadata.yaml>\n",
      "2016-07-19 07:22:56,867 \u001b[37mINFO\u001b[0m Indexing 0db7a1a6-15a5-4470-88ce-aff1cf5b5b45\n",
      "2016-07-19 07:22:56,896 \u001b[37mINFO\u001b[0m Matched Dataset <id=adc5f158-89e4-4d62-b86c-d946c6add07f type=ls8_ledaps_scene location=/media/simonaoliver/datacube/input/LordHowe/LC80850822015175-SC20160630032501/agdc-metadata.yaml>\n",
      "2016-07-19 07:22:56,897 \u001b[37mINFO\u001b[0m Indexing adc5f158-89e4-4d62-b86c-d946c6add07f\n",
      "2016-07-19 07:22:56,923 \u001b[37mINFO\u001b[0m Matched Dataset <id=3f654e93-588b-4e6e-861e-dab5cb6cf48c type=ls8_ledaps_scene location=/media/simonaoliver/datacube/input/LordHowe/LC80850822015191-SC20160630031022/agdc-metadata.yaml>\n",
      "2016-07-19 07:22:56,924 \u001b[37mINFO\u001b[0m Indexing 3f654e93-588b-4e6e-861e-dab5cb6cf48c\n",
      "2016-07-19 07:22:56,960 \u001b[37mINFO\u001b[0m Matched Dataset <id=518a8031-d384-4e68-a84d-fd6ece6e7aab type=ls8_ledaps_scene location=/media/simonaoliver/datacube/input/LordHowe/LC80850822015207-SC20160630033918/agdc-metadata.yaml>\n",
      "2016-07-19 07:22:56,961 \u001b[37mINFO\u001b[0m Indexing 518a8031-d384-4e68-a84d-fd6ece6e7aab\n",
      "2016-07-19 07:22:56,987 \u001b[37mINFO\u001b[0m Matched Dataset <id=9eb80272-a700-4e84-b363-d6f449bba30d type=ls8_ledaps_scene location=/media/simonaoliver/datacube/input/LordHowe/LC80850822015223-SC20160630032539/agdc-metadata.yaml>\n",
      "2016-07-19 07:22:56,988 \u001b[37mINFO\u001b[0m Indexing 9eb80272-a700-4e84-b363-d6f449bba30d\n",
      "2016-07-19 07:22:57,022 \u001b[37mINFO\u001b[0m Matched Dataset <id=bf2c9562-0802-43f2-9203-dbfcb816417c type=ls8_ledaps_scene location=/media/simonaoliver/datacube/input/LordHowe/LC80850822015239-SC20160630031348/agdc-metadata.yaml>\n",
      "2016-07-19 07:22:57,023 \u001b[37mINFO\u001b[0m Indexing bf2c9562-0802-43f2-9203-dbfcb816417c\n",
      "2016-07-19 07:22:57,050 \u001b[37mINFO\u001b[0m Matched Dataset <id=b9c288bb-f33a-4ce3-b7b7-dd7c3fca4df9 type=ls8_ledaps_scene location=/media/simonaoliver/datacube/input/LordHowe/LC80850822015255-SC20160630033315/agdc-metadata.yaml>\n",
      "2016-07-19 07:22:57,050 \u001b[37mINFO\u001b[0m Indexing b9c288bb-f33a-4ce3-b7b7-dd7c3fca4df9\n",
      "2016-07-19 07:22:57,079 \u001b[37mINFO\u001b[0m Matched Dataset <id=d49b8d6d-2400-468e-9b25-4cbffef5f666 type=ls8_ledaps_scene location=/media/simonaoliver/datacube/input/LordHowe/LC80850822015271-SC20160630033921/agdc-metadata.yaml>\n",
      "2016-07-19 07:22:57,079 \u001b[37mINFO\u001b[0m Indexing d49b8d6d-2400-468e-9b25-4cbffef5f666\n",
      "2016-07-19 07:22:57,110 \u001b[37mINFO\u001b[0m Matched Dataset <id=f42fee07-fe39-4d33-8c84-b14475475d31 type=ls8_ledaps_scene location=/media/simonaoliver/datacube/input/LordHowe/LC80850822015287-SC20160630034605/agdc-metadata.yaml>\n",
      "2016-07-19 07:22:57,110 \u001b[37mINFO\u001b[0m Indexing f42fee07-fe39-4d33-8c84-b14475475d31\n",
      "2016-07-19 07:22:57,143 \u001b[37mINFO\u001b[0m Matched Dataset <id=3faa98ba-5fd2-4e42-b0be-8f8e5954571b type=ls8_ledaps_scene location=/media/simonaoliver/datacube/input/LordHowe/LC80850822015303-SC20160630034525/agdc-metadata.yaml>\n",
      "2016-07-19 07:22:57,143 \u001b[37mINFO\u001b[0m Indexing 3faa98ba-5fd2-4e42-b0be-8f8e5954571b\n",
      "2016-07-19 07:22:57,174 \u001b[37mINFO\u001b[0m Matched Dataset <id=0780e450-6e33-4f85-abba-5c9ad9f2e4e3 type=ls8_ledaps_scene location=/media/simonaoliver/datacube/input/LordHowe/LC80850822015319-SC20160630034735/agdc-metadata.yaml>\n",
      "2016-07-19 07:22:57,175 \u001b[37mINFO\u001b[0m Indexing 0780e450-6e33-4f85-abba-5c9ad9f2e4e3\n",
      "2016-07-19 07:22:57,204 \u001b[37mINFO\u001b[0m Matched Dataset <id=3995515f-203c-4fbf-ac24-2767874a35a7 type=ls8_ledaps_scene location=/media/simonaoliver/datacube/input/LordHowe/LC80850822015335-SC20160630033810/agdc-metadata.yaml>\n",
      "2016-07-19 07:22:57,205 \u001b[37mINFO\u001b[0m Indexing 3995515f-203c-4fbf-ac24-2767874a35a7\n",
      "2016-07-19 07:22:57,230 \u001b[37mINFO\u001b[0m Matched Dataset <id=5fb2c013-65d9-4279-bc64-4e871b7d6973 type=ls8_ledaps_scene location=/media/simonaoliver/datacube/input/LordHowe/LC80850822015351-SC20160630034351/agdc-metadata.yaml>\n",
      "2016-07-19 07:22:57,230 \u001b[37mINFO\u001b[0m Indexing 5fb2c013-65d9-4279-bc64-4e871b7d6973\n",
      "2016-07-19 07:22:57,268 \u001b[37mINFO\u001b[0m Matched Dataset <id=19cc9360-8118-4baf-bf9d-a692fc8ccc91 type=ls8_ledaps_scene location=/media/simonaoliver/datacube/input/LordHowe/LC80850822016002-SC20160630033736/agdc-metadata.yaml>\n",
      "2016-07-19 07:22:57,268 \u001b[37mINFO\u001b[0m Indexing 19cc9360-8118-4baf-bf9d-a692fc8ccc91\n",
      "2016-07-19 07:22:57,292 \u001b[37mINFO\u001b[0m Matched Dataset <id=339a8fa3-7c2c-41a5-bda5-cd94aae10ff2 type=ls8_ledaps_scene location=/media/simonaoliver/datacube/input/LordHowe/LC80850822016018-SC20160630033340/agdc-metadata.yaml>\n",
      "2016-07-19 07:22:57,292 \u001b[37mINFO\u001b[0m Indexing 339a8fa3-7c2c-41a5-bda5-cd94aae10ff2\n",
      "2016-07-19 07:22:57,316 \u001b[37mINFO\u001b[0m Matched Dataset <id=ed4fff24-c6a0-4a78-a6c9-7a847bbd3d96 type=ls8_ledaps_scene location=/media/simonaoliver/datacube/input/LordHowe/LC80850822016034-SC20160630033548/agdc-metadata.yaml>\n",
      "2016-07-19 07:22:57,316 \u001b[37mINFO\u001b[0m Indexing ed4fff24-c6a0-4a78-a6c9-7a847bbd3d96\n",
      "2016-07-19 07:22:57,340 \u001b[37mINFO\u001b[0m Matched Dataset <id=84b49f6c-b00f-413b-b937-d3ad6ddb5511 type=ls8_ledaps_scene location=/media/simonaoliver/datacube/input/LordHowe/LC80850822016066-SC20160630033003/agdc-metadata.yaml>\n",
      "2016-07-19 07:22:57,340 \u001b[37mINFO\u001b[0m Indexing 84b49f6c-b00f-413b-b937-d3ad6ddb5511\n",
      "2016-07-19 07:22:57,363 \u001b[37mINFO\u001b[0m Matched Dataset <id=ac46f004-4649-4c1f-befb-87bd0dd1eac9 type=ls8_ledaps_scene location=/media/simonaoliver/datacube/input/LordHowe/LC80850822016082-SC20160630032804/agdc-metadata.yaml>\n",
      "2016-07-19 07:22:57,364 \u001b[37mINFO\u001b[0m Indexing ac46f004-4649-4c1f-befb-87bd0dd1eac9\n",
      "2016-07-19 07:22:57,404 \u001b[37mINFO\u001b[0m Matched Dataset <id=3d9f7d28-a7bd-4dbd-ac11-229f426655f9 type=ls8_ledaps_scene location=/media/simonaoliver/datacube/input/LordHowe/LC80850822016114-SC20160630032117/agdc-metadata.yaml>\n",
      "2016-07-19 07:22:57,404 \u001b[37mINFO\u001b[0m Indexing 3d9f7d28-a7bd-4dbd-ac11-229f426655f9\n",
      "2016-07-19 07:22:57,429 \u001b[37mINFO\u001b[0m Matched Dataset <id=b32d9423-3c2d-4b6f-b9d2-5e966853d5df type=ls8_ledaps_scene location=/media/simonaoliver/datacube/input/LordHowe/LC80850822016130-SC20160630032956/agdc-metadata.yaml>\n",
      "2016-07-19 07:22:57,430 \u001b[37mINFO\u001b[0m Indexing b32d9423-3c2d-4b6f-b9d2-5e966853d5df\n",
      "2016-07-19 07:22:57,455 \u001b[37mINFO\u001b[0m Matched Dataset <id=7e8678c1-6edd-4107-bff3-00146a710447 type=ls8_ledaps_scene location=/media/simonaoliver/datacube/input/LordHowe/LC80850822016146-SC20160630033032/agdc-metadata.yaml>\n",
      "2016-07-19 07:22:57,456 \u001b[37mINFO\u001b[0m Indexing 7e8678c1-6edd-4107-bff3-00146a710447\n",
      "2016-07-19 07:22:57,480 \u001b[37mINFO\u001b[0m Matched Dataset <id=24402377-69ab-4891-bab9-355e4f04385f type=ls8_ledaps_scene location=/media/simonaoliver/datacube/input/LordHowe/LC80850822016162-SC20160630034247/agdc-metadata.yaml>\n",
      "2016-07-19 07:22:57,481 \u001b[37mINFO\u001b[0m Indexing 24402377-69ab-4891-bab9-355e4f04385f\n",
      "2016-07-19 07:22:57,520 \u001b[37mINFO\u001b[0m Matched Dataset <id=1e6caf0e-8cc5-49a5-881c-124bf2d07d8d type=ls8_ledaps_scene location=/media/simonaoliver/datacube/input/LordHowe/LC80850822016178-SC20160703095741/agdc-metadata.yaml>\n",
      "2016-07-19 07:22:57,520 \u001b[37mINFO\u001b[0m Indexing 1e6caf0e-8cc5-49a5-881c-124bf2d07d8d\n"
     ]
    }
   ],
   "source": [
    "!datacube -v dataset add $ls8ledapsscene --auto-match"
   ]
  },
  {
   "cell_type": "code",
   "execution_count": 2,
   "metadata": {
    "collapsed": true
   },
   "outputs": [],
   "source": [
    "nbarscenes = '/media/simonaoliver/datacube/input/GA_v2_LandsatNBAR/LS7_ETM_NBAR_P54_GANBAR01-002_090_084_20151212/ga-metadata.yaml'\n",
    "nbartscenes = '/media/simonaoliver/datacube/input/GA_v2_LandsatNBAR/LS7_ETM_NBART_P54_GANBART01-002_090_084_20151212/ga-metadata.yaml'\n",
    "pqscenes = '/media/simonaoliver/datacube/input/GA_v2_LandsatNBAR/LS5_TM_PQ_P55_GAPQ01-002_090_084_20110107/ga-metadata.yaml'\n",
    "ls5ledapsscene = '/media/simonaoliver/datacube/input/USGS_LandsatLEDAPS/LT50960852011290-SC20160211221617/agdc-metadata.yaml'\n",
    "ls7ledapsscene = '/media/simonaoliver/datacube/input/USGS_LandsatLEDAPS/LE70960852016024-SC20160211221824/agdc-metadata.yaml'\n",
    "ls8ledapsscene = '/media/simonaoliver/datacube/input/USGS_LandsatLEDAPS/LC80960852015365-SC20160211222236/agdc-metadata.yaml'\n",
    "s2agranules = '/home/simonaoliver/data/S2A_OPER_PRD_MSIL1C_PDMC_20151205T075851_R073_V20151205T001643_20151205T001643.SAFE/agdc-metadata.yaml'\n",
    "modistiles = '/media/simonaoliver/datacube/input/USGS_MODIS/'\n",
    "h8granules = '/media/simonaoliver/datacube/input/H8/2015/12/05/0710/'"
   ]
  },
  {
   "cell_type": "code",
   "execution_count": 3,
   "metadata": {
    "collapsed": false
   },
   "outputs": [
    {
     "name": "stdout",
     "output_type": "stream",
     "text": [
      "2016-07-04 21:57:46,663 INFO Matched Dataset <id=2e444c09-b3fa-40e3-acc8-d91663c40dca type=h8_ahi_brf_granule location=/media/simonaoliver/datacube/input/H8/2015/12/05/0710/agdc-metadata.yaml>\r\n",
      "2016-07-04 21:57:46,664 INFO Indexing 98595915-4a21-4b72-91c8-e0503371d474\r\n",
      "2016-07-04 21:57:46,670 INFO Indexing 22451e9b-8eef-4dc1-b8ec-cddd6ed7ef89\r\n",
      "2016-07-04 21:57:46,674 INFO Indexing 2e444c09-b3fa-40e3-acc8-d91663c40dca\r\n"
     ]
    }
   ],
   "source": [
    "!datacube -v dataset add $h8granules --auto-match"
   ]
  },
  {
   "cell_type": "code",
   "execution_count": 4,
   "metadata": {
    "collapsed": false
   },
   "outputs": [
    {
     "name": "stdout",
     "output_type": "stream",
     "text": [
      "2016-07-04 21:57:48,355 INFO Matched Dataset <id=edd1ff87-bc32-44fe-b509-91da47fa6189 type=modis_mcd43a1_tile location=/media/simonaoliver/datacube/input/USGS_MODIS/agdc-metadata.yaml>\n",
      "2016-07-04 21:57:48,356 INFO Indexing edd1ff87-bc32-44fe-b509-91da47fa6189\n",
      "2016-07-04 21:57:48,373 INFO Matched Dataset <id=edead172-73e1-4c90-98aa-5301a67da3de type=modis_mcd43a2_tile location=/media/simonaoliver/datacube/input/USGS_MODIS/agdc-metadata.yaml>\n",
      "2016-07-04 21:57:48,373 INFO Indexing edead172-73e1-4c90-98aa-5301a67da3de\n",
      "2016-07-04 21:57:48,394 INFO Matched Dataset <id=3ee9bcc2-f587-4a0d-94ca-653e5c3d547b type=modis_mcd43a3_tile location=/media/simonaoliver/datacube/input/USGS_MODIS/agdc-metadata.yaml>\n",
      "2016-07-04 21:57:48,394 INFO Indexing 3ee9bcc2-f587-4a0d-94ca-653e5c3d547b\n",
      "2016-07-04 21:57:48,412 INFO Matched Dataset <id=4925df77-c35d-488b-bdc4-7471ba75eca9 type=modis_mcd43a4_tile location=/media/simonaoliver/datacube/input/USGS_MODIS/agdc-metadata.yaml>\n",
      "2016-07-04 21:57:48,412 INFO Indexing 4925df77-c35d-488b-bdc4-7471ba75eca9\n"
     ]
    }
   ],
   "source": [
    "!datacube -v dataset add $modistiles --auto-match"
   ]
  },
  {
   "cell_type": "code",
   "execution_count": 3,
   "metadata": {
    "collapsed": false
   },
   "outputs": [
    {
     "name": "stdout",
     "output_type": "stream",
     "text": [
      "2016-07-13 07:11:05,027 INFO Matched Dataset <id=bc3c5a40-ed4f-4bee-85df-38e1a0f32587 type=s2a_level1c_granule location=/home/simonaoliver/data/S2A_OPER_PRD_MSIL1C_PDMC_20151205T075851_R073_V20151205T001643_20151205T001643.SAFE/agdc-metadata.yaml>\n",
      "2016-07-13 07:11:05,028 INFO Indexing bc3c5a40-ed4f-4bee-85df-38e1a0f32587\n",
      "2016-07-13 07:11:05,065 INFO Matched Dataset <id=4e089df2-f584-41f8-ab42-6d94743f04d6 type=s2a_level1c_granule location=/home/simonaoliver/data/S2A_OPER_PRD_MSIL1C_PDMC_20151205T075851_R073_V20151205T001643_20151205T001643.SAFE/agdc-metadata.yaml>\n",
      "2016-07-13 07:11:05,066 INFO Indexing 4e089df2-f584-41f8-ab42-6d94743f04d6\n",
      "2016-07-13 07:11:05,096 INFO Matched Dataset <id=10058794-9393-4925-851d-6d9800a81095 type=s2a_level1c_granule location=/home/simonaoliver/data/S2A_OPER_PRD_MSIL1C_PDMC_20151205T075851_R073_V20151205T001643_20151205T001643.SAFE/agdc-metadata.yaml>\n",
      "2016-07-13 07:11:05,096 INFO Indexing 10058794-9393-4925-851d-6d9800a81095\n",
      "2016-07-13 07:11:05,128 INFO Matched Dataset <id=353ecfae-f19b-49ea-844b-fa52325bf127 type=s2a_level1c_granule location=/home/simonaoliver/data/S2A_OPER_PRD_MSIL1C_PDMC_20151205T075851_R073_V20151205T001643_20151205T001643.SAFE/agdc-metadata.yaml>\n",
      "2016-07-13 07:11:05,128 INFO Indexing 353ecfae-f19b-49ea-844b-fa52325bf127\n"
     ]
    }
   ],
   "source": [
    "!datacube -v dataset add $s2agranules --auto-match"
   ]
  },
  {
   "cell_type": "code",
   "execution_count": 6,
   "metadata": {
    "collapsed": false
   },
   "outputs": [
    {
     "name": "stdout",
     "output_type": "stream",
     "text": [
      "2016-07-04 21:57:51,081 INFO Created DatasetType modis_mcd43a1_sinusoidal\n",
      "2016-07-04 21:57:52,520 INFO 4 tasks discovered\n",
      "2016-07-04 21:57:52,884 INFO Failed to auto identify EPSG: 7\n",
      "2016-07-04 21:57:54,194 INFO Failed to auto identify EPSG: 7\n",
      "2016-07-04 21:57:55,430 INFO Failed to auto identify EPSG: 7\n",
      "2016-07-04 21:57:56,614 INFO Failed to auto identify EPSG: 7\n",
      "2016-07-04 21:57:57,814 INFO Failed to auto identify EPSG: 7\n",
      "2016-07-04 21:57:59,062 INFO Failed to auto identify EPSG: 7\n",
      "2016-07-04 21:58:00,290 INFO Failed to auto identify EPSG: 7\n",
      "2016-07-04 21:58:01,600 INFO Failed to auto identify EPSG: 7\n",
      "2016-07-04 21:58:02,835 INFO Failed to auto identify EPSG: 7\n",
      "2016-07-04 21:58:04,135 INFO Failed to auto identify EPSG: 7\n",
      "2016-07-04 21:58:07,466 INFO Indexing 897396eb-f638-419f-b88c-531c8bb5475b\n",
      "2016-07-04 21:58:07,488 INFO Failed to auto identify EPSG: 7\n",
      "2016-07-04 21:58:10,141 INFO Failed to auto identify EPSG: 7\n",
      "2016-07-04 21:58:12,506 INFO Failed to auto identify EPSG: 7\n",
      "2016-07-04 21:58:14,873 INFO Failed to auto identify EPSG: 7\n",
      "2016-07-04 21:58:17,308 INFO Failed to auto identify EPSG: 7\n",
      "2016-07-04 21:58:19,644 INFO Failed to auto identify EPSG: 7\n",
      "2016-07-04 21:58:22,050 INFO Failed to auto identify EPSG: 7\n",
      "2016-07-04 21:58:24,685 INFO Failed to auto identify EPSG: 7\n",
      "2016-07-04 21:58:27,117 INFO Failed to auto identify EPSG: 7\n",
      "2016-07-04 21:58:29,535 INFO Failed to auto identify EPSG: 7\n",
      "2016-07-04 21:58:34,355 INFO Indexing 21bc1295-7662-4f6f-9dca-713147140235\n",
      "2016-07-04 21:58:34,372 INFO Failed to auto identify EPSG: 7\n",
      "2016-07-04 21:58:36,447 INFO Failed to auto identify EPSG: 7\n",
      "2016-07-04 21:58:38,512 INFO Failed to auto identify EPSG: 7\n",
      "2016-07-04 21:58:40,542 INFO Failed to auto identify EPSG: 7\n",
      "2016-07-04 21:58:42,659 INFO Failed to auto identify EPSG: 7\n",
      "2016-07-04 21:58:44,721 INFO Failed to auto identify EPSG: 7\n",
      "2016-07-04 21:58:46,789 INFO Failed to auto identify EPSG: 7\n",
      "2016-07-04 21:58:48,869 INFO Failed to auto identify EPSG: 7\n",
      "2016-07-04 21:58:50,909 INFO Failed to auto identify EPSG: 7\n",
      "2016-07-04 21:58:52,930 INFO Failed to auto identify EPSG: 7\n",
      "2016-07-04 21:58:56,273 INFO Indexing c15edb05-1f79-4bce-827e-a7c948b3f5d4\n",
      "2016-07-04 21:58:56,293 INFO Failed to auto identify EPSG: 7\n",
      "2016-07-04 21:58:57,259 INFO Failed to auto identify EPSG: 7\n",
      "2016-07-04 21:58:58,201 INFO Failed to auto identify EPSG: 7\n",
      "2016-07-04 21:58:59,130 INFO Failed to auto identify EPSG: 7\n",
      "2016-07-04 21:59:00,069 INFO Failed to auto identify EPSG: 7\n",
      "2016-07-04 21:59:01,002 INFO Failed to auto identify EPSG: 7\n",
      "2016-07-04 21:59:01,987 INFO Failed to auto identify EPSG: 7\n",
      "2016-07-04 21:59:02,944 INFO Failed to auto identify EPSG: 7\n",
      "2016-07-04 21:59:03,908 INFO Failed to auto identify EPSG: 7\n",
      "2016-07-04 21:59:04,893 INFO Failed to auto identify EPSG: 7\n",
      "2016-07-04 21:59:07,388 INFO Indexing 09989d90-9a5c-484a-8382-583052418e93\n",
      "4 successful, 0 failed\n"
     ]
    }
   ],
   "source": [
    "# Not required unless you want to create NetCDF formatted data \n",
    "# - then maybe it's a reformatting exercise rather than a NetCDF ingestion\n",
    "modis_ingester = '/home/simonaoliver/code/agdc-v2/docs/config_samples/ingester/mcd43a1_sinusoidal.yaml'\n",
    "!datacube -v ingest --config-file $modis_ingester"
   ]
  },
  {
   "cell_type": "code",
   "execution_count": 7,
   "metadata": {
    "collapsed": false
   },
   "outputs": [
    {
     "name": "stdout",
     "output_type": "stream",
     "text": [
      "2016-07-04 21:59:08,200 INFO Created DatasetType modis_mcd43a2_sinusoidal\n",
      "2016-07-04 21:59:09,647 INFO 4 tasks discovered\n",
      "2016-07-04 21:59:09,757 INFO Failed to auto identify EPSG: 7\n",
      "2016-07-04 21:59:10,065 INFO Failed to auto identify EPSG: 7\n",
      "2016-07-04 21:59:10,376 INFO Failed to auto identify EPSG: 7\n",
      "2016-07-04 21:59:10,646 INFO Failed to auto identify EPSG: 7\n",
      "2016-07-04 21:59:11,269 INFO Indexing 106ceb3b-c1ed-4077-b2d5-b6f1c23331c5\n",
      "2016-07-04 21:59:11,289 INFO Failed to auto identify EPSG: 7\n",
      "2016-07-04 21:59:11,672 INFO Failed to auto identify EPSG: 7\n",
      "2016-07-04 21:59:12,153 INFO Failed to auto identify EPSG: 7\n",
      "2016-07-04 21:59:12,513 INFO Failed to auto identify EPSG: 7\n",
      "2016-07-04 21:59:13,294 INFO Indexing 551c54c5-94fc-46a3-a4fb-4d9fdf85be4b\n",
      "2016-07-04 21:59:13,311 INFO Failed to auto identify EPSG: 7\n",
      "2016-07-04 21:59:13,440 INFO Failed to auto identify EPSG: 7\n",
      "2016-07-04 21:59:13,643 INFO Failed to auto identify EPSG: 7\n",
      "2016-07-04 21:59:13,783 INFO Failed to auto identify EPSG: 7\n",
      "2016-07-04 21:59:14,514 INFO Indexing 70338725-7741-45d4-bd40-c1635f3789a8\n",
      "2016-07-04 21:59:14,534 INFO Failed to auto identify EPSG: 7\n",
      "2016-07-04 21:59:14,649 INFO Failed to auto identify EPSG: 7\n",
      "2016-07-04 21:59:14,803 INFO Failed to auto identify EPSG: 7\n",
      "2016-07-04 21:59:14,909 INFO Failed to auto identify EPSG: 7\n",
      "2016-07-04 21:59:15,585 INFO Indexing 36d30ba8-7a28-4a36-959f-46e51ff3e56b\n",
      "4 successful, 0 failed\n"
     ]
    }
   ],
   "source": [
    "modis_ingester = '/home/simonaoliver/code/agdc-v2/docs/config_samples/ingester/mcd43a2_sinusoidal.yaml'\n",
    "!datacube -v ingest --config-file $modis_ingester"
   ]
  },
  {
   "cell_type": "code",
   "execution_count": 8,
   "metadata": {
    "collapsed": false
   },
   "outputs": [
    {
     "name": "stdout",
     "output_type": "stream",
     "text": [
      "2016-07-04 21:59:16,460 INFO Created DatasetType modis_mcd43a3_sinusoidal\n",
      "2016-07-04 21:59:17,928 INFO 4 tasks discovered\n",
      "2016-07-04 21:59:18,258 INFO Failed to auto identify EPSG: 7\n",
      "2016-07-04 21:59:18,667 INFO Failed to auto identify EPSG: 7\n",
      "2016-07-04 21:59:19,024 INFO Failed to auto identify EPSG: 7\n",
      "2016-07-04 21:59:19,325 INFO Failed to auto identify EPSG: 7\n",
      "2016-07-04 21:59:19,619 INFO Failed to auto identify EPSG: 7\n",
      "2016-07-04 21:59:19,989 INFO Failed to auto identify EPSG: 7\n",
      "2016-07-04 21:59:20,292 INFO Failed to auto identify EPSG: 7\n",
      "2016-07-04 21:59:20,669 INFO Failed to auto identify EPSG: 7\n",
      "2016-07-04 21:59:20,996 INFO Failed to auto identify EPSG: 7\n",
      "2016-07-04 21:59:21,317 INFO Failed to auto identify EPSG: 7\n",
      "2016-07-04 21:59:21,705 INFO Failed to auto identify EPSG: 7\n",
      "2016-07-04 21:59:21,992 INFO Failed to auto identify EPSG: 7\n",
      "2016-07-04 21:59:22,275 INFO Failed to auto identify EPSG: 7\n",
      "2016-07-04 21:59:22,561 INFO Failed to auto identify EPSG: 7\n",
      "2016-07-04 21:59:22,849 INFO Failed to auto identify EPSG: 7\n",
      "2016-07-04 21:59:23,142 INFO Failed to auto identify EPSG: 7\n",
      "2016-07-04 21:59:23,430 INFO Failed to auto identify EPSG: 7\n",
      "2016-07-04 21:59:26,272 INFO Indexing a5e89723-2b35-43f7-8deb-06156050a399\n",
      "2016-07-04 21:59:26,291 INFO Failed to auto identify EPSG: 7\n",
      "2016-07-04 21:59:26,953 INFO Failed to auto identify EPSG: 7\n",
      "2016-07-04 21:59:27,458 INFO Failed to auto identify EPSG: 7\n",
      "2016-07-04 21:59:28,008 INFO Failed to auto identify EPSG: 7\n",
      "2016-07-04 21:59:28,558 INFO Failed to auto identify EPSG: 7\n",
      "2016-07-04 21:59:29,113 INFO Failed to auto identify EPSG: 7\n",
      "2016-07-04 21:59:29,658 INFO Failed to auto identify EPSG: 7\n",
      "2016-07-04 21:59:30,219 INFO Failed to auto identify EPSG: 7\n",
      "2016-07-04 21:59:30,732 INFO Failed to auto identify EPSG: 7\n",
      "2016-07-04 21:59:31,248 INFO Failed to auto identify EPSG: 7\n",
      "2016-07-04 21:59:31,787 INFO Failed to auto identify EPSG: 7\n",
      "2016-07-04 21:59:32,182 INFO Failed to auto identify EPSG: 7\n",
      "2016-07-04 21:59:32,530 INFO Failed to auto identify EPSG: 7\n",
      "2016-07-04 21:59:32,929 INFO Failed to auto identify EPSG: 7\n",
      "2016-07-04 21:59:33,446 INFO Failed to auto identify EPSG: 7\n",
      "2016-07-04 21:59:34,007 INFO Failed to auto identify EPSG: 7\n",
      "2016-07-04 21:59:34,441 INFO Failed to auto identify EPSG: 7\n",
      "2016-07-04 21:59:38,043 INFO Indexing 2fac65bc-431c-4f60-983c-03ac0a6362cc\n",
      "2016-07-04 21:59:38,067 INFO Failed to auto identify EPSG: 7\n",
      "2016-07-04 21:59:38,235 INFO Failed to auto identify EPSG: 7\n",
      "2016-07-04 21:59:38,403 INFO Failed to auto identify EPSG: 7\n",
      "2016-07-04 21:59:38,576 INFO Failed to auto identify EPSG: 7\n",
      "2016-07-04 21:59:38,755 INFO Failed to auto identify EPSG: 7\n",
      "2016-07-04 21:59:38,953 INFO Failed to auto identify EPSG: 7\n",
      "2016-07-04 21:59:39,138 INFO Failed to auto identify EPSG: 7\n",
      "2016-07-04 21:59:39,343 INFO Failed to auto identify EPSG: 7\n",
      "2016-07-04 21:59:39,542 INFO Failed to auto identify EPSG: 7\n",
      "2016-07-04 21:59:39,727 INFO Failed to auto identify EPSG: 7\n",
      "2016-07-04 21:59:39,914 INFO Failed to auto identify EPSG: 7\n",
      "2016-07-04 21:59:40,087 INFO Failed to auto identify EPSG: 7\n",
      "2016-07-04 21:59:40,268 INFO Failed to auto identify EPSG: 7\n",
      "2016-07-04 21:59:40,424 INFO Failed to auto identify EPSG: 7\n",
      "2016-07-04 21:59:40,584 INFO Failed to auto identify EPSG: 7\n",
      "2016-07-04 21:59:40,748 INFO Failed to auto identify EPSG: 7\n",
      "2016-07-04 21:59:40,967 INFO Failed to auto identify EPSG: 7\n",
      "2016-07-04 21:59:43,679 INFO Indexing 1ab5425e-59bf-46ce-bb81-7963ca87ca0d\n",
      "2016-07-04 21:59:43,702 INFO Failed to auto identify EPSG: 7\n",
      "2016-07-04 21:59:43,869 INFO Failed to auto identify EPSG: 7\n",
      "2016-07-04 21:59:44,003 INFO Failed to auto identify EPSG: 7\n",
      "2016-07-04 21:59:44,138 INFO Failed to auto identify EPSG: 7\n",
      "2016-07-04 21:59:44,299 INFO Failed to auto identify EPSG: 7\n",
      "2016-07-04 21:59:44,472 INFO Failed to auto identify EPSG: 7\n",
      "2016-07-04 21:59:44,612 INFO Failed to auto identify EPSG: 7\n",
      "2016-07-04 21:59:44,766 INFO Failed to auto identify EPSG: 7\n",
      "2016-07-04 21:59:44,918 INFO Failed to auto identify EPSG: 7\n",
      "2016-07-04 21:59:45,076 INFO Failed to auto identify EPSG: 7\n",
      "2016-07-04 21:59:45,209 INFO Failed to auto identify EPSG: 7\n",
      "2016-07-04 21:59:45,336 INFO Failed to auto identify EPSG: 7\n",
      "2016-07-04 21:59:45,514 INFO Failed to auto identify EPSG: 7\n",
      "2016-07-04 21:59:45,649 INFO Failed to auto identify EPSG: 7\n",
      "2016-07-04 21:59:45,783 INFO Failed to auto identify EPSG: 7\n",
      "2016-07-04 21:59:45,938 INFO Failed to auto identify EPSG: 7\n",
      "2016-07-04 21:59:46,082 INFO Failed to auto identify EPSG: 7\n",
      "2016-07-04 21:59:48,581 INFO Indexing 0c6214fc-577b-4a11-b473-5e3eaa3dbf41\n",
      "4 successful, 0 failed\n"
     ]
    }
   ],
   "source": [
    "modis_ingester = '/home/simonaoliver/code/agdc-v2/docs/config_samples/ingester/mcd43a3_sinusoidal.yaml'\n",
    "!datacube -v ingest --config-file $modis_ingester"
   ]
  },
  {
   "cell_type": "code",
   "execution_count": 9,
   "metadata": {
    "collapsed": false
   },
   "outputs": [
    {
     "name": "stdout",
     "output_type": "stream",
     "text": [
      "2016-07-04 21:59:49,450 INFO Created DatasetType modis_mcd43a4_sinusoidal\n",
      "2016-07-04 21:59:50,978 INFO 4 tasks discovered\n",
      "2016-07-04 21:59:51,173 INFO Failed to auto identify EPSG: 7\n",
      "2016-07-04 21:59:51,564 INFO Failed to auto identify EPSG: 7\n",
      "2016-07-04 21:59:51,954 INFO Failed to auto identify EPSG: 7\n",
      "2016-07-04 21:59:52,302 INFO Failed to auto identify EPSG: 7\n",
      "2016-07-04 21:59:52,622 INFO Failed to auto identify EPSG: 7\n",
      "2016-07-04 21:59:52,909 INFO Failed to auto identify EPSG: 7\n",
      "2016-07-04 21:59:53,204 INFO Failed to auto identify EPSG: 7\n",
      "2016-07-04 21:59:55,153 INFO Indexing e22126b6-b104-4cd5-9017-640935c3090a\n",
      "2016-07-04 21:59:55,168 INFO Failed to auto identify EPSG: 7\n",
      "2016-07-04 21:59:56,831 INFO Failed to auto identify EPSG: 7\n",
      "2016-07-04 21:59:57,379 INFO Failed to auto identify EPSG: 7\n",
      "2016-07-04 21:59:57,964 INFO Failed to auto identify EPSG: 7\n",
      "2016-07-04 21:59:58,588 INFO Failed to auto identify EPSG: 7\n",
      "2016-07-04 21:59:59,107 INFO Failed to auto identify EPSG: 7\n",
      "2016-07-04 21:59:59,667 INFO Failed to auto identify EPSG: 7\n",
      "2016-07-04 22:00:02,481 INFO Indexing 788d3132-969b-4ea3-90fa-8ffcfb5b736f\n",
      "2016-07-04 22:00:02,506 INFO Failed to auto identify EPSG: 7\n",
      "2016-07-04 22:00:02,696 INFO Failed to auto identify EPSG: 7\n",
      "2016-07-04 22:00:02,885 INFO Failed to auto identify EPSG: 7\n",
      "2016-07-04 22:00:03,065 INFO Failed to auto identify EPSG: 7\n",
      "2016-07-04 22:00:03,243 INFO Failed to auto identify EPSG: 7\n",
      "2016-07-04 22:00:03,420 INFO Failed to auto identify EPSG: 7\n",
      "2016-07-04 22:00:03,616 INFO Failed to auto identify EPSG: 7\n",
      "2016-07-04 22:00:04,922 INFO Indexing 90e59ce6-f62d-4967-a666-e44a3e2fe6eb\n",
      "2016-07-04 22:00:04,940 INFO Failed to auto identify EPSG: 7\n",
      "2016-07-04 22:00:05,089 INFO Failed to auto identify EPSG: 7\n",
      "2016-07-04 22:00:05,237 INFO Failed to auto identify EPSG: 7\n",
      "2016-07-04 22:00:05,384 INFO Failed to auto identify EPSG: 7\n",
      "2016-07-04 22:00:05,521 INFO Failed to auto identify EPSG: 7\n",
      "2016-07-04 22:00:05,666 INFO Failed to auto identify EPSG: 7\n",
      "2016-07-04 22:00:05,785 INFO Failed to auto identify EPSG: 7\n",
      "2016-07-04 22:00:06,737 INFO Indexing bfc31d70-681e-4df8-aaa1-b2326b27b82f\n",
      "4 successful, 0 failed\n"
     ]
    }
   ],
   "source": [
    "modis_ingester = '/home/simonaoliver/code/agdc-v2/docs/config_samples/ingester/mcd43a4_sinusoidal.yaml'\n",
    "!datacube -v ingest --config-file $modis_ingester"
   ]
  },
  {
   "cell_type": "code",
   "execution_count": 4,
   "metadata": {
    "collapsed": false
   },
   "outputs": [
    {
     "name": "stdout",
     "output_type": "stream",
     "text": [
      "2016-07-13 07:11:41,330 INFO Created DatasetType s2a_level1c_albers_60\n",
      "2016-07-13 07:11:43,104 INFO 7 tasks discovered\n",
      "2016-07-13 07:11:47,660 WARNING CPLE_AppDefined in Unable to save auxilary information in /home/simonaoliver/data/S2A_OPER_PRD_MSIL1C_PDMC_20151205T075851_R073_V20151205T001643_20151205T001643.SAFE/GRANULE/S2A_OPER_MSI_L1C_TL_SGS__20151205T065551_A002358_T55HET_N02.00/IMG_DATA/S2A_OPER_MSI_L1C_TL_SGS__20151205T065551_A002358_T55HET_B01.jp2.aux.xml.\n",
      "2016-07-13 07:11:47,660 WARNING CPLE_AppDefined in Unable to save auxilary information in /home/simonaoliver/data/S2A_OPER_PRD_MSIL1C_PDMC_20151205T075851_R073_V20151205T001643_20151205T001643.SAFE/GRANULE/S2A_OPER_MSI_L1C_TL_SGS__20151205T065551_A002358_T55HET_N02.00/IMG_DATA/S2A_OPER_MSI_L1C_TL_SGS__20151205T065551_A002358_T55HET_B01.jp2.aux.xml.\n",
      "2016-07-13 07:11:47,660 WARNING CPLE_AppDefined in Unable to save auxilary information in /home/simonaoliver/data/S2A_OPER_PRD_MSIL1C_PDMC_20151205T075851_R073_V20151205T001643_20151205T001643.SAFE/GRANULE/S2A_OPER_MSI_L1C_TL_SGS__20151205T065551_A002358_T55HET_N02.00/IMG_DATA/S2A_OPER_MSI_L1C_TL_SGS__20151205T065551_A002358_T55HET_B01.jp2.aux.xml.\n",
      "2016-07-13 07:11:52,123 WARNING CPLE_AppDefined in Unable to save auxilary information in /home/simonaoliver/data/S2A_OPER_PRD_MSIL1C_PDMC_20151205T075851_R073_V20151205T001643_20151205T001643.SAFE/GRANULE/S2A_OPER_MSI_L1C_TL_SGS__20151205T065551_A002358_T55HDT_N02.00/IMG_DATA/S2A_OPER_MSI_L1C_TL_SGS__20151205T065551_A002358_T55HDT_B01.jp2.aux.xml.\n",
      "2016-07-13 07:11:52,123 WARNING CPLE_AppDefined in Unable to save auxilary information in /home/simonaoliver/data/S2A_OPER_PRD_MSIL1C_PDMC_20151205T075851_R073_V20151205T001643_20151205T001643.SAFE/GRANULE/S2A_OPER_MSI_L1C_TL_SGS__20151205T065551_A002358_T55HDT_N02.00/IMG_DATA/S2A_OPER_MSI_L1C_TL_SGS__20151205T065551_A002358_T55HDT_B01.jp2.aux.xml.\n",
      "2016-07-13 07:11:52,123 WARNING CPLE_AppDefined in Unable to save auxilary information in /home/simonaoliver/data/S2A_OPER_PRD_MSIL1C_PDMC_20151205T075851_R073_V20151205T001643_20151205T001643.SAFE/GRANULE/S2A_OPER_MSI_L1C_TL_SGS__20151205T065551_A002358_T55HDT_N02.00/IMG_DATA/S2A_OPER_MSI_L1C_TL_SGS__20151205T065551_A002358_T55HDT_B01.jp2.aux.xml.\n",
      "2016-07-13 07:12:09,573 ERROR Task failed\n",
      "Traceback (most recent call last):\n",
      "  File \"/home/simonaoliver/venvs/agdc-v2/local/lib/python2.7/site-packages/datacube/scripts/ingest.py\", line 227, in process_tasks\n",
      "    datasets = executor.result(result)\n",
      "  File \"/home/simonaoliver/venvs/agdc-v2/local/lib/python2.7/site-packages/datacube/executor.py\", line 35, in result\n",
      "    return func(*args, **kwargs)\n",
      "  File \"/home/simonaoliver/venvs/agdc-v2/local/lib/python2.7/site-packages/datacube/scripts/ingest.py\", line 207, in ingest_work\n",
      "    datasets = xr_apply(sources, _make_dataset, dtype='O')\n",
      "  File \"/home/simonaoliver/venvs/agdc-v2/local/lib/python2.7/site-packages/datacube/model/utils.py\", line 167, in xr_apply\n",
      "    v = func(index, entry)\n",
      "  File \"/home/simonaoliver/venvs/agdc-v2/local/lib/python2.7/site-packages/datacube/scripts/ingest.py\", line 197, in _make_dataset\n",
      "    assert len(sources) == 1\n",
      "AssertionError\n",
      "2016-07-13 07:12:13,844 WARNING CPLE_AppDefined in Unable to save auxilary information in /home/simonaoliver/data/S2A_OPER_PRD_MSIL1C_PDMC_20151205T075851_R073_V20151205T001643_20151205T001643.SAFE/GRANULE/S2A_OPER_MSI_L1C_TL_SGS__20151205T065551_A002358_T55HFT_N02.00/IMG_DATA/S2A_OPER_MSI_L1C_TL_SGS__20151205T065551_A002358_T55HFT_B01.jp2.aux.xml.\n",
      "2016-07-13 07:12:13,844 WARNING CPLE_AppDefined in Unable to save auxilary information in /home/simonaoliver/data/S2A_OPER_PRD_MSIL1C_PDMC_20151205T075851_R073_V20151205T001643_20151205T001643.SAFE/GRANULE/S2A_OPER_MSI_L1C_TL_SGS__20151205T065551_A002358_T55HFT_N02.00/IMG_DATA/S2A_OPER_MSI_L1C_TL_SGS__20151205T065551_A002358_T55HFT_B01.jp2.aux.xml.\n",
      "2016-07-13 07:12:13,844 WARNING CPLE_AppDefined in Unable to save auxilary information in /home/simonaoliver/data/S2A_OPER_PRD_MSIL1C_PDMC_20151205T075851_R073_V20151205T001643_20151205T001643.SAFE/GRANULE/S2A_OPER_MSI_L1C_TL_SGS__20151205T065551_A002358_T55HFT_N02.00/IMG_DATA/S2A_OPER_MSI_L1C_TL_SGS__20151205T065551_A002358_T55HFT_B01.jp2.aux.xml.\n",
      "2016-07-13 07:12:22,625 INFO Indexing e5c7d621-ab0e-4d6f-99ff-2010c09a14d6\n",
      "2016-07-13 07:12:26,913 WARNING CPLE_AppDefined in Unable to save auxilary information in /home/simonaoliver/data/S2A_OPER_PRD_MSIL1C_PDMC_20151205T075851_R073_V20151205T001643_20151205T001643.SAFE/GRANULE/S2A_OPER_MSI_L1C_TL_SGS__20151205T065551_A002358_T55HET_N02.00/IMG_DATA/S2A_OPER_MSI_L1C_TL_SGS__20151205T065551_A002358_T55HET_B01.jp2.aux.xml.\n",
      "2016-07-13 07:12:26,913 WARNING CPLE_AppDefined in Unable to save auxilary information in /home/simonaoliver/data/S2A_OPER_PRD_MSIL1C_PDMC_20151205T075851_R073_V20151205T001643_20151205T001643.SAFE/GRANULE/S2A_OPER_MSI_L1C_TL_SGS__20151205T065551_A002358_T55HET_N02.00/IMG_DATA/S2A_OPER_MSI_L1C_TL_SGS__20151205T065551_A002358_T55HET_B01.jp2.aux.xml.\n",
      "2016-07-13 07:12:26,914 WARNING CPLE_AppDefined in Unable to save auxilary information in /home/simonaoliver/data/S2A_OPER_PRD_MSIL1C_PDMC_20151205T075851_R073_V20151205T001643_20151205T001643.SAFE/GRANULE/S2A_OPER_MSI_L1C_TL_SGS__20151205T065551_A002358_T55HET_N02.00/IMG_DATA/S2A_OPER_MSI_L1C_TL_SGS__20151205T065551_A002358_T55HET_B01.jp2.aux.xml.\n",
      "2016-07-13 07:12:31,658 WARNING CPLE_AppDefined in Unable to save auxilary information in /home/simonaoliver/data/S2A_OPER_PRD_MSIL1C_PDMC_20151205T075851_R073_V20151205T001643_20151205T001643.SAFE/GRANULE/S2A_OPER_MSI_L1C_TL_SGS__20151205T065551_A002358_T55HDT_N02.00/IMG_DATA/S2A_OPER_MSI_L1C_TL_SGS__20151205T065551_A002358_T55HDT_B01.jp2.aux.xml.\n",
      "2016-07-13 07:12:31,658 WARNING CPLE_AppDefined in Unable to save auxilary information in /home/simonaoliver/data/S2A_OPER_PRD_MSIL1C_PDMC_20151205T075851_R073_V20151205T001643_20151205T001643.SAFE/GRANULE/S2A_OPER_MSI_L1C_TL_SGS__20151205T065551_A002358_T55HDT_N02.00/IMG_DATA/S2A_OPER_MSI_L1C_TL_SGS__20151205T065551_A002358_T55HDT_B01.jp2.aux.xml.\n",
      "2016-07-13 07:12:31,659 WARNING CPLE_AppDefined in Unable to save auxilary information in /home/simonaoliver/data/S2A_OPER_PRD_MSIL1C_PDMC_20151205T075851_R073_V20151205T001643_20151205T001643.SAFE/GRANULE/S2A_OPER_MSI_L1C_TL_SGS__20151205T065551_A002358_T55HDT_N02.00/IMG_DATA/S2A_OPER_MSI_L1C_TL_SGS__20151205T065551_A002358_T55HDT_B01.jp2.aux.xml.\n",
      "2016-07-13 07:12:49,250 ERROR Task failed\n",
      "Traceback (most recent call last):\n",
      "  File \"/home/simonaoliver/venvs/agdc-v2/local/lib/python2.7/site-packages/datacube/scripts/ingest.py\", line 227, in process_tasks\n",
      "    datasets = executor.result(result)\n",
      "  File \"/home/simonaoliver/venvs/agdc-v2/local/lib/python2.7/site-packages/datacube/executor.py\", line 35, in result\n",
      "    return func(*args, **kwargs)\n",
      "  File \"/home/simonaoliver/venvs/agdc-v2/local/lib/python2.7/site-packages/datacube/scripts/ingest.py\", line 207, in ingest_work\n",
      "    datasets = xr_apply(sources, _make_dataset, dtype='O')\n",
      "  File \"/home/simonaoliver/venvs/agdc-v2/local/lib/python2.7/site-packages/datacube/model/utils.py\", line 167, in xr_apply\n",
      "    v = func(index, entry)\n",
      "  File \"/home/simonaoliver/venvs/agdc-v2/local/lib/python2.7/site-packages/datacube/scripts/ingest.py\", line 197, in _make_dataset\n",
      "    assert len(sources) == 1\n",
      "AssertionError\n",
      "2016-07-13 07:12:53,559 WARNING CPLE_AppDefined in Unable to save auxilary information in /home/simonaoliver/data/S2A_OPER_PRD_MSIL1C_PDMC_20151205T075851_R073_V20151205T001643_20151205T001643.SAFE/GRANULE/S2A_OPER_MSI_L1C_TL_SGS__20151205T065551_A002358_T55HET_N02.00/IMG_DATA/S2A_OPER_MSI_L1C_TL_SGS__20151205T065551_A002358_T55HET_B01.jp2.aux.xml.\n",
      "2016-07-13 07:12:53,559 WARNING CPLE_AppDefined in Unable to save auxilary information in /home/simonaoliver/data/S2A_OPER_PRD_MSIL1C_PDMC_20151205T075851_R073_V20151205T001643_20151205T001643.SAFE/GRANULE/S2A_OPER_MSI_L1C_TL_SGS__20151205T065551_A002358_T55HET_N02.00/IMG_DATA/S2A_OPER_MSI_L1C_TL_SGS__20151205T065551_A002358_T55HET_B01.jp2.aux.xml.\n",
      "2016-07-13 07:12:53,559 WARNING CPLE_AppDefined in Unable to save auxilary information in /home/simonaoliver/data/S2A_OPER_PRD_MSIL1C_PDMC_20151205T075851_R073_V20151205T001643_20151205T001643.SAFE/GRANULE/S2A_OPER_MSI_L1C_TL_SGS__20151205T065551_A002358_T55HET_N02.00/IMG_DATA/S2A_OPER_MSI_L1C_TL_SGS__20151205T065551_A002358_T55HET_B01.jp2.aux.xml.\n",
      "2016-07-13 07:12:57,822 WARNING CPLE_AppDefined in Unable to save auxilary information in /home/simonaoliver/data/S2A_OPER_PRD_MSIL1C_PDMC_20151205T075851_R073_V20151205T001643_20151205T001643.SAFE/GRANULE/S2A_OPER_MSI_L1C_TL_SGS__20151205T065551_A002358_T55HFT_N02.00/IMG_DATA/S2A_OPER_MSI_L1C_TL_SGS__20151205T065551_A002358_T55HFT_B01.jp2.aux.xml.\n",
      "2016-07-13 07:12:57,822 WARNING CPLE_AppDefined in Unable to save auxilary information in /home/simonaoliver/data/S2A_OPER_PRD_MSIL1C_PDMC_20151205T075851_R073_V20151205T001643_20151205T001643.SAFE/GRANULE/S2A_OPER_MSI_L1C_TL_SGS__20151205T065551_A002358_T55HFT_N02.00/IMG_DATA/S2A_OPER_MSI_L1C_TL_SGS__20151205T065551_A002358_T55HFT_B01.jp2.aux.xml.\n",
      "2016-07-13 07:12:57,822 WARNING CPLE_AppDefined in Unable to save auxilary information in /home/simonaoliver/data/S2A_OPER_PRD_MSIL1C_PDMC_20151205T075851_R073_V20151205T001643_20151205T001643.SAFE/GRANULE/S2A_OPER_MSI_L1C_TL_SGS__20151205T065551_A002358_T55HFT_N02.00/IMG_DATA/S2A_OPER_MSI_L1C_TL_SGS__20151205T065551_A002358_T55HFT_B01.jp2.aux.xml.\n",
      "2016-07-13 07:13:15,041 ERROR Task failed\n",
      "Traceback (most recent call last):\n",
      "  File \"/home/simonaoliver/venvs/agdc-v2/local/lib/python2.7/site-packages/datacube/scripts/ingest.py\", line 227, in process_tasks\n",
      "    datasets = executor.result(result)\n",
      "  File \"/home/simonaoliver/venvs/agdc-v2/local/lib/python2.7/site-packages/datacube/executor.py\", line 35, in result\n",
      "    return func(*args, **kwargs)\n",
      "  File \"/home/simonaoliver/venvs/agdc-v2/local/lib/python2.7/site-packages/datacube/scripts/ingest.py\", line 207, in ingest_work\n",
      "    datasets = xr_apply(sources, _make_dataset, dtype='O')\n",
      "  File \"/home/simonaoliver/venvs/agdc-v2/local/lib/python2.7/site-packages/datacube/model/utils.py\", line 167, in xr_apply\n",
      "    v = func(index, entry)\n",
      "  File \"/home/simonaoliver/venvs/agdc-v2/local/lib/python2.7/site-packages/datacube/scripts/ingest.py\", line 197, in _make_dataset\n",
      "    assert len(sources) == 1\n",
      "AssertionError\n",
      "2016-07-13 07:13:19,208 WARNING CPLE_AppDefined in Unable to save auxilary information in /home/simonaoliver/data/S2A_OPER_PRD_MSIL1C_PDMC_20151205T075851_R073_V20151205T001643_20151205T001643.SAFE/GRANULE/S2A_OPER_MSI_L1C_TL_SGS__20151205T065551_A002358_T55HCT_N02.00/IMG_DATA/S2A_OPER_MSI_L1C_TL_SGS__20151205T065551_A002358_T55HCT_B01.jp2.aux.xml.\n",
      "2016-07-13 07:13:19,208 WARNING CPLE_AppDefined in Unable to save auxilary information in /home/simonaoliver/data/S2A_OPER_PRD_MSIL1C_PDMC_20151205T075851_R073_V20151205T001643_20151205T001643.SAFE/GRANULE/S2A_OPER_MSI_L1C_TL_SGS__20151205T065551_A002358_T55HCT_N02.00/IMG_DATA/S2A_OPER_MSI_L1C_TL_SGS__20151205T065551_A002358_T55HCT_B01.jp2.aux.xml.\n",
      "2016-07-13 07:13:19,209 WARNING CPLE_AppDefined in Unable to save auxilary information in /home/simonaoliver/data/S2A_OPER_PRD_MSIL1C_PDMC_20151205T075851_R073_V20151205T001643_20151205T001643.SAFE/GRANULE/S2A_OPER_MSI_L1C_TL_SGS__20151205T065551_A002358_T55HCT_N02.00/IMG_DATA/S2A_OPER_MSI_L1C_TL_SGS__20151205T065551_A002358_T55HCT_B01.jp2.aux.xml.\n",
      "2016-07-13 07:13:23,500 WARNING CPLE_AppDefined in Unable to save auxilary information in /home/simonaoliver/data/S2A_OPER_PRD_MSIL1C_PDMC_20151205T075851_R073_V20151205T001643_20151205T001643.SAFE/GRANULE/S2A_OPER_MSI_L1C_TL_SGS__20151205T065551_A002358_T55HDT_N02.00/IMG_DATA/S2A_OPER_MSI_L1C_TL_SGS__20151205T065551_A002358_T55HDT_B01.jp2.aux.xml.\n",
      "2016-07-13 07:13:23,501 WARNING CPLE_AppDefined in Unable to save auxilary information in /home/simonaoliver/data/S2A_OPER_PRD_MSIL1C_PDMC_20151205T075851_R073_V20151205T001643_20151205T001643.SAFE/GRANULE/S2A_OPER_MSI_L1C_TL_SGS__20151205T065551_A002358_T55HDT_N02.00/IMG_DATA/S2A_OPER_MSI_L1C_TL_SGS__20151205T065551_A002358_T55HDT_B01.jp2.aux.xml.\n",
      "2016-07-13 07:13:23,501 WARNING CPLE_AppDefined in Unable to save auxilary information in /home/simonaoliver/data/S2A_OPER_PRD_MSIL1C_PDMC_20151205T075851_R073_V20151205T001643_20151205T001643.SAFE/GRANULE/S2A_OPER_MSI_L1C_TL_SGS__20151205T065551_A002358_T55HDT_N02.00/IMG_DATA/S2A_OPER_MSI_L1C_TL_SGS__20151205T065551_A002358_T55HDT_B01.jp2.aux.xml.\n",
      "2016-07-13 07:13:40,390 ERROR Task failed\n",
      "Traceback (most recent call last):\n",
      "  File \"/home/simonaoliver/venvs/agdc-v2/local/lib/python2.7/site-packages/datacube/scripts/ingest.py\", line 227, in process_tasks\n",
      "    datasets = executor.result(result)\n",
      "  File \"/home/simonaoliver/venvs/agdc-v2/local/lib/python2.7/site-packages/datacube/executor.py\", line 35, in result\n",
      "    return func(*args, **kwargs)\n",
      "  File \"/home/simonaoliver/venvs/agdc-v2/local/lib/python2.7/site-packages/datacube/scripts/ingest.py\", line 207, in ingest_work\n",
      "    datasets = xr_apply(sources, _make_dataset, dtype='O')\n",
      "  File \"/home/simonaoliver/venvs/agdc-v2/local/lib/python2.7/site-packages/datacube/model/utils.py\", line 167, in xr_apply\n",
      "    v = func(index, entry)\n",
      "  File \"/home/simonaoliver/venvs/agdc-v2/local/lib/python2.7/site-packages/datacube/scripts/ingest.py\", line 197, in _make_dataset\n",
      "    assert len(sources) == 1\n",
      "AssertionError\n",
      "2016-07-13 07:13:44,790 WARNING CPLE_AppDefined in Unable to save auxilary information in /home/simonaoliver/data/S2A_OPER_PRD_MSIL1C_PDMC_20151205T075851_R073_V20151205T001643_20151205T001643.SAFE/GRANULE/S2A_OPER_MSI_L1C_TL_SGS__20151205T065551_A002358_T55HET_N02.00/IMG_DATA/S2A_OPER_MSI_L1C_TL_SGS__20151205T065551_A002358_T55HET_B01.jp2.aux.xml.\n",
      "2016-07-13 07:13:44,790 WARNING CPLE_AppDefined in Unable to save auxilary information in /home/simonaoliver/data/S2A_OPER_PRD_MSIL1C_PDMC_20151205T075851_R073_V20151205T001643_20151205T001643.SAFE/GRANULE/S2A_OPER_MSI_L1C_TL_SGS__20151205T065551_A002358_T55HET_N02.00/IMG_DATA/S2A_OPER_MSI_L1C_TL_SGS__20151205T065551_A002358_T55HET_B01.jp2.aux.xml.\n",
      "2016-07-13 07:13:44,790 WARNING CPLE_AppDefined in Unable to save auxilary information in /home/simonaoliver/data/S2A_OPER_PRD_MSIL1C_PDMC_20151205T075851_R073_V20151205T001643_20151205T001643.SAFE/GRANULE/S2A_OPER_MSI_L1C_TL_SGS__20151205T065551_A002358_T55HET_N02.00/IMG_DATA/S2A_OPER_MSI_L1C_TL_SGS__20151205T065551_A002358_T55HET_B01.jp2.aux.xml.\n",
      "2016-07-13 07:13:48,894 WARNING CPLE_AppDefined in Unable to save auxilary information in /home/simonaoliver/data/S2A_OPER_PRD_MSIL1C_PDMC_20151205T075851_R073_V20151205T001643_20151205T001643.SAFE/GRANULE/S2A_OPER_MSI_L1C_TL_SGS__20151205T065551_A002358_T55HFT_N02.00/IMG_DATA/S2A_OPER_MSI_L1C_TL_SGS__20151205T065551_A002358_T55HFT_B01.jp2.aux.xml.\n",
      "2016-07-13 07:13:48,894 WARNING CPLE_AppDefined in Unable to save auxilary information in /home/simonaoliver/data/S2A_OPER_PRD_MSIL1C_PDMC_20151205T075851_R073_V20151205T001643_20151205T001643.SAFE/GRANULE/S2A_OPER_MSI_L1C_TL_SGS__20151205T065551_A002358_T55HFT_N02.00/IMG_DATA/S2A_OPER_MSI_L1C_TL_SGS__20151205T065551_A002358_T55HFT_B01.jp2.aux.xml.\n",
      "2016-07-13 07:13:48,894 WARNING CPLE_AppDefined in Unable to save auxilary information in /home/simonaoliver/data/S2A_OPER_PRD_MSIL1C_PDMC_20151205T075851_R073_V20151205T001643_20151205T001643.SAFE/GRANULE/S2A_OPER_MSI_L1C_TL_SGS__20151205T065551_A002358_T55HFT_N02.00/IMG_DATA/S2A_OPER_MSI_L1C_TL_SGS__20151205T065551_A002358_T55HFT_B01.jp2.aux.xml.\n",
      "2016-07-13 07:14:05,872 ERROR Task failed\n",
      "Traceback (most recent call last):\n",
      "  File \"/home/simonaoliver/venvs/agdc-v2/local/lib/python2.7/site-packages/datacube/scripts/ingest.py\", line 227, in process_tasks\n",
      "    datasets = executor.result(result)\n",
      "  File \"/home/simonaoliver/venvs/agdc-v2/local/lib/python2.7/site-packages/datacube/executor.py\", line 35, in result\n",
      "    return func(*args, **kwargs)\n",
      "  File \"/home/simonaoliver/venvs/agdc-v2/local/lib/python2.7/site-packages/datacube/scripts/ingest.py\", line 207, in ingest_work\n",
      "    datasets = xr_apply(sources, _make_dataset, dtype='O')\n",
      "  File \"/home/simonaoliver/venvs/agdc-v2/local/lib/python2.7/site-packages/datacube/model/utils.py\", line 167, in xr_apply\n",
      "    v = func(index, entry)\n",
      "  File \"/home/simonaoliver/venvs/agdc-v2/local/lib/python2.7/site-packages/datacube/scripts/ingest.py\", line 197, in _make_dataset\n",
      "    assert len(sources) == 1\n",
      "AssertionError\n",
      "2016-07-13 07:14:10,369 WARNING CPLE_AppDefined in Unable to save auxilary information in /home/simonaoliver/data/S2A_OPER_PRD_MSIL1C_PDMC_20151205T075851_R073_V20151205T001643_20151205T001643.SAFE/GRANULE/S2A_OPER_MSI_L1C_TL_SGS__20151205T065551_A002358_T55HCT_N02.00/IMG_DATA/S2A_OPER_MSI_L1C_TL_SGS__20151205T065551_A002358_T55HCT_B01.jp2.aux.xml.\n",
      "2016-07-13 07:14:10,369 WARNING CPLE_AppDefined in Unable to save auxilary information in /home/simonaoliver/data/S2A_OPER_PRD_MSIL1C_PDMC_20151205T075851_R073_V20151205T001643_20151205T001643.SAFE/GRANULE/S2A_OPER_MSI_L1C_TL_SGS__20151205T065551_A002358_T55HCT_N02.00/IMG_DATA/S2A_OPER_MSI_L1C_TL_SGS__20151205T065551_A002358_T55HCT_B01.jp2.aux.xml.\n",
      "2016-07-13 07:14:10,369 WARNING CPLE_AppDefined in Unable to save auxilary information in /home/simonaoliver/data/S2A_OPER_PRD_MSIL1C_PDMC_20151205T075851_R073_V20151205T001643_20151205T001643.SAFE/GRANULE/S2A_OPER_MSI_L1C_TL_SGS__20151205T065551_A002358_T55HCT_N02.00/IMG_DATA/S2A_OPER_MSI_L1C_TL_SGS__20151205T065551_A002358_T55HCT_B01.jp2.aux.xml.\n",
      "2016-07-13 07:14:14,999 WARNING CPLE_AppDefined in Unable to save auxilary information in /home/simonaoliver/data/S2A_OPER_PRD_MSIL1C_PDMC_20151205T075851_R073_V20151205T001643_20151205T001643.SAFE/GRANULE/S2A_OPER_MSI_L1C_TL_SGS__20151205T065551_A002358_T55HDT_N02.00/IMG_DATA/S2A_OPER_MSI_L1C_TL_SGS__20151205T065551_A002358_T55HDT_B01.jp2.aux.xml.\n",
      "2016-07-13 07:14:14,999 WARNING CPLE_AppDefined in Unable to save auxilary information in /home/simonaoliver/data/S2A_OPER_PRD_MSIL1C_PDMC_20151205T075851_R073_V20151205T001643_20151205T001643.SAFE/GRANULE/S2A_OPER_MSI_L1C_TL_SGS__20151205T065551_A002358_T55HDT_N02.00/IMG_DATA/S2A_OPER_MSI_L1C_TL_SGS__20151205T065551_A002358_T55HDT_B01.jp2.aux.xml.\n",
      "2016-07-13 07:14:14,999 WARNING CPLE_AppDefined in Unable to save auxilary information in /home/simonaoliver/data/S2A_OPER_PRD_MSIL1C_PDMC_20151205T075851_R073_V20151205T001643_20151205T001643.SAFE/GRANULE/S2A_OPER_MSI_L1C_TL_SGS__20151205T065551_A002358_T55HDT_N02.00/IMG_DATA/S2A_OPER_MSI_L1C_TL_SGS__20151205T065551_A002358_T55HDT_B01.jp2.aux.xml.\n",
      "2016-07-13 07:14:33,609 ERROR Task failed\n",
      "Traceback (most recent call last):\n",
      "  File \"/home/simonaoliver/venvs/agdc-v2/local/lib/python2.7/site-packages/datacube/scripts/ingest.py\", line 227, in process_tasks\n",
      "    datasets = executor.result(result)\n",
      "  File \"/home/simonaoliver/venvs/agdc-v2/local/lib/python2.7/site-packages/datacube/executor.py\", line 35, in result\n",
      "    return func(*args, **kwargs)\n",
      "  File \"/home/simonaoliver/venvs/agdc-v2/local/lib/python2.7/site-packages/datacube/scripts/ingest.py\", line 207, in ingest_work\n",
      "    datasets = xr_apply(sources, _make_dataset, dtype='O')\n",
      "  File \"/home/simonaoliver/venvs/agdc-v2/local/lib/python2.7/site-packages/datacube/model/utils.py\", line 167, in xr_apply\n",
      "    v = func(index, entry)\n",
      "  File \"/home/simonaoliver/venvs/agdc-v2/local/lib/python2.7/site-packages/datacube/scripts/ingest.py\", line 197, in _make_dataset\n",
      "    assert len(sources) == 1\n",
      "AssertionError\n",
      "1 successful, 6 failed\n"
     ]
    }
   ],
   "source": [
    "s2aingester60 = '/home/simonaoliver/code/agdc-v2/docs/config_samples/ingester/s2amsil1c_albers_60.yaml'\n",
    "!datacube -v ingest --config-file $s2aingester60"
   ]
  },
  {
   "cell_type": "code",
   "execution_count": 4,
   "metadata": {
    "collapsed": false
   },
   "outputs": [
    {
     "name": "stdout",
     "output_type": "stream",
     "text": [
      "2016-07-13 06:50:14,406 INFO Created DatasetType s2a_level1c_albers_10\n",
      "2016-07-13 06:50:15,940 INFO 7 tasks discovered\n",
      "2016-07-13 06:51:09,950 WARNING CPLE_AppDefined in Unable to save auxilary information in /home/simonaoliver/data/S2A_OPER_PRD_MSIL1C_PDMC_20151205T075851_R073_V20151205T001643_20151205T001643.SAFE/GRANULE/S2A_OPER_MSI_L1C_TL_SGS__20151205T065551_A002358_T55HET_N02.00/IMG_DATA/S2A_OPER_MSI_L1C_TL_SGS__20151205T065551_A002358_T55HET_B02.jp2.aux.xml.\n",
      "2016-07-13 06:51:09,950 WARNING CPLE_AppDefined in Unable to save auxilary information in /home/simonaoliver/data/S2A_OPER_PRD_MSIL1C_PDMC_20151205T075851_R073_V20151205T001643_20151205T001643.SAFE/GRANULE/S2A_OPER_MSI_L1C_TL_SGS__20151205T065551_A002358_T55HET_N02.00/IMG_DATA/S2A_OPER_MSI_L1C_TL_SGS__20151205T065551_A002358_T55HET_B02.jp2.aux.xml.\n",
      "2016-07-13 06:51:09,950 WARNING CPLE_AppDefined in Unable to save auxilary information in /home/simonaoliver/data/S2A_OPER_PRD_MSIL1C_PDMC_20151205T075851_R073_V20151205T001643_20151205T001643.SAFE/GRANULE/S2A_OPER_MSI_L1C_TL_SGS__20151205T065551_A002358_T55HET_N02.00/IMG_DATA/S2A_OPER_MSI_L1C_TL_SGS__20151205T065551_A002358_T55HET_B02.jp2.aux.xml.\n",
      "2016-07-13 06:51:09,951 WARNING CPLE_AppDefined in Unable to save auxilary information in /home/simonaoliver/data/S2A_OPER_PRD_MSIL1C_PDMC_20151205T075851_R073_V20151205T001643_20151205T001643.SAFE/GRANULE/S2A_OPER_MSI_L1C_TL_SGS__20151205T065551_A002358_T55HET_N02.00/IMG_DATA/S2A_OPER_MSI_L1C_TL_SGS__20151205T065551_A002358_T55HET_B02.jp2.aux.xml.\n",
      "2016-07-13 06:54:16,100 WARNING CPLE_AppDefined in Unable to save auxilary information in /home/simonaoliver/data/S2A_OPER_PRD_MSIL1C_PDMC_20151205T075851_R073_V20151205T001643_20151205T001643.SAFE/GRANULE/S2A_OPER_MSI_L1C_TL_SGS__20151205T065551_A002358_T55HET_N02.00/IMG_DATA/S2A_OPER_MSI_L1C_TL_SGS__20151205T065551_A002358_T55HET_B03.jp2.aux.xml.\n",
      "2016-07-13 06:54:16,101 WARNING CPLE_AppDefined in Unable to save auxilary information in /home/simonaoliver/data/S2A_OPER_PRD_MSIL1C_PDMC_20151205T075851_R073_V20151205T001643_20151205T001643.SAFE/GRANULE/S2A_OPER_MSI_L1C_TL_SGS__20151205T065551_A002358_T55HET_N02.00/IMG_DATA/S2A_OPER_MSI_L1C_TL_SGS__20151205T065551_A002358_T55HET_B03.jp2.aux.xml.\n",
      "2016-07-13 06:54:16,101 WARNING CPLE_AppDefined in Unable to save auxilary information in /home/simonaoliver/data/S2A_OPER_PRD_MSIL1C_PDMC_20151205T075851_R073_V20151205T001643_20151205T001643.SAFE/GRANULE/S2A_OPER_MSI_L1C_TL_SGS__20151205T065551_A002358_T55HET_N02.00/IMG_DATA/S2A_OPER_MSI_L1C_TL_SGS__20151205T065551_A002358_T55HET_B03.jp2.aux.xml.\n",
      "2016-07-13 06:54:16,101 WARNING CPLE_AppDefined in Unable to save auxilary information in /home/simonaoliver/data/S2A_OPER_PRD_MSIL1C_PDMC_20151205T075851_R073_V20151205T001643_20151205T001643.SAFE/GRANULE/S2A_OPER_MSI_L1C_TL_SGS__20151205T065551_A002358_T55HET_N02.00/IMG_DATA/S2A_OPER_MSI_L1C_TL_SGS__20151205T065551_A002358_T55HET_B03.jp2.aux.xml.\n",
      "2016-07-13 06:56:29,402 WARNING CPLE_AppDefined in Unable to save auxilary information in /home/simonaoliver/data/S2A_OPER_PRD_MSIL1C_PDMC_20151205T075851_R073_V20151205T001643_20151205T001643.SAFE/GRANULE/S2A_OPER_MSI_L1C_TL_SGS__20151205T065551_A002358_T55HDT_N02.00/IMG_DATA/S2A_OPER_MSI_L1C_TL_SGS__20151205T065551_A002358_T55HDT_B03.jp2.aux.xml.\n",
      "2016-07-13 06:56:29,402 WARNING CPLE_AppDefined in Unable to save auxilary information in /home/simonaoliver/data/S2A_OPER_PRD_MSIL1C_PDMC_20151205T075851_R073_V20151205T001643_20151205T001643.SAFE/GRANULE/S2A_OPER_MSI_L1C_TL_SGS__20151205T065551_A002358_T55HDT_N02.00/IMG_DATA/S2A_OPER_MSI_L1C_TL_SGS__20151205T065551_A002358_T55HDT_B03.jp2.aux.xml.\n",
      "2016-07-13 06:56:29,403 WARNING CPLE_AppDefined in Unable to save auxilary information in /home/simonaoliver/data/S2A_OPER_PRD_MSIL1C_PDMC_20151205T075851_R073_V20151205T001643_20151205T001643.SAFE/GRANULE/S2A_OPER_MSI_L1C_TL_SGS__20151205T065551_A002358_T55HDT_N02.00/IMG_DATA/S2A_OPER_MSI_L1C_TL_SGS__20151205T065551_A002358_T55HDT_B03.jp2.aux.xml.\n",
      "2016-07-13 06:56:29,403 WARNING CPLE_AppDefined in Unable to save auxilary information in /home/simonaoliver/data/S2A_OPER_PRD_MSIL1C_PDMC_20151205T075851_R073_V20151205T001643_20151205T001643.SAFE/GRANULE/S2A_OPER_MSI_L1C_TL_SGS__20151205T065551_A002358_T55HDT_N02.00/IMG_DATA/S2A_OPER_MSI_L1C_TL_SGS__20151205T065551_A002358_T55HDT_B03.jp2.aux.xml.\n",
      "2016-07-13 06:57:24,064 WARNING CPLE_AppDefined in Unable to save auxilary information in /home/simonaoliver/data/S2A_OPER_PRD_MSIL1C_PDMC_20151205T075851_R073_V20151205T001643_20151205T001643.SAFE/GRANULE/S2A_OPER_MSI_L1C_TL_SGS__20151205T065551_A002358_T55HET_N02.00/IMG_DATA/S2A_OPER_MSI_L1C_TL_SGS__20151205T065551_A002358_T55HET_B04.jp2.aux.xml.\n",
      "2016-07-13 06:57:24,065 WARNING CPLE_AppDefined in Unable to save auxilary information in /home/simonaoliver/data/S2A_OPER_PRD_MSIL1C_PDMC_20151205T075851_R073_V20151205T001643_20151205T001643.SAFE/GRANULE/S2A_OPER_MSI_L1C_TL_SGS__20151205T065551_A002358_T55HET_N02.00/IMG_DATA/S2A_OPER_MSI_L1C_TL_SGS__20151205T065551_A002358_T55HET_B04.jp2.aux.xml.\n",
      "2016-07-13 06:57:24,065 WARNING CPLE_AppDefined in Unable to save auxilary information in /home/simonaoliver/data/S2A_OPER_PRD_MSIL1C_PDMC_20151205T075851_R073_V20151205T001643_20151205T001643.SAFE/GRANULE/S2A_OPER_MSI_L1C_TL_SGS__20151205T065551_A002358_T55HET_N02.00/IMG_DATA/S2A_OPER_MSI_L1C_TL_SGS__20151205T065551_A002358_T55HET_B04.jp2.aux.xml.\n",
      "2016-07-13 06:57:24,065 WARNING CPLE_AppDefined in Unable to save auxilary information in /home/simonaoliver/data/S2A_OPER_PRD_MSIL1C_PDMC_20151205T075851_R073_V20151205T001643_20151205T001643.SAFE/GRANULE/S2A_OPER_MSI_L1C_TL_SGS__20151205T065551_A002358_T55HET_N02.00/IMG_DATA/S2A_OPER_MSI_L1C_TL_SGS__20151205T065551_A002358_T55HET_B04.jp2.aux.xml.\n",
      "^C\n",
      "2016-07-13 06:57:48,886 INFO Created DatasetType s2a_level1c_albers_20\n",
      "2016-07-13 06:57:50,455 INFO 7 tasks discovered\n",
      "2016-07-13 06:58:24,677 WARNING CPLE_AppDefined in Unable to save auxilary information in /home/simonaoliver/data/S2A_OPER_PRD_MSIL1C_PDMC_20151205T075851_R073_V20151205T001643_20151205T001643.SAFE/GRANULE/S2A_OPER_MSI_L1C_TL_SGS__20151205T065551_A002358_T55HET_N02.00/IMG_DATA/S2A_OPER_MSI_L1C_TL_SGS__20151205T065551_A002358_T55HET_B05.jp2.aux.xml.\n",
      "2016-07-13 06:58:24,677 WARNING CPLE_AppDefined in Unable to save auxilary information in /home/simonaoliver/data/S2A_OPER_PRD_MSIL1C_PDMC_20151205T075851_R073_V20151205T001643_20151205T001643.SAFE/GRANULE/S2A_OPER_MSI_L1C_TL_SGS__20151205T065551_A002358_T55HET_N02.00/IMG_DATA/S2A_OPER_MSI_L1C_TL_SGS__20151205T065551_A002358_T55HET_B05.jp2.aux.xml.\n",
      "2016-07-13 06:58:24,677 WARNING CPLE_AppDefined in Unable to save auxilary information in /home/simonaoliver/data/S2A_OPER_PRD_MSIL1C_PDMC_20151205T075851_R073_V20151205T001643_20151205T001643.SAFE/GRANULE/S2A_OPER_MSI_L1C_TL_SGS__20151205T065551_A002358_T55HET_N02.00/IMG_DATA/S2A_OPER_MSI_L1C_TL_SGS__20151205T065551_A002358_T55HET_B05.jp2.aux.xml.\n",
      "2016-07-13 06:58:24,677 WARNING CPLE_AppDefined in Unable to save auxilary information in /home/simonaoliver/data/S2A_OPER_PRD_MSIL1C_PDMC_20151205T075851_R073_V20151205T001643_20151205T001643.SAFE/GRANULE/S2A_OPER_MSI_L1C_TL_SGS__20151205T065551_A002358_T55HET_N02.00/IMG_DATA/S2A_OPER_MSI_L1C_TL_SGS__20151205T065551_A002358_T55HET_B05.jp2.aux.xml.\n",
      "2016-07-13 06:59:00,750 WARNING CPLE_AppDefined in Unable to save auxilary information in /home/simonaoliver/data/S2A_OPER_PRD_MSIL1C_PDMC_20151205T075851_R073_V20151205T001643_20151205T001643.SAFE/GRANULE/S2A_OPER_MSI_L1C_TL_SGS__20151205T065551_A002358_T55HDT_N02.00/IMG_DATA/S2A_OPER_MSI_L1C_TL_SGS__20151205T065551_A002358_T55HDT_B05.jp2.aux.xml.\n",
      "2016-07-13 06:59:00,750 WARNING CPLE_AppDefined in Unable to save auxilary information in /home/simonaoliver/data/S2A_OPER_PRD_MSIL1C_PDMC_20151205T075851_R073_V20151205T001643_20151205T001643.SAFE/GRANULE/S2A_OPER_MSI_L1C_TL_SGS__20151205T065551_A002358_T55HDT_N02.00/IMG_DATA/S2A_OPER_MSI_L1C_TL_SGS__20151205T065551_A002358_T55HDT_B05.jp2.aux.xml.\n",
      "2016-07-13 06:59:00,750 WARNING CPLE_AppDefined in Unable to save auxilary information in /home/simonaoliver/data/S2A_OPER_PRD_MSIL1C_PDMC_20151205T075851_R073_V20151205T001643_20151205T001643.SAFE/GRANULE/S2A_OPER_MSI_L1C_TL_SGS__20151205T065551_A002358_T55HDT_N02.00/IMG_DATA/S2A_OPER_MSI_L1C_TL_SGS__20151205T065551_A002358_T55HDT_B05.jp2.aux.xml.\n",
      "2016-07-13 06:59:00,750 WARNING CPLE_AppDefined in Unable to save auxilary information in /home/simonaoliver/data/S2A_OPER_PRD_MSIL1C_PDMC_20151205T075851_R073_V20151205T001643_20151205T001643.SAFE/GRANULE/S2A_OPER_MSI_L1C_TL_SGS__20151205T065551_A002358_T55HDT_N02.00/IMG_DATA/S2A_OPER_MSI_L1C_TL_SGS__20151205T065551_A002358_T55HDT_B05.jp2.aux.xml.\n",
      "^C\n"
     ]
    }
   ],
   "source": [
    "s2aingester10 = '/home/simonaoliver/code/agdc-v2/docs/config_samples/ingester/s2amsil1c_albers_10.yaml'\n",
    "!datacube -v ingest --config-file $s2aingester10\n",
    "s2aingester20 = '/home/simonaoliver/code/agdc-v2/docs/config_samples/ingester/s2amsil1c_albers_20.yaml'\n",
    "!datacube -v ingest --config-file $s2aingester20"
   ]
  },
  {
   "cell_type": "code",
   "execution_count": 12,
   "metadata": {
    "collapsed": false,
    "scrolled": false
   },
   "outputs": [
    {
     "name": "stdout",
     "output_type": "stream",
     "text": [
      "2016-07-04 23:14:56,424 INFO Matched Dataset <id=f2de604b-f3df-4fed-a82e-a0be6559e748 type=ls5_ledaps_scene location=/media/simonaoliver/datacube/input/USGS_LandsatLEDAPS/LT50960852011290-SC20160211221617/agdc-metadata.yaml>\r\n",
      "2016-07-04 23:14:56,424 INFO Indexing f2de604b-f3df-4fed-a82e-a0be6559e748\r\n"
     ]
    }
   ],
   "source": [
    "!datacube -v dataset add $ls5ledapsscene --auto-match "
   ]
  },
  {
   "cell_type": "code",
   "execution_count": 13,
   "metadata": {
    "collapsed": false
   },
   "outputs": [
    {
     "name": "stdout",
     "output_type": "stream",
     "text": [
      "2016-07-04 23:14:58,164 INFO Matched Dataset <id=dc0e97f8-e1e0-424f-9e62-6ab9e43d69f4 type=ls7_ledaps_scene location=/media/simonaoliver/datacube/input/USGS_LandsatLEDAPS/LE70960852016024-SC20160211221824/agdc-metadata.yaml>\r\n",
      "2016-07-04 23:14:58,164 INFO Indexing dc0e97f8-e1e0-424f-9e62-6ab9e43d69f4\r\n"
     ]
    }
   ],
   "source": [
    "!datacube -v dataset add $ls7ledapsscene --auto-match "
   ]
  },
  {
   "cell_type": "code",
   "execution_count": 14,
   "metadata": {
    "collapsed": false
   },
   "outputs": [
    {
     "name": "stdout",
     "output_type": "stream",
     "text": [
      "2016-07-04 23:15:00,064 INFO Matched Dataset <id=96653cc8-2e77-47d4-856b-5e7d9f5a0ea7 type=ls8_ledaps_scene location=/media/simonaoliver/datacube/input/USGS_LandsatLEDAPS/LC80960852015365-SC20160211222236/agdc-metadata.yaml>\r\n",
      "2016-07-04 23:15:00,065 INFO Indexing 96653cc8-2e77-47d4-856b-5e7d9f5a0ea7\r\n"
     ]
    }
   ],
   "source": [
    "!datacube -v dataset add $ls8ledapsscene --auto-match "
   ]
  },
  {
   "cell_type": "code",
   "execution_count": 15,
   "metadata": {
    "collapsed": false,
    "scrolled": true
   },
   "outputs": [
    {
     "name": "stdout",
     "output_type": "stream",
     "text": [
      "2016-07-04 23:15:01,065 INFO Created DatasetType ls5_ledaps_albers\n",
      "2016-07-04 23:15:02,756 INFO 9 tasks discovered\n",
      "2016-07-04 23:18:35,840 INFO Indexing 383e4af0-9133-4475-95b4-dd4a85003458\n",
      "2016-07-04 23:22:05,129 INFO Indexing 578a166c-d8de-45ee-b282-670a69a21e8c\n",
      "2016-07-04 23:25:27,889 INFO Indexing ff38f69f-d323-4e86-9488-d1f79cc9de37\n",
      "2016-07-04 23:28:49,518 INFO Indexing 6d483001-7d78-45b3-8cc0-7684205d2c28\n",
      "2016-07-04 23:32:15,042 INFO Indexing 1dfcb635-587b-4a81-91ba-b87034b334fc\n",
      "2016-07-04 23:35:29,543 INFO Indexing 951dd3c5-bf14-48f8-845d-116bc2c6f4a2\n",
      "2016-07-04 23:38:50,968 INFO Indexing 249c56c7-97fa-4593-af5d-24ecdb6cab1d\n",
      "2016-07-04 23:42:06,797 INFO Indexing 1c4aaf6c-508b-4566-aae5-76a841b04a84\n",
      "2016-07-04 23:45:32,793 INFO Indexing 37900a1e-d5ee-444b-8408-72d325e5a13e\n",
      "9 successful, 0 failed\n"
     ]
    }
   ],
   "source": [
    "ls5ledapsingester = '/home/simonaoliver/code/agdc-v2/docs/config_samples/ingester/ls5_ledaps_albers.yaml'\n",
    "!datacube -v ingest --config-file $ls5ledapsingester"
   ]
  },
  {
   "cell_type": "code",
   "execution_count": 16,
   "metadata": {
    "collapsed": false
   },
   "outputs": [
    {
     "name": "stdout",
     "output_type": "stream",
     "text": [
      "2016-07-04 23:45:33,802 INFO Created DatasetType ls7_ledaps_albers\n",
      "2016-07-04 23:45:35,734 INFO 9 tasks discovered\n",
      "2016-07-04 23:49:08,566 INFO Indexing 59125598-1046-4dfa-b123-ddf65e01cd1e\n",
      "2016-07-04 23:52:42,730 INFO Indexing b7a2f462-298b-4a0a-b4b9-8f22933d8da6\n",
      "2016-07-04 23:56:08,736 INFO Indexing 2f4ac0d6-9e39-4780-a61d-1b24f6e6997d\n",
      "2016-07-04 23:59:31,648 INFO Indexing 7ee5aca9-2ebc-46f3-98a2-32ba40a0e643\n",
      "2016-07-05 00:03:02,334 INFO Indexing 7e373262-beee-4fc3-8f18-29f65a2e7af1\n",
      "2016-07-05 00:06:19,820 INFO Indexing 43f500f8-a44b-47a5-8e4b-d4652ce25cb0\n",
      "2016-07-05 00:09:44,688 INFO Indexing 0ac9cba2-78fa-4005-b79b-9cb3e2fc9da3\n",
      "2016-07-05 00:13:01,102 INFO Indexing 2f6c8312-441a-4a43-a924-d7369e65e8c1\n",
      "2016-07-05 00:16:29,170 INFO Indexing 89584900-cf3d-4b1e-8c3d-2072cc90308a\n",
      "9 successful, 0 failed\n"
     ]
    }
   ],
   "source": [
    "ls7ledapsingester = '/home/simonaoliver/code/agdc-v2/docs/config_samples/ingester/ls7_ledaps_albers.yaml'\n",
    "!datacube -v ingest --config-file $ls7ledapsingester"
   ]
  },
  {
   "cell_type": "code",
   "execution_count": 17,
   "metadata": {
    "collapsed": false
   },
   "outputs": [
    {
     "name": "stdout",
     "output_type": "stream",
     "text": [
      "2016-07-05 00:16:30,655 INFO Created DatasetType ls8_ledaps_albers\n",
      "2016-07-05 00:16:32,461 INFO 9 tasks discovered\n",
      "2016-07-05 00:18:51,019 INFO Indexing aa1f8de4-d6fc-4148-8060-3059490e01fa\n",
      "2016-07-05 00:21:05,823 INFO Indexing b0c92e54-8fec-4f5f-9694-b146aa099bb0\n",
      "2016-07-05 00:23:15,377 INFO Indexing d64b12dd-df9c-4c67-b0ba-96c5bf52dc31\n",
      "2016-07-05 00:25:25,421 INFO Indexing 900af16c-88ad-4845-abe6-ad250b45fe41\n",
      "2016-07-05 00:27:39,311 INFO Indexing 4b4449f5-d721-4bea-8d99-e3cd2dceb050\n",
      "2016-07-05 00:29:41,943 INFO Indexing 00d5964f-be3a-4838-b20c-9b1e68fdbd79\n",
      "2016-07-05 00:31:49,697 INFO Indexing 4b02b9d4-0c0d-43d3-8575-f5dac1549eac\n",
      "2016-07-05 00:33:53,949 INFO Indexing 6560a78b-2471-446c-a94e-17782e8a7b62\n",
      "2016-07-05 00:36:07,920 INFO Indexing 5e45f6fb-a5df-4163-8398-e85a68ef1cc5\n",
      "9 successful, 0 failed\n"
     ]
    }
   ],
   "source": [
    "ls8ledapsingester = '/home/simonaoliver/code/agdc-v2/docs/config_samples/ingester/ls8_ledaps_albers.yaml'\n",
    "!datacube -v ingest --config-file $ls8ledapsingester"
   ]
  },
  {
   "cell_type": "code",
   "execution_count": 18,
   "metadata": {
    "collapsed": false
   },
   "outputs": [
    {
     "name": "stdout",
     "output_type": "stream",
     "text": [
      "2016-07-05 00:36:10,247 INFO Matched Dataset <id=9da168f8-309c-11e6-a5e8-a0000100fe80 type=ls7_nbar_scene location=/media/simonaoliver/datacube/input/GA_v2_LandsatNBAR/LS7_ETM_NBAR_P54_GANBAR01-002_090_084_20151212/ga-metadata.yaml>\r\n",
      "2016-07-05 00:36:10,248 INFO Indexing b0fd1a2e-e159-11e5-8551-ac162d791418\r\n",
      "2016-07-05 00:36:10,254 INFO Indexing 0fe48314-299f-11e6-b1c7-a0000100fe80\r\n",
      "2016-07-05 00:36:10,261 INFO Indexing 9da168f8-309c-11e6-a5e8-a0000100fe80\r\n"
     ]
    }
   ],
   "source": [
    "#import os \n",
    "#for item in [nbarscenes,nbartscenes]:\n",
    "#    for x in os.listdir(item):\n",
    "#        inputscene = os.path.join(item,x,\"ga-metadata.yaml\")\n",
    "#        #!datacube -v index --match-rules $matchrules $inputscene\n",
    "#        !datacube -v dataset add $inputscene --auto-match \n",
    "!datacube -v dataset add $nbarscenes --auto-match "
   ]
  },
  {
   "cell_type": "code",
   "execution_count": 19,
   "metadata": {
    "collapsed": false
   },
   "outputs": [
    {
     "name": "stdout",
     "output_type": "stream",
     "text": [
      "2016-07-05 00:36:11,157 INFO Created DatasetType ls7_nbar_albers\n",
      "2016-07-05 00:36:12,875 INFO 10 tasks discovered\n",
      "2016-07-05 00:37:31,943 ERROR Task failed\n",
      "Traceback (most recent call last):\n",
      "  File \"/home/simonaoliver/venvs/agdc-v2/local/lib/python2.7/site-packages/datacube/scripts/ingest.py\", line 225, in process_tasks\n",
      "    datasets = executor.result(result)\n",
      "  File \"/home/simonaoliver/venvs/agdc-v2/local/lib/python2.7/site-packages/datacube/executor.py\", line 35, in result\n",
      "    return func(*args, **kwargs)\n",
      "  File \"/home/simonaoliver/venvs/agdc-v2/local/lib/python2.7/site-packages/datacube/scripts/ingest.py\", line 208, in ingest_work\n",
      "    write_dataset_to_netcdf(nudata, global_attributes, variable_params, file_path)\n",
      "  File \"/home/simonaoliver/venvs/agdc-v2/local/lib/python2.7/site-packages/datacube/storage/storage.py\", line 212, in write_dataset_to_netcdf\n",
      "    raise RuntimeError('Storage Unit already exists: %s' % filename)\n",
      "RuntimeError: Storage Unit already exists: c:\\datacube\\/LS7_ETM_NBAR/LS7_ETM_NBAR_3577_16_-39_20151212235112000000.nc\n",
      "2016-07-05 00:38:46,131 ERROR Task failed\n",
      "Traceback (most recent call last):\n",
      "  File \"/home/simonaoliver/venvs/agdc-v2/local/lib/python2.7/site-packages/datacube/scripts/ingest.py\", line 225, in process_tasks\n",
      "    datasets = executor.result(result)\n",
      "  File \"/home/simonaoliver/venvs/agdc-v2/local/lib/python2.7/site-packages/datacube/executor.py\", line 35, in result\n",
      "    return func(*args, **kwargs)\n",
      "  File \"/home/simonaoliver/venvs/agdc-v2/local/lib/python2.7/site-packages/datacube/scripts/ingest.py\", line 208, in ingest_work\n",
      "    write_dataset_to_netcdf(nudata, global_attributes, variable_params, file_path)\n",
      "  File \"/home/simonaoliver/venvs/agdc-v2/local/lib/python2.7/site-packages/datacube/storage/storage.py\", line 212, in write_dataset_to_netcdf\n",
      "    raise RuntimeError('Storage Unit already exists: %s' % filename)\n",
      "RuntimeError: Storage Unit already exists: c:\\datacube\\/LS7_ETM_NBAR/LS7_ETM_NBAR_3577_16_-41_20151212235112000000.nc\n",
      "2016-07-05 00:40:03,172 ERROR Task failed\n",
      "Traceback (most recent call last):\n",
      "  File \"/home/simonaoliver/venvs/agdc-v2/local/lib/python2.7/site-packages/datacube/scripts/ingest.py\", line 225, in process_tasks\n",
      "    datasets = executor.result(result)\n",
      "  File \"/home/simonaoliver/venvs/agdc-v2/local/lib/python2.7/site-packages/datacube/executor.py\", line 35, in result\n",
      "    return func(*args, **kwargs)\n",
      "  File \"/home/simonaoliver/venvs/agdc-v2/local/lib/python2.7/site-packages/datacube/scripts/ingest.py\", line 208, in ingest_work\n",
      "    write_dataset_to_netcdf(nudata, global_attributes, variable_params, file_path)\n",
      "  File \"/home/simonaoliver/venvs/agdc-v2/local/lib/python2.7/site-packages/datacube/storage/storage.py\", line 212, in write_dataset_to_netcdf\n",
      "    raise RuntimeError('Storage Unit already exists: %s' % filename)\n",
      "RuntimeError: Storage Unit already exists: c:\\datacube\\/LS7_ETM_NBAR/LS7_ETM_NBAR_3577_15_-40_20151212235112000000.nc\n",
      "2016-07-05 00:41:20,313 ERROR Task failed\n",
      "Traceback (most recent call last):\n",
      "  File \"/home/simonaoliver/venvs/agdc-v2/local/lib/python2.7/site-packages/datacube/scripts/ingest.py\", line 225, in process_tasks\n",
      "    datasets = executor.result(result)\n",
      "  File \"/home/simonaoliver/venvs/agdc-v2/local/lib/python2.7/site-packages/datacube/executor.py\", line 35, in result\n",
      "    return func(*args, **kwargs)\n",
      "  File \"/home/simonaoliver/venvs/agdc-v2/local/lib/python2.7/site-packages/datacube/scripts/ingest.py\", line 208, in ingest_work\n",
      "    write_dataset_to_netcdf(nudata, global_attributes, variable_params, file_path)\n",
      "  File \"/home/simonaoliver/venvs/agdc-v2/local/lib/python2.7/site-packages/datacube/storage/storage.py\", line 212, in write_dataset_to_netcdf\n",
      "    raise RuntimeError('Storage Unit already exists: %s' % filename)\n",
      "RuntimeError: Storage Unit already exists: c:\\datacube\\/LS7_ETM_NBAR/LS7_ETM_NBAR_3577_17_-39_20151212235112000000.nc\n",
      "2016-07-05 00:42:35,657 ERROR Task failed\n",
      "Traceback (most recent call last):\n",
      "  File \"/home/simonaoliver/venvs/agdc-v2/local/lib/python2.7/site-packages/datacube/scripts/ingest.py\", line 225, in process_tasks\n",
      "    datasets = executor.result(result)\n",
      "  File \"/home/simonaoliver/venvs/agdc-v2/local/lib/python2.7/site-packages/datacube/executor.py\", line 35, in result\n",
      "    return func(*args, **kwargs)\n",
      "  File \"/home/simonaoliver/venvs/agdc-v2/local/lib/python2.7/site-packages/datacube/scripts/ingest.py\", line 208, in ingest_work\n",
      "    write_dataset_to_netcdf(nudata, global_attributes, variable_params, file_path)\n",
      "  File \"/home/simonaoliver/venvs/agdc-v2/local/lib/python2.7/site-packages/datacube/storage/storage.py\", line 212, in write_dataset_to_netcdf\n",
      "    raise RuntimeError('Storage Unit already exists: %s' % filename)\n",
      "RuntimeError: Storage Unit already exists: c:\\datacube\\/LS7_ETM_NBAR/LS7_ETM_NBAR_3577_17_-40_20151212235112000000.nc\n",
      "2016-07-05 00:43:49,585 ERROR Task failed\n",
      "Traceback (most recent call last):\n",
      "  File \"/home/simonaoliver/venvs/agdc-v2/local/lib/python2.7/site-packages/datacube/scripts/ingest.py\", line 225, in process_tasks\n",
      "    datasets = executor.result(result)\n",
      "  File \"/home/simonaoliver/venvs/agdc-v2/local/lib/python2.7/site-packages/datacube/executor.py\", line 35, in result\n",
      "    return func(*args, **kwargs)\n",
      "  File \"/home/simonaoliver/venvs/agdc-v2/local/lib/python2.7/site-packages/datacube/scripts/ingest.py\", line 208, in ingest_work\n",
      "    write_dataset_to_netcdf(nudata, global_attributes, variable_params, file_path)\n",
      "  File \"/home/simonaoliver/venvs/agdc-v2/local/lib/python2.7/site-packages/datacube/storage/storage.py\", line 212, in write_dataset_to_netcdf\n",
      "    raise RuntimeError('Storage Unit already exists: %s' % filename)\n",
      "RuntimeError: Storage Unit already exists: c:\\datacube\\/LS7_ETM_NBAR/LS7_ETM_NBAR_3577_14_-40_20151212235112000000.nc\n",
      "2016-07-05 00:45:02,250 ERROR Task failed\n",
      "Traceback (most recent call last):\n",
      "  File \"/home/simonaoliver/venvs/agdc-v2/local/lib/python2.7/site-packages/datacube/scripts/ingest.py\", line 225, in process_tasks\n",
      "    datasets = executor.result(result)\n",
      "  File \"/home/simonaoliver/venvs/agdc-v2/local/lib/python2.7/site-packages/datacube/executor.py\", line 35, in result\n",
      "    return func(*args, **kwargs)\n",
      "  File \"/home/simonaoliver/venvs/agdc-v2/local/lib/python2.7/site-packages/datacube/scripts/ingest.py\", line 208, in ingest_work\n",
      "    write_dataset_to_netcdf(nudata, global_attributes, variable_params, file_path)\n",
      "  File \"/home/simonaoliver/venvs/agdc-v2/local/lib/python2.7/site-packages/datacube/storage/storage.py\", line 212, in write_dataset_to_netcdf\n",
      "    raise RuntimeError('Storage Unit already exists: %s' % filename)\n",
      "RuntimeError: Storage Unit already exists: c:\\datacube\\/LS7_ETM_NBAR/LS7_ETM_NBAR_3577_15_-38_20151212235112000000.nc\n",
      "2016-07-05 00:46:14,064 ERROR Task failed\n",
      "Traceback (most recent call last):\n",
      "  File \"/home/simonaoliver/venvs/agdc-v2/local/lib/python2.7/site-packages/datacube/scripts/ingest.py\", line 225, in process_tasks\n",
      "    datasets = executor.result(result)\n",
      "  File \"/home/simonaoliver/venvs/agdc-v2/local/lib/python2.7/site-packages/datacube/executor.py\", line 35, in result\n",
      "    return func(*args, **kwargs)\n",
      "  File \"/home/simonaoliver/venvs/agdc-v2/local/lib/python2.7/site-packages/datacube/scripts/ingest.py\", line 208, in ingest_work\n",
      "    write_dataset_to_netcdf(nudata, global_attributes, variable_params, file_path)\n",
      "  File \"/home/simonaoliver/venvs/agdc-v2/local/lib/python2.7/site-packages/datacube/storage/storage.py\", line 212, in write_dataset_to_netcdf\n",
      "    raise RuntimeError('Storage Unit already exists: %s' % filename)\n",
      "RuntimeError: Storage Unit already exists: c:\\datacube\\/LS7_ETM_NBAR/LS7_ETM_NBAR_3577_16_-38_20151212235112000000.nc\n",
      "2016-07-05 00:47:30,025 ERROR Task failed\n",
      "Traceback (most recent call last):\n",
      "  File \"/home/simonaoliver/venvs/agdc-v2/local/lib/python2.7/site-packages/datacube/scripts/ingest.py\", line 225, in process_tasks\n",
      "    datasets = executor.result(result)\n",
      "  File \"/home/simonaoliver/venvs/agdc-v2/local/lib/python2.7/site-packages/datacube/executor.py\", line 35, in result\n",
      "    return func(*args, **kwargs)\n",
      "  File \"/home/simonaoliver/venvs/agdc-v2/local/lib/python2.7/site-packages/datacube/scripts/ingest.py\", line 208, in ingest_work\n",
      "    write_dataset_to_netcdf(nudata, global_attributes, variable_params, file_path)\n",
      "  File \"/home/simonaoliver/venvs/agdc-v2/local/lib/python2.7/site-packages/datacube/storage/storage.py\", line 212, in write_dataset_to_netcdf\n",
      "    raise RuntimeError('Storage Unit already exists: %s' % filename)\n",
      "RuntimeError: Storage Unit already exists: c:\\datacube\\/LS7_ETM_NBAR/LS7_ETM_NBAR_3577_16_-40_20151212235112000000.nc\n",
      "2016-07-05 00:48:46,843 ERROR Task failed\n",
      "Traceback (most recent call last):\n",
      "  File \"/home/simonaoliver/venvs/agdc-v2/local/lib/python2.7/site-packages/datacube/scripts/ingest.py\", line 225, in process_tasks\n",
      "    datasets = executor.result(result)\n",
      "  File \"/home/simonaoliver/venvs/agdc-v2/local/lib/python2.7/site-packages/datacube/executor.py\", line 35, in result\n",
      "    return func(*args, **kwargs)\n",
      "  File \"/home/simonaoliver/venvs/agdc-v2/local/lib/python2.7/site-packages/datacube/scripts/ingest.py\", line 208, in ingest_work\n",
      "    write_dataset_to_netcdf(nudata, global_attributes, variable_params, file_path)\n",
      "  File \"/home/simonaoliver/venvs/agdc-v2/local/lib/python2.7/site-packages/datacube/storage/storage.py\", line 212, in write_dataset_to_netcdf\n",
      "    raise RuntimeError('Storage Unit already exists: %s' % filename)\n",
      "RuntimeError: Storage Unit already exists: c:\\datacube\\/LS7_ETM_NBAR/LS7_ETM_NBAR_3577_15_-39_20151212235112000000.nc\n",
      "0 successful, 10 failed\n"
     ]
    }
   ],
   "source": [
    "nbaringester = '/home/simonaoliver/code/agdc-v2/docs/config_samples/ingester/ls7_nbar_albers.yaml'\n",
    "!datacube -v ingest --config-file $nbaringester"
   ]
  },
  {
   "cell_type": "code",
   "execution_count": 20,
   "metadata": {
    "collapsed": false
   },
   "outputs": [
    {
     "name": "stdout",
     "output_type": "stream",
     "text": [
      "2016-07-05 00:48:51,193 INFO Matched Dataset <id=9b9bcb34-309c-11e6-a5e8-a0000100fe80 type=ls7_nbart_scene location=/media/simonaoliver/datacube/input/GA_v2_LandsatNBAR/LS7_ETM_NBART_P54_GANBART01-002_090_084_20151212/ga-metadata.yaml>\n",
      "2016-07-05 00:48:51,193 INFO Indexing b0fd1a2e-e159-11e5-8551-ac162d791418\n",
      "2016-07-05 00:48:51,198 ERROR \n",
      "Traceback (most recent call last):\n",
      "  File \"/home/simonaoliver/venvs/agdc-v2/local/lib/python2.7/site-packages/datacube/index/_datasets.py\", line 283, in add\n",
      "    was_inserted = self._db.insert_dataset(dataset.metadata_doc, dataset.id, dataset.type.id)\n",
      "  File \"/home/simonaoliver/venvs/agdc-v2/local/lib/python2.7/site-packages/datacube/index/postgres/_api.py\", line 214, in insert_dataset\n",
      "    raise DuplicateRecordError('Duplicate dataset, not inserting: %s', dataset_id)\n",
      "DuplicateRecordError: ('Duplicate dataset, not inserting: %s', 'b0fd1a2e-e159-11e5-8551-ac162d791418')\n",
      "2016-07-05 00:48:51,214 INFO Indexing 0fe48314-299f-11e6-b1c7-a0000100fe80\n",
      "2016-07-05 00:48:51,218 ERROR \n",
      "Traceback (most recent call last):\n",
      "  File \"/home/simonaoliver/venvs/agdc-v2/local/lib/python2.7/site-packages/datacube/index/_datasets.py\", line 283, in add\n",
      "    was_inserted = self._db.insert_dataset(dataset.metadata_doc, dataset.id, dataset.type.id)\n",
      "  File \"/home/simonaoliver/venvs/agdc-v2/local/lib/python2.7/site-packages/datacube/index/postgres/_api.py\", line 214, in insert_dataset\n",
      "    raise DuplicateRecordError('Duplicate dataset, not inserting: %s', dataset_id)\n",
      "DuplicateRecordError: ('Duplicate dataset, not inserting: %s', '0fe48314-299f-11e6-b1c7-a0000100fe80')\n",
      "2016-07-05 00:48:51,227 INFO Indexing 9b9bcb34-309c-11e6-a5e8-a0000100fe80\n"
     ]
    }
   ],
   "source": [
    "!datacube -v dataset add $nbartscenes --auto-match "
   ]
  },
  {
   "cell_type": "code",
   "execution_count": 21,
   "metadata": {
    "collapsed": false
   },
   "outputs": [
    {
     "name": "stdout",
     "output_type": "stream",
     "text": [
      "2016-07-05 00:48:52,092 INFO Created DatasetType ls7_nbart_albers\n",
      "2016-07-05 00:48:53,977 INFO 10 tasks discovered\n",
      "2016-07-05 00:50:24,006 INFO Indexing 9ec2f684-de91-42d9-b2fa-fc4c9c36ffae\n",
      "2016-07-05 00:51:40,139 INFO Indexing 171d0629-0907-4fa4-a2bc-d34380e31c9e\n",
      "2016-07-05 00:53:03,531 INFO Indexing af6aee64-b06c-452d-91d6-08dbcbaaf1c8\n",
      "2016-07-05 00:54:24,415 INFO Indexing cc8e6eb7-bc69-4fb7-bacf-658c9d772f02\n",
      "2016-07-05 00:55:42,744 INFO Indexing 6a3ddcd9-a0ff-45f6-adbf-cfba53d02a24\n",
      "2016-07-05 00:56:58,818 INFO Indexing 14e62f3d-a483-4975-a252-7f636e9f65f0\n",
      "2016-07-05 00:58:13,674 INFO Indexing 1abcc368-fb39-418b-8bfd-31bc082c1ea1\n",
      "2016-07-05 00:59:26,990 INFO Indexing fac233ad-3462-4867-b61f-3c009e00cd73\n",
      "2016-07-05 01:00:49,801 INFO Indexing 3f74eef3-8582-4785-a8c2-2d4dd9bde31c\n",
      "2016-07-05 01:02:12,277 INFO Indexing 9ea18ba9-3ee4-46ba-9623-b76dbfd01b85\n",
      "10 successful, 0 failed\n"
     ]
    }
   ],
   "source": [
    "nbartingester = '/home/simonaoliver/code/agdc-v2/docs/config_samples/ingester/ls7_nbart_albers.yaml'\n",
    "!datacube -v ingest --config-file $nbartingester"
   ]
  },
  {
   "cell_type": "code",
   "execution_count": 22,
   "metadata": {
    "collapsed": false
   },
   "outputs": [
    {
     "name": "stdout",
     "output_type": "stream",
     "text": [
      "2016-07-05 01:02:14,274 INFO Matched Dataset <id=77891492-3365-11e6-a688-a0000100fe80 type=ls5_pq_scene location=/media/simonaoliver/datacube/input/GA_v2_LandsatNBAR/LS5_TM_PQ_P55_GAPQ01-002_090_084_20110107/ga-metadata.yaml>\r\n",
      "2016-07-05 01:02:14,274 INFO Indexing 100a8412-6017-11e5-b4fe-ac162d791418\r\n",
      "2016-07-05 01:02:14,280 INFO Indexing ee983642-1cd3-11e6-aaba-a0000100fe80\r\n",
      "2016-07-05 01:02:14,287 INFO Indexing 77891492-3365-11e6-a688-a0000100fe80\r\n"
     ]
    }
   ],
   "source": [
    "!datacube -v dataset add $pqscenes --auto-match "
   ]
  },
  {
   "cell_type": "code",
   "execution_count": 23,
   "metadata": {
    "collapsed": false,
    "scrolled": false
   },
   "outputs": [
    {
     "name": "stdout",
     "output_type": "stream",
     "text": [
      "2016-07-05 01:02:15,134 INFO Created DatasetType ls5_pq_albers\n",
      "2016-07-05 01:02:16,919 INFO 10 tasks discovered\n",
      "2016-07-05 01:02:30,331 INFO Indexing 7a98ebcc-d3fb-4957-8d09-0f0f42154d50\n",
      "2016-07-05 01:02:42,874 INFO Indexing e7ad03b6-4d68-4210-956a-c34d32ca13c8\n",
      "2016-07-05 01:02:55,723 INFO Indexing 507311ab-61fe-4e03-8ca3-8ad077756977\n",
      "2016-07-05 01:03:08,769 INFO Indexing cdc8bb45-056d-46fd-8caf-59b0e5308571\n",
      "2016-07-05 01:03:21,709 INFO Indexing d71ce91d-8a15-4e13-879e-13f65c848685\n",
      "2016-07-05 01:03:34,717 INFO Indexing 177f29cf-17a0-46fd-8826-8cc0702efab3\n",
      "2016-07-05 01:03:47,422 INFO Indexing e3906412-27b8-42c0-83f0-deb755e710bc\n",
      "2016-07-05 01:04:00,176 INFO Indexing 3c7ecfbd-2cf2-452e-82c1-4424d08a3201\n",
      "2016-07-05 01:04:13,560 INFO Indexing 733a96bb-d8fe-4abf-bf8b-813a15aeaec4\n",
      "2016-07-05 01:04:26,895 INFO Indexing e97b3520-9bbd-40d6-b8fc-8da0d727425d\n",
      "10 successful, 0 failed\n"
     ]
    }
   ],
   "source": [
    "pqingester = '/home/simonaoliver/code/agdc-v2/docs/config_samples/ingester/ls5_pq_albers.yaml'\n",
    "!datacube -v ingest --config-file $pqingester"
   ]
  },
  {
   "cell_type": "code",
   "execution_count": null,
   "metadata": {
    "collapsed": true
   },
   "outputs": [],
   "source": []
  }
 ],
 "metadata": {
  "kernelspec": {
   "display_name": "Python 2",
   "language": "python",
   "name": "python2"
  },
  "language_info": {
   "codemirror_mode": {
    "name": "ipython",
    "version": 2
   },
   "file_extension": ".py",
   "mimetype": "text/x-python",
   "name": "python",
   "nbconvert_exporter": "python",
   "pygments_lexer": "ipython2",
   "version": "2.7.9"
  },
  "widgets": {
   "state": {},
   "version": "1.1.1"
  }
 },
 "nbformat": 4,
 "nbformat_minor": 0
}
