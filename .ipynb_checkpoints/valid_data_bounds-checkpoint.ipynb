{
 "cells": [
  {
   "cell_type": "code",
   "execution_count": 1,
   "metadata": {
    "ExecuteTime": {
     "end_time": "2016-06-14T11:06:18.854855",
     "start_time": "2016-06-14T11:06:18.851918"
    },
    "collapsed": false
   },
   "outputs": [],
   "source": [
    "import rasterio\n",
    "import shapely.geometry\n",
    "import shapely.ops\n",
    "\n",
    "from datacube import Datacube"
   ]
  },
  {
   "cell_type": "code",
   "execution_count": 2,
   "metadata": {
    "ExecuteTime": {
     "end_time": "2016-06-14T11:05:47.487144",
     "start_time": "2016-06-14T11:05:47.484282"
    },
    "collapsed": true
   },
   "outputs": [],
   "source": [
    "def datasets_union(dss):\n",
    "    return shapely.ops.unary_union([shapely.geometry.Polygon(ds.extent.points) for ds in dss])"
   ]
  },
  {
   "cell_type": "code",
   "execution_count": 3,
   "metadata": {
    "ExecuteTime": {
     "end_time": "2016-06-14T11:06:20.750130",
     "start_time": "2016-06-14T11:06:20.724714"
    },
    "collapsed": false
   },
   "outputs": [],
   "source": [
    "datacube = Datacube()"
   ]
  },
  {
   "cell_type": "code",
   "execution_count": 6,
   "metadata": {
    "ExecuteTime": {
     "end_time": "2016-06-14T11:06:21.662081",
     "start_time": "2016-06-14T11:06:21.587872"
    },
    "collapsed": false
   },
   "outputs": [
    {
     "data": {
      "image/svg+xml": [
       "<svg xmlns=\"http://www.w3.org/2000/svg\" xmlns:xlink=\"http://www.w3.org/1999/xlink\" width=\"300\" height=\"300\" viewBox=\"630930.600986 6049555.38124 256727.837438 233253.057187\" preserveAspectRatio=\"xMinYMin meet\"><g transform=\"matrix(1,0,0,-1,0,12332363.8197)\"><path fill-rule=\"evenodd\" fill=\"#66cc99\" stroke=\"#555555\" stroke-width=\"1711.51891625\" opacity=\"0.6\" d=\"M 686475.0,6273300.0 L 686375.840289,6273056.42716 L 677350.832369,6239131.39731 L 647625.828321,6126581.382 L 640525.799827,6099256.27309 L 640439.039409,6098802.53079 L 641464.039409,6098302.53079 L 641769.961038,6098225.51309 L 832019.961038,6059075.51309 L 832272.36068,6059063.81966 L 877849.177004,6232218.6382 L 878149.404677,6233444.57674 L 878150.0,6233575.0 L 875855.06514,6234299.48151 L 760930.043496,6257999.48598 L 686730.038829,6273274.48694 L 686475.0,6273300.0 z\" /></g></svg>"
      ],
      "text/plain": [
       "<shapely.geometry.polygon.Polygon at 0x7fa309e0d410>"
      ]
     },
     "execution_count": 6,
     "metadata": {},
     "output_type": "execute_result"
    }
   ],
   "source": [
    "scenes = datacube.index.datasets.search_eager(product='ls5_pq_scene')\n",
    "datasets_union(scenes)"
   ]
  },
  {
   "cell_type": "code",
   "execution_count": 7,
   "metadata": {
    "ExecuteTime": {
     "end_time": "2016-06-14T11:06:29.872841",
     "start_time": "2016-06-14T11:06:28.834871"
    },
    "collapsed": false
   },
   "outputs": [
    {
     "data": {
      "image/svg+xml": [
       "<svg xmlns=\"http://www.w3.org/2000/svg\" xmlns:xlink=\"http://www.w3.org/1999/xlink\" width=\"300\" height=\"300\" viewBox=\"1384000.0 -4116000.0 432000.0 432000.0\" preserveAspectRatio=\"xMinYMin meet\"><g transform=\"matrix(1,0,0,-1,0,-7800000.0)\"><path fill-rule=\"evenodd\" fill=\"#66cc99\" stroke=\"#555555\" stroke-width=\"2880.0\" opacity=\"0.6\" d=\"M 1600000.0,-4100000.0 L 1600000.0,-4000000.0 L 1500000.0,-4000000.0 L 1400000.0,-4000000.0 L 1400000.0,-3900000.0 L 1500000.0,-3900000.0 L 1500000.0,-3800000.0 L 1500000.0,-3700000.0 L 1600000.0,-3700000.0 L 1700000.0,-3700000.0 L 1700000.0,-3800000.0 L 1800000.0,-3800000.0 L 1800000.0,-3900000.0 L 1800000.0,-4000000.0 L 1700000.0,-4000000.0 L 1700000.0,-4100000.0 L 1600000.0,-4100000.0 z\" /></g></svg>"
      ],
      "text/plain": [
       "<shapely.geometry.polygon.Polygon at 0x7fa309de4690>"
      ]
     },
     "execution_count": 7,
     "metadata": {},
     "output_type": "execute_result"
    }
   ],
   "source": [
    "scenes = datacube.index.datasets.search_eager(product='ls5_pq_albers')\n",
    "datasets_union(scenes)"
   ]
  }
 ],
 "metadata": {
  "gist": {
   "data": {
    "description": "Untitled.ipynb",
    "public": false
   },
   "id": ""
  },
  "kernelspec": {
   "display_name": "Python 2",
   "language": "python",
   "name": "python2"
  },
  "language_info": {
   "codemirror_mode": {
    "name": "ipython",
    "version": 2
   },
   "file_extension": ".py",
   "mimetype": "text/x-python",
   "name": "python",
   "nbconvert_exporter": "python",
   "pygments_lexer": "ipython2",
   "version": "2.7.9"
  },
  "toc": {
   "toc_cell": false,
   "toc_number_sections": true,
   "toc_threshold": 6,
   "toc_window_display": false
  },
  "widgets": {
   "state": {},
   "version": "1.1.1"
  }
 },
 "nbformat": 4,
 "nbformat_minor": 0
}
