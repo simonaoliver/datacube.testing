{
 "cells": [
  {
   "cell_type": "code",
   "execution_count": 1,
   "metadata": {
    "collapsed": true
   },
   "outputs": [],
   "source": [
    "import netCDF4\n",
    "import rasterio\n",
    "import xarray"
   ]
  },
  {
   "cell_type": "code",
   "execution_count": 2,
   "metadata": {
    "collapsed": false
   },
   "outputs": [],
   "source": [
    "modis_burn = rasterio.open('http://auscover.modis.org.au/modis-ba/2016/dob_20160101_20160131.tif')"
   ]
  },
  {
   "cell_type": "code",
   "execution_count": 3,
   "metadata": {
    "collapsed": false
   },
   "outputs": [
    {
     "data": {
      "text/plain": [
       "BoundingBox(left=110.0, bottom=-44.0, right=154.0, top=-9.0)"
      ]
     },
     "execution_count": 3,
     "metadata": {},
     "output_type": "execute_result"
    }
   ],
   "source": [
    "modis_burn.bounds"
   ]
  },
  {
   "cell_type": "code",
   "execution_count": 4,
   "metadata": {
    "collapsed": false
   },
   "outputs": [
    {
     "name": "stderr",
     "output_type": "stream",
     "text": [
      "/home/simonaoliver/venvs/agdc-v2/local/lib/python2.7/site-packages/IPython/core/interactiveshell.py:2885: FutureWarning: read_band() is deprecated and will be removed by Rasterio 1.0. Please use read() instead.\n",
      "  exec(code_obj, self.user_global_ns, self.user_ns)\n"
     ]
    }
   ],
   "source": [
    "modis_burn_band1 = modis_burn.read_band(1)"
   ]
  },
  {
   "cell_type": "code",
   "execution_count": 20,
   "metadata": {
    "collapsed": false
   },
   "outputs": [],
   "source": [
    "%matplotlib inline\n",
    "import matplotlib.pyplot as plt"
   ]
  },
  {
   "cell_type": "code",
   "execution_count": 25,
   "metadata": {
    "collapsed": false
   },
   "outputs": [
    {
     "data": {
      "text/plain": [
       "<matplotlib.image.AxesImage at 0x7f5e496eb190>"
      ]
     },
     "execution_count": 25,
     "metadata": {},
     "output_type": "execute_result"
    },
    {
     "data": {
      "image/png": "[encoded data removed]",
      "text/plain": [
       "<matplotlib.figure.Figure at 0x7f5e48f96750>"
      ]
     },
     "metadata": {},
     "output_type": "display_data"
    }
   ],
   "source": [
    "plt.imshow(modis_burn_band1)"
   ]
  },
  {
   "cell_type": "code",
   "execution_count": 22,
   "metadata": {
    "collapsed": false
   },
   "outputs": [
    {
     "data": {
      "text/plain": [
       "255"
      ]
     },
     "execution_count": 22,
     "metadata": {},
     "output_type": "execute_result"
    }
   ],
   "source": [
    "modis_burn_band1.max()"
   ]
  },
  {
   "cell_type": "code",
   "execution_count": 23,
   "metadata": {
    "collapsed": false
   },
   "outputs": [
    {
     "data": {
      "text/plain": [
       "0"
      ]
     },
     "execution_count": 23,
     "metadata": {},
     "output_type": "execute_result"
    }
   ],
   "source": [
    "modis_burn_band1.min()"
   ]
  },
  {
   "cell_type": "code",
   "execution_count": 10,
   "metadata": {
    "collapsed": false
   },
   "outputs": [],
   "source": [
    "netcdfjunk = netCDF4.Dataset('http://qld.auscover.org.au/thredds/dodsC/auscover/modis/burnt_area_cdu/2002/dob_20020801_20020831.nc')"
   ]
  },
  {
   "cell_type": "code",
   "execution_count": 14,
   "metadata": {
    "collapsed": false
   },
   "outputs": [],
   "source": [
    "from pydap.client import open_url"
   ]
  },
  {
   "cell_type": "code",
   "execution_count": 20,
   "metadata": {
    "collapsed": false
   },
   "outputs": [],
   "source": [
    "dataset = open_url('http://qld.auscover.org.au/thredds/dodsC/auscover/modis/burnt_area_cdu/2002/dob_20020801_20020831.nc')"
   ]
  },
  {
   "cell_type": "code",
   "execution_count": 1,
   "metadata": {
    "collapsed": true
   },
   "outputs": [],
   "source": [
    "import argparse\n",
    "import sys\n",
    "import os\n",
    "import urllib\n",
    "from thredds_crawler.crawl import Crawl"
   ]
  },
  {
   "cell_type": "code",
   "execution_count": 20,
   "metadata": {
    "collapsed": true
   },
   "outputs": [],
   "source": [
    "c = Crawl(\"http://qld.auscover.org.au/thredds/catalog/auscover/modis/burnt_area_cdu/catalog.html\", select=[\".*tif\"])"
   ]
  },
  {
   "cell_type": "code",
   "execution_count": 21,
   "metadata": {
    "collapsed": false
   },
   "outputs": [
    {
     "name": "stdout",
     "output_type": "stream",
     "text": [
      "('top/modis/burnt_area_cdu/2002/dob_20020801_20020831.tif', 'dob_20020801_20020831.tif')\n"
     ]
    }
   ],
   "source": [
    "print(c.datasets[0].id, c.datasets[0].name)"
   ]
  },
  {
   "cell_type": "code",
   "execution_count": 22,
   "metadata": {
    "collapsed": false
   },
   "outputs": [],
   "source": [
    "urls = [s.get(\"url\") for d in c.datasets for s in d.services if s.get(\"service\").lower() == \"opendap\"]"
   ]
  },
  {
   "cell_type": "code",
   "execution_count": 23,
   "metadata": {
    "collapsed": false
   },
   "outputs": [
    {
     "name": "stdout",
     "output_type": "stream",
     "text": [
      "http://qld.auscover.org.au/thredds/dodsC/auscover/modis/burnt_area_cdu/2002/dob_20020801_20020831.tif\n",
      "http://qld.auscover.org.au/thredds/dodsC/auscover/modis/burnt_area_cdu/2002/dob_20020901_20020930.tif\n",
      "http://qld.auscover.org.au/thredds/dodsC/auscover/modis/burnt_area_cdu/2002/dob_20021001_20021031.tif\n",
      "http://qld.auscover.org.au/thredds/dodsC/auscover/modis/burnt_area_cdu/2002/dob_20021101_20021130.tif\n",
      "http://qld.auscover.org.au/thredds/dodsC/auscover/modis/burnt_area_cdu/2002/dob_20021201_20021231.tif\n",
      "http://qld.auscover.org.au/thredds/dodsC/auscover/modis/burnt_area_cdu/2003/dob_20030101_20030131.tif\n",
      "http://qld.auscover.org.au/thredds/dodsC/auscover/modis/burnt_area_cdu/2003/dob_20030201_20030228.tif\n",
      "http://qld.auscover.org.au/thredds/dodsC/auscover/modis/burnt_area_cdu/2003/dob_20030301_20030331.tif\n",
      "http://qld.auscover.org.au/thredds/dodsC/auscover/modis/burnt_area_cdu/2003/dob_20030401_20030430.tif\n",
      "http://qld.auscover.org.au/thredds/dodsC/auscover/modis/burnt_area_cdu/2003/dob_20030501_20030531.tif\n",
      "http://qld.auscover.org.au/thredds/dodsC/auscover/modis/burnt_area_cdu/2003/dob_20030601_20030630.tif\n",
      "http://qld.auscover.org.au/thredds/dodsC/auscover/modis/burnt_area_cdu/2003/dob_20030701_20030731.tif\n",
      "http://qld.auscover.org.au/thredds/dodsC/auscover/modis/burnt_area_cdu/2003/dob_20030801_20030831.tif\n",
      "http://qld.auscover.org.au/thredds/dodsC/auscover/modis/burnt_area_cdu/2003/dob_20030901_20030930.tif\n",
      "http://qld.auscover.org.au/thredds/dodsC/auscover/modis/burnt_area_cdu/2003/dob_20031001_20031031.tif\n",
      "http://qld.auscover.org.au/thredds/dodsC/auscover/modis/burnt_area_cdu/2003/dob_20031101_20031130.tif\n",
      "http://qld.auscover.org.au/thredds/dodsC/auscover/modis/burnt_area_cdu/2003/dob_20031201_20031231.tif\n",
      "http://qld.auscover.org.au/thredds/dodsC/auscover/modis/burnt_area_cdu/2004/dob_20040101_20040131.tif\n",
      "http://qld.auscover.org.au/thredds/dodsC/auscover/modis/burnt_area_cdu/2004/dob_20040201_20040229.tif\n",
      "http://qld.auscover.org.au/thredds/dodsC/auscover/modis/burnt_area_cdu/2004/dob_20040301_20040331.tif\n",
      "http://qld.auscover.org.au/thredds/dodsC/auscover/modis/burnt_area_cdu/2004/dob_20040401_20040430.tif\n",
      "http://qld.auscover.org.au/thredds/dodsC/auscover/modis/burnt_area_cdu/2004/dob_20040501_20040531.tif\n",
      "http://qld.auscover.org.au/thredds/dodsC/auscover/modis/burnt_area_cdu/2004/dob_20040601_20040630.tif\n",
      "http://qld.auscover.org.au/thredds/dodsC/auscover/modis/burnt_area_cdu/2004/dob_20040701_20040731.tif\n",
      "http://qld.auscover.org.au/thredds/dodsC/auscover/modis/burnt_area_cdu/2004/dob_20040801_20040831.tif\n",
      "http://qld.auscover.org.au/thredds/dodsC/auscover/modis/burnt_area_cdu/2004/dob_20040901_20040930.tif\n",
      "http://qld.auscover.org.au/thredds/dodsC/auscover/modis/burnt_area_cdu/2004/dob_20041001_20041031.tif\n",
      "http://qld.auscover.org.au/thredds/dodsC/auscover/modis/burnt_area_cdu/2004/dob_20041101_20041130.tif\n",
      "http://qld.auscover.org.au/thredds/dodsC/auscover/modis/burnt_area_cdu/2004/dob_20041201_20041231.tif\n",
      "http://qld.auscover.org.au/thredds/dodsC/auscover/modis/burnt_area_cdu/2005/dob_20050101_20050131.tif\n",
      "http://qld.auscover.org.au/thredds/dodsC/auscover/modis/burnt_area_cdu/2005/dob_20050201_20050228.tif\n",
      "http://qld.auscover.org.au/thredds/dodsC/auscover/modis/burnt_area_cdu/2005/dob_20050301_20050331.tif\n",
      "http://qld.auscover.org.au/thredds/dodsC/auscover/modis/burnt_area_cdu/2005/dob_20050401_20050430.tif\n",
      "http://qld.auscover.org.au/thredds/dodsC/auscover/modis/burnt_area_cdu/2005/dob_20050501_20050531.tif\n",
      "http://qld.auscover.org.au/thredds/dodsC/auscover/modis/burnt_area_cdu/2005/dob_20050601_20050630.tif\n",
      "http://qld.auscover.org.au/thredds/dodsC/auscover/modis/burnt_area_cdu/2005/dob_20050701_20050731.tif\n",
      "http://qld.auscover.org.au/thredds/dodsC/auscover/modis/burnt_area_cdu/2005/dob_20050801_20050831.tif\n",
      "http://qld.auscover.org.au/thredds/dodsC/auscover/modis/burnt_area_cdu/2005/dob_20050901_20050930.tif\n",
      "http://qld.auscover.org.au/thredds/dodsC/auscover/modis/burnt_area_cdu/2005/dob_20051001_20051031.tif\n",
      "http://qld.auscover.org.au/thredds/dodsC/auscover/modis/burnt_area_cdu/2005/dob_20051101_20051130.tif\n",
      "http://qld.auscover.org.au/thredds/dodsC/auscover/modis/burnt_area_cdu/2005/dob_20051201_20051231.tif\n",
      "http://qld.auscover.org.au/thredds/dodsC/auscover/modis/burnt_area_cdu/2006/dob_20060101_20060131.tif\n",
      "http://qld.auscover.org.au/thredds/dodsC/auscover/modis/burnt_area_cdu/2006/dob_20060201_20060228.tif\n",
      "http://qld.auscover.org.au/thredds/dodsC/auscover/modis/burnt_area_cdu/2006/dob_20060301_20060331.tif\n",
      "http://qld.auscover.org.au/thredds/dodsC/auscover/modis/burnt_area_cdu/2006/dob_20060401_20060430.tif\n",
      "http://qld.auscover.org.au/thredds/dodsC/auscover/modis/burnt_area_cdu/2006/dob_20060501_20060531.tif\n",
      "http://qld.auscover.org.au/thredds/dodsC/auscover/modis/burnt_area_cdu/2006/dob_20060601_20060630.tif\n",
      "http://qld.auscover.org.au/thredds/dodsC/auscover/modis/burnt_area_cdu/2006/dob_20060701_20060731.tif\n",
      "http://qld.auscover.org.au/thredds/dodsC/auscover/modis/burnt_area_cdu/2006/dob_20060801_20060831.tif\n",
      "http://qld.auscover.org.au/thredds/dodsC/auscover/modis/burnt_area_cdu/2006/dob_20060901_20060930.tif\n",
      "http://qld.auscover.org.au/thredds/dodsC/auscover/modis/burnt_area_cdu/2006/dob_20061001_20061031.tif\n",
      "http://qld.auscover.org.au/thredds/dodsC/auscover/modis/burnt_area_cdu/2006/dob_20061101_20061130.tif\n",
      "http://qld.auscover.org.au/thredds/dodsC/auscover/modis/burnt_area_cdu/2006/dob_20061201_20061231.tif\n",
      "http://qld.auscover.org.au/thredds/dodsC/auscover/modis/burnt_area_cdu/2007/dob_20070101_20070131.tif\n",
      "http://qld.auscover.org.au/thredds/dodsC/auscover/modis/burnt_area_cdu/2007/dob_20070201_20070228.tif\n",
      "http://qld.auscover.org.au/thredds/dodsC/auscover/modis/burnt_area_cdu/2007/dob_20070301_20070331.tif\n",
      "http://qld.auscover.org.au/thredds/dodsC/auscover/modis/burnt_area_cdu/2007/dob_20070401_20070430.tif\n",
      "http://qld.auscover.org.au/thredds/dodsC/auscover/modis/burnt_area_cdu/2007/dob_20070501_20070531.tif\n",
      "http://qld.auscover.org.au/thredds/dodsC/auscover/modis/burnt_area_cdu/2007/dob_20070601_20070630.tif\n",
      "http://qld.auscover.org.au/thredds/dodsC/auscover/modis/burnt_area_cdu/2007/dob_20070701_20070731.tif\n",
      "http://qld.auscover.org.au/thredds/dodsC/auscover/modis/burnt_area_cdu/2007/dob_20070801_20070831.tif\n",
      "http://qld.auscover.org.au/thredds/dodsC/auscover/modis/burnt_area_cdu/2007/dob_20070901_20070930.tif\n",
      "http://qld.auscover.org.au/thredds/dodsC/auscover/modis/burnt_area_cdu/2007/dob_20071001_20071031.tif\n",
      "http://qld.auscover.org.au/thredds/dodsC/auscover/modis/burnt_area_cdu/2007/dob_20071101_20071130.tif\n",
      "http://qld.auscover.org.au/thredds/dodsC/auscover/modis/burnt_area_cdu/2007/dob_20071201_20071231.tif\n",
      "http://qld.auscover.org.au/thredds/dodsC/auscover/modis/burnt_area_cdu/2008/dob_20080101_20080131.tif\n",
      "http://qld.auscover.org.au/thredds/dodsC/auscover/modis/burnt_area_cdu/2008/dob_20080201_20080229.tif\n",
      "http://qld.auscover.org.au/thredds/dodsC/auscover/modis/burnt_area_cdu/2008/dob_20080301_20080331.tif\n",
      "http://qld.auscover.org.au/thredds/dodsC/auscover/modis/burnt_area_cdu/2008/dob_20080401_20080430.tif\n",
      "http://qld.auscover.org.au/thredds/dodsC/auscover/modis/burnt_area_cdu/2008/dob_20080501_20080531.tif\n",
      "http://qld.auscover.org.au/thredds/dodsC/auscover/modis/burnt_area_cdu/2008/dob_20080601_20080630.tif\n",
      "http://qld.auscover.org.au/thredds/dodsC/auscover/modis/burnt_area_cdu/2011/dob_20110101_20110131.tif\n",
      "http://qld.auscover.org.au/thredds/dodsC/auscover/modis/burnt_area_cdu/2011/dob_20110201_20110228.tif\n",
      "http://qld.auscover.org.au/thredds/dodsC/auscover/modis/burnt_area_cdu/2011/dob_20110301_20110331.tif\n",
      "http://qld.auscover.org.au/thredds/dodsC/auscover/modis/burnt_area_cdu/2011/dob_20110401_20110430.tif\n",
      "http://qld.auscover.org.au/thredds/dodsC/auscover/modis/burnt_area_cdu/2011/dob_20110501_20110531.tif\n",
      "http://qld.auscover.org.au/thredds/dodsC/auscover/modis/burnt_area_cdu/2011/dob_20110601_20110630.tif\n",
      "http://qld.auscover.org.au/thredds/dodsC/auscover/modis/burnt_area_cdu/2011/dob_20110701_20110731.tif\n",
      "http://qld.auscover.org.au/thredds/dodsC/auscover/modis/burnt_area_cdu/2011/dob_20110801_20110831.tif\n",
      "http://qld.auscover.org.au/thredds/dodsC/auscover/modis/burnt_area_cdu/2011/dob_20110901_20110930.tif\n",
      "http://qld.auscover.org.au/thredds/dodsC/auscover/modis/burnt_area_cdu/2011/dob_20111001_20111031.tif\n",
      "http://qld.auscover.org.au/thredds/dodsC/auscover/modis/burnt_area_cdu/2011/dob_20111101_20111130.tif\n",
      "http://qld.auscover.org.au/thredds/dodsC/auscover/modis/burnt_area_cdu/2011/dob_20111201_20111231.tif\n",
      "http://qld.auscover.org.au/thredds/dodsC/auscover/modis/burnt_area_cdu/2012/dob_20120101_20120131.tif\n",
      "http://qld.auscover.org.au/thredds/dodsC/auscover/modis/burnt_area_cdu/2012/dob_20120201_20120229.tif\n",
      "http://qld.auscover.org.au/thredds/dodsC/auscover/modis/burnt_area_cdu/2012/dob_20120301_20120331.tif\n",
      "http://qld.auscover.org.au/thredds/dodsC/auscover/modis/burnt_area_cdu/2012/dob_20120401_20120430.tif\n",
      "http://qld.auscover.org.au/thredds/dodsC/auscover/modis/burnt_area_cdu/2012/dob_20120501_20120531.tif\n",
      "http://qld.auscover.org.au/thredds/dodsC/auscover/modis/burnt_area_cdu/2012/dob_20120601_20120630.tif\n",
      "http://qld.auscover.org.au/thredds/dodsC/auscover/modis/burnt_area_cdu/2012/dob_20120701_20120731.tif\n",
      "http://qld.auscover.org.au/thredds/dodsC/auscover/modis/burnt_area_cdu/2012/dob_20120801_20120831.tif\n",
      "http://qld.auscover.org.au/thredds/dodsC/auscover/modis/burnt_area_cdu/2012/dob_20120901_20120930.tif\n",
      "http://qld.auscover.org.au/thredds/dodsC/auscover/modis/burnt_area_cdu/2012/dob_20121001_20121031.tif\n",
      "http://qld.auscover.org.au/thredds/dodsC/auscover/modis/burnt_area_cdu/2012/dob_20121101_20121130.tif\n",
      "http://qld.auscover.org.au/thredds/dodsC/auscover/modis/burnt_area_cdu/2012/dob_20121201_20121231.tif\n",
      "http://qld.auscover.org.au/thredds/dodsC/auscover/modis/burnt_area_cdu/2013/dob_20130101_20130131.tif\n",
      "http://qld.auscover.org.au/thredds/dodsC/auscover/modis/burnt_area_cdu/2013/dob_20130201_20130228.tif\n",
      "http://qld.auscover.org.au/thredds/dodsC/auscover/modis/burnt_area_cdu/2013/dob_20130301_20130331.tif\n",
      "http://qld.auscover.org.au/thredds/dodsC/auscover/modis/burnt_area_cdu/2013/dob_20130401_20130430.tif\n",
      "http://qld.auscover.org.au/thredds/dodsC/auscover/modis/burnt_area_cdu/2013/dob_20130501_20130531.tif\n",
      "http://qld.auscover.org.au/thredds/dodsC/auscover/modis/burnt_area_cdu/2013/dob_20130601_20130630.tif\n",
      "http://qld.auscover.org.au/thredds/dodsC/auscover/modis/burnt_area_cdu/2013/dob_20130701_20130731.tif\n",
      "http://qld.auscover.org.au/thredds/dodsC/auscover/modis/burnt_area_cdu/2013/dob_20130801_20130831.tif\n",
      "http://qld.auscover.org.au/thredds/dodsC/auscover/modis/burnt_area_cdu/2013/dob_20130901_20130930.tif\n",
      "http://qld.auscover.org.au/thredds/dodsC/auscover/modis/burnt_area_cdu/2013/dob_20131001_20131031.tif\n",
      "http://qld.auscover.org.au/thredds/dodsC/auscover/modis/burnt_area_cdu/2013/dob_20131101_20131130.tif\n",
      "http://qld.auscover.org.au/thredds/dodsC/auscover/modis/burnt_area_cdu/2013/dob_20131201_20131231.tif\n"
     ]
    }
   ],
   "source": [
    "for i in urls:\n",
    "    print i"
   ]
  },
  {
   "cell_type": "code",
   "execution_count": null,
   "metadata": {
    "collapsed": true
   },
   "outputs": [],
   "source": [
    "c = Crawl(\"http://qld.auscover.org.au/thredds/catalog/auscover/landsat/seasonal_fractional_cover/fractional_cover/catalog.html\", select=[\".*nc\"])"
   ]
  },
  {
   "cell_type": "code",
   "execution_count": 28,
   "metadata": {
    "collapsed": true
   },
   "outputs": [],
   "source": [
    "urls = [s.get(\"url\") for d in c.datasets for s in d.services if s.get(\"service\").lower() == \"opendap\"]"
   ]
  },
  {
   "cell_type": "code",
   "execution_count": 29,
   "metadata": {
    "collapsed": true
   },
   "outputs": [],
   "source": [
    "for i in urls:\n",
    "    print i"
   ]
  },
  {
   "cell_type": "code",
   "execution_count": null,
   "metadata": {
    "collapsed": true
   },
   "outputs": [],
   "source": []
  }
 ],
 "metadata": {
  "kernelspec": {
   "display_name": "Python 2",
   "language": "python",
   "name": "python2"
  },
  "language_info": {
   "codemirror_mode": {
    "name": "ipython",
    "version": 2
   },
   "file_extension": ".py",
   "mimetype": "text/x-python",
   "name": "python",
   "nbconvert_exporter": "python",
   "pygments_lexer": "ipython2",
   "version": "2.7.9"
  },
  "widgets": {
   "state": {},
   "version": "1.1.1"
  }
 },
 "nbformat": 4,
 "nbformat_minor": 0
}
