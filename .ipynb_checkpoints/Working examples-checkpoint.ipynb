{
 "cells": [
  {
   "cell_type": "code",
   "execution_count": 1,
   "metadata": {
    "collapsed": false
   },
   "outputs": [],
   "source": [
    "%matplotlib inline\n",
    "from datacube.api.core import Datacube\n",
    "from datacube.model import GeoPolygon, GeoBox, CRS"
   ]
  },
  {
   "cell_type": "code",
   "execution_count": 2,
   "metadata": {
    "collapsed": false
   },
   "outputs": [
    {
     "data": {
      "text/plain": [
       "Datacube<index=Index<db=PostgresDb<engine=Engine(postgresql://simonaoliver@:5432/datacube)>>>"
      ]
     },
     "execution_count": 2,
     "metadata": {},
     "output_type": "execute_result"
    }
   ],
   "source": [
    "dc = Datacube()\n",
    "dc"
   ]
  },
  {
   "cell_type": "code",
   "execution_count": 3,
   "metadata": {
    "collapsed": false
   },
   "outputs": [
    {
     "ename": "TypeError",
     "evalue": "Index(...) must be called with a collection of some kind, 'id' was passed",
     "output_type": "error",
     "traceback": [
      "\u001b[1;31m---------------------------------------------------------------------------\u001b[0m",
      "\u001b[1;31mTypeError\u001b[0m                                 Traceback (most recent call last)",
      "\u001b[1;32m<ipython-input-3-717b6076e5a8>\u001b[0m in \u001b[0;36m<module>\u001b[1;34m()\u001b[0m\n\u001b[1;32m----> 1\u001b[1;33m \u001b[0mdc\u001b[0m\u001b[1;33m.\u001b[0m\u001b[0mproducts\u001b[0m\u001b[1;33m\u001b[0m\u001b[0m\n\u001b[0m",
      "\u001b[1;32m/home/simonaoliver/venvs/agdc-v2/local/lib/python2.7/site-packages/datacube/api/core.pyc\u001b[0m in \u001b[0;36mproducts\u001b[1;34m(self)\u001b[0m\n\u001b[0;32m     88\u001b[0m         return pandas.DataFrame([datatset_type_to_row(dataset_type)\n\u001b[0;32m     89\u001b[0m                                  for dataset_type in self.index.datasets.types.get_all()],\n\u001b[1;32m---> 90\u001b[1;33m                                 index='id')\n\u001b[0m\u001b[0;32m     91\u001b[0m \u001b[1;33m\u001b[0m\u001b[0m\n\u001b[0;32m     92\u001b[0m     \u001b[1;33m@\u001b[0m\u001b[0mproperty\u001b[0m\u001b[1;33m\u001b[0m\u001b[0m\n",
      "\u001b[1;32m/home/simonaoliver/venvs/agdc-v2/local/lib/python2.7/site-packages/pandas/core/frame.pyc\u001b[0m in \u001b[0;36m__init__\u001b[1;34m(self, data, index, columns, dtype, copy)\u001b[0m\n\u001b[0;32m    276\u001b[0m \u001b[1;33m\u001b[0m\u001b[0m\n\u001b[0;32m    277\u001b[0m                     mgr = _arrays_to_mgr(arrays, columns, index, columns,\n\u001b[1;32m--> 278\u001b[1;33m                                          dtype=dtype)\n\u001b[0m\u001b[0;32m    279\u001b[0m                 \u001b[1;32melse\u001b[0m\u001b[1;33m:\u001b[0m\u001b[1;33m\u001b[0m\u001b[0m\n\u001b[0;32m    280\u001b[0m                     mgr = self._init_ndarray(data, index, columns, dtype=dtype,\n",
      "\u001b[1;32m/home/simonaoliver/venvs/agdc-v2/local/lib/python2.7/site-packages/pandas/core/frame.pyc\u001b[0m in \u001b[0;36m_arrays_to_mgr\u001b[1;34m(arrays, arr_names, index, columns, dtype)\u001b[0m\n\u001b[0;32m   5158\u001b[0m         \u001b[0mindex\u001b[0m \u001b[1;33m=\u001b[0m \u001b[0mextract_index\u001b[0m\u001b[1;33m(\u001b[0m\u001b[0marrays\u001b[0m\u001b[1;33m)\u001b[0m\u001b[1;33m\u001b[0m\u001b[0m\n\u001b[0;32m   5159\u001b[0m     \u001b[1;32melse\u001b[0m\u001b[1;33m:\u001b[0m\u001b[1;33m\u001b[0m\u001b[0m\n\u001b[1;32m-> 5160\u001b[1;33m         \u001b[0mindex\u001b[0m \u001b[1;33m=\u001b[0m \u001b[0m_ensure_index\u001b[0m\u001b[1;33m(\u001b[0m\u001b[0mindex\u001b[0m\u001b[1;33m)\u001b[0m\u001b[1;33m\u001b[0m\u001b[0m\n\u001b[0m\u001b[0;32m   5161\u001b[0m \u001b[1;33m\u001b[0m\u001b[0m\n\u001b[0;32m   5162\u001b[0m     \u001b[1;31m# don't force copy because getting jammed in an ndarray anyway\u001b[0m\u001b[1;33m\u001b[0m\u001b[1;33m\u001b[0m\u001b[0m\n",
      "\u001b[1;32m/home/simonaoliver/venvs/agdc-v2/local/lib/python2.7/site-packages/pandas/core/index.pyc\u001b[0m in \u001b[0;36m_ensure_index\u001b[1;34m(index_like, copy)\u001b[0m\n\u001b[0;32m   6092\u001b[0m             \u001b[0mindex_like\u001b[0m \u001b[1;33m=\u001b[0m \u001b[0mcopy\u001b[0m\u001b[1;33m(\u001b[0m\u001b[0mindex_like\u001b[0m\u001b[1;33m)\u001b[0m\u001b[1;33m\u001b[0m\u001b[0m\n\u001b[0;32m   6093\u001b[0m \u001b[1;33m\u001b[0m\u001b[0m\n\u001b[1;32m-> 6094\u001b[1;33m     \u001b[1;32mreturn\u001b[0m \u001b[0mIndex\u001b[0m\u001b[1;33m(\u001b[0m\u001b[0mindex_like\u001b[0m\u001b[1;33m)\u001b[0m\u001b[1;33m\u001b[0m\u001b[0m\n\u001b[0m\u001b[0;32m   6095\u001b[0m \u001b[1;33m\u001b[0m\u001b[0m\n\u001b[0;32m   6096\u001b[0m \u001b[1;33m\u001b[0m\u001b[0m\n",
      "\u001b[1;32m/home/simonaoliver/venvs/agdc-v2/local/lib/python2.7/site-packages/pandas/core/index.pyc\u001b[0m in \u001b[0;36m__new__\u001b[1;34m(cls, data, dtype, copy, name, fastpath, tupleize_cols, **kwargs)\u001b[0m\n\u001b[0;32m    190\u001b[0m                          **kwargs)\n\u001b[0;32m    191\u001b[0m         \u001b[1;32melif\u001b[0m \u001b[0mdata\u001b[0m \u001b[1;32mis\u001b[0m \u001b[0mNone\u001b[0m \u001b[1;32mor\u001b[0m \u001b[0mnp\u001b[0m\u001b[1;33m.\u001b[0m\u001b[0misscalar\u001b[0m\u001b[1;33m(\u001b[0m\u001b[0mdata\u001b[0m\u001b[1;33m)\u001b[0m\u001b[1;33m:\u001b[0m\u001b[1;33m\u001b[0m\u001b[0m\n\u001b[1;32m--> 192\u001b[1;33m             \u001b[0mcls\u001b[0m\u001b[1;33m.\u001b[0m\u001b[0m_scalar_data_error\u001b[0m\u001b[1;33m(\u001b[0m\u001b[0mdata\u001b[0m\u001b[1;33m)\u001b[0m\u001b[1;33m\u001b[0m\u001b[0m\n\u001b[0m\u001b[0;32m    193\u001b[0m         \u001b[1;32melse\u001b[0m\u001b[1;33m:\u001b[0m\u001b[1;33m\u001b[0m\u001b[0m\n\u001b[0;32m    194\u001b[0m             \u001b[1;32mif\u001b[0m \u001b[0mtupleize_cols\u001b[0m \u001b[1;32mand\u001b[0m \u001b[0misinstance\u001b[0m\u001b[1;33m(\u001b[0m\u001b[0mdata\u001b[0m\u001b[1;33m,\u001b[0m \u001b[0mlist\u001b[0m\u001b[1;33m)\u001b[0m \u001b[1;32mand\u001b[0m \u001b[0mdata\u001b[0m \u001b[1;32mand\u001b[0m \u001b[0misinstance\u001b[0m\u001b[1;33m(\u001b[0m\u001b[0mdata\u001b[0m\u001b[1;33m[\u001b[0m\u001b[1;36m0\u001b[0m\u001b[1;33m]\u001b[0m\u001b[1;33m,\u001b[0m \u001b[0mtuple\u001b[0m\u001b[1;33m)\u001b[0m\u001b[1;33m:\u001b[0m\u001b[1;33m\u001b[0m\u001b[0m\n",
      "\u001b[1;32m/home/simonaoliver/venvs/agdc-v2/local/lib/python2.7/site-packages/pandas/core/index.pyc\u001b[0m in \u001b[0;36m_scalar_data_error\u001b[1;34m(cls, data)\u001b[0m\n\u001b[0;32m    334\u001b[0m         raise TypeError(\n\u001b[0;32m    335\u001b[0m             \u001b[1;34m'{0}(...) must be called with a collection of some kind, {1} was '\u001b[0m\u001b[1;33m\u001b[0m\u001b[0m\n\u001b[1;32m--> 336\u001b[1;33m             \u001b[1;34m'passed'\u001b[0m\u001b[1;33m.\u001b[0m\u001b[0mformat\u001b[0m\u001b[1;33m(\u001b[0m\u001b[0mcls\u001b[0m\u001b[1;33m.\u001b[0m\u001b[0m__name__\u001b[0m\u001b[1;33m,\u001b[0m \u001b[0mrepr\u001b[0m\u001b[1;33m(\u001b[0m\u001b[0mdata\u001b[0m\u001b[1;33m)\u001b[0m\u001b[1;33m)\u001b[0m\u001b[1;33m\u001b[0m\u001b[0m\n\u001b[0m\u001b[0;32m    337\u001b[0m         )\n\u001b[0;32m    338\u001b[0m \u001b[1;33m\u001b[0m\u001b[0m\n",
      "\u001b[1;31mTypeError\u001b[0m: Index(...) must be called with a collection of some kind, 'id' was passed"
     ]
    }
   ],
   "source": [
    "dc.products"
   ]
  },
  {
   "cell_type": "code",
   "execution_count": 4,
   "metadata": {
    "collapsed": false
   },
   "outputs": [
    {
     "data": {
      "text/html": [
       "<div>\n",
       "<table border=\"1\" class=\"dataframe\">\n",
       "  <thead>\n",
       "    <tr style=\"text-align: right;\">\n",
       "      <th></th>\n",
       "      <th>description</th>\n",
       "      <th>format</th>\n",
       "      <th>instrument</th>\n",
       "      <th>name</th>\n",
       "      <th>platform</th>\n",
       "      <th>product</th>\n",
       "    </tr>\n",
       "    <tr>\n",
       "      <th>id</th>\n",
       "      <th></th>\n",
       "      <th></th>\n",
       "      <th></th>\n",
       "      <th></th>\n",
       "      <th></th>\n",
       "      <th></th>\n",
       "    </tr>\n",
       "  </thead>\n",
       "  <tbody>\n",
       "    <tr>\n",
       "      <th>1</th>\n",
       "      <td>Landsat 5 Satellite Telemetry Data</td>\n",
       "      <td>NaN</td>\n",
       "      <td>TM</td>\n",
       "      <td>ls5_satellite_telemetry_data</td>\n",
       "      <td>LANDSAT_5</td>\n",
       "      <td>satellite_telemetry_data</td>\n",
       "    </tr>\n",
       "    <tr>\n",
       "      <th>2</th>\n",
       "      <td>Landsat 5 Level 1 - Ortho Rectified</td>\n",
       "      <td>GeoTiff</td>\n",
       "      <td>TM</td>\n",
       "      <td>ls5_level1_scene</td>\n",
       "      <td>LANDSAT_5</td>\n",
       "      <td>level1</td>\n",
       "    </tr>\n",
       "    <tr>\n",
       "      <th>3</th>\n",
       "      <td>Landsat 5 NBAR 25 metre</td>\n",
       "      <td>GeoTiff</td>\n",
       "      <td>TM</td>\n",
       "      <td>ls5_nbar_scene</td>\n",
       "      <td>LANDSAT_5</td>\n",
       "      <td>nbar</td>\n",
       "    </tr>\n",
       "    <tr>\n",
       "      <th>4</th>\n",
       "      <td>Landsat 5 NBART 25 metre</td>\n",
       "      <td>GeoTiff</td>\n",
       "      <td>TM</td>\n",
       "      <td>ls5_nbart_scene</td>\n",
       "      <td>LANDSAT_5</td>\n",
       "      <td>nbart</td>\n",
       "    </tr>\n",
       "    <tr>\n",
       "      <th>5</th>\n",
       "      <td>Landsat 5 PQ 25 metre</td>\n",
       "      <td>GeoTiff</td>\n",
       "      <td>TM</td>\n",
       "      <td>ls5_pq_scene</td>\n",
       "      <td>LANDSAT_5</td>\n",
       "      <td>pqa</td>\n",
       "    </tr>\n",
       "    <tr>\n",
       "      <th>6</th>\n",
       "      <td>Landsat 5 LEDAPS 25 metre</td>\n",
       "      <td>GeoTiff</td>\n",
       "      <td>TM</td>\n",
       "      <td>ls5_ledaps_scene</td>\n",
       "      <td>LANDSAT_5</td>\n",
       "      <td>ledaps</td>\n",
       "    </tr>\n",
       "    <tr>\n",
       "      <th>7</th>\n",
       "      <td>Landsat 7 Satellite Telemetry Data</td>\n",
       "      <td>NaN</td>\n",
       "      <td>ETM</td>\n",
       "      <td>ls7_satellite_telemetry_data</td>\n",
       "      <td>LANDSAT_7</td>\n",
       "      <td>satellite_telemetry_data</td>\n",
       "    </tr>\n",
       "    <tr>\n",
       "      <th>8</th>\n",
       "      <td>Landsat 7 Level 1 - Ortho Rectified</td>\n",
       "      <td>GeoTiff</td>\n",
       "      <td>ETM</td>\n",
       "      <td>ls7_level1_scene</td>\n",
       "      <td>LANDSAT_7</td>\n",
       "      <td>level1</td>\n",
       "    </tr>\n",
       "    <tr>\n",
       "      <th>9</th>\n",
       "      <td>Landsat 7 NBAR 25 metre</td>\n",
       "      <td>GeoTiff</td>\n",
       "      <td>ETM</td>\n",
       "      <td>ls7_nbar_scene</td>\n",
       "      <td>LANDSAT_7</td>\n",
       "      <td>nbar</td>\n",
       "    </tr>\n",
       "    <tr>\n",
       "      <th>10</th>\n",
       "      <td>Landsat 7 NBART 25 metre</td>\n",
       "      <td>GeoTiff</td>\n",
       "      <td>ETM</td>\n",
       "      <td>ls7_nbart_scene</td>\n",
       "      <td>LANDSAT_7</td>\n",
       "      <td>nbart</td>\n",
       "    </tr>\n",
       "    <tr>\n",
       "      <th>11</th>\n",
       "      <td>Landsat 7 PQ 25 metre</td>\n",
       "      <td>GeoTiff</td>\n",
       "      <td>TM</td>\n",
       "      <td>ls7_pq_scene</td>\n",
       "      <td>LANDSAT_7</td>\n",
       "      <td>pqa</td>\n",
       "    </tr>\n",
       "    <tr>\n",
       "      <th>12</th>\n",
       "      <td>Landsat 8 Satellite Telemetry Data</td>\n",
       "      <td>NaN</td>\n",
       "      <td>OLI</td>\n",
       "      <td>ls8_satellite_telemetry_data</td>\n",
       "      <td>LANDSAT_8</td>\n",
       "      <td>satellite_telemetry_data</td>\n",
       "    </tr>\n",
       "    <tr>\n",
       "      <th>13</th>\n",
       "      <td>Landsat 8 Level 1 - Ortho Rectified</td>\n",
       "      <td>GeoTiff</td>\n",
       "      <td>OLI</td>\n",
       "      <td>ls8_level1_scene</td>\n",
       "      <td>LANDSAT_8</td>\n",
       "      <td>level1</td>\n",
       "    </tr>\n",
       "    <tr>\n",
       "      <th>14</th>\n",
       "      <td>Landsat 8 NBAR 25 metre</td>\n",
       "      <td>GeoTiff</td>\n",
       "      <td>OLI</td>\n",
       "      <td>ls8_nbar_scene</td>\n",
       "      <td>LANDSAT_8</td>\n",
       "      <td>nbar</td>\n",
       "    </tr>\n",
       "    <tr>\n",
       "      <th>15</th>\n",
       "      <td>Landsat 8 NBART 25 metre</td>\n",
       "      <td>GeoTiff</td>\n",
       "      <td>OLI</td>\n",
       "      <td>ls8_nbart_scene</td>\n",
       "      <td>LANDSAT_8</td>\n",
       "      <td>nbart</td>\n",
       "    </tr>\n",
       "    <tr>\n",
       "      <th>16</th>\n",
       "      <td>Landsat 8 PQ 25 metre</td>\n",
       "      <td>GeoTiff</td>\n",
       "      <td>ETM</td>\n",
       "      <td>ls8_pq_scene</td>\n",
       "      <td>LANDSAT_8</td>\n",
       "      <td>pqa</td>\n",
       "    </tr>\n",
       "    <tr>\n",
       "      <th>17</th>\n",
       "      <td>Sentinel-2 Level 1 - Ortho Rectified</td>\n",
       "      <td>JPEG2000</td>\n",
       "      <td>MSI</td>\n",
       "      <td>s2a_level1c_granule</td>\n",
       "      <td>SENTINEL_2A</td>\n",
       "      <td>S2MSI1C</td>\n",
       "    </tr>\n",
       "    <tr>\n",
       "      <th>18</th>\n",
       "      <td>MODIS 500 metre MCD43A1</td>\n",
       "      <td>HDF4_EOS:EOS_GRID</td>\n",
       "      <td>MODIS</td>\n",
       "      <td>modis_mcd43a1_tile</td>\n",
       "      <td>AQUA_TERRA</td>\n",
       "      <td>MCD43A1</td>\n",
       "    </tr>\n",
       "    <tr>\n",
       "      <th>19</th>\n",
       "      <td>MODIS 500 metre MCD43A2</td>\n",
       "      <td>HDF4_EOS:EOS_GRID</td>\n",
       "      <td>MODIS</td>\n",
       "      <td>modis_mcd43a2_tile</td>\n",
       "      <td>AQUA_TERRA</td>\n",
       "      <td>MCD43A2</td>\n",
       "    </tr>\n",
       "    <tr>\n",
       "      <th>20</th>\n",
       "      <td>MODIS 500 metre MCD43A3</td>\n",
       "      <td>HDF4_EOS:EOS_GRID</td>\n",
       "      <td>MODIS</td>\n",
       "      <td>modis_mcd43a3_tile</td>\n",
       "      <td>AQUA_TERRA</td>\n",
       "      <td>MCD43A3</td>\n",
       "    </tr>\n",
       "    <tr>\n",
       "      <th>21</th>\n",
       "      <td>MODIS 500 metre MCD43A4</td>\n",
       "      <td>HDF4_EOS:EOS_GRID</td>\n",
       "      <td>MODIS</td>\n",
       "      <td>modis_mcd43a4_tile</td>\n",
       "      <td>AQUA_TERRA</td>\n",
       "      <td>MCD43A4</td>\n",
       "    </tr>\n",
       "    <tr>\n",
       "      <th>22</th>\n",
       "      <td>H8 BRF, 2km, 1km and 500m granules</td>\n",
       "      <td>NaN</td>\n",
       "      <td>AHI</td>\n",
       "      <td>h8_ahi_brf_granule</td>\n",
       "      <td>HIMAWARI_8</td>\n",
       "      <td>BRF</td>\n",
       "    </tr>\n",
       "  </tbody>\n",
       "</table>\n",
       "</div>"
      ],
      "text/plain": [
       "                             description             format instrument  \\\n",
       "id                                                                       \n",
       "1     Landsat 5 Satellite Telemetry Data                NaN         TM   \n",
       "2    Landsat 5 Level 1 - Ortho Rectified            GeoTiff         TM   \n",
       "3                Landsat 5 NBAR 25 metre            GeoTiff         TM   \n",
       "4               Landsat 5 NBART 25 metre            GeoTiff         TM   \n",
       "5                  Landsat 5 PQ 25 metre            GeoTiff         TM   \n",
       "6              Landsat 5 LEDAPS 25 metre            GeoTiff         TM   \n",
       "7     Landsat 7 Satellite Telemetry Data                NaN        ETM   \n",
       "8    Landsat 7 Level 1 - Ortho Rectified            GeoTiff        ETM   \n",
       "9                Landsat 7 NBAR 25 metre            GeoTiff        ETM   \n",
       "10              Landsat 7 NBART 25 metre            GeoTiff        ETM   \n",
       "11                 Landsat 7 PQ 25 metre            GeoTiff         TM   \n",
       "12    Landsat 8 Satellite Telemetry Data                NaN        OLI   \n",
       "13   Landsat 8 Level 1 - Ortho Rectified            GeoTiff        OLI   \n",
       "14               Landsat 8 NBAR 25 metre            GeoTiff        OLI   \n",
       "15              Landsat 8 NBART 25 metre            GeoTiff        OLI   \n",
       "16                 Landsat 8 PQ 25 metre            GeoTiff        ETM   \n",
       "17  Sentinel-2 Level 1 - Ortho Rectified           JPEG2000        MSI   \n",
       "18               MODIS 500 metre MCD43A1  HDF4_EOS:EOS_GRID      MODIS   \n",
       "19               MODIS 500 metre MCD43A2  HDF4_EOS:EOS_GRID      MODIS   \n",
       "20               MODIS 500 metre MCD43A3  HDF4_EOS:EOS_GRID      MODIS   \n",
       "21               MODIS 500 metre MCD43A4  HDF4_EOS:EOS_GRID      MODIS   \n",
       "22    H8 BRF, 2km, 1km and 500m granules                NaN        AHI   \n",
       "\n",
       "                            name     platform                   product  \n",
       "id                                                                       \n",
       "1   ls5_satellite_telemetry_data    LANDSAT_5  satellite_telemetry_data  \n",
       "2               ls5_level1_scene    LANDSAT_5                    level1  \n",
       "3                 ls5_nbar_scene    LANDSAT_5                      nbar  \n",
       "4                ls5_nbart_scene    LANDSAT_5                     nbart  \n",
       "5                   ls5_pq_scene    LANDSAT_5                       pqa  \n",
       "6               ls5_ledaps_scene    LANDSAT_5                    ledaps  \n",
       "7   ls7_satellite_telemetry_data    LANDSAT_7  satellite_telemetry_data  \n",
       "8               ls7_level1_scene    LANDSAT_7                    level1  \n",
       "9                 ls7_nbar_scene    LANDSAT_7                      nbar  \n",
       "10               ls7_nbart_scene    LANDSAT_7                     nbart  \n",
       "11                  ls7_pq_scene    LANDSAT_7                       pqa  \n",
       "12  ls8_satellite_telemetry_data    LANDSAT_8  satellite_telemetry_data  \n",
       "13              ls8_level1_scene    LANDSAT_8                    level1  \n",
       "14                ls8_nbar_scene    LANDSAT_8                      nbar  \n",
       "15               ls8_nbart_scene    LANDSAT_8                     nbart  \n",
       "16                  ls8_pq_scene    LANDSAT_8                       pqa  \n",
       "17           s2a_level1c_granule  SENTINEL_2A                   S2MSI1C  \n",
       "18            modis_mcd43a1_tile   AQUA_TERRA                   MCD43A1  \n",
       "19            modis_mcd43a2_tile   AQUA_TERRA                   MCD43A2  \n",
       "20            modis_mcd43a3_tile   AQUA_TERRA                   MCD43A3  \n",
       "21            modis_mcd43a4_tile   AQUA_TERRA                   MCD43A4  \n",
       "22            h8_ahi_brf_granule   HIMAWARI_8                       BRF  "
      ]
     },
     "execution_count": 4,
     "metadata": {},
     "output_type": "execute_result"
    }
   ],
   "source": [
    "dd = [d for d in dc.index.datasets.types.get_all()]\n",
    "from datacube.api.core import datatset_type_to_row\n",
    "dt = [datatset_type_to_row(d) for d in dd]\n",
    "import pandas\n",
    "pandas.DataFrame(dt).set_index('id')"
   ]
  },
  {
   "cell_type": "code",
   "execution_count": 13,
   "metadata": {
    "collapsed": false
   },
   "outputs": [
    {
     "ename": "TypeError",
     "evalue": "'function' object has no attribute '__getitem__'",
     "output_type": "error",
     "traceback": [
      "\u001b[1;31m---------------------------------------------------------------------------\u001b[0m",
      "\u001b[1;31mTypeError\u001b[0m                                 Traceback (most recent call last)",
      "\u001b[1;32m<ipython-input-13-eadad973ccff>\u001b[0m in \u001b[0;36m<module>\u001b[1;34m()\u001b[0m\n\u001b[0;32m      1\u001b[0m \u001b[0mall_datasets\u001b[0m \u001b[1;33m=\u001b[0m \u001b[0mdc\u001b[0m\u001b[1;33m.\u001b[0m\u001b[0mproduct_data\u001b[0m\u001b[1;33m\u001b[0m\u001b[0m\n\u001b[1;32m----> 2\u001b[1;33m \u001b[0mall_datasets\u001b[0m\u001b[1;33m[\u001b[0m\u001b[0mall_datasets\u001b[0m\u001b[1;33m[\u001b[0m\u001b[1;34m'crs'\u001b[0m\u001b[1;33m]\u001b[0m \u001b[1;33m==\u001b[0m \u001b[0mCRS\u001b[0m\u001b[1;33m(\u001b[0m\u001b[1;34m'wgs84'\u001b[0m\u001b[1;33m)\u001b[0m\u001b[1;33m]\u001b[0m\u001b[1;33m\u001b[0m\u001b[0m\n\u001b[0m",
      "\u001b[1;31mTypeError\u001b[0m: 'function' object has no attribute '__getitem__'"
     ]
    }
   ],
   "source": [
    "all_datasets = dc.product_data\n",
    "all_datasets[all_datasets['crs'] == CRS('wgs84')]"
   ]
  },
  {
   "cell_type": "code",
   "execution_count": 14,
   "metadata": {
    "collapsed": false
   },
   "outputs": [
    {
     "ename": "KeyError",
     "evalue": "'s2a_level1c_albers_10'",
     "output_type": "error",
     "traceback": [
      "\u001b[1;31m---------------------------------------------------------------------------\u001b[0m",
      "\u001b[1;31mKeyError\u001b[0m                                  Traceback (most recent call last)",
      "\u001b[1;32m<ipython-input-14-2ffd349e2f87>\u001b[0m in \u001b[0;36m<module>\u001b[1;34m()\u001b[0m\n\u001b[1;32m----> 1\u001b[1;33m \u001b[0mdc\u001b[0m\u001b[1;33m.\u001b[0m\u001b[0mvariables\u001b[0m\u001b[1;33m.\u001b[0m\u001b[0mspectral_definition\u001b[0m\u001b[1;33m[\u001b[0m\u001b[1;34m's2a_level1c_albers_10'\u001b[0m\u001b[1;33m]\u001b[0m\u001b[1;33m[\u001b[0m\u001b[1;36m0\u001b[0m\u001b[1;33m]\u001b[0m\u001b[1;33m[\u001b[0m\u001b[1;34m'wavelength'\u001b[0m\u001b[1;33m]\u001b[0m\u001b[1;33m\u001b[0m\u001b[0m\n\u001b[0m",
      "\u001b[1;32m/home/simonaoliver/venvs/agdc-v2/local/lib/python2.7/site-packages/pandas/core/series.pyc\u001b[0m in \u001b[0;36m__getitem__\u001b[1;34m(self, key)\u001b[0m\n\u001b[0;32m    555\u001b[0m     \u001b[1;32mdef\u001b[0m \u001b[0m__getitem__\u001b[0m\u001b[1;33m(\u001b[0m\u001b[0mself\u001b[0m\u001b[1;33m,\u001b[0m \u001b[0mkey\u001b[0m\u001b[1;33m)\u001b[0m\u001b[1;33m:\u001b[0m\u001b[1;33m\u001b[0m\u001b[0m\n\u001b[0;32m    556\u001b[0m         \u001b[1;32mtry\u001b[0m\u001b[1;33m:\u001b[0m\u001b[1;33m\u001b[0m\u001b[0m\n\u001b[1;32m--> 557\u001b[1;33m             \u001b[0mresult\u001b[0m \u001b[1;33m=\u001b[0m \u001b[0mself\u001b[0m\u001b[1;33m.\u001b[0m\u001b[0mindex\u001b[0m\u001b[1;33m.\u001b[0m\u001b[0mget_value\u001b[0m\u001b[1;33m(\u001b[0m\u001b[0mself\u001b[0m\u001b[1;33m,\u001b[0m \u001b[0mkey\u001b[0m\u001b[1;33m)\u001b[0m\u001b[1;33m\u001b[0m\u001b[0m\n\u001b[0m\u001b[0;32m    558\u001b[0m \u001b[1;33m\u001b[0m\u001b[0m\n\u001b[0;32m    559\u001b[0m             \u001b[1;32mif\u001b[0m \u001b[1;32mnot\u001b[0m \u001b[0mnp\u001b[0m\u001b[1;33m.\u001b[0m\u001b[0misscalar\u001b[0m\u001b[1;33m(\u001b[0m\u001b[0mresult\u001b[0m\u001b[1;33m)\u001b[0m\u001b[1;33m:\u001b[0m\u001b[1;33m\u001b[0m\u001b[0m\n",
      "\u001b[1;32m/home/simonaoliver/venvs/agdc-v2/local/lib/python2.7/site-packages/pandas/core/index.pyc\u001b[0m in \u001b[0;36mget_value\u001b[1;34m(self, series, key)\u001b[0m\n\u001b[0;32m   4527\u001b[0m                     \u001b[1;32mraise\u001b[0m \u001b[0mInvalidIndexError\u001b[0m\u001b[1;33m(\u001b[0m\u001b[0mkey\u001b[0m\u001b[1;33m)\u001b[0m\u001b[1;33m\u001b[0m\u001b[0m\n\u001b[0;32m   4528\u001b[0m                 \u001b[1;32melse\u001b[0m\u001b[1;33m:\u001b[0m\u001b[1;33m\u001b[0m\u001b[0m\n\u001b[1;32m-> 4529\u001b[1;33m                     \u001b[1;32mraise\u001b[0m \u001b[0me1\u001b[0m\u001b[1;33m\u001b[0m\u001b[0m\n\u001b[0m\u001b[0;32m   4530\u001b[0m             \u001b[1;32mexcept\u001b[0m \u001b[0mException\u001b[0m\u001b[1;33m:\u001b[0m  \u001b[1;31m# pragma: no cover\u001b[0m\u001b[1;33m\u001b[0m\u001b[0m\n\u001b[0;32m   4531\u001b[0m                 \u001b[1;32mraise\u001b[0m \u001b[0me1\u001b[0m\u001b[1;33m\u001b[0m\u001b[0m\n",
      "\u001b[1;31mKeyError\u001b[0m: 's2a_level1c_albers_10'"
     ]
    }
   ],
   "source": [
    "dc.variables.spectral_definition['s2a_level1c_albers_10'][0]['wavelength']"
   ]
  },
  {
   "cell_type": "code",
   "execution_count": 15,
   "metadata": {
    "collapsed": false
   },
   "outputs": [
    {
     "ename": "AttributeError",
     "evalue": "'NoneType' object has no attribute 'metadata_type'",
     "output_type": "error",
     "traceback": [
      "\u001b[1;31m---------------------------------------------------------------------------\u001b[0m",
      "\u001b[1;31mAttributeError\u001b[0m                            Traceback (most recent call last)",
      "\u001b[1;32m<ipython-input-15-2652badbe860>\u001b[0m in \u001b[0;36m<module>\u001b[1;34m()\u001b[0m\n\u001b[0;32m      1\u001b[0m \u001b[1;31m# Andrew’s access method\u001b[0m\u001b[1;33m\u001b[0m\u001b[1;33m\u001b[0m\u001b[0m\n\u001b[0;32m      2\u001b[0m \u001b[1;33m\u001b[0m\u001b[0m\n\u001b[1;32m----> 3\u001b[1;33m \u001b[0mdc\u001b[0m\u001b[1;33m.\u001b[0m\u001b[0mget_dataset\u001b[0m\u001b[1;33m(\u001b[0m\u001b[0mtype\u001b[0m\u001b[1;33m=\u001b[0m\u001b[1;34m'ls5_nbart_albers'\u001b[0m\u001b[1;33m)\u001b[0m\u001b[1;33m\u001b[0m\u001b[0m\n\u001b[0m",
      "\u001b[1;32m/home/simonaoliver/venvs/agdc-v2/local/lib/python2.7/site-packages/datacube/api/core.pyc\u001b[0m in \u001b[0;36mget_dataset\u001b[1;34m(self, **indexers)\u001b[0m\n\u001b[0;32m    116\u001b[0m         observations = self.product_observations(type_name=type_name,\n\u001b[0;32m    117\u001b[0m                                                  \u001b[0mgeopolygon\u001b[0m\u001b[1;33m=\u001b[0m\u001b[0mquery\u001b[0m\u001b[1;33m.\u001b[0m\u001b[0mgeopolygon\u001b[0m\u001b[1;33m,\u001b[0m\u001b[1;33m\u001b[0m\u001b[0m\n\u001b[1;32m--> 118\u001b[1;33m                                                  **query.search_terms)\n\u001b[0m\u001b[0;32m    119\u001b[0m         \u001b[0mgeopolygon\u001b[0m \u001b[1;33m=\u001b[0m \u001b[0mquery\u001b[0m\u001b[1;33m.\u001b[0m\u001b[0mgeopolygon\u001b[0m\u001b[1;33m\u001b[0m\u001b[0m\n\u001b[0;32m    120\u001b[0m         \u001b[1;32mif\u001b[0m \u001b[1;32mnot\u001b[0m \u001b[0mgeopolygon\u001b[0m\u001b[1;33m:\u001b[0m\u001b[1;33m\u001b[0m\u001b[0m\n",
      "\u001b[1;32m/home/simonaoliver/venvs/agdc-v2/local/lib/python2.7/site-packages/datacube/api/core.pyc\u001b[0m in \u001b[0;36mproduct_observations\u001b[1;34m(self, type_name, geopolygon, **kwargs)\u001b[0m\n\u001b[0;32m    147\u001b[0m             \u001b[0mkwargs\u001b[0m\u001b[1;33m[\u001b[0m\u001b[1;34m'lon'\u001b[0m\u001b[1;33m]\u001b[0m \u001b[1;33m=\u001b[0m \u001b[0mRange\u001b[0m\u001b[1;33m(\u001b[0m\u001b[0mgeo_bb\u001b[0m\u001b[1;33m.\u001b[0m\u001b[0mleft\u001b[0m\u001b[1;33m,\u001b[0m \u001b[0mgeo_bb\u001b[0m\u001b[1;33m.\u001b[0m\u001b[0mright\u001b[0m\u001b[1;33m)\u001b[0m\u001b[1;33m\u001b[0m\u001b[0m\n\u001b[0;32m    148\u001b[0m         \u001b[1;31m# TODO: pull out full datasets lineage?\u001b[0m\u001b[1;33m\u001b[0m\u001b[1;33m\u001b[0m\u001b[0m\n\u001b[1;32m--> 149\u001b[1;33m         \u001b[0mdatasets\u001b[0m \u001b[1;33m=\u001b[0m \u001b[0mself\u001b[0m\u001b[1;33m.\u001b[0m\u001b[0mindex\u001b[0m\u001b[1;33m.\u001b[0m\u001b[0mdatasets\u001b[0m\u001b[1;33m.\u001b[0m\u001b[0msearch_eager\u001b[0m\u001b[1;33m(\u001b[0m\u001b[0mtype\u001b[0m\u001b[1;33m=\u001b[0m\u001b[0mtype_name\u001b[0m\u001b[1;33m,\u001b[0m \u001b[1;33m**\u001b[0m\u001b[0mkwargs\u001b[0m\u001b[1;33m)\u001b[0m\u001b[1;33m\u001b[0m\u001b[0m\n\u001b[0m\u001b[0;32m    150\u001b[0m         \u001b[1;31m# All datasets will be same type, can make assumptions\u001b[0m\u001b[1;33m\u001b[0m\u001b[1;33m\u001b[0m\u001b[0m\n\u001b[0;32m    151\u001b[0m         \u001b[1;32mif\u001b[0m \u001b[0mgeopolygon\u001b[0m\u001b[1;33m:\u001b[0m\u001b[1;33m\u001b[0m\u001b[0m\n",
      "\u001b[1;32m/home/simonaoliver/venvs/agdc-v2/local/lib/python2.7/site-packages/datacube/index/_datasets.pyc\u001b[0m in \u001b[0;36msearch_eager\u001b[1;34m(self, **query)\u001b[0m\n\u001b[0;32m    431\u001b[0m         \u001b[1;33m:\u001b[0m\u001b[0mrtype\u001b[0m \u001b[0mlist\u001b[0m\u001b[1;33m[\u001b[0m\u001b[0mdatacube\u001b[0m\u001b[1;33m.\u001b[0m\u001b[0mmodel\u001b[0m\u001b[1;33m.\u001b[0m\u001b[0mDataset\u001b[0m\u001b[1;33m]\u001b[0m\u001b[1;33m\u001b[0m\u001b[0m\n\u001b[0;32m    432\u001b[0m         \"\"\"\n\u001b[1;32m--> 433\u001b[1;33m         \u001b[1;32mreturn\u001b[0m \u001b[0mlist\u001b[0m\u001b[1;33m(\u001b[0m\u001b[0mself\u001b[0m\u001b[1;33m.\u001b[0m\u001b[0msearch\u001b[0m\u001b[1;33m(\u001b[0m\u001b[1;33m**\u001b[0m\u001b[0mquery\u001b[0m\u001b[1;33m)\u001b[0m\u001b[1;33m)\u001b[0m\u001b[1;33m\u001b[0m\u001b[0m\n\u001b[0m",
      "\u001b[1;32m/home/simonaoliver/venvs/agdc-v2/local/lib/python2.7/site-packages/datacube/index/_datasets.pyc\u001b[0m in \u001b[0;36m<genexpr>\u001b[1;34m(***failed resolving arguments***)\u001b[0m\n\u001b[0;32m    351\u001b[0m         \u001b[1;33m:\u001b[0m\u001b[0mrtype\u001b[0m \u001b[0mlist\u001b[0m\u001b[1;33m[\u001b[0m\u001b[0mdatacube\u001b[0m\u001b[1;33m.\u001b[0m\u001b[0mmodel\u001b[0m\u001b[1;33m.\u001b[0m\u001b[0mDataset\u001b[0m\u001b[1;33m]\u001b[0m\u001b[1;33m\u001b[0m\u001b[0m\n\u001b[0;32m    352\u001b[0m         \"\"\"\n\u001b[1;32m--> 353\u001b[1;33m         \u001b[1;32mreturn\u001b[0m \u001b[1;33m(\u001b[0m\u001b[0mself\u001b[0m\u001b[1;33m.\u001b[0m\u001b[0m_make\u001b[0m\u001b[1;33m(\u001b[0m\u001b[0mdataset\u001b[0m\u001b[1;33m)\u001b[0m \u001b[1;32mfor\u001b[0m \u001b[0mdataset\u001b[0m \u001b[1;32min\u001b[0m \u001b[0mquery_result\u001b[0m\u001b[1;33m)\u001b[0m\u001b[1;33m\u001b[0m\u001b[0m\n\u001b[0m\u001b[0;32m    354\u001b[0m \u001b[1;33m\u001b[0m\u001b[0m\n\u001b[0;32m    355\u001b[0m     \u001b[1;32mdef\u001b[0m \u001b[0msearch_by_metadata\u001b[0m\u001b[1;33m(\u001b[0m\u001b[0mself\u001b[0m\u001b[1;33m,\u001b[0m \u001b[0mmetadata\u001b[0m\u001b[1;33m)\u001b[0m\u001b[1;33m:\u001b[0m\u001b[1;33m\u001b[0m\u001b[0m\n",
      "\u001b[1;32m/home/simonaoliver/venvs/agdc-v2/local/lib/python2.7/site-packages/datacube/index/_datasets.pyc\u001b[0m in \u001b[0;36m_do_search\u001b[1;34m(self, query, return_fields, with_source_ids)\u001b[0m\n\u001b[0;32m    376\u001b[0m         \u001b[0mmetadata_types\u001b[0m \u001b[1;33m=\u001b[0m \u001b[0mset\u001b[0m\u001b[1;33m(\u001b[0m\u001b[1;33m)\u001b[0m\u001b[1;33m\u001b[0m\u001b[0m\n\u001b[0;32m    377\u001b[0m         \u001b[1;32mif\u001b[0m \u001b[1;34m'type'\u001b[0m \u001b[1;32min\u001b[0m \u001b[0mq\u001b[0m\u001b[1;33m.\u001b[0m\u001b[0mkeys\u001b[0m\u001b[1;33m(\u001b[0m\u001b[1;33m)\u001b[0m\u001b[1;33m:\u001b[0m\u001b[1;33m\u001b[0m\u001b[0m\n\u001b[1;32m--> 378\u001b[1;33m             \u001b[0mmetadata_types\u001b[0m\u001b[1;33m.\u001b[0m\u001b[0madd\u001b[0m\u001b[1;33m(\u001b[0m\u001b[0mself\u001b[0m\u001b[1;33m.\u001b[0m\u001b[0mtypes\u001b[0m\u001b[1;33m.\u001b[0m\u001b[0mget_by_name\u001b[0m\u001b[1;33m(\u001b[0m\u001b[0mq\u001b[0m\u001b[1;33m[\u001b[0m\u001b[1;34m'type'\u001b[0m\u001b[1;33m]\u001b[0m\u001b[1;33m)\u001b[0m\u001b[1;33m.\u001b[0m\u001b[0mmetadata_type\u001b[0m\u001b[1;33m)\u001b[0m\u001b[1;33m\u001b[0m\u001b[0m\n\u001b[0m\u001b[0;32m    379\u001b[0m \u001b[1;33m\u001b[0m\u001b[0m\n\u001b[0;32m    380\u001b[0m         \u001b[1;31m# If they specified a metadata type, search using it.\u001b[0m\u001b[1;33m\u001b[0m\u001b[1;33m\u001b[0m\u001b[0m\n",
      "\u001b[1;31mAttributeError\u001b[0m: 'NoneType' object has no attribute 'metadata_type'"
     ]
    }
   ],
   "source": [
    "# Andrew’s access method\n",
    " \n",
    "dc.get_dataset(type='ls5_nbart_albers')"
   ]
  },
  {
   "cell_type": "code",
   "execution_count": 17,
   "metadata": {
    "collapsed": false
   },
   "outputs": [
    {
     "name": "stdout",
     "output_type": "stream",
     "text": [
      "DatasetType(name=u'modis_mcd43a1_tile', id_=18)\n"
     ]
    }
   ],
   "source": [
    "# Greg’s low-level access methods:\n",
    "input_type_name = 'modis_mcd43a1_tile'\n",
    "input_type = dc.index.datasets.types.get_by_name(input_type_name)\n",
    "print input_type"
   ]
  },
  {
   "cell_type": "code",
   "execution_count": 19,
   "metadata": {
    "collapsed": false
   },
   "outputs": [
    {
     "name": "stdout",
     "output_type": "stream",
     "text": [
      "Number of observations found: 1\n"
     ]
    }
   ],
   "source": [
    "mypoly = GeoPolygon([(138.2, -31), (138.4, -31), (129.5, -32), (129.4, -32)], CRS('EPSG:4326'))\n",
    "observations = dc.product_observations(input_type_name, mypoly)\n",
    "print 'Number of observations found:', len(observations)\n",
    " "
   ]
  },
  {
   "cell_type": "code",
   "execution_count": 21,
   "metadata": {
    "collapsed": false
   },
   "outputs": [
    {
     "name": "stdout",
     "output_type": "stream",
     "text": [
      "Number of timestamps: 1\n",
      "2000-02-26T11:00:00.000000000+1100 to 2000-02-26T11:00:00.000000000+1100\n"
     ]
    }
   ],
   "source": [
    "sources = dc.product_sources(observations, lambda ds: ds.center_time, 'time', 'seconds since 1970-01-01 00:00:00')\n",
    "print 'Number of timestamps:', len(sources)\n",
    "print sources.time.values[0], 'to', sources.time.values[-1]"
   ]
  },
  {
   "cell_type": "code",
   "execution_count": 154,
   "metadata": {
    "collapsed": false
   },
   "outputs": [
    {
     "name": "stdout",
     "output_type": "stream",
     "text": [
      "Help on function product_data in module datacube.api.core:\n",
      "\n",
      "product_data(sources, geobox, measurements, fuse_func=None)\n",
      "\n"
     ]
    }
   ],
   "source": [
    "help(dc.product_data)"
   ]
  },
  {
   "cell_type": "code",
   "execution_count": 22,
   "metadata": {
    "collapsed": false
   },
   "outputs": [
    {
     "name": "stderr",
     "output_type": "stream",
     "text": [
      "ERROR:datacube.storage.storage:Error opening source dataset: file://HDF4_EOS:EOS_GRID:/media/simonaoliver/datacube/input/USGS_MODIS/MCD43A1.A2000057.h29v12.005.2006270134929.hdf:MOD_Grid_BRDF:BRDF_Albedo_Parameters_Band1\n"
     ]
    },
    {
     "ename": "KeyError",
     "evalue": "'NETCDF_DIM_time'",
     "output_type": "error",
     "traceback": [
      "\u001b[1;31m---------------------------------------------------------------------------\u001b[0m",
      "\u001b[1;31mKeyError\u001b[0m                                  Traceback (most recent call last)",
      "\u001b[1;32m<ipython-input-22-d956f960e88e>\u001b[0m in \u001b[0;36m<module>\u001b[1;34m()\u001b[0m\n\u001b[0;32m      1\u001b[0m \u001b[0mgeobox\u001b[0m \u001b[1;33m=\u001b[0m \u001b[0mGeoBox\u001b[0m\u001b[1;33m.\u001b[0m\u001b[0mfrom_geopolygon\u001b[0m\u001b[1;33m(\u001b[0m\u001b[0mmypoly\u001b[0m\u001b[1;33m.\u001b[0m\u001b[0mto_crs\u001b[0m\u001b[1;33m(\u001b[0m\u001b[0mCRS\u001b[0m\u001b[1;33m(\u001b[0m\u001b[1;34m'EPSG:3577'\u001b[0m\u001b[1;33m)\u001b[0m\u001b[1;33m)\u001b[0m\u001b[1;33m,\u001b[0m \u001b[1;33m(\u001b[0m\u001b[1;33m-\u001b[0m\u001b[1;36m25\u001b[0m\u001b[1;33m,\u001b[0m \u001b[1;36m25\u001b[0m\u001b[1;33m)\u001b[0m\u001b[1;33m)\u001b[0m\u001b[1;33m\u001b[0m\u001b[0m\n\u001b[1;32m----> 2\u001b[1;33m \u001b[0mdata\u001b[0m \u001b[1;33m=\u001b[0m \u001b[0mdc\u001b[0m\u001b[1;33m.\u001b[0m\u001b[0mproduct_data\u001b[0m\u001b[1;33m(\u001b[0m\u001b[0msources\u001b[0m\u001b[1;33m,\u001b[0m \u001b[0mgeobox\u001b[0m\u001b[1;33m,\u001b[0m  \u001b[0minput_type\u001b[0m\u001b[1;33m.\u001b[0m\u001b[0mmeasurements\u001b[0m\u001b[1;33m.\u001b[0m\u001b[0mvalues\u001b[0m\u001b[1;33m(\u001b[0m\u001b[1;33m)\u001b[0m\u001b[1;33m)\u001b[0m\u001b[1;33m\u001b[0m\u001b[0m\n\u001b[0m\u001b[0;32m      3\u001b[0m \u001b[1;32mprint\u001b[0m \u001b[0mdata\u001b[0m\u001b[1;33m\u001b[0m\u001b[0m\n",
      "\u001b[1;32m/home/simonaoliver/venvs/agdc-v2/local/lib/python2.7/site-packages/datacube/api/core.pyc\u001b[0m in \u001b[0;36mproduct_data\u001b[1;34m(sources, geobox, measurements, fuse_func)\u001b[0m\n\u001b[0;32m    194\u001b[0m                              \u001b[0mmeasurement\u001b[0m\u001b[1;33m.\u001b[0m\u001b[0mget\u001b[0m\u001b[1;33m(\u001b[0m\u001b[1;34m'nodata'\u001b[0m\u001b[1;33m)\u001b[0m\u001b[1;33m,\u001b[0m\u001b[1;33m\u001b[0m\u001b[0m\n\u001b[0;32m    195\u001b[0m                              \u001b[0mresampling\u001b[0m\u001b[1;33m=\u001b[0m\u001b[0mRESAMPLING\u001b[0m\u001b[1;33m.\u001b[0m\u001b[0mnearest\u001b[0m\u001b[1;33m,\u001b[0m\u001b[1;33m\u001b[0m\u001b[0m\n\u001b[1;32m--> 196\u001b[1;33m                              fuse_func=fuse_func)\n\u001b[0m\u001b[0;32m    197\u001b[0m             result[name] = (sources.dims + geobox.dimensions, data, {\n\u001b[0;32m    198\u001b[0m                 \u001b[1;34m'nodata'\u001b[0m\u001b[1;33m:\u001b[0m \u001b[0mmeasurement\u001b[0m\u001b[1;33m.\u001b[0m\u001b[0mget\u001b[0m\u001b[1;33m(\u001b[0m\u001b[1;34m'nodata'\u001b[0m\u001b[1;33m)\u001b[0m\u001b[1;33m,\u001b[0m\u001b[1;33m\u001b[0m\u001b[0m\n",
      "\u001b[1;32m/home/simonaoliver/venvs/agdc-v2/local/lib/python2.7/site-packages/datacube/storage/storage.pyc\u001b[0m in \u001b[0;36mfuse_sources\u001b[1;34m(sources, destination, dst_transform, dst_projection, dst_nodata, resampling, fuse_func)\u001b[0m\n\u001b[0;32m    102\u001b[0m \u001b[1;33m\u001b[0m\u001b[0m\n\u001b[0;32m    103\u001b[0m     \u001b[1;32mif\u001b[0m \u001b[0mlen\u001b[0m\u001b[1;33m(\u001b[0m\u001b[0msources\u001b[0m\u001b[1;33m)\u001b[0m \u001b[1;33m==\u001b[0m \u001b[1;36m1\u001b[0m\u001b[1;33m:\u001b[0m\u001b[1;33m\u001b[0m\u001b[0m\n\u001b[1;32m--> 104\u001b[1;33m         \u001b[0mreproject\u001b[0m\u001b[1;33m(\u001b[0m\u001b[0msources\u001b[0m\u001b[1;33m[\u001b[0m\u001b[1;36m0\u001b[0m\u001b[1;33m]\u001b[0m\u001b[1;33m,\u001b[0m \u001b[0mdestination\u001b[0m\u001b[1;33m)\u001b[0m\u001b[1;33m\u001b[0m\u001b[0m\n\u001b[0m\u001b[0;32m    105\u001b[0m         \u001b[1;32mreturn\u001b[0m \u001b[0mdestination\u001b[0m\u001b[1;33m\u001b[0m\u001b[0m\n\u001b[0;32m    106\u001b[0m \u001b[1;33m\u001b[0m\u001b[0m\n",
      "\u001b[1;32m/home/simonaoliver/venvs/agdc-v2/local/lib/python2.7/site-packages/datacube/storage/storage.pyc\u001b[0m in \u001b[0;36mreproject\u001b[1;34m(source, dest)\u001b[0m\n\u001b[0;32m     69\u001b[0m \u001b[1;33m\u001b[0m\u001b[0m\n\u001b[0;32m     70\u001b[0m     \u001b[1;32mdef\u001b[0m \u001b[0mreproject\u001b[0m\u001b[1;33m(\u001b[0m\u001b[0msource\u001b[0m\u001b[1;33m,\u001b[0m \u001b[0mdest\u001b[0m\u001b[1;33m)\u001b[0m\u001b[1;33m:\u001b[0m\u001b[1;33m\u001b[0m\u001b[0m\n\u001b[1;32m---> 71\u001b[1;33m         \u001b[1;32mwith\u001b[0m \u001b[0msource\u001b[0m\u001b[1;33m.\u001b[0m\u001b[0mopen\u001b[0m\u001b[1;33m(\u001b[0m\u001b[1;33m)\u001b[0m \u001b[1;32mas\u001b[0m \u001b[0msrc\u001b[0m\u001b[1;33m:\u001b[0m\u001b[1;33m\u001b[0m\u001b[0m\n\u001b[0m\u001b[0;32m     72\u001b[0m             \u001b[0marray_transform\u001b[0m \u001b[1;33m=\u001b[0m \u001b[1;33m~\u001b[0m\u001b[0msource\u001b[0m\u001b[1;33m.\u001b[0m\u001b[0mtransform\u001b[0m \u001b[1;33m*\u001b[0m \u001b[0mdst_transform\u001b[0m\u001b[1;33m\u001b[0m\u001b[0m\n\u001b[0;32m     73\u001b[0m             if (source.crs == dst_projection and no_scale(array_transform) and\n",
      "\u001b[1;32m/usr/lib/python2.7/contextlib.pyc\u001b[0m in \u001b[0;36m__enter__\u001b[1;34m(self)\u001b[0m\n\u001b[0;32m     15\u001b[0m     \u001b[1;32mdef\u001b[0m \u001b[0m__enter__\u001b[0m\u001b[1;33m(\u001b[0m\u001b[0mself\u001b[0m\u001b[1;33m)\u001b[0m\u001b[1;33m:\u001b[0m\u001b[1;33m\u001b[0m\u001b[0m\n\u001b[0;32m     16\u001b[0m         \u001b[1;32mtry\u001b[0m\u001b[1;33m:\u001b[0m\u001b[1;33m\u001b[0m\u001b[0m\n\u001b[1;32m---> 17\u001b[1;33m             \u001b[1;32mreturn\u001b[0m \u001b[0mself\u001b[0m\u001b[1;33m.\u001b[0m\u001b[0mgen\u001b[0m\u001b[1;33m.\u001b[0m\u001b[0mnext\u001b[0m\u001b[1;33m(\u001b[0m\u001b[1;33m)\u001b[0m\u001b[1;33m\u001b[0m\u001b[0m\n\u001b[0m\u001b[0;32m     18\u001b[0m         \u001b[1;32mexcept\u001b[0m \u001b[0mStopIteration\u001b[0m\u001b[1;33m:\u001b[0m\u001b[1;33m\u001b[0m\u001b[0m\n\u001b[0;32m     19\u001b[0m             \u001b[1;32mraise\u001b[0m \u001b[0mRuntimeError\u001b[0m\u001b[1;33m(\u001b[0m\u001b[1;34m\"generator didn't yield\"\u001b[0m\u001b[1;33m)\u001b[0m\u001b[1;33m\u001b[0m\u001b[0m\n",
      "\u001b[1;32m/home/simonaoliver/venvs/agdc-v2/local/lib/python2.7/site-packages/datacube/storage/storage.pyc\u001b[0m in \u001b[0;36mopen\u001b[1;34m(self)\u001b[0m\n\u001b[0;32m    160\u001b[0m         \u001b[1;32mexcept\u001b[0m \u001b[0mException\u001b[0m \u001b[1;32mas\u001b[0m \u001b[0me\u001b[0m\u001b[1;33m:\u001b[0m\u001b[1;33m\u001b[0m\u001b[0m\n\u001b[0;32m    161\u001b[0m             \u001b[0m_LOG\u001b[0m\u001b[1;33m.\u001b[0m\u001b[0merror\u001b[0m\u001b[1;33m(\u001b[0m\u001b[1;34m\"Error opening source dataset: %s\"\u001b[0m\u001b[1;33m,\u001b[0m \u001b[0mfilename\u001b[0m\u001b[1;33m)\u001b[0m\u001b[1;33m\u001b[0m\u001b[0m\n\u001b[1;32m--> 162\u001b[1;33m             \u001b[1;32mraise\u001b[0m \u001b[0me\u001b[0m\u001b[1;33m\u001b[0m\u001b[0m\n\u001b[0m\u001b[0;32m    163\u001b[0m \u001b[1;33m\u001b[0m\u001b[0m\n\u001b[0;32m    164\u001b[0m     \u001b[1;32mdef\u001b[0m \u001b[0mwheres_my_band\u001b[0m\u001b[1;33m(\u001b[0m\u001b[0mself\u001b[0m\u001b[1;33m,\u001b[0m \u001b[0msrc\u001b[0m\u001b[1;33m,\u001b[0m \u001b[0mtime\u001b[0m\u001b[1;33m)\u001b[0m\u001b[1;33m:\u001b[0m\u001b[1;33m\u001b[0m\u001b[0m\n",
      "\u001b[1;31mKeyError\u001b[0m: 'NETCDF_DIM_time'"
     ]
    }
   ],
   "source": [
    "geobox = GeoBox.from_geopolygon(mypoly.to_crs(CRS('EPSG:3577')), (-25, 25))\n",
    "data = dc.product_data(sources, geobox,  input_type.measurements.values())\n",
    "print data"
   ]
  },
  {
   "cell_type": "code",
   "execution_count": 175,
   "metadata": {
    "collapsed": false
   },
   "outputs": [
    {
     "data": {
      "text/plain": [
       "Frozen(SortedKeysDict({'y': 454, 'x': 430, 'time': 4}))"
      ]
     },
     "execution_count": 175,
     "metadata": {},
     "output_type": "execute_result"
    }
   ],
   "source": [
    "data.dims"
   ]
  },
  {
   "cell_type": "code",
   "execution_count": 181,
   "metadata": {
    "collapsed": false
   },
   "outputs": [
    {
     "ename": "TypeError",
     "evalue": "Invalid dimensions for image data",
     "output_type": "error",
     "traceback": [
      "\u001b[1;31m---------------------------------------------------------------------------\u001b[0m",
      "\u001b[1;31mTypeError\u001b[0m                                 Traceback (most recent call last)",
      "\u001b[1;32m<ipython-input-181-30e72e58f6f5>\u001b[0m in \u001b[0;36m<module>\u001b[1;34m()\u001b[0m\n\u001b[0;32m      5\u001b[0m \u001b[0mdata3d\u001b[0m\u001b[1;33m.\u001b[0m\u001b[0mtranspose\u001b[0m\u001b[1;33m(\u001b[0m\u001b[1;34m'time'\u001b[0m\u001b[1;33m,\u001b[0m \u001b[1;34m'y'\u001b[0m\u001b[1;33m,\u001b[0m \u001b[1;34m'x'\u001b[0m\u001b[1;33m,\u001b[0m \u001b[1;34m'variable'\u001b[0m\u001b[1;33m)\u001b[0m\u001b[1;31m#.plot()\u001b[0m\u001b[1;33m\u001b[0m\u001b[0m\n\u001b[0;32m      6\u001b[0m \u001b[1;31m#rgb.plot()\u001b[0m\u001b[1;33m\u001b[0m\u001b[1;33m\u001b[0m\u001b[0m\n\u001b[1;32m----> 7\u001b[1;33m \u001b[0mplt\u001b[0m\u001b[1;33m.\u001b[0m\u001b[0mimshow\u001b[0m\u001b[1;33m(\u001b[0m\u001b[0mdata3d\u001b[0m\u001b[1;33m.\u001b[0m\u001b[0misel\u001b[0m\u001b[1;33m(\u001b[0m\u001b[0mtime\u001b[0m\u001b[1;33m=\u001b[0m\u001b[1;36m1\u001b[0m\u001b[1;33m)\u001b[0m\u001b[1;33m)\u001b[0m\u001b[1;33m\u001b[0m\u001b[0m\n\u001b[0m",
      "\u001b[1;32m/home/simonaoliver/venvs/agdc-v2/local/lib/python2.7/site-packages/matplotlib-1.5.1+1308.g7a20bfe-py2.7-linux-x86_64.egg/matplotlib/pyplot.pyc\u001b[0m in \u001b[0;36mimshow\u001b[1;34m(X, cmap, norm, aspect, interpolation, alpha, vmin, vmax, origin, extent, shape, filternorm, filterrad, imlim, resample, url, hold, data, **kwargs)\u001b[0m\n\u001b[0;32m   2921\u001b[0m                         \u001b[0mfilternorm\u001b[0m\u001b[1;33m=\u001b[0m\u001b[0mfilternorm\u001b[0m\u001b[1;33m,\u001b[0m \u001b[0mfilterrad\u001b[0m\u001b[1;33m=\u001b[0m\u001b[0mfilterrad\u001b[0m\u001b[1;33m,\u001b[0m\u001b[1;33m\u001b[0m\u001b[0m\n\u001b[0;32m   2922\u001b[0m                         \u001b[0mimlim\u001b[0m\u001b[1;33m=\u001b[0m\u001b[0mimlim\u001b[0m\u001b[1;33m,\u001b[0m \u001b[0mresample\u001b[0m\u001b[1;33m=\u001b[0m\u001b[0mresample\u001b[0m\u001b[1;33m,\u001b[0m \u001b[0murl\u001b[0m\u001b[1;33m=\u001b[0m\u001b[0murl\u001b[0m\u001b[1;33m,\u001b[0m \u001b[0mdata\u001b[0m\u001b[1;33m=\u001b[0m\u001b[0mdata\u001b[0m\u001b[1;33m,\u001b[0m\u001b[1;33m\u001b[0m\u001b[0m\n\u001b[1;32m-> 2923\u001b[1;33m                         **kwargs)\n\u001b[0m\u001b[0;32m   2924\u001b[0m     \u001b[1;32mfinally\u001b[0m\u001b[1;33m:\u001b[0m\u001b[1;33m\u001b[0m\u001b[0m\n\u001b[0;32m   2925\u001b[0m         \u001b[0max\u001b[0m\u001b[1;33m.\u001b[0m\u001b[0mhold\u001b[0m\u001b[1;33m(\u001b[0m\u001b[0mwashold\u001b[0m\u001b[1;33m)\u001b[0m\u001b[1;33m\u001b[0m\u001b[0m\n",
      "\u001b[1;32m/home/simonaoliver/venvs/agdc-v2/local/lib/python2.7/site-packages/matplotlib-1.5.1+1308.g7a20bfe-py2.7-linux-x86_64.egg/matplotlib/__init__.pyc\u001b[0m in \u001b[0;36minner\u001b[1;34m(ax, *args, **kwargs)\u001b[0m\n\u001b[0;32m   1856\u001b[0m                     warnings.warn(msg % (label_namer, func.__name__),\n\u001b[0;32m   1857\u001b[0m                                   RuntimeWarning, stacklevel=2)\n\u001b[1;32m-> 1858\u001b[1;33m             \u001b[1;32mreturn\u001b[0m \u001b[0mfunc\u001b[0m\u001b[1;33m(\u001b[0m\u001b[0max\u001b[0m\u001b[1;33m,\u001b[0m \u001b[1;33m*\u001b[0m\u001b[0margs\u001b[0m\u001b[1;33m,\u001b[0m \u001b[1;33m**\u001b[0m\u001b[0mkwargs\u001b[0m\u001b[1;33m)\u001b[0m\u001b[1;33m\u001b[0m\u001b[0m\n\u001b[0m\u001b[0;32m   1859\u001b[0m         \u001b[0mpre_doc\u001b[0m \u001b[1;33m=\u001b[0m \u001b[0minner\u001b[0m\u001b[1;33m.\u001b[0m\u001b[0m__doc__\u001b[0m\u001b[1;33m\u001b[0m\u001b[0m\n\u001b[0;32m   1860\u001b[0m         \u001b[1;32mif\u001b[0m \u001b[0mpre_doc\u001b[0m \u001b[1;32mis\u001b[0m \u001b[0mNone\u001b[0m\u001b[1;33m:\u001b[0m\u001b[1;33m\u001b[0m\u001b[0m\n",
      "\u001b[1;32m/home/simonaoliver/venvs/agdc-v2/local/lib/python2.7/site-packages/matplotlib-1.5.1+1308.g7a20bfe-py2.7-linux-x86_64.egg/matplotlib/axes/_axes.pyc\u001b[0m in \u001b[0;36mimshow\u001b[1;34m(self, X, cmap, norm, aspect, interpolation, alpha, vmin, vmax, origin, extent, shape, filternorm, filterrad, imlim, resample, url, **kwargs)\u001b[0m\n\u001b[0;32m   4963\u001b[0m                               resample=resample, **kwargs)\n\u001b[0;32m   4964\u001b[0m \u001b[1;33m\u001b[0m\u001b[0m\n\u001b[1;32m-> 4965\u001b[1;33m         \u001b[0mim\u001b[0m\u001b[1;33m.\u001b[0m\u001b[0mset_data\u001b[0m\u001b[1;33m(\u001b[0m\u001b[0mX\u001b[0m\u001b[1;33m)\u001b[0m\u001b[1;33m\u001b[0m\u001b[0m\n\u001b[0m\u001b[0;32m   4966\u001b[0m         \u001b[0mim\u001b[0m\u001b[1;33m.\u001b[0m\u001b[0mset_alpha\u001b[0m\u001b[1;33m(\u001b[0m\u001b[0malpha\u001b[0m\u001b[1;33m)\u001b[0m\u001b[1;33m\u001b[0m\u001b[0m\n\u001b[0;32m   4967\u001b[0m         \u001b[1;32mif\u001b[0m \u001b[0mim\u001b[0m\u001b[1;33m.\u001b[0m\u001b[0mget_clip_path\u001b[0m\u001b[1;33m(\u001b[0m\u001b[1;33m)\u001b[0m \u001b[1;32mis\u001b[0m \u001b[0mNone\u001b[0m\u001b[1;33m:\u001b[0m\u001b[1;33m\u001b[0m\u001b[0m\n",
      "\u001b[1;32m/home/simonaoliver/venvs/agdc-v2/local/lib/python2.7/site-packages/matplotlib-1.5.1+1308.g7a20bfe-py2.7-linux-x86_64.egg/matplotlib/image.pyc\u001b[0m in \u001b[0;36mset_data\u001b[1;34m(self, A)\u001b[0m\n\u001b[0;32m    514\u001b[0m         if (self._A.ndim not in (2, 3) or\n\u001b[0;32m    515\u001b[0m                 (self._A.ndim == 3 and self._A.shape[-1] not in (3, 4))):\n\u001b[1;32m--> 516\u001b[1;33m             \u001b[1;32mraise\u001b[0m \u001b[0mTypeError\u001b[0m\u001b[1;33m(\u001b[0m\u001b[1;34m\"Invalid dimensions for image data\"\u001b[0m\u001b[1;33m)\u001b[0m\u001b[1;33m\u001b[0m\u001b[0m\n\u001b[0m\u001b[0;32m    517\u001b[0m \u001b[1;33m\u001b[0m\u001b[0m\n\u001b[0;32m    518\u001b[0m         \u001b[0mself\u001b[0m\u001b[1;33m.\u001b[0m\u001b[0m_imcache\u001b[0m \u001b[1;33m=\u001b[0m \u001b[0mNone\u001b[0m\u001b[1;33m\u001b[0m\u001b[0m\n",
      "\u001b[1;31mTypeError\u001b[0m: Invalid dimensions for image data"
     ]
    },
    {
     "data": {
      "image/png": "[encoded data removed]",
      "text/plain": [
       "<matplotlib.figure.Figure at 0x7f1bdbaef950>"
      ]
     },
     "metadata": {},
     "output_type": "display_data"
    }
   ],
   "source": [
    "#data3d = data.isel(time=2).to_array()\n",
    "data3d = data.to_array()\n",
    "data3d.dims\n",
    "#rgb = data3d.transpose('y', 'x', 'variable')\n",
    "data3d.transpose('time', 'y', 'x', 'variable')#.plot()\n",
    "#rgb.plot()\n",
    "#plt.imshow(data3d.isel(time=1))"
   ]
  },
  {
   "cell_type": "code",
   "execution_count": null,
   "metadata": {
    "collapsed": false
   },
   "outputs": [],
   "source": [
    "from datacube.api.core import Datacube\n",
    "#import datacube"
   ]
  },
  {
   "cell_type": "code",
   "execution_count": null,
   "metadata": {
    "collapsed": false
   },
   "outputs": [],
   "source": [
    "Datacube.product_observations"
   ]
  },
  {
   "cell_type": "code",
   "execution_count": 89,
   "metadata": {
    "collapsed": false
   },
   "outputs": [
    {
     "ename": "NameError",
     "evalue": "name 'datacube' is not defined",
     "output_type": "error",
     "traceback": [
      "\u001b[1;31m---------------------------------------------------------------------------\u001b[0m",
      "\u001b[1;31mNameError\u001b[0m                                 Traceback (most recent call last)",
      "\u001b[1;32m<ipython-input-89-3568946f3c3b>\u001b[0m in \u001b[0;36m<module>\u001b[1;34m()\u001b[0m\n\u001b[0;32m      1\u001b[0m \u001b[0minput_type_name\u001b[0m \u001b[1;33m=\u001b[0m \u001b[1;34m'ls5_nbar_albers'\u001b[0m\u001b[1;33m\u001b[0m\u001b[0m\n\u001b[1;32m----> 2\u001b[1;33m \u001b[0minput_type\u001b[0m \u001b[1;33m=\u001b[0m \u001b[0mdatacube\u001b[0m\u001b[1;33m.\u001b[0m\u001b[0mindex\u001b[0m\u001b[1;33m.\u001b[0m\u001b[0mdatasets\u001b[0m\u001b[1;33m.\u001b[0m\u001b[0mtypes\u001b[0m\u001b[1;33m.\u001b[0m\u001b[0mget_by_name\u001b[0m\u001b[1;33m(\u001b[0m\u001b[0minput_type_name\u001b[0m\u001b[1;33m)\u001b[0m\u001b[1;33m\u001b[0m\u001b[0m\n\u001b[0m\u001b[0;32m      3\u001b[0m \u001b[1;32massert\u001b[0m \u001b[0minput_type\u001b[0m\u001b[1;33m\u001b[0m\u001b[0m\n\u001b[0;32m      4\u001b[0m \u001b[1;33m\u001b[0m\u001b[0m\n\u001b[0;32m      5\u001b[0m \u001b[0mmypoly\u001b[0m \u001b[1;33m=\u001b[0m \u001b[0mGeoPolygon\u001b[0m\u001b[1;33m(\u001b[0m\u001b[1;33m[\u001b[0m\u001b[1;33m(\u001b[0m\u001b[1;36m149\u001b[0m\u001b[1;33m,\u001b[0m \u001b[1;33m-\u001b[0m\u001b[1;36m35\u001b[0m\u001b[1;33m)\u001b[0m\u001b[1;33m,\u001b[0m \u001b[1;33m(\u001b[0m\u001b[1;36m150\u001b[0m\u001b[1;33m,\u001b[0m \u001b[1;33m-\u001b[0m\u001b[1;36m35\u001b[0m\u001b[1;33m)\u001b[0m\u001b[1;33m,\u001b[0m \u001b[1;33m(\u001b[0m\u001b[1;36m150\u001b[0m\u001b[1;33m,\u001b[0m \u001b[1;33m-\u001b[0m\u001b[1;36m36\u001b[0m\u001b[1;33m)\u001b[0m\u001b[1;33m,\u001b[0m \u001b[1;33m(\u001b[0m\u001b[1;36m149\u001b[0m\u001b[1;33m,\u001b[0m \u001b[1;33m-\u001b[0m\u001b[1;36m36\u001b[0m\u001b[1;33m)\u001b[0m\u001b[1;33m]\u001b[0m\u001b[1;33m,\u001b[0m \u001b[0mCRS\u001b[0m\u001b[1;33m(\u001b[0m\u001b[1;34m'EPSG:4326'\u001b[0m\u001b[1;33m)\u001b[0m\u001b[1;33m)\u001b[0m\u001b[1;33m\u001b[0m\u001b[0m\n",
      "\u001b[1;31mNameError\u001b[0m: name 'datacube' is not defined"
     ]
    }
   ],
   "source": [
    "input_type_name = 'ls5_nbar_albers'\n",
    "input_type = datacube.index.datasets.types.get_by_name(input_type_name)\n",
    "assert input_type\n",
    " \n",
    "mypoly = GeoPolygon([(149, -35), (150, -35), (150, -36), (149, -36)], CRS('EPSG:4326'))\n",
    " \n",
    "observations = datacube.product_observations(input_type_name, mypoly)\n",
    "sources = datacube.product_sources(observations, lambda ds: ds.time, 'time', 'seconds since 1970-01-01 00:00:00')\n",
    " \n",
    "geobox = GeoBox.from_geopolygon(mypoly.to_crs(CRS('EPSG:3577')), (-250, 250))\n",
    "data = datacube.product_data(sources, geobox,  {'red': {'dtype': 'int16', 'nodata': -999}})\n",
    "print data"
   ]
  },
  {
   "cell_type": "code",
   "execution_count": null,
   "metadata": {
    "collapsed": true
   },
   "outputs": [],
   "source": []
  }
 ],
 "metadata": {
  "kernelspec": {
   "display_name": "Python 2",
   "language": "python",
   "name": "python2"
  },
  "language_info": {
   "codemirror_mode": {
    "name": "ipython",
    "version": 2
   },
   "file_extension": ".py",
   "mimetype": "text/x-python",
   "name": "python",
   "nbconvert_exporter": "python",
   "pygments_lexer": "ipython2",
   "version": "2.7.9"
  },
  "widgets": {
   "state": {},
   "version": "1.1.1"
  }
 },
 "nbformat": 4,
 "nbformat_minor": 0
}
