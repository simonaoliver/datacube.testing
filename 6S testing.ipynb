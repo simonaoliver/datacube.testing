{
 "cells": [
  {
   "cell_type": "code",
   "execution_count": 2,
   "metadata": {
    "collapsed": false
   },
   "outputs": [
    {
     "name": "stdout",
     "output_type": "stream",
     "text": [
      "wavelengths pass:\n",
      "[ 0.4    0.405  0.41   0.415  0.42   0.425  0.43   0.435  0.44   0.445\n",
      "  0.45   0.455  0.46   0.465  0.47   0.475  0.48   0.485  0.49   0.495  0.5\n",
      "  0.505  0.51   0.515  0.52   0.525  0.53   0.535  0.54   0.545  0.55\n",
      "  0.555  0.56   0.565  0.57   0.575  0.58   0.585  0.59   0.595  0.6    0.605\n",
      "  0.61   0.615  0.62   0.625  0.63   0.635  0.64   0.645  0.65   0.655\n",
      "  0.66   0.665  0.67   0.675  0.68   0.685  0.69   0.695  0.7    0.705\n",
      "  0.71   0.715  0.72   0.725  0.73   0.735  0.74   0.745  0.75   0.755\n",
      "  0.76   0.765  0.77   0.775  0.78   0.785  0.79   0.795  0.8    0.805\n",
      "  0.81   0.815  0.82   0.825  0.83   0.835  0.84   0.845  0.85   0.855\n",
      "  0.86   0.865  0.87   0.875  0.88   0.885  0.89   0.895  0.9    0.905\n",
      "  0.91   0.915  0.92   0.925  0.93   0.935  0.94   0.945  0.95   0.955\n",
      "  0.96   0.965  0.97   0.975  0.98   0.985  0.99   0.995  1.     1.005\n",
      "  1.01   1.015  1.02   1.025  1.03   1.035  1.04   1.045  1.05   1.055\n",
      "  1.06   1.065  1.07   1.075  1.08   1.085  1.09   1.095  1.1    1.105\n",
      "  1.11   1.115  1.12   1.125  1.13   1.135  1.14   1.145  1.15   1.155\n",
      "  1.16   1.165  1.17   1.175  1.18   1.185  1.19   1.195  1.2    1.205\n",
      "  1.21   1.215  1.22   1.225  1.23   1.235  1.24   1.245  1.25   1.255\n",
      "  1.26   1.265  1.27   1.275  1.28   1.285  1.29   1.295  1.3    1.305\n",
      "  1.31   1.315  1.32   1.325  1.33   1.335  1.34   1.345  1.35   1.355\n",
      "  1.36   1.365  1.37   1.375  1.38   1.385  1.39   1.395]\n",
      "<type 'numpy.ndarray'>\n",
      "Running for many wavelengths - this may take a long time\n",
      "0.4\n",
      "0.525\n",
      "0.53\n",
      "0.405\n",
      "0.535\n",
      "0.41\n",
      "0.54\n",
      "0.415\n",
      "0.545\n",
      "0.42\n",
      "0.55\n",
      "0.425\n",
      "0.555\n",
      "0.43\n",
      "0.56\n",
      "0.435\n",
      "0.565\n",
      "0.44\n",
      "0.57\n",
      "0.445\n",
      "0.575\n",
      "0.45\n",
      "0.58\n",
      "0.455\n",
      "0.585\n",
      "0.46\n",
      "0.59\n",
      "0.465\n",
      "0.595\n",
      "0.47\n",
      "0.6\n",
      "0.475\n",
      "0.605\n",
      "0.48\n",
      "0.485\n",
      "0.61\n",
      "0.615\n",
      "0.49\n",
      "0.62\n",
      "0.495\n",
      "0.5\n",
      "0.625\n",
      "0.505\n",
      "0.63\n",
      "0.635\n",
      "0.51\n",
      "0.64\n",
      "0.515\n",
      "0.645\n",
      "0.52\n",
      "0.65\n",
      "0.775\n",
      "0.655\n",
      "0.78\n",
      "0.66\n",
      "0.785\n",
      "0.665\n",
      "0.79\n",
      "0.67\n",
      "0.795\n",
      "0.675\n",
      "0.8\n",
      "0.68\n",
      "0.805\n",
      "0.685\n",
      "0.81\n",
      "0.69\n",
      "0.815\n",
      "0.695\n",
      "0.82\n",
      "0.7\n",
      "0.825\n",
      "0.705\n",
      "0.83\n",
      "0.71\n",
      "0.835\n",
      "0.715\n",
      "0.84\n",
      "0.72\n",
      "0.845\n",
      "0.85\n",
      "0.725\n",
      "0.73\n",
      "0.855\n",
      "0.735\n",
      "0.86\n",
      "0.74\n",
      "0.865\n",
      "0.745\n",
      "0.87\n",
      "0.75\n",
      "0.875\n",
      "0.755\n",
      "0.88\n",
      "0.76\n",
      "0.885\n",
      "0.89\n",
      "0.765\n",
      "0.895\n",
      "0.77\n",
      "0.9\n",
      "1.025\n",
      "0.905\n",
      "0.91\n",
      "1.03\n",
      "1.035\n",
      "0.915\n",
      "1.04\n",
      "0.92\n",
      "1.045\n",
      "0.925\n",
      "1.05\n",
      "0.93\n",
      "1.055\n",
      "0.935\n",
      "1.06\n",
      "0.94\n",
      "1.065\n",
      "0.945\n",
      "1.07\n",
      "0.95\n",
      "1.075\n",
      "0.955\n",
      "1.08\n",
      "0.96\n",
      "1.085\n",
      "0.965\n",
      "1.09\n",
      "0.97\n",
      "1.095\n",
      "0.975\n",
      "1.1\n",
      "1.105\n",
      "0.98\n",
      "0.985\n",
      "1.11\n",
      "0.99\n",
      "1.115\n",
      "0.995\n",
      "1.12\n",
      "1.125\n",
      "1.0\n",
      "1.13\n",
      "1.005\n",
      "1.135\n",
      "1.01\n",
      "1.14\n",
      "1.015\n",
      "1.145\n",
      "1.02\n",
      "1.15\n",
      "1.275\n",
      "1.155\n",
      "1.28\n",
      "1.16\n",
      "1.285\n",
      "1.165\n",
      "1.29\n",
      "1.17\n",
      "1.295\n",
      "1.175\n",
      "1.3\n",
      "1.18\n",
      "1.305\n",
      "1.185\n",
      "1.31\n",
      "1.19\n",
      "1.315\n",
      "1.195\n",
      "1.32\n",
      "1.2\n",
      "1.325\n",
      "1.205\n",
      "1.33\n",
      "1.21\n",
      "1.335\n",
      "1.215\n",
      "1.34\n",
      "1.22\n",
      "1.345\n",
      "1.225\n",
      "1.35\n",
      "1.23\n",
      "1.355\n",
      "1.36\n",
      "1.235\n",
      "1.365\n",
      "1.24\n",
      "1.37\n",
      "1.245\n",
      "1.375\n",
      "1.25\n",
      "1.38\n",
      "1.255\n",
      "1.385\n",
      "1.26\n",
      "1.39\n",
      "1.265\n",
      "1.395\n",
      "1.27\n"
     ]
    }
   ],
   "source": [
    "# Import all of the Py6S code\n",
    "from Py6S import *\n",
    "# Create a SixS object called s (used as the standard name by convention)\n",
    "s = SixS()\n",
    "# Run the 6S simulation defined by this SixS object across the\n",
    "# whole VNIR range\n",
    "wavelengths, results = SixSHelpers.Wavelengths.run_vnir(s, output_name=\"pixel_radiance\")\n",
    "# Plot these results, with the y axis label set to \"Pixel Radiance\"\n",
    "SixSHelpers.Wavelengths.plot_wavelengths(wavelengths, results, \"Pixel Radiance\")"
   ]
  },
  {
   "cell_type": "code",
   "execution_count": 5,
   "metadata": {
    "collapsed": false
   },
   "outputs": [
    {
     "name": "stdout",
     "output_type": "stream",
     "text": [
      "nan\n"
     ]
    }
   ],
   "source": [
    "s = SixS()\n",
    "s.atmos_profile = AtmosProfile.UserWaterAndOzone(3.6, 0.9) # Set the atmosphere profile to be based on 3.6cm of water and 0.9cm-atm of ozone\n",
    "s.wavelength = Wavelength(PredefinedWavelengths.LANDSAT_TM_B3) # Set the wavelength to be that of the Landsat TM Band 3 - includes response function\n",
    "s.ground_reflectance = GroundReflectance.HomogeneousWalthall(1.08, 0.48, 4.96, 0.5) # Set the surface to have a BRDF approximated by the Walthall model\n",
    "s.geometry = Geometry.Landsat_TM()\n",
    "s.geometry.month = 7\n",
    "s.geometry.day = 14\n",
    "s.geometry.gmt_decimal_hour = 7.75\n",
    "s.geometry.latitude = 51.148\n",
    "s.geometry.longitude = 0.307\n",
    "s.run()\n",
    "print s.outputs.pixel_radiance"
   ]
  },
  {
   "cell_type": "code",
   "execution_count": 14,
   "metadata": {
    "collapsed": false
   },
   "outputs": [
    {
     "data": {
      "text/plain": [
       "<class Py6S.Params.geometry.Landsat_TM at 0x7f066e529600>"
      ]
     },
     "execution_count": 14,
     "metadata": {},
     "output_type": "execute_result"
    }
   ],
   "source": [
    "PredefinedWavelengths."
   ]
  },
  {
   "cell_type": "code",
   "execution_count": 15,
   "metadata": {
    "collapsed": false
   },
   "outputs": [
    {
     "name": "stdout",
     "output_type": "stream",
     "text": [
      "Help on instance of User in module Py6S.Params.geometry:\n",
      "\n",
      "class User\n",
      " |  Stores parameters for a user-defined geometry for 6S.\n",
      " |  \n",
      " |  Attributes:\n",
      " |  \n",
      " |   * ``solar_z`` -- Solar zenith angle\n",
      " |   * ``solar_a`` -- Solar azimuth angle\n",
      " |   * ``view_z`` -- View zenith angle\n",
      " |   * ``view_a`` -- View azimuth angle\n",
      " |   * ``day`` -- The day the image was acquired in (1-31)\n",
      " |   * ``month`` -- The month the image was acquired in (0-12)\n",
      " |  \n",
      " |  Methods defined here:\n",
      " |  \n",
      " |  __str__(self)\n",
      " |  \n",
      " |  from_time_and_location(self, lat, lon, datetimestring, view_z, view_a)\n",
      " |      Sets the user-defined geometry to a given view zenith and azimuth, and a solar zenith and azimuth calculated from the lat, lon and date given.\n",
      " |      \n",
      " |      Uses the PySolar module for the calculations.\n",
      " |      \n",
      " |      Arguments:\n",
      " |      \n",
      " |      * ``lat`` -- The latitude of the location (0-90 degrees)\n",
      " |      * ``lon`` -- The longitude of the location\n",
      " |      * ``datetimestring`` -- Any string that can be parsed to produce a date/time object. All that is really needed is a time - eg. \"14:53\"\n",
      " |      * ``view_z`` -- The view zenith angle\n",
      " |      * ``view_a`` -- The view azimuth angle\n",
      " |  \n",
      " |  ----------------------------------------------------------------------\n",
      " |  Data and other attributes defined here:\n",
      " |  \n",
      " |  day = 1\n",
      " |  \n",
      " |  month = 1\n",
      " |  \n",
      " |  solar_a = 0\n",
      " |  \n",
      " |  solar_z = 0\n",
      " |  \n",
      " |  view_a = 0\n",
      " |  \n",
      " |  view_z = 0\n",
      "\n"
     ]
    }
   ],
   "source": [
    "help(Geometry.User())"
   ]
  },
  {
   "cell_type": "code",
   "execution_count": 3,
   "metadata": {
    "collapsed": false
   },
   "outputs": [
    {
     "name": "stdout",
     "output_type": "stream",
     "text": [
      "Rayleigh: 0.000000, Aerosol: 0.000000, Total: 0.000000 Rayleigh: 0.000000, Aerosol: 0.000000, Total: 0.000000 Rayleigh: 0.000000, Aerosol: 0.000000, Total: 0.000000 164.3\n"
     ]
    }
   ],
   "source": [
    "s = SixS()\n",
    "s.atmos_profile = AtmosProfile.UserWaterAndOzone(3.6, 0.9) #Water vapour: 0.83000 (g/cm^2) Ozone: 0.329 (ATM-cm)\n",
    "s.wavelength = Wavelength(PredefinedWavelengths.LANDSAT_OLI_B1)\n",
    "#s.ground_reflectance = GroundReflectance.HomogeneousWalthall(1.08, 0.48, 4.96, 0.5)\n",
    "s.aot550 = -0.077\n",
    "AtmosCorr.AtmosCorrLambertianFromRadiance\n",
    "s.geometry.view_a = 99.699 #279.699\n",
    "s.geometry.view_z = 171.001\n",
    "#s.geometry.solar_a\n",
    "#s.geometry.solar_z\n",
    "s.altitudes.set_sensor_custom_altitude = 705.000\n",
    "s.geometry.month = 7\n",
    "s.geometry.day = 14\n",
    "s.geometry.gmt_decimal_hour = 23.863\n",
    "s.geometry.latitude = -32.116\n",
    "s.geometry.longitude = 30.668 #210.668\n",
    "s.run()\n",
    "print s.outputs.reflectance_I, s.outputs.reflectance_Q, s.outputs.reflectance_U, s.outputs.azimuthal_angle_difference\n"
   ]
  },
  {
   "cell_type": "code",
   "execution_count": null,
   "metadata": {
    "collapsed": true
   },
   "outputs": [],
   "source": [
    "# Landsat 8 example\n",
    "'''\n",
    "Ozone: 0.329 (ATM-cm)\n",
    "Surface elevation: 1.108 (km)\n",
    "Aerosol: -0.077 (optical depth at 550 nm (negative); units: km)\n",
    "Water vapour: 0.83000 (g/cm^2)\n",
    "Satellite height: 705.000 (km)\n",
    "Satellite view: 171.001 (180 - angle)\n",
    "Latitude: -32.116\n",
    "Longitude: 210.668 (corrected, 360 - angle)\n",
    "Time: 23.863 (decimal hours, UTC)\n",
    "Satellite azimuth: 279.699 (angle + 180)\n",
    "'''"
   ]
  },
  {
   "cell_type": "code",
   "execution_count": 39,
   "metadata": {
    "collapsed": false
   },
   "outputs": [
    {
     "name": "stdout",
     "output_type": "stream",
     "text": [
      "134.955\n",
      "134.632\n",
      "134.249\n",
      "134.249\n",
      "83.529\n",
      "0.986\n"
     ]
    }
   ],
   "source": [
    "from Py6S import *\n",
    "s = SixS()\n",
    "\n",
    "for param in [AtmosProfile.Tropical, AtmosProfile.MidlatitudeSummer, AtmosProfile.MidlatitudeWinter]:\n",
    "  s.atmos_profile = AtmosProfile.PredefinedType(param)\n",
    "  s.run()\n",
    "  print s.outputs.pixel_radiance\n",
    "print s.outputs.pixel_radiance\n",
    "print s.outputs.environmental_irradiance\n",
    "print s.outputs.total_gaseous_transmittance"
   ]
  },
  {
   "cell_type": "code",
   "execution_count": null,
   "metadata": {
    "collapsed": true
   },
   "outputs": [],
   "source": []
  }
 ],
 "metadata": {
  "kernelspec": {
   "display_name": "Python 2",
   "language": "python",
   "name": "python2"
  },
  "language_info": {
   "codemirror_mode": {
    "name": "ipython",
    "version": 2
   },
   "file_extension": ".py",
   "mimetype": "text/x-python",
   "name": "python",
   "nbconvert_exporter": "python",
   "pygments_lexer": "ipython2",
   "version": "2.7.9"
  },
  "widgets": {
   "state": {},
   "version": "1.1.1"
  }
 },
 "nbformat": 4,
 "nbformat_minor": 0
}
