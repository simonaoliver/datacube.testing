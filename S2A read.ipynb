{
 "cells": [
  {
   "cell_type": "markdown",
   "metadata": {},
   "source": [
    "# Sentinel-2 DataCube supporting functions and execution examples"
   ]
  },
  {
   "cell_type": "markdown",
   "metadata": {},
   "source": [
    "The primary focus of our work to date has been to demonstrate the capability to configure and analyse data other than Landsat (out primary dataset for code testing and development). The examples presented below are demonstrations only and some additional refinement of the content presented within them and the configuration they reference is anticipated."
   ]
  },
  {
   "cell_type": "markdown",
   "metadata": {},
   "source": [
    "- step 1: prepare your datasets for ingest\n",
    "- step 2: prepare system for ingest \n",
    "- step 3: index prepared datasets (datasets are now accessible to DataCube)\n",
    "    - L1C local file system OK - example included\n",
    "    - L1C AWS               ALPHA\n",
    "    - L2A local file system BETA\n",
    "- step 4: ingest indexed datasets (datasets are now DataCube datasets)\n",
    "    - L1C local file system OK\n",
    "    - L1C AWS               #TODO \n",
    "    - L2A local file system #TODO\n",
    "- step 5: load dataset spatiotemporal subset to analysis array\n",
    "    - L1C local and AWS\n",
    "    - L2A local\n",
    "- step 6: plotting examples"
   ]
  },
  {
   "cell_type": "markdown",
   "metadata": {},
   "source": [
    "## STEP 1: Prepare S2 L1C data for indexing and ingesting (writes the yaml ingest configuration)"
   ]
  },
  {
   "cell_type": "markdown",
   "metadata": {},
   "source": [
    "### S2A L1C local filesystem SAFE"
   ]
  },
  {
   "cell_type": "code",
   "execution_count": 2,
   "metadata": {
    "collapsed": false,
    "scrolled": true
   },
   "outputs": [
    {
     "name": "stdout",
     "output_type": "stream",
     "text": [
      "2016-11-28 16:15:14,761 INFO Processing /home/simonaoliver/data/S2A_OPER_PRD_MSIL1C_PDMC_20151205T075851_R073_V20151205T001643_20151205T001643.SAFE/S2A_OPER_MTD_SAFL1C_PDMC_20151205T075851_R073_V20151205T001643_20151205T001643.xml\n",
      "2016-11-28 16:16:55,694 INFO Writing 4 dataset(s) into /home/simonaoliver/data/S2A_OPER_PRD_MSIL1C_PDMC_20151205T075851_R073_V20151205T001643_20151205T001643.SAFE/agdc-metadata.yaml\n"
     ]
    }
   ],
   "source": [
    "s2granule_prepare='/home/simonaoliver/code/agdc-v2/utils/s2prepare.py'\n",
    "s2_l1c_safe='/home/simonaoliver/data/S2A_OPER_PRD_MSIL1C_PDMC_20151205T075851_R073_V20151205T001643_20151205T001643.SAFE'\n",
    "# creation of the valid data bounds geometry is what consumes much of the execution time - can be commented out in preparation code\n",
    "!python $s2granule_prepare  $s2_l1c_safe\n",
    "s2_l1c_safeyaml_path='/home/simonaoliver/data/S2A_OPER_PRD_MSIL1C_PDMC_20151205T075851_R073_V20151205T001643_20151205T001643.SAFE/agdc-metadata.yaml'"
   ]
  },
  {
   "cell_type": "markdown",
   "metadata": {},
   "source": [
    "### S2A on AWS S3"
   ]
  },
  {
   "cell_type": "markdown",
   "metadata": {},
   "source": [
    "##### Use the S3 metadata retrieval code to find available data for a spatiotemporal range"
   ]
  },
  {
   "cell_type": "markdown",
   "metadata": {},
   "source": [
    "http://sentinel-pds.s3-website.eu-central-1.amazonaws.com/"
   ]
  },
  {
   "cell_type": "markdown",
   "metadata": {},
   "source": [
    "tiles/[UTM code]/latitude band/square/[year]/[month]/[day]/[sequence]/DATA\n",
    "\n",
    "For example, the files for individual scene are available in the following location: http://sentinel-s2-l1c.s3-website.eu-central-1.amazonaws.com/#tiles/10/S/DG/2015/12/7/0/\n",
    "\n",
    "Where:\n",
    "\n",
    "    [UTM code] = e.g. 10 - grid zone designator.\n",
    "\n",
    "    latitude band = e.g. S - latitude band are lettered C- X (omitting the letters \"I\" and \"O\").\n",
    "\n",
    "    square = e.g DG - pair of letters designating one of the 100,000-meter side grid squares inside the grid zone.\n",
    "\n",
    "    [year] = e.g. 2015 - is the year the data was collected.\n",
    "\n",
    "    [month] = e.g. 12 - is the month of the year the data was collected (without leading zeros).\n",
    "\n",
    "    [day] = e.g. 7 - is the day of the month the data was collected (without leading zeros).\n",
    "\n",
    "    [sequence] = e.g. 0 - in most cases there will be only one image per day. In case there are more (in northern latitudes), the following images will be 1,2,…\\.\n"
   ]
  },
  {
   "cell_type": "markdown",
   "metadata": {},
   "source": [
    "### Identify the MGRS cell reference using this web map service"
   ]
  },
  {
   "cell_type": "markdown",
   "metadata": {},
   "source": [
    "https://mappingsupport.com/p/coordinates-mgrs-google-maps.html"
   ]
  },
  {
   "cell_type": "markdown",
   "metadata": {},
   "source": [
    "### update the zone, latitude_band and square identified above"
   ]
  },
  {
   "cell_type": "code",
   "execution_count": 5,
   "metadata": {
    "collapsed": false,
    "scrolled": true
   },
   "outputs": [
    {
     "name": "stdout",
     "output_type": "stream",
     "text": [
      "working.............................."
     ]
    }
   ],
   "source": [
    "import urllib3\n",
    "def check_url(url):\n",
    "    http = urllib3.PoolManager()\n",
    "    r = http.request('GET', url)\n",
    "    if r.status!=200:\n",
    "        #print('url not found')\n",
    "        return False\n",
    "    else:\n",
    "        #print(r.status)\n",
    "        return True\n",
    "urls = {}\n",
    "\n",
    "# set the utm zone (assume south for this exercise ie. EPSG:327 vs EPSG:326[zone])\n",
    "zone = 55\n",
    "latitude_band = 'H'\n",
    "square = 'FA'\n",
    "# prepare configurations for all of the available data for a tile\n",
    "# alter the temporal ranges below to optimise testing\n",
    "\n",
    "import time\n",
    "print('working',end=\"\")\n",
    "end_year = int(time.strftime(\"%Y\"))\n",
    "for year in range(2016,end_year+1):\n",
    "        for month in range(11,12):\n",
    "            for day in range(1,31):\n",
    "                url = 'http://sentinel-s2-l1c.s3.amazonaws.com/tiles/'+str(zone)+'/'+latitude_band+'/'+square+'/'+str(year)+'/'+str(month)+'/'+str(day)+'/0/tileInfo.json'\n",
    "                sceneid=((url.split('tiles/')[1]).replace('/','.')).replace('.tileInfo.json','')\n",
    "                print('.',end=\"\")\n",
    "                if check_url(url):\n",
    "                    urls[sceneid] = url             \n"
   ]
  },
  {
   "cell_type": "markdown",
   "metadata": {},
   "source": [
    "### print the dictionary of urls for the target MGRS tile"
   ]
  },
  {
   "cell_type": "code",
   "execution_count": 6,
   "metadata": {
    "collapsed": false,
    "scrolled": true
   },
   "outputs": [
    {
     "data": {
      "text/plain": [
       "{'55.H.FA.2016.11.16.0': 'http://sentinel-s2-l1c.s3.amazonaws.com/tiles/55/H/FA/2016/11/16/0/tileInfo.json',\n",
       " '55.H.FA.2016.11.19.0': 'http://sentinel-s2-l1c.s3.amazonaws.com/tiles/55/H/FA/2016/11/19/0/tileInfo.json',\n",
       " '55.H.FA.2016.11.26.0': 'http://sentinel-s2-l1c.s3.amazonaws.com/tiles/55/H/FA/2016/11/26/0/tileInfo.json',\n",
       " '55.H.FA.2016.11.6.0': 'http://sentinel-s2-l1c.s3.amazonaws.com/tiles/55/H/FA/2016/11/6/0/tileInfo.json',\n",
       " '55.H.FA.2016.11.9.0': 'http://sentinel-s2-l1c.s3.amazonaws.com/tiles/55/H/FA/2016/11/9/0/tileInfo.json'}"
      ]
     },
     "execution_count": 6,
     "metadata": {},
     "output_type": "execute_result"
    }
   ],
   "source": [
    "urls"
   ]
  },
  {
   "cell_type": "code",
   "execution_count": 7,
   "metadata": {
    "collapsed": true,
    "scrolled": true
   },
   "outputs": [],
   "source": [
    "s2granule_AWS_prepare='/home/simonaoliver/code/agdc-v2/utils/s2awsprepare.py'"
   ]
  },
  {
   "cell_type": "markdown",
   "metadata": {},
   "source": [
    "### take a look at the data using rasterio library - AGDCv2 uses this under the hood"
   ]
  },
  {
   "cell_type": "code",
   "execution_count": 9,
   "metadata": {
    "collapsed": false
   },
   "outputs": [],
   "source": [
    "import rasterio\n",
    "rasterio_s2open_test = rasterio.open('http://sentinel-s2-l1c.s3.amazonaws.com/tiles/55/H/FA/2016/11/6/0/B01.jp2')"
   ]
  },
  {
   "cell_type": "code",
   "execution_count": 10,
   "metadata": {
    "collapsed": false
   },
   "outputs": [
    {
     "data": {
      "text/plain": [
       "BoundingBox(left=600000.0, bottom=5990200.0, right=709800.0, top=6100000.0)"
      ]
     },
     "execution_count": 10,
     "metadata": {},
     "output_type": "execute_result"
    }
   ],
   "source": [
    "rasterio_s2open_test.bounds"
   ]
  },
  {
   "cell_type": "markdown",
   "metadata": {},
   "source": [
    "### loop through the url dict\n",
    "### prepare each of the target tiles for ingest\n",
    "### write the yaml configuration locally with an explicit path to help DataCube decode the target file"
   ]
  },
  {
   "cell_type": "code",
   "execution_count": 11,
   "metadata": {
    "collapsed": false,
    "scrolled": true
   },
   "outputs": [
    {
     "name": "stdout",
     "output_type": "stream",
     "text": [
      "http://sentinel-s2-l1c.s3.amazonaws.com/tiles/55/H/FA/2016/11/9/0/tileInfo.json\n",
      "http://sentinel-s2-l1c.s3.amazonaws.com/tiles/55/H/FA/2016/11/16/0/tileInfo.json\n",
      "http://sentinel-s2-l1c.s3.amazonaws.com/tiles/55/H/FA/2016/11/19/0/tileInfo.json\n",
      "http://sentinel-s2-l1c.s3.amazonaws.com/tiles/55/H/FA/2016/11/6/0/tileInfo.json\n",
      "http://sentinel-s2-l1c.s3.amazonaws.com/tiles/55/H/FA/2016/11/26/0/tileInfo.json\n"
     ]
    }
   ],
   "source": [
    "for key in urls.keys():\n",
    "    print(urls[key])\n",
    "    output_yaml = key+'.yaml'\n",
    "    tileinfo = urls[key]\n",
    "    !python $s2granule_AWS_prepare $tileinfo --output $output_yaml\n"
   ]
  },
  {
   "cell_type": "markdown",
   "metadata": {},
   "source": [
    "## Sen2Cor output Surface Reflectance (SR) and Scene Classification (SC)"
   ]
  },
  {
   "cell_type": "markdown",
   "metadata": {},
   "source": [
    "### prepare an example Sen2Cor dataset. \n",
    "### note the performance issues related to format and drivers: http://www.gdal.org/frmt_sentinel2.html"
   ]
  },
  {
   "cell_type": "code",
   "execution_count": 12,
   "metadata": {
    "collapsed": false,
    "scrolled": true
   },
   "outputs": [
    {
     "name": "stdout",
     "output_type": "stream",
     "text": [
      "2016-11-28 16:31:45,327 INFO Processing /media/simonaoliver/datacube/input/S2_NBAR/S2A_USER_PRD_MSIL2A_PDMC_20160314T110945_R073_V20160314T001209_20160314T001209.SAFE/S2A_USER_MTD_SAFL2A_PDMC_20160314T110945_R073_V20160314T001209_20160314T001209.xml\n",
      "2016-11-28 16:31:51,785 INFO Writing 13 dataset(s) into /media/simonaoliver/datacube/input/S2_NBAR/S2A_USER_PRD_MSIL2A_PDMC_20160314T110945_R073_V20160314T001209_20160314T001209.SAFE/agdc-metadata.yaml\n"
     ]
    }
   ],
   "source": [
    "s2granule_sen2cor_prepare='/home/simonaoliver/code/agdc-v2/utils/sen2cor_prepare.py'\n",
    "sen2cor_safe = '/media/simonaoliver/datacube/input/S2_NBAR/S2A_USER_PRD_MSIL2A_PDMC_20160314T110945_R073_V20160314T001209_20160314T001209.SAFE'\n",
    "sen2cor_safe_yaml = '/media/simonaoliver/datacube/input/S2_NBAR/S2A_USER_PRD_MSIL2A_PDMC_20160314T110945_R073_V20160314T001209_20160314T001209.SAFE/agdc-metadata.yaml'\n",
    "\n",
    "!python $s2granule_sen2cor_prepare $sen2cor_safe --output $sen2cor_safe_yaml"
   ]
  },
  {
   "cell_type": "markdown",
   "metadata": {},
   "source": [
    "### define the dataset type (product definition - includes S2 L1C and Sen2Cor index support)"
   ]
  },
  {
   "cell_type": "code",
   "execution_count": 13,
   "metadata": {
    "collapsed": true,
    "scrolled": true
   },
   "outputs": [],
   "source": [
    "s2granule_dataset_type='/home/simonaoliver/code/agdc-v2/docs/config_samples/dataset_types/s2_granules.yaml'\n",
    "sen2corgranule_dataset_type='/home/simonaoliver/code/agdc-v2_20161031/docs/config_samples/dataset_types/s2_granules_SCL_only.yaml'"
   ]
  },
  {
   "cell_type": "markdown",
   "metadata": {},
   "source": [
    "# STEP 2: Prepare System for ingest\n",
    "## Add the S2 products to the AGDC database"
   ]
  },
  {
   "cell_type": "code",
   "execution_count": 14,
   "metadata": {
    "collapsed": false,
    "scrolled": true
   },
   "outputs": [
    {
     "name": "stdout",
     "output_type": "stream",
     "text": [
      "Initialising database...\n",
      "Created.\n",
      "Checking indexes/views.\n",
      "Done.\n",
      "2016-11-28 17:41:25,545 datacube \u001b[37mINFO\u001b[0m Running datacube command: /home/simonaoliver/venvs/py35/bin/datacube -v product add /home/simonaoliver/code/agdc-v2/docs/config_samples/dataset_types/s2_granules.yaml\n",
      "2016-11-28 17:41:28,327 datacube.index.postgres._dynamic \u001b[37mINFO\u001b[0m Creating index: dix_s2a_level1c_granule_lat_lon_time\n",
      "2016-11-28 17:41:28,400 datacube.index.postgres._dynamic \u001b[37mINFO\u001b[0m Creating index: dix_s2a_level1c_granule_time_lat_lon\n",
      "2016-11-28 17:41:28,501 datacube.index.postgres._dynamic \u001b[37mINFO\u001b[0m Creating index: dix_s2a_level1c_granule_sat_path_sat_row_time\n",
      "2016-11-28 17:41:28,640 datacube.index.postgres._dynamic \u001b[37mINFO\u001b[0m Creating index: dix_s2a_level1c_granule_orbit\n",
      "Added \"s2a_level1c_granule\"\n",
      "2016-11-28 17:41:34,242 datacube.index.postgres._dynamic \u001b[37mINFO\u001b[0m Creating index: dix_s2a_sen2cor_granule_lat_lon_time\n",
      "2016-11-28 17:41:34,332 datacube.index.postgres._dynamic \u001b[37mINFO\u001b[0m Creating index: dix_s2a_sen2cor_granule_time_lat_lon\n",
      "2016-11-28 17:41:34,437 datacube.index.postgres._dynamic \u001b[37mINFO\u001b[0m Creating index: dix_s2a_sen2cor_granule_sat_path_sat_row_time\n",
      "2016-11-28 17:41:34,554 datacube.index.postgres._dynamic \u001b[37mINFO\u001b[0m Creating index: dix_s2a_sen2cor_granule_orbit\n",
      "Added \"s2a_sen2cor_granule\"\n",
      "Version: 1.1.13+41.g61e60fa\n",
      "Read configurations files from: ['/home/simonaoliver/.datacube.conf']\n",
      "Host: localhost:5432\n",
      "Database: datacube\n",
      "User: simonaoliver\n",
      "\n",
      "\n",
      "Attempting connect\n",
      "Success.\n"
     ]
    }
   ],
   "source": [
    "# Remove old datacube db instances if they exist and create a new\n",
    "!dropdb datacube\n",
    "!createdb datacube\n",
    "# initialise the database to prepare to product addition\n",
    "!datacube system init\n",
    "# add the product configurations to enable indexing of prepared data\n",
    "!datacube -v product add $s2granule_dataset_type\n",
    "!datacube system check"
   ]
  },
  {
   "cell_type": "markdown",
   "metadata": {},
   "source": [
    "# STEP 3: Index the prepared datasets\n",
    "## S2 datasets to the AGDC database - this supports on-the-fly datacube creation - datacube can decode the underlying dataset"
   ]
  },
  {
   "cell_type": "markdown",
   "metadata": {},
   "source": [
    "### Index the AWS datasets"
   ]
  },
  {
   "cell_type": "code",
   "execution_count": 15,
   "metadata": {
    "collapsed": false,
    "scrolled": true
   },
   "outputs": [
    {
     "name": "stdout",
     "output_type": "stream",
     "text": [
      "2016-11-28 17:42:54,098 datacube \u001b[37mINFO\u001b[0m Running datacube command: /home/simonaoliver/venvs/py35/bin/datacube -v dataset add 55.H.FA.2016.11.9.0.yaml --auto-match\n",
      "2016-11-28 17:42:54,709 datacube-dataset \u001b[37mINFO\u001b[0m Matched Dataset <id=8a5d0519-3a62-5015-b954-db32b3c59841 type=s2a_level1c_granule location=/home/simonaoliver/code/testing_notebooks/55.H.FA.2016.11.9.0.yaml>\n",
      "2016-11-28 17:42:54,714 datacube.index._datasets \u001b[37mINFO\u001b[0m Indexing 8a5d0519-3a62-5015-b954-db32b3c59841\n",
      "2016-11-28 17:43:05,849 datacube \u001b[37mINFO\u001b[0m Running datacube command: /home/simonaoliver/venvs/py35/bin/datacube -v dataset add 55.H.FA.2016.11.16.0.yaml --auto-match\n",
      "2016-11-28 17:43:06,365 datacube-dataset \u001b[37mINFO\u001b[0m Matched Dataset <id=da542cb3-1a00-57b2-911d-f773f987ce8d type=s2a_level1c_granule location=/home/simonaoliver/code/testing_notebooks/55.H.FA.2016.11.16.0.yaml>\n",
      "2016-11-28 17:43:06,441 datacube.index._datasets \u001b[37mINFO\u001b[0m Indexing da542cb3-1a00-57b2-911d-f773f987ce8d\n",
      "2016-11-28 17:43:16,988 datacube \u001b[37mINFO\u001b[0m Running datacube command: /home/simonaoliver/venvs/py35/bin/datacube -v dataset add 55.H.FA.2016.11.19.0.yaml --auto-match\n",
      "2016-11-28 17:43:17,490 datacube-dataset \u001b[37mINFO\u001b[0m Matched Dataset <id=8be4c6eb-8e28-522d-a768-d4a16cb54be0 type=s2a_level1c_granule location=/home/simonaoliver/code/testing_notebooks/55.H.FA.2016.11.19.0.yaml>\n",
      "2016-11-28 17:43:17,493 datacube.index._datasets \u001b[37mINFO\u001b[0m Indexing 8be4c6eb-8e28-522d-a768-d4a16cb54be0\n",
      "2016-11-28 17:43:28,449 datacube \u001b[37mINFO\u001b[0m Running datacube command: /home/simonaoliver/venvs/py35/bin/datacube -v dataset add 55.H.FA.2016.11.6.0.yaml --auto-match\n",
      "2016-11-28 17:43:28,958 datacube-dataset \u001b[37mINFO\u001b[0m Matched Dataset <id=2b186db7-da68-5dc0-b55e-320f5e890e63 type=s2a_level1c_granule location=/home/simonaoliver/code/testing_notebooks/55.H.FA.2016.11.6.0.yaml>\n",
      "2016-11-28 17:43:28,961 datacube.index._datasets \u001b[37mINFO\u001b[0m Indexing 2b186db7-da68-5dc0-b55e-320f5e890e63\n",
      "2016-11-28 17:43:39,820 datacube \u001b[37mINFO\u001b[0m Running datacube command: /home/simonaoliver/venvs/py35/bin/datacube -v dataset add 55.H.FA.2016.11.26.0.yaml --auto-match\n",
      "2016-11-28 17:43:40,294 datacube-dataset \u001b[37mINFO\u001b[0m Matched Dataset <id=d6b1a882-c8ab-5984-8cbc-b75323a639c5 type=s2a_level1c_granule location=/home/simonaoliver/code/testing_notebooks/55.H.FA.2016.11.26.0.yaml>\n",
      "2016-11-28 17:43:40,297 datacube.index._datasets \u001b[37mINFO\u001b[0m Indexing d6b1a882-c8ab-5984-8cbc-b75323a639c5\n"
     ]
    }
   ],
   "source": [
    "for key in urls.keys():\n",
    "    output_yaml = key+'.yaml'\n",
    "    !datacube -v dataset add $output_yaml --auto-match"
   ]
  },
  {
   "cell_type": "markdown",
   "metadata": {},
   "source": [
    "### Index the local L1C datasets"
   ]
  },
  {
   "cell_type": "code",
   "execution_count": 16,
   "metadata": {
    "collapsed": false,
    "scrolled": true
   },
   "outputs": [
    {
     "name": "stdout",
     "output_type": "stream",
     "text": [
      "2016-11-28 17:43:56,597 datacube \u001b[37mINFO\u001b[0m Running datacube command: /home/simonaoliver/venvs/py35/bin/datacube -v dataset add /home/simonaoliver/data/S2A_OPER_PRD_MSIL1C_PDMC_20151205T075851_R073_V20151205T001643_20151205T001643.SAFE/agdc-metadata.yaml --auto-match\n",
      "2016-11-28 17:43:56,909 datacube-dataset \u001b[37mINFO\u001b[0m Matched Dataset <id=dafe3d91-362d-470d-98f2-594356a404fa type=s2a_level1c_granule location=/home/simonaoliver/data/S2A_OPER_PRD_MSIL1C_PDMC_20151205T075851_R073_V20151205T001643_20151205T001643.SAFE/agdc-metadata.yaml>\n",
      "2016-11-28 17:43:56,910 datacube.index._datasets \u001b[37mINFO\u001b[0m Indexing dafe3d91-362d-470d-98f2-594356a404fa\n",
      "2016-11-28 17:43:57,028 datacube-dataset \u001b[37mINFO\u001b[0m Matched Dataset <id=55516399-df8f-4231-9b34-075ab821fc00 type=s2a_level1c_granule location=/home/simonaoliver/data/S2A_OPER_PRD_MSIL1C_PDMC_20151205T075851_R073_V20151205T001643_20151205T001643.SAFE/agdc-metadata.yaml>\n",
      "2016-11-28 17:43:57,029 datacube.index._datasets \u001b[37mINFO\u001b[0m Indexing 55516399-df8f-4231-9b34-075ab821fc00\n",
      "2016-11-28 17:43:57,146 datacube-dataset \u001b[37mINFO\u001b[0m Matched Dataset <id=fff171d1-bba2-4983-bf20-b18d4d972671 type=s2a_level1c_granule location=/home/simonaoliver/data/S2A_OPER_PRD_MSIL1C_PDMC_20151205T075851_R073_V20151205T001643_20151205T001643.SAFE/agdc-metadata.yaml>\n",
      "2016-11-28 17:43:57,147 datacube.index._datasets \u001b[37mINFO\u001b[0m Indexing fff171d1-bba2-4983-bf20-b18d4d972671\n",
      "2016-11-28 17:43:57,858 datacube-dataset \u001b[37mINFO\u001b[0m Matched Dataset <id=7f0756c0-ce15-4479-8014-d7c80d6a355e type=s2a_level1c_granule location=/home/simonaoliver/data/S2A_OPER_PRD_MSIL1C_PDMC_20151205T075851_R073_V20151205T001643_20151205T001643.SAFE/agdc-metadata.yaml>\n",
      "2016-11-28 17:43:57,860 datacube.index._datasets \u001b[37mINFO\u001b[0m Indexing 7f0756c0-ce15-4479-8014-d7c80d6a355e\n"
     ]
    }
   ],
   "source": [
    "!datacube -v dataset add $s2_l1c_safeyaml_path --auto-match"
   ]
  },
  {
   "cell_type": "markdown",
   "metadata": {},
   "source": [
    "### Index sen2cor datasets"
   ]
  },
  {
   "cell_type": "code",
   "execution_count": 17,
   "metadata": {
    "collapsed": false,
    "scrolled": true
   },
   "outputs": [
    {
     "name": "stdout",
     "output_type": "stream",
     "text": [
      "2016-11-28 17:50:35,300 datacube \u001b[37mINFO\u001b[0m Running datacube command: /home/simonaoliver/venvs/py35/bin/datacube -v dataset add /media/simonaoliver/datacube/input/S2_NBAR/S2A_USER_PRD_MSIL2A_PDMC_20160314T110945_R073_V20160314T001209_20160314T001209.SAFE/agdc-metadata.yaml --auto-match\n",
      "2016-11-28 17:50:35,935 datacube-dataset \u001b[37mINFO\u001b[0m Matched Dataset <id=e0411b2a-74e2-4aeb-91fb-9bfbe22ffdde type=s2a_sen2cor_granule location=/media/simonaoliver/datacube/input/S2_NBAR/S2A_USER_PRD_MSIL2A_PDMC_20160314T110945_R073_V20160314T001209_20160314T001209.SAFE/agdc-metadata.yaml>\n",
      "2016-11-28 17:50:35,938 datacube.index._datasets \u001b[37mINFO\u001b[0m Indexing e0411b2a-74e2-4aeb-91fb-9bfbe22ffdde\n",
      "2016-11-28 17:50:36,462 datacube-dataset \u001b[37mINFO\u001b[0m Matched Dataset <id=be8bb19a-36ec-427d-88e0-9658dcce1c06 type=s2a_sen2cor_granule location=/media/simonaoliver/datacube/input/S2_NBAR/S2A_USER_PRD_MSIL2A_PDMC_20160314T110945_R073_V20160314T001209_20160314T001209.SAFE/agdc-metadata.yaml>\n",
      "2016-11-28 17:50:36,528 datacube.index._datasets \u001b[37mINFO\u001b[0m Indexing be8bb19a-36ec-427d-88e0-9658dcce1c06\n",
      "2016-11-28 17:50:37,286 datacube-dataset \u001b[37mINFO\u001b[0m Matched Dataset <id=3ab6d609-0ddd-469e-9c85-b783e7473bfd type=s2a_sen2cor_granule location=/media/simonaoliver/datacube/input/S2_NBAR/S2A_USER_PRD_MSIL2A_PDMC_20160314T110945_R073_V20160314T001209_20160314T001209.SAFE/agdc-metadata.yaml>\n",
      "2016-11-28 17:50:37,287 datacube.index._datasets \u001b[37mINFO\u001b[0m Indexing 3ab6d609-0ddd-469e-9c85-b783e7473bfd\n",
      "2016-11-28 17:50:37,907 datacube-dataset \u001b[37mINFO\u001b[0m Matched Dataset <id=e824c252-01f8-45f3-b95d-179cf6776932 type=s2a_sen2cor_granule location=/media/simonaoliver/datacube/input/S2_NBAR/S2A_USER_PRD_MSIL2A_PDMC_20160314T110945_R073_V20160314T001209_20160314T001209.SAFE/agdc-metadata.yaml>\n",
      "2016-11-28 17:50:37,909 datacube.index._datasets \u001b[37mINFO\u001b[0m Indexing e824c252-01f8-45f3-b95d-179cf6776932\n",
      "2016-11-28 17:50:38,328 datacube-dataset \u001b[37mINFO\u001b[0m Matched Dataset <id=ec59f3e9-ed2b-43a7-ae4b-bef3a729bffa type=s2a_sen2cor_granule location=/media/simonaoliver/datacube/input/S2_NBAR/S2A_USER_PRD_MSIL2A_PDMC_20160314T110945_R073_V20160314T001209_20160314T001209.SAFE/agdc-metadata.yaml>\n",
      "2016-11-28 17:50:38,330 datacube.index._datasets \u001b[37mINFO\u001b[0m Indexing ec59f3e9-ed2b-43a7-ae4b-bef3a729bffa\n",
      "2016-11-28 17:50:38,834 datacube-dataset \u001b[37mINFO\u001b[0m Matched Dataset <id=232e11e9-9937-4d82-a9d0-87831c292b3c type=s2a_sen2cor_granule location=/media/simonaoliver/datacube/input/S2_NBAR/S2A_USER_PRD_MSIL2A_PDMC_20160314T110945_R073_V20160314T001209_20160314T001209.SAFE/agdc-metadata.yaml>\n",
      "2016-11-28 17:50:38,835 datacube.index._datasets \u001b[37mINFO\u001b[0m Indexing 232e11e9-9937-4d82-a9d0-87831c292b3c\n",
      "2016-11-28 17:50:39,163 datacube-dataset \u001b[37mINFO\u001b[0m Matched Dataset <id=9b349b27-1c1a-4e5c-8bf8-f2379049edd6 type=s2a_sen2cor_granule location=/media/simonaoliver/datacube/input/S2_NBAR/S2A_USER_PRD_MSIL2A_PDMC_20160314T110945_R073_V20160314T001209_20160314T001209.SAFE/agdc-metadata.yaml>\n",
      "2016-11-28 17:50:39,165 datacube.index._datasets \u001b[37mINFO\u001b[0m Indexing 9b349b27-1c1a-4e5c-8bf8-f2379049edd6\n",
      "2016-11-28 17:50:39,574 datacube-dataset \u001b[37mINFO\u001b[0m Matched Dataset <id=c9d3720f-f502-4291-8767-0cd0d33c6da1 type=s2a_sen2cor_granule location=/media/simonaoliver/datacube/input/S2_NBAR/S2A_USER_PRD_MSIL2A_PDMC_20160314T110945_R073_V20160314T001209_20160314T001209.SAFE/agdc-metadata.yaml>\n",
      "2016-11-28 17:50:39,647 datacube.index._datasets \u001b[37mINFO\u001b[0m Indexing c9d3720f-f502-4291-8767-0cd0d33c6da1\n",
      "2016-11-28 17:50:40,081 datacube-dataset \u001b[37mINFO\u001b[0m Matched Dataset <id=fdac4314-f9c0-4695-b709-72528da21963 type=s2a_sen2cor_granule location=/media/simonaoliver/datacube/input/S2_NBAR/S2A_USER_PRD_MSIL2A_PDMC_20160314T110945_R073_V20160314T001209_20160314T001209.SAFE/agdc-metadata.yaml>\n",
      "2016-11-28 17:50:40,082 datacube.index._datasets \u001b[37mINFO\u001b[0m Indexing fdac4314-f9c0-4695-b709-72528da21963\n",
      "2016-11-28 17:50:40,506 datacube-dataset \u001b[37mINFO\u001b[0m Matched Dataset <id=aafafb0a-6b49-4557-9c40-a3d766290fc9 type=s2a_sen2cor_granule location=/media/simonaoliver/datacube/input/S2_NBAR/S2A_USER_PRD_MSIL2A_PDMC_20160314T110945_R073_V20160314T001209_20160314T001209.SAFE/agdc-metadata.yaml>\n",
      "2016-11-28 17:50:40,507 datacube.index._datasets \u001b[37mINFO\u001b[0m Indexing aafafb0a-6b49-4557-9c40-a3d766290fc9\n",
      "2016-11-28 17:50:40,995 datacube-dataset \u001b[37mINFO\u001b[0m Matched Dataset <id=252a5523-6a35-4bbf-aa24-1a79bdda90b3 type=s2a_sen2cor_granule location=/media/simonaoliver/datacube/input/S2_NBAR/S2A_USER_PRD_MSIL2A_PDMC_20160314T110945_R073_V20160314T001209_20160314T001209.SAFE/agdc-metadata.yaml>\n",
      "2016-11-28 17:50:40,996 datacube.index._datasets \u001b[37mINFO\u001b[0m Indexing 252a5523-6a35-4bbf-aa24-1a79bdda90b3\n",
      "2016-11-28 17:50:41,415 datacube-dataset \u001b[37mINFO\u001b[0m Matched Dataset <id=b2cc9b3a-d262-4dd9-89c3-12e43883640e type=s2a_sen2cor_granule location=/media/simonaoliver/datacube/input/S2_NBAR/S2A_USER_PRD_MSIL2A_PDMC_20160314T110945_R073_V20160314T001209_20160314T001209.SAFE/agdc-metadata.yaml>\n",
      "2016-11-28 17:50:41,417 datacube.index._datasets \u001b[37mINFO\u001b[0m Indexing b2cc9b3a-d262-4dd9-89c3-12e43883640e\n",
      "2016-11-28 17:50:41,954 datacube-dataset \u001b[37mINFO\u001b[0m Matched Dataset <id=6ff81830-a15c-4d10-874c-54fb8b4304a3 type=s2a_sen2cor_granule location=/media/simonaoliver/datacube/input/S2_NBAR/S2A_USER_PRD_MSIL2A_PDMC_20160314T110945_R073_V20160314T001209_20160314T001209.SAFE/agdc-metadata.yaml>\n",
      "2016-11-28 17:50:41,956 datacube.index._datasets \u001b[37mINFO\u001b[0m Indexing 6ff81830-a15c-4d10-874c-54fb8b4304a3\n"
     ]
    }
   ],
   "source": [
    "!datacube -v dataset add $sen2cor_safe_yaml --auto-match"
   ]
  },
  {
   "cell_type": "markdown",
   "metadata": {},
   "source": [
    "# STEP 4: Ingest the indexed datasets\n",
    "## The above indexes the source input dataset - now we can ingest to a DataCube dataset NetCDF4.CF1.6 as described by the ingester configuration file"
   ]
  },
  {
   "cell_type": "code",
   "execution_count": null,
   "metadata": {
    "collapsed": false,
    "scrolled": true
   },
   "outputs": [],
   "source": [
    "s2aingester10 = '/home/simonaoliver/code/agdc-v2/docs/config_samples/ingester/s2amsil1c_albers_10.yaml'\n",
    "!datacube -v ingest --config-file $s2aingester10"
   ]
  },
  {
   "cell_type": "code",
   "execution_count": 29,
   "metadata": {
    "collapsed": false
   },
   "outputs": [
    {
     "name": "stdout",
     "output_type": "stream",
     "text": [
      "2016-11-28 22:08:17,419 datacube \u001b[37mINFO\u001b[0m Running datacube command: /home/simonaoliver/venvs/py35/bin/datacube -v ingest --help\r\n",
      "Usage: datacube ingest [OPTIONS]\r\n",
      "\r\n",
      "  Ingest datasets\r\n",
      "\r\n",
      "Options:\r\n",
      "  -c, --config-file PATH       Ingest configuration file\r\n",
      "  --year INTEGER RANGE\r\n",
      "  --queue-size INTEGER RANGE   Task queue size\r\n",
      "  --save-tasks PATH            Save tasks to the specified file\r\n",
      "  --load-tasks PATH            Load tasks from the specified file\r\n",
      "  -d, --dry-run                Check if everything is ok\r\n",
      "  --executor <CHOICE TEXT>...  Run parallelized, either locally or distrbuted.\r\n",
      "                               eg:\r\n",
      "                               --executor multiproc 4 (OR)\r\n",
      "                               --executor\r\n",
      "                               distributed 10.0.0.8:8888\r\n",
      "  -h, --help                   Show this message and exit.\r\n"
     ]
    }
   ],
   "source": [
    "!datacube -v ingest --help\n"
   ]
  },
  {
   "cell_type": "code",
   "execution_count": null,
   "metadata": {
    "collapsed": true
   },
   "outputs": [],
   "source": []
  },
  {
   "cell_type": "code",
   "execution_count": null,
   "metadata": {
    "collapsed": true
   },
   "outputs": [],
   "source": []
  },
  {
   "cell_type": "markdown",
   "metadata": {},
   "source": [
    "# STEP 5: Load a spatiotemporal subset of the ingested data"
   ]
  },
  {
   "cell_type": "code",
   "execution_count": 18,
   "metadata": {
    "collapsed": false,
    "scrolled": true
   },
   "outputs": [],
   "source": [
    "%matplotlib inline\n",
    "from matplotlib import pyplot as plt\n",
    "import datacube\n",
    "from datacube.model import Range\n",
    "from datetime import datetime\n",
    "dc = datacube.Datacube(app='dc-example')\n",
    "from datacube.storage import masking\n",
    "from datacube.storage.masking import mask_valid_data as mask_invalid_data\n",
    "import pandas\n",
    "import xarray\n",
    "import numpy"
   ]
  },
  {
   "cell_type": "code",
   "execution_count": 19,
   "metadata": {
    "collapsed": false,
    "scrolled": true
   },
   "outputs": [],
   "source": [
    "import folium\n",
    "from IPython.display import display\n",
    "import geopandas\n",
    "from shapely.geometry import mapping\n",
    "from shapely.geometry import MultiPolygon\n",
    "import rasterio\n",
    "import shapely.geometry\n",
    "import shapely.ops\n",
    "from functools import partial\n",
    "import pyproj\n",
    "from datacube.model import CRS"
   ]
  },
  {
   "cell_type": "code",
   "execution_count": 20,
   "metadata": {
    "collapsed": true,
    "scrolled": true
   },
   "outputs": [],
   "source": [
    "def datasets_union(dss, inputcrs):\n",
    "    thing = shapely.ops.unary_union([shapely.geometry.Polygon(ds.extent.points) for ds in dss])\n",
    "    return shapely.geometry.shape(rasterio.warp.transform_geom(inputcrs,'EPSG:4326',\n",
    "                                        shapely.geometry.mapping(thing)))"
   ]
  },
  {
   "cell_type": "code",
   "execution_count": 21,
   "metadata": {
    "collapsed": true,
    "scrolled": true
   },
   "outputs": [],
   "source": [
    "import random\n",
    "def plot_folium(shapes):\n",
    "\n",
    "    mapa = folium.Map(location=[-30,150], zoom_start=4)\n",
    "    colors=['#00ff00', '#ff0000', '#00ffff', '#ffffff', '#000000', '#ff00ff']\n",
    "    for shape in shapes:\n",
    "        style_function = lambda x: {'fillColor': '#000000' if x['type'] == 'Polygon' else '#00ff00', \n",
    "                                   'color' : random.choice(colors)}\n",
    "        poly = folium.features.GeoJson(mapping(shape), style_function=style_function)\n",
    "        mapa.add_children(poly)\n",
    "    display(mapa)"
   ]
  },
  {
   "cell_type": "code",
   "execution_count": 22,
   "metadata": {
    "collapsed": true,
    "scrolled": true
   },
   "outputs": [],
   "source": [
    "def plot_rgb(image, fake_saturation):\n",
    "    image = mask_invalid_data(image)\n",
    "    rgb = image.to_array(dim='color')\n",
    "    rgb = rgb.transpose(*(rgb.dims[1:]+rgb.dims[:1]))  # make 'color' the last dimension\n",
    "    rgb = rgb.where((rgb <= fake_saturation).all(dim='color'))  # mask out pixels where any band is 'saturated'\n",
    "    rgb /= fake_saturation  # scale to [0, 1] range for imshow\n",
    "\n",
    "    rgb.plot.imshow(x=image.crs.dimensions[1], y=image.crs.dimensions[0],\n",
    "                col='time', col_wrap=5, add_colorbar=False)"
   ]
  },
  {
   "cell_type": "markdown",
   "metadata": {},
   "source": [
    "### List the indexable products"
   ]
  },
  {
   "cell_type": "code",
   "execution_count": 23,
   "metadata": {
    "collapsed": false,
    "scrolled": true
   },
   "outputs": [
    {
     "data": {
      "text/html": [
       "<div>\n",
       "<table border=\"1\" class=\"dataframe\">\n",
       "  <thead>\n",
       "    <tr style=\"text-align: right;\">\n",
       "      <th></th>\n",
       "      <th>name</th>\n",
       "      <th>description</th>\n",
       "      <th>product_type</th>\n",
       "      <th>instrument</th>\n",
       "      <th>sat_row</th>\n",
       "      <th>platform</th>\n",
       "      <th>time</th>\n",
       "      <th>sat_path</th>\n",
       "      <th>lon</th>\n",
       "      <th>format</th>\n",
       "      <th>lat</th>\n",
       "      <th>crs</th>\n",
       "      <th>resolution</th>\n",
       "      <th>tile_size</th>\n",
       "      <th>spatial_dimensions</th>\n",
       "    </tr>\n",
       "    <tr>\n",
       "      <th>id</th>\n",
       "      <th></th>\n",
       "      <th></th>\n",
       "      <th></th>\n",
       "      <th></th>\n",
       "      <th></th>\n",
       "      <th></th>\n",
       "      <th></th>\n",
       "      <th></th>\n",
       "      <th></th>\n",
       "      <th></th>\n",
       "      <th></th>\n",
       "      <th></th>\n",
       "      <th></th>\n",
       "      <th></th>\n",
       "      <th></th>\n",
       "    </tr>\n",
       "  </thead>\n",
       "  <tbody>\n",
       "    <tr>\n",
       "      <th>1</th>\n",
       "      <td>s2a_level1c_granule</td>\n",
       "      <td>Sentinel-2 Level 1 - Ortho Rectified</td>\n",
       "      <td>S2MSI1C</td>\n",
       "      <td>MSI</td>\n",
       "      <td>None</td>\n",
       "      <td>SENTINEL_2A</td>\n",
       "      <td>None</td>\n",
       "      <td>None</td>\n",
       "      <td>None</td>\n",
       "      <td>JPEG2000</td>\n",
       "      <td>None</td>\n",
       "      <td>NaN</td>\n",
       "      <td>NaN</td>\n",
       "      <td>NaN</td>\n",
       "      <td>NaN</td>\n",
       "    </tr>\n",
       "    <tr>\n",
       "      <th>2</th>\n",
       "      <td>s2a_sen2cor_granule</td>\n",
       "      <td>Sentinel-2 Level 2 - Sen2Cor Bottom of Atmosph...</td>\n",
       "      <td>S2MSI2Ap</td>\n",
       "      <td>MSI</td>\n",
       "      <td>None</td>\n",
       "      <td>SENTINEL_2A</td>\n",
       "      <td>None</td>\n",
       "      <td>None</td>\n",
       "      <td>None</td>\n",
       "      <td>JPEG2000</td>\n",
       "      <td>None</td>\n",
       "      <td>NaN</td>\n",
       "      <td>NaN</td>\n",
       "      <td>NaN</td>\n",
       "      <td>NaN</td>\n",
       "    </tr>\n",
       "  </tbody>\n",
       "</table>\n",
       "</div>"
      ],
      "text/plain": [
       "                   name                                        description  \\\n",
       "id                                                                           \n",
       "1   s2a_level1c_granule               Sentinel-2 Level 1 - Ortho Rectified   \n",
       "2   s2a_sen2cor_granule  Sentinel-2 Level 2 - Sen2Cor Bottom of Atmosph...   \n",
       "\n",
       "   product_type instrument sat_row     platform  time sat_path   lon  \\\n",
       "id                                                                     \n",
       "1       S2MSI1C        MSI    None  SENTINEL_2A  None     None  None   \n",
       "2      S2MSI2Ap        MSI    None  SENTINEL_2A  None     None  None   \n",
       "\n",
       "      format   lat  crs  resolution  tile_size  spatial_dimensions  \n",
       "id                                                                  \n",
       "1   JPEG2000  None  NaN         NaN        NaN                 NaN  \n",
       "2   JPEG2000  None  NaN         NaN        NaN                 NaN  "
      ]
     },
     "execution_count": 23,
     "metadata": {},
     "output_type": "execute_result"
    }
   ],
   "source": [
    "dc.list_products()"
   ]
  },
  {
   "cell_type": "markdown",
   "metadata": {},
   "source": [
    "### List the available measurements for each product"
   ]
  },
  {
   "cell_type": "code",
   "execution_count": 24,
   "metadata": {
    "collapsed": false,
    "scrolled": true
   },
   "outputs": [
    {
     "data": {
      "text/html": [
       "<div>\n",
       "<table border=\"1\" class=\"dataframe\">\n",
       "  <thead>\n",
       "    <tr style=\"text-align: right;\">\n",
       "      <th></th>\n",
       "      <th></th>\n",
       "      <th>aliases</th>\n",
       "      <th>dtype</th>\n",
       "      <th>flags_definition</th>\n",
       "      <th>name</th>\n",
       "      <th>nodata</th>\n",
       "      <th>spectral_definition</th>\n",
       "      <th>units</th>\n",
       "    </tr>\n",
       "    <tr>\n",
       "      <th>product</th>\n",
       "      <th>measurement</th>\n",
       "      <th></th>\n",
       "      <th></th>\n",
       "      <th></th>\n",
       "      <th></th>\n",
       "      <th></th>\n",
       "      <th></th>\n",
       "      <th></th>\n",
       "    </tr>\n",
       "  </thead>\n",
       "  <tbody>\n",
       "    <tr>\n",
       "      <th rowspan=\"13\" valign=\"top\">s2a_level1c_granule</th>\n",
       "      <th>01</th>\n",
       "      <td>[band_01, B01, Band1]</td>\n",
       "      <td>uint16</td>\n",
       "      <td>NaN</td>\n",
       "      <td>01</td>\n",
       "      <td>0</td>\n",
       "      <td>{'response': [0.015297, 0.067133, 0.19593, 0.3...</td>\n",
       "      <td>1</td>\n",
       "    </tr>\n",
       "    <tr>\n",
       "      <th>02</th>\n",
       "      <td>[band_02, B02, Band2]</td>\n",
       "      <td>uint16</td>\n",
       "      <td>NaN</td>\n",
       "      <td>02</td>\n",
       "      <td>0</td>\n",
       "      <td>{'response': [0.001206, 0.00204, 0.002623, 0.0...</td>\n",
       "      <td>1</td>\n",
       "    </tr>\n",
       "    <tr>\n",
       "      <th>03</th>\n",
       "      <td>[band_03, B03, Band3]</td>\n",
       "      <td>uint16</td>\n",
       "      <td>NaN</td>\n",
       "      <td>03</td>\n",
       "      <td>0</td>\n",
       "      <td>{'response': [0.00084, 0.016372, 0.037688, 0.0...</td>\n",
       "      <td>1</td>\n",
       "    </tr>\n",
       "    <tr>\n",
       "      <th>04</th>\n",
       "      <td>[band_04, B04, Band4]</td>\n",
       "      <td>uint16</td>\n",
       "      <td>NaN</td>\n",
       "      <td>04</td>\n",
       "      <td>0</td>\n",
       "      <td>{'response': [0.002584, 0.034529, 0.14997, 0.4...</td>\n",
       "      <td>1</td>\n",
       "    </tr>\n",
       "    <tr>\n",
       "      <th>05</th>\n",
       "      <td>[band_05, B05, Band5]</td>\n",
       "      <td>uint16</td>\n",
       "      <td>NaN</td>\n",
       "      <td>05</td>\n",
       "      <td>0</td>\n",
       "      <td>{'response': [0.001187, 0.04126, 0.167712, 0.4...</td>\n",
       "      <td>1</td>\n",
       "    </tr>\n",
       "    <tr>\n",
       "      <th>06</th>\n",
       "      <td>[band_06, B06, Band6]</td>\n",
       "      <td>uint16</td>\n",
       "      <td>NaN</td>\n",
       "      <td>06</td>\n",
       "      <td>0</td>\n",
       "      <td>{'response': [0.005331, 0.085006, 0.345714, 0....</td>\n",
       "      <td>1</td>\n",
       "    </tr>\n",
       "    <tr>\n",
       "      <th>07</th>\n",
       "      <td>[band_07, B07, Band7]</td>\n",
       "      <td>uint16</td>\n",
       "      <td>NaN</td>\n",
       "      <td>07</td>\n",
       "      <td>0</td>\n",
       "      <td>{'response': [0.001595, 0.014731, 0.067032, 0....</td>\n",
       "      <td>1</td>\n",
       "    </tr>\n",
       "    <tr>\n",
       "      <th>08</th>\n",
       "      <td>[band_08, B08, Band8]</td>\n",
       "      <td>uint16</td>\n",
       "      <td>NaN</td>\n",
       "      <td>08</td>\n",
       "      <td>0</td>\n",
       "      <td>{'response': [0.000451, 0.007614, 0.019072, 0....</td>\n",
       "      <td>1</td>\n",
       "    </tr>\n",
       "    <tr>\n",
       "      <th>8A</th>\n",
       "      <td>[band_8A, B8A, Band8A]</td>\n",
       "      <td>uint16</td>\n",
       "      <td>NaN</td>\n",
       "      <td>8A</td>\n",
       "      <td>0</td>\n",
       "      <td>{'response': [0.001651, 0.013242, 0.02471, 0.0...</td>\n",
       "      <td>1</td>\n",
       "    </tr>\n",
       "    <tr>\n",
       "      <th>09</th>\n",
       "      <td>[band_09, B09, Band9]</td>\n",
       "      <td>uint16</td>\n",
       "      <td>NaN</td>\n",
       "      <td>09</td>\n",
       "      <td>0</td>\n",
       "      <td>{'response': [0.018022, 0.065698, 0.184737, 0....</td>\n",
       "      <td>1</td>\n",
       "    </tr>\n",
       "    <tr>\n",
       "      <th>10</th>\n",
       "      <td>[band_10, B10, Band10]</td>\n",
       "      <td>uint16</td>\n",
       "      <td>NaN</td>\n",
       "      <td>10</td>\n",
       "      <td>0</td>\n",
       "      <td>{'response': [0.000238, 5.4e-05, 3.1e-05, 2.9e...</td>\n",
       "      <td>1</td>\n",
       "    </tr>\n",
       "    <tr>\n",
       "      <th>11</th>\n",
       "      <td>[band_11, B11, Band11]</td>\n",
       "      <td>uint16</td>\n",
       "      <td>NaN</td>\n",
       "      <td>11</td>\n",
       "      <td>0</td>\n",
       "      <td>{'response': [7e-06, 7e-06, 8e-06, 2.8e-05, 3....</td>\n",
       "      <td>1</td>\n",
       "    </tr>\n",
       "    <tr>\n",
       "      <th>12</th>\n",
       "      <td>[band_12, B12, Band12]</td>\n",
       "      <td>uint16</td>\n",
       "      <td>NaN</td>\n",
       "      <td>12</td>\n",
       "      <td>0</td>\n",
       "      <td>{'response': [0.000639, 0.001023, 0.002885, 0....</td>\n",
       "      <td>1</td>\n",
       "    </tr>\n",
       "    <tr>\n",
       "      <th rowspan=\"25\" valign=\"top\">s2a_sen2cor_granule</th>\n",
       "      <th>B01_60m</th>\n",
       "      <td>NaN</td>\n",
       "      <td>uint16</td>\n",
       "      <td>NaN</td>\n",
       "      <td>B01_60m</td>\n",
       "      <td>0</td>\n",
       "      <td>{'response': [0.015297, 0.067133, 0.19593, 0.3...</td>\n",
       "      <td>1</td>\n",
       "    </tr>\n",
       "    <tr>\n",
       "      <th>B02_10m</th>\n",
       "      <td>NaN</td>\n",
       "      <td>uint16</td>\n",
       "      <td>NaN</td>\n",
       "      <td>B02_10m</td>\n",
       "      <td>0</td>\n",
       "      <td>{'response': [0.001206, 0.00204, 0.002623, 0.0...</td>\n",
       "      <td>1</td>\n",
       "    </tr>\n",
       "    <tr>\n",
       "      <th>B02_20m</th>\n",
       "      <td>NaN</td>\n",
       "      <td>uint16</td>\n",
       "      <td>NaN</td>\n",
       "      <td>B02_20m</td>\n",
       "      <td>0</td>\n",
       "      <td>{'response': [0.001206, 0.00204, 0.002623, 0.0...</td>\n",
       "      <td>1</td>\n",
       "    </tr>\n",
       "    <tr>\n",
       "      <th>B02_60m</th>\n",
       "      <td>NaN</td>\n",
       "      <td>uint16</td>\n",
       "      <td>NaN</td>\n",
       "      <td>B02_60m</td>\n",
       "      <td>0</td>\n",
       "      <td>{'response': [0.001206, 0.00204, 0.002623, 0.0...</td>\n",
       "      <td>1</td>\n",
       "    </tr>\n",
       "    <tr>\n",
       "      <th>B03_10m</th>\n",
       "      <td>[band_03, B03, Band3]</td>\n",
       "      <td>uint16</td>\n",
       "      <td>NaN</td>\n",
       "      <td>B03_10m</td>\n",
       "      <td>0</td>\n",
       "      <td>{'response': [0.00084, 0.016372, 0.037688, 0.0...</td>\n",
       "      <td>1</td>\n",
       "    </tr>\n",
       "    <tr>\n",
       "      <th>B03_20m</th>\n",
       "      <td>NaN</td>\n",
       "      <td>uint16</td>\n",
       "      <td>NaN</td>\n",
       "      <td>B03_20m</td>\n",
       "      <td>0</td>\n",
       "      <td>{'response': [0.00084, 0.016372, 0.037688, 0.0...</td>\n",
       "      <td>1</td>\n",
       "    </tr>\n",
       "    <tr>\n",
       "      <th>B03_60m</th>\n",
       "      <td>NaN</td>\n",
       "      <td>uint16</td>\n",
       "      <td>NaN</td>\n",
       "      <td>B03_60m</td>\n",
       "      <td>0</td>\n",
       "      <td>{'response': [0.00084, 0.016372, 0.037688, 0.0...</td>\n",
       "      <td>1</td>\n",
       "    </tr>\n",
       "    <tr>\n",
       "      <th>B04_10m</th>\n",
       "      <td>NaN</td>\n",
       "      <td>uint16</td>\n",
       "      <td>NaN</td>\n",
       "      <td>B04_10m</td>\n",
       "      <td>0</td>\n",
       "      <td>{'response': [0.002584, 0.034529, 0.14997, 0.4...</td>\n",
       "      <td>1</td>\n",
       "    </tr>\n",
       "    <tr>\n",
       "      <th>B04_20m</th>\n",
       "      <td>NaN</td>\n",
       "      <td>uint16</td>\n",
       "      <td>NaN</td>\n",
       "      <td>B04_20m</td>\n",
       "      <td>0</td>\n",
       "      <td>{'response': [0.002584, 0.034529, 0.14997, 0.4...</td>\n",
       "      <td>1</td>\n",
       "    </tr>\n",
       "    <tr>\n",
       "      <th>B04_60m</th>\n",
       "      <td>NaN</td>\n",
       "      <td>uint16</td>\n",
       "      <td>NaN</td>\n",
       "      <td>B04_60m</td>\n",
       "      <td>0</td>\n",
       "      <td>{'response': [0.002584, 0.034529, 0.14997, 0.4...</td>\n",
       "      <td>1</td>\n",
       "    </tr>\n",
       "    <tr>\n",
       "      <th>B05_20m</th>\n",
       "      <td>NaN</td>\n",
       "      <td>uint16</td>\n",
       "      <td>NaN</td>\n",
       "      <td>B05_20m</td>\n",
       "      <td>0</td>\n",
       "      <td>{'response': [0.001187, 0.04126, 0.167712, 0.4...</td>\n",
       "      <td>1</td>\n",
       "    </tr>\n",
       "    <tr>\n",
       "      <th>B05_60m</th>\n",
       "      <td>NaN</td>\n",
       "      <td>uint16</td>\n",
       "      <td>NaN</td>\n",
       "      <td>B05_60m</td>\n",
       "      <td>0</td>\n",
       "      <td>{'response': [0.001187, 0.04126, 0.167712, 0.4...</td>\n",
       "      <td>1</td>\n",
       "    </tr>\n",
       "    <tr>\n",
       "      <th>B06_20m</th>\n",
       "      <td>NaN</td>\n",
       "      <td>uint16</td>\n",
       "      <td>NaN</td>\n",
       "      <td>B06_20m</td>\n",
       "      <td>0</td>\n",
       "      <td>{'response': [0.005331, 0.085006, 0.345714, 0....</td>\n",
       "      <td>1</td>\n",
       "    </tr>\n",
       "    <tr>\n",
       "      <th>B06_60m</th>\n",
       "      <td>NaN</td>\n",
       "      <td>uint16</td>\n",
       "      <td>NaN</td>\n",
       "      <td>B06_60m</td>\n",
       "      <td>0</td>\n",
       "      <td>{'response': [0.005331, 0.085006, 0.345714, 0....</td>\n",
       "      <td>1</td>\n",
       "    </tr>\n",
       "    <tr>\n",
       "      <th>B07_20m</th>\n",
       "      <td>NaN</td>\n",
       "      <td>uint16</td>\n",
       "      <td>NaN</td>\n",
       "      <td>B07_20m</td>\n",
       "      <td>0</td>\n",
       "      <td>{'response': [0.001595, 0.014731, 0.067032, 0....</td>\n",
       "      <td>1</td>\n",
       "    </tr>\n",
       "    <tr>\n",
       "      <th>B07_60m</th>\n",
       "      <td>NaN</td>\n",
       "      <td>uint16</td>\n",
       "      <td>NaN</td>\n",
       "      <td>B07_60m</td>\n",
       "      <td>0</td>\n",
       "      <td>{'response': [0.001595, 0.014731, 0.067032, 0....</td>\n",
       "      <td>1</td>\n",
       "    </tr>\n",
       "    <tr>\n",
       "      <th>B08_10m</th>\n",
       "      <td>NaN</td>\n",
       "      <td>uint16</td>\n",
       "      <td>NaN</td>\n",
       "      <td>B08_10m</td>\n",
       "      <td>0</td>\n",
       "      <td>{'response': [0.000451, 0.007614, 0.019072, 0....</td>\n",
       "      <td>1</td>\n",
       "    </tr>\n",
       "    <tr>\n",
       "      <th>B8A_20m</th>\n",
       "      <td>NaN</td>\n",
       "      <td>uint16</td>\n",
       "      <td>NaN</td>\n",
       "      <td>B8A_20m</td>\n",
       "      <td>0</td>\n",
       "      <td>{'response': [0.001651, 0.013242, 0.02471, 0.0...</td>\n",
       "      <td>1</td>\n",
       "    </tr>\n",
       "    <tr>\n",
       "      <th>B8A_60m</th>\n",
       "      <td>NaN</td>\n",
       "      <td>uint16</td>\n",
       "      <td>NaN</td>\n",
       "      <td>B8A_60m</td>\n",
       "      <td>0</td>\n",
       "      <td>{'response': [0.001651, 0.013242, 0.02471, 0.0...</td>\n",
       "      <td>1</td>\n",
       "    </tr>\n",
       "    <tr>\n",
       "      <th>B09_60m</th>\n",
       "      <td>NaN</td>\n",
       "      <td>uint16</td>\n",
       "      <td>NaN</td>\n",
       "      <td>B09_60m</td>\n",
       "      <td>0</td>\n",
       "      <td>{'response': [0.018022, 0.065698, 0.184737, 0....</td>\n",
       "      <td>1</td>\n",
       "    </tr>\n",
       "    <tr>\n",
       "      <th>B11_20m</th>\n",
       "      <td>NaN</td>\n",
       "      <td>uint16</td>\n",
       "      <td>NaN</td>\n",
       "      <td>B11_20m</td>\n",
       "      <td>0</td>\n",
       "      <td>{'response': [7e-06, 7e-06, 8e-06, 2.8e-05, 3....</td>\n",
       "      <td>1</td>\n",
       "    </tr>\n",
       "    <tr>\n",
       "      <th>B11_60m</th>\n",
       "      <td>NaN</td>\n",
       "      <td>uint16</td>\n",
       "      <td>NaN</td>\n",
       "      <td>B11_60m</td>\n",
       "      <td>0</td>\n",
       "      <td>{'response': [7e-06, 7e-06, 8e-06, 2.8e-05, 3....</td>\n",
       "      <td>1</td>\n",
       "    </tr>\n",
       "    <tr>\n",
       "      <th>B12_20m</th>\n",
       "      <td>NaN</td>\n",
       "      <td>uint16</td>\n",
       "      <td>NaN</td>\n",
       "      <td>B12_20m</td>\n",
       "      <td>0</td>\n",
       "      <td>{'response': [0.000639, 0.001023, 0.002885, 0....</td>\n",
       "      <td>1</td>\n",
       "    </tr>\n",
       "    <tr>\n",
       "      <th>B12_60m</th>\n",
       "      <td>NaN</td>\n",
       "      <td>uint16</td>\n",
       "      <td>NaN</td>\n",
       "      <td>B12_60m</td>\n",
       "      <td>0</td>\n",
       "      <td>{'response': [0.000639, 0.001023, 0.002885, 0....</td>\n",
       "      <td>1</td>\n",
       "    </tr>\n",
       "    <tr>\n",
       "      <th>SCL_20m</th>\n",
       "      <td>NaN</td>\n",
       "      <td>uint16</td>\n",
       "      <td>{'sca': {'bits': [0, 1, 2, 3, 4, 5, 6, 7, 8, 9...</td>\n",
       "      <td>SCL_20m</td>\n",
       "      <td>0</td>\n",
       "      <td>NaN</td>\n",
       "      <td>1</td>\n",
       "    </tr>\n",
       "  </tbody>\n",
       "</table>\n",
       "</div>"
      ],
      "text/plain": [
       "                                                aliases   dtype  \\\n",
       "product             measurement                                   \n",
       "s2a_level1c_granule 01            [band_01, B01, Band1]  uint16   \n",
       "                    02            [band_02, B02, Band2]  uint16   \n",
       "                    03            [band_03, B03, Band3]  uint16   \n",
       "                    04            [band_04, B04, Band4]  uint16   \n",
       "                    05            [band_05, B05, Band5]  uint16   \n",
       "                    06            [band_06, B06, Band6]  uint16   \n",
       "                    07            [band_07, B07, Band7]  uint16   \n",
       "                    08            [band_08, B08, Band8]  uint16   \n",
       "                    8A           [band_8A, B8A, Band8A]  uint16   \n",
       "                    09            [band_09, B09, Band9]  uint16   \n",
       "                    10           [band_10, B10, Band10]  uint16   \n",
       "                    11           [band_11, B11, Band11]  uint16   \n",
       "                    12           [band_12, B12, Band12]  uint16   \n",
       "s2a_sen2cor_granule B01_60m                         NaN  uint16   \n",
       "                    B02_10m                         NaN  uint16   \n",
       "                    B02_20m                         NaN  uint16   \n",
       "                    B02_60m                         NaN  uint16   \n",
       "                    B03_10m       [band_03, B03, Band3]  uint16   \n",
       "                    B03_20m                         NaN  uint16   \n",
       "                    B03_60m                         NaN  uint16   \n",
       "                    B04_10m                         NaN  uint16   \n",
       "                    B04_20m                         NaN  uint16   \n",
       "                    B04_60m                         NaN  uint16   \n",
       "                    B05_20m                         NaN  uint16   \n",
       "                    B05_60m                         NaN  uint16   \n",
       "                    B06_20m                         NaN  uint16   \n",
       "                    B06_60m                         NaN  uint16   \n",
       "                    B07_20m                         NaN  uint16   \n",
       "                    B07_60m                         NaN  uint16   \n",
       "                    B08_10m                         NaN  uint16   \n",
       "                    B8A_20m                         NaN  uint16   \n",
       "                    B8A_60m                         NaN  uint16   \n",
       "                    B09_60m                         NaN  uint16   \n",
       "                    B11_20m                         NaN  uint16   \n",
       "                    B11_60m                         NaN  uint16   \n",
       "                    B12_20m                         NaN  uint16   \n",
       "                    B12_60m                         NaN  uint16   \n",
       "                    SCL_20m                         NaN  uint16   \n",
       "\n",
       "                                                                  flags_definition  \\\n",
       "product             measurement                                                      \n",
       "s2a_level1c_granule 01                                                         NaN   \n",
       "                    02                                                         NaN   \n",
       "                    03                                                         NaN   \n",
       "                    04                                                         NaN   \n",
       "                    05                                                         NaN   \n",
       "                    06                                                         NaN   \n",
       "                    07                                                         NaN   \n",
       "                    08                                                         NaN   \n",
       "                    8A                                                         NaN   \n",
       "                    09                                                         NaN   \n",
       "                    10                                                         NaN   \n",
       "                    11                                                         NaN   \n",
       "                    12                                                         NaN   \n",
       "s2a_sen2cor_granule B01_60m                                                    NaN   \n",
       "                    B02_10m                                                    NaN   \n",
       "                    B02_20m                                                    NaN   \n",
       "                    B02_60m                                                    NaN   \n",
       "                    B03_10m                                                    NaN   \n",
       "                    B03_20m                                                    NaN   \n",
       "                    B03_60m                                                    NaN   \n",
       "                    B04_10m                                                    NaN   \n",
       "                    B04_20m                                                    NaN   \n",
       "                    B04_60m                                                    NaN   \n",
       "                    B05_20m                                                    NaN   \n",
       "                    B05_60m                                                    NaN   \n",
       "                    B06_20m                                                    NaN   \n",
       "                    B06_60m                                                    NaN   \n",
       "                    B07_20m                                                    NaN   \n",
       "                    B07_60m                                                    NaN   \n",
       "                    B08_10m                                                    NaN   \n",
       "                    B8A_20m                                                    NaN   \n",
       "                    B8A_60m                                                    NaN   \n",
       "                    B09_60m                                                    NaN   \n",
       "                    B11_20m                                                    NaN   \n",
       "                    B11_60m                                                    NaN   \n",
       "                    B12_20m                                                    NaN   \n",
       "                    B12_60m                                                    NaN   \n",
       "                    SCL_20m      {'sca': {'bits': [0, 1, 2, 3, 4, 5, 6, 7, 8, 9...   \n",
       "\n",
       "                                    name  nodata  \\\n",
       "product             measurement                    \n",
       "s2a_level1c_granule 01                01       0   \n",
       "                    02                02       0   \n",
       "                    03                03       0   \n",
       "                    04                04       0   \n",
       "                    05                05       0   \n",
       "                    06                06       0   \n",
       "                    07                07       0   \n",
       "                    08                08       0   \n",
       "                    8A                8A       0   \n",
       "                    09                09       0   \n",
       "                    10                10       0   \n",
       "                    11                11       0   \n",
       "                    12                12       0   \n",
       "s2a_sen2cor_granule B01_60m      B01_60m       0   \n",
       "                    B02_10m      B02_10m       0   \n",
       "                    B02_20m      B02_20m       0   \n",
       "                    B02_60m      B02_60m       0   \n",
       "                    B03_10m      B03_10m       0   \n",
       "                    B03_20m      B03_20m       0   \n",
       "                    B03_60m      B03_60m       0   \n",
       "                    B04_10m      B04_10m       0   \n",
       "                    B04_20m      B04_20m       0   \n",
       "                    B04_60m      B04_60m       0   \n",
       "                    B05_20m      B05_20m       0   \n",
       "                    B05_60m      B05_60m       0   \n",
       "                    B06_20m      B06_20m       0   \n",
       "                    B06_60m      B06_60m       0   \n",
       "                    B07_20m      B07_20m       0   \n",
       "                    B07_60m      B07_60m       0   \n",
       "                    B08_10m      B08_10m       0   \n",
       "                    B8A_20m      B8A_20m       0   \n",
       "                    B8A_60m      B8A_60m       0   \n",
       "                    B09_60m      B09_60m       0   \n",
       "                    B11_20m      B11_20m       0   \n",
       "                    B11_60m      B11_60m       0   \n",
       "                    B12_20m      B12_20m       0   \n",
       "                    B12_60m      B12_60m       0   \n",
       "                    SCL_20m      SCL_20m       0   \n",
       "\n",
       "                                                               spectral_definition  \\\n",
       "product             measurement                                                      \n",
       "s2a_level1c_granule 01           {'response': [0.015297, 0.067133, 0.19593, 0.3...   \n",
       "                    02           {'response': [0.001206, 0.00204, 0.002623, 0.0...   \n",
       "                    03           {'response': [0.00084, 0.016372, 0.037688, 0.0...   \n",
       "                    04           {'response': [0.002584, 0.034529, 0.14997, 0.4...   \n",
       "                    05           {'response': [0.001187, 0.04126, 0.167712, 0.4...   \n",
       "                    06           {'response': [0.005331, 0.085006, 0.345714, 0....   \n",
       "                    07           {'response': [0.001595, 0.014731, 0.067032, 0....   \n",
       "                    08           {'response': [0.000451, 0.007614, 0.019072, 0....   \n",
       "                    8A           {'response': [0.001651, 0.013242, 0.02471, 0.0...   \n",
       "                    09           {'response': [0.018022, 0.065698, 0.184737, 0....   \n",
       "                    10           {'response': [0.000238, 5.4e-05, 3.1e-05, 2.9e...   \n",
       "                    11           {'response': [7e-06, 7e-06, 8e-06, 2.8e-05, 3....   \n",
       "                    12           {'response': [0.000639, 0.001023, 0.002885, 0....   \n",
       "s2a_sen2cor_granule B01_60m      {'response': [0.015297, 0.067133, 0.19593, 0.3...   \n",
       "                    B02_10m      {'response': [0.001206, 0.00204, 0.002623, 0.0...   \n",
       "                    B02_20m      {'response': [0.001206, 0.00204, 0.002623, 0.0...   \n",
       "                    B02_60m      {'response': [0.001206, 0.00204, 0.002623, 0.0...   \n",
       "                    B03_10m      {'response': [0.00084, 0.016372, 0.037688, 0.0...   \n",
       "                    B03_20m      {'response': [0.00084, 0.016372, 0.037688, 0.0...   \n",
       "                    B03_60m      {'response': [0.00084, 0.016372, 0.037688, 0.0...   \n",
       "                    B04_10m      {'response': [0.002584, 0.034529, 0.14997, 0.4...   \n",
       "                    B04_20m      {'response': [0.002584, 0.034529, 0.14997, 0.4...   \n",
       "                    B04_60m      {'response': [0.002584, 0.034529, 0.14997, 0.4...   \n",
       "                    B05_20m      {'response': [0.001187, 0.04126, 0.167712, 0.4...   \n",
       "                    B05_60m      {'response': [0.001187, 0.04126, 0.167712, 0.4...   \n",
       "                    B06_20m      {'response': [0.005331, 0.085006, 0.345714, 0....   \n",
       "                    B06_60m      {'response': [0.005331, 0.085006, 0.345714, 0....   \n",
       "                    B07_20m      {'response': [0.001595, 0.014731, 0.067032, 0....   \n",
       "                    B07_60m      {'response': [0.001595, 0.014731, 0.067032, 0....   \n",
       "                    B08_10m      {'response': [0.000451, 0.007614, 0.019072, 0....   \n",
       "                    B8A_20m      {'response': [0.001651, 0.013242, 0.02471, 0.0...   \n",
       "                    B8A_60m      {'response': [0.001651, 0.013242, 0.02471, 0.0...   \n",
       "                    B09_60m      {'response': [0.018022, 0.065698, 0.184737, 0....   \n",
       "                    B11_20m      {'response': [7e-06, 7e-06, 8e-06, 2.8e-05, 3....   \n",
       "                    B11_60m      {'response': [7e-06, 7e-06, 8e-06, 2.8e-05, 3....   \n",
       "                    B12_20m      {'response': [0.000639, 0.001023, 0.002885, 0....   \n",
       "                    B12_60m      {'response': [0.000639, 0.001023, 0.002885, 0....   \n",
       "                    SCL_20m                                                    NaN   \n",
       "\n",
       "                                units  \n",
       "product             measurement        \n",
       "s2a_level1c_granule 01              1  \n",
       "                    02              1  \n",
       "                    03              1  \n",
       "                    04              1  \n",
       "                    05              1  \n",
       "                    06              1  \n",
       "                    07              1  \n",
       "                    08              1  \n",
       "                    8A              1  \n",
       "                    09              1  \n",
       "                    10              1  \n",
       "                    11              1  \n",
       "                    12              1  \n",
       "s2a_sen2cor_granule B01_60m         1  \n",
       "                    B02_10m         1  \n",
       "                    B02_20m         1  \n",
       "                    B02_60m         1  \n",
       "                    B03_10m         1  \n",
       "                    B03_20m         1  \n",
       "                    B03_60m         1  \n",
       "                    B04_10m         1  \n",
       "                    B04_20m         1  \n",
       "                    B04_60m         1  \n",
       "                    B05_20m         1  \n",
       "                    B05_60m         1  \n",
       "                    B06_20m         1  \n",
       "                    B06_60m         1  \n",
       "                    B07_20m         1  \n",
       "                    B07_60m         1  \n",
       "                    B08_10m         1  \n",
       "                    B8A_20m         1  \n",
       "                    B8A_60m         1  \n",
       "                    B09_60m         1  \n",
       "                    B11_20m         1  \n",
       "                    B11_60m         1  \n",
       "                    B12_20m         1  \n",
       "                    B12_60m         1  \n",
       "                    SCL_20m         1  "
      ]
     },
     "execution_count": 24,
     "metadata": {},
     "output_type": "execute_result"
    }
   ],
   "source": [
    "dc.list_measurements()"
   ]
  },
  {
   "cell_type": "markdown",
   "metadata": {},
   "source": [
    "## Show the spatial extent of the ingested data"
   ]
  },
  {
   "cell_type": "code",
   "execution_count": 26,
   "metadata": {
    "collapsed": false,
    "scrolled": true
   },
   "outputs": [
    {
     "ename": "ValueError",
     "evalue": "Input is not a valid geometry object",
     "output_type": "error",
     "traceback": [
      "\u001b[0;31m---------------------------------------------------------------------------\u001b[0m",
      "\u001b[0;31mValueError\u001b[0m                                Traceback (most recent call last)",
      "\u001b[0;32m<ipython-input-26-2bebbd67ba84>\u001b[0m in \u001b[0;36m<module>\u001b[0;34m()\u001b[0m\n\u001b[0;32m----> 1\u001b[0;31m \u001b[0mplot_folium\u001b[0m\u001b[0;34m(\u001b[0m\u001b[0;34m[\u001b[0m\u001b[0mdatasets_union\u001b[0m\u001b[0;34m(\u001b[0m\u001b[0mdc\u001b[0m\u001b[0;34m.\u001b[0m\u001b[0mindex\u001b[0m\u001b[0;34m.\u001b[0m\u001b[0mdatasets\u001b[0m\u001b[0;34m.\u001b[0m\u001b[0msearch_eager\u001b[0m\u001b[0;34m(\u001b[0m\u001b[0mproduct\u001b[0m\u001b[0;34m=\u001b[0m\u001b[0;34m's2a_l1c_albers'\u001b[0m\u001b[0;34m)\u001b[0m\u001b[0;34m,\u001b[0m\u001b[0;34m'EPSG:3577'\u001b[0m\u001b[0;34m)\u001b[0m\u001b[0;34m]\u001b[0m\u001b[0;34m)\u001b[0m\u001b[0;34m\u001b[0m\u001b[0m\n\u001b[0m",
      "\u001b[0;32m<ipython-input-20-111f8b4982aa>\u001b[0m in \u001b[0;36mdatasets_union\u001b[0;34m(dss, inputcrs)\u001b[0m\n\u001b[1;32m      2\u001b[0m     \u001b[0mthing\u001b[0m \u001b[0;34m=\u001b[0m \u001b[0mshapely\u001b[0m\u001b[0;34m.\u001b[0m\u001b[0mops\u001b[0m\u001b[0;34m.\u001b[0m\u001b[0munary_union\u001b[0m\u001b[0;34m(\u001b[0m\u001b[0;34m[\u001b[0m\u001b[0mshapely\u001b[0m\u001b[0;34m.\u001b[0m\u001b[0mgeometry\u001b[0m\u001b[0;34m.\u001b[0m\u001b[0mPolygon\u001b[0m\u001b[0;34m(\u001b[0m\u001b[0mds\u001b[0m\u001b[0;34m.\u001b[0m\u001b[0mextent\u001b[0m\u001b[0;34m.\u001b[0m\u001b[0mpoints\u001b[0m\u001b[0;34m)\u001b[0m \u001b[0;32mfor\u001b[0m \u001b[0mds\u001b[0m \u001b[0;32min\u001b[0m \u001b[0mdss\u001b[0m\u001b[0;34m]\u001b[0m\u001b[0;34m)\u001b[0m\u001b[0;34m\u001b[0m\u001b[0m\n\u001b[1;32m      3\u001b[0m     return shapely.geometry.shape(rasterio.warp.transform_geom(inputcrs,'EPSG:4326',\n\u001b[0;32m----> 4\u001b[0;31m                                         shapely.geometry.mapping(thing)))\n\u001b[0m",
      "\u001b[0;32m/home/simonaoliver/venvs/py35/lib/python3.5/site-packages/rasterio/warp.py\u001b[0m in \u001b[0;36mtransform_geom\u001b[0;34m(src_crs, dst_crs, geom, antimeridian_cutting, antimeridian_offset, precision)\u001b[0m\n\u001b[1;32m     92\u001b[0m         \u001b[0mantimeridian_cutting\u001b[0m\u001b[0;34m,\u001b[0m\u001b[0;34m\u001b[0m\u001b[0m\n\u001b[1;32m     93\u001b[0m         \u001b[0mantimeridian_offset\u001b[0m\u001b[0;34m,\u001b[0m\u001b[0;34m\u001b[0m\u001b[0m\n\u001b[0;32m---> 94\u001b[0;31m         precision)\n\u001b[0m\u001b[1;32m     95\u001b[0m \u001b[0;34m\u001b[0m\u001b[0m\n\u001b[1;32m     96\u001b[0m \u001b[0;34m\u001b[0m\u001b[0m\n",
      "\u001b[0;32mrasterio/_warp.pyx\u001b[0m in \u001b[0;36mrasterio._warp._transform_geom (rasterio/_warp.cpp:3518)\u001b[0;34m()\u001b[0m\n",
      "\u001b[0;32mrasterio/_features.pyx\u001b[0m in \u001b[0;36mrasterio._features.OGRGeomBuilder.build (rasterio/_features.c:10856)\u001b[0;34m()\u001b[0m\n",
      "\u001b[0;31mValueError\u001b[0m: Input is not a valid geometry object"
     ]
    }
   ],
   "source": [
    "plot_folium([datasets_union(dc.index.datasets.search_eager(product='s2a_l1c_albers'),'EPSG:3577')])"
   ]
  },
  {
   "cell_type": "code",
   "execution_count": 27,
   "metadata": {
    "collapsed": false,
    "scrolled": true
   },
   "outputs": [
    {
     "data": {
      "text/html": [
       "<div style=\"width:100%;\"><div style=\"position:relative;width:100%;height:0;padding-bottom:60%;\"><iframe src=\"data:text/html;base64,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\" style=\"position:absolute;width:100%;height:100%;left:0;top:0;\"></iframe></div></div>"
      ],
      "text/plain": [
       "<folium.folium.Map at 0x7fc6ca790908>"
      ]
     },
     "metadata": {},
     "output_type": "display_data"
    }
   ],
   "source": [
    "plot_folium([datasets_union(dc.index.datasets.search_eager(product='s2a_level1c_granule'),'EPSG:32755')])"
   ]
  },
  {
   "cell_type": "markdown",
   "metadata": {},
   "source": [
    "### Load spatiotemporal range of available L1C data - don't care where it is sitting (on AWS S3 or locally)"
   ]
  },
  {
   "cell_type": "code",
   "execution_count": 28,
   "metadata": {
    "collapsed": false,
    "scrolled": true
   },
   "outputs": [
    {
     "name": "stdout",
     "output_type": "stream",
     "text": [
      "id,product,location\n",
      "8a5d0519-3a62-5015-b954-db32b3c59841,s2a_level1c_granule,file:///home/simonaoliver/code/testing_notebooks/55.H.FA.2016.11.9.0.yaml\n",
      "da542cb3-1a00-57b2-911d-f773f987ce8d,s2a_level1c_granule,file:///home/simonaoliver/code/testing_notebooks/55.H.FA.2016.11.16.0.yaml\n",
      "8be4c6eb-8e28-522d-a768-d4a16cb54be0,s2a_level1c_granule,file:///home/simonaoliver/code/testing_notebooks/55.H.FA.2016.11.19.0.yaml\n",
      "2b186db7-da68-5dc0-b55e-320f5e890e63,s2a_level1c_granule,file:///home/simonaoliver/code/testing_notebooks/55.H.FA.2016.11.6.0.yaml\n",
      "d6b1a882-c8ab-5984-8cbc-b75323a639c5,s2a_level1c_granule,file:///home/simonaoliver/code/testing_notebooks/55.H.FA.2016.11.26.0.yaml\n",
      "dafe3d91-362d-470d-98f2-594356a404fa,s2a_level1c_granule,file:///home/simonaoliver/data/S2A_OPER_PRD_MSIL1C_PDMC_20151205T075851_R073_V20151205T001643_20151205T001643.SAFE/agdc-metadata.yaml\n",
      "55516399-df8f-4231-9b34-075ab821fc00,s2a_level1c_granule,file:///home/simonaoliver/data/S2A_OPER_PRD_MSIL1C_PDMC_20151205T075851_R073_V20151205T001643_20151205T001643.SAFE/agdc-metadata.yaml\n",
      "fff171d1-bba2-4983-bf20-b18d4d972671,s2a_level1c_granule,file:///home/simonaoliver/data/S2A_OPER_PRD_MSIL1C_PDMC_20151205T075851_R073_V20151205T001643_20151205T001643.SAFE/agdc-metadata.yaml\n",
      "7f0756c0-ce15-4479-8014-d7c80d6a355e,s2a_level1c_granule,file:///home/simonaoliver/data/S2A_OPER_PRD_MSIL1C_PDMC_20151205T075851_R073_V20151205T001643_20151205T001643.SAFE/agdc-metadata.yaml\n"
     ]
    }
   ],
   "source": [
    "# list the available indexed L1C datasets - noting both AWS and local file system datasets\n",
    "!datacube dataset search product=s2a_level1c_granule"
   ]
  },
  {
   "cell_type": "code",
   "execution_count": null,
   "metadata": {
    "collapsed": true,
    "scrolled": true
   },
   "outputs": [],
   "source": [
    "s2a_l1c = dc.load(product='s2a_level1c_granule',y=(6030000, 6031000), x=(662000, 663000), crs='EPSG:32755', measurements=['04','03','02'], output_crs='EPSG:4326', resolution=(-0.00025,0.00025))"
   ]
  },
  {
   "cell_type": "code",
   "execution_count": null,
   "metadata": {
    "collapsed": false,
    "scrolled": true
   },
   "outputs": [],
   "source": [
    "s2a_l1c_scl = dc.load(product='s2a_level1c_granule_scl', output_crs='EPSG:4326', resolution=(-0.00025,0.00025))"
   ]
  },
  {
   "cell_type": "code",
   "execution_count": null,
   "metadata": {
    "collapsed": false,
    "scrolled": true
   },
   "outputs": [],
   "source": [
    "s2a_l1c"
   ]
  },
  {
   "cell_type": "code",
   "execution_count": null,
   "metadata": {
    "collapsed": false,
    "scrolled": true
   },
   "outputs": [],
   "source": [
    "plot_rgb(s2a_l1c,5000)"
   ]
  },
  {
   "cell_type": "markdown",
   "metadata": {},
   "source": [
    "## Write to example output NetCDF"
   ]
  },
  {
   "cell_type": "code",
   "execution_count": null,
   "metadata": {
    "collapsed": false,
    "scrolled": true
   },
   "outputs": [],
   "source": [
    "import os\n",
    "from datacube.storage.storage import write_dataset_to_netcdf\n",
    "netcdf_write_example = '/home/simonaoliver/example4.nc'\n",
    "if os.path.isfile(netcdf_write_example):\n",
    "    os.remove(netcdf_write_example)\n",
    "    \n",
    "write_dataset_to_netcdf(s2a_l1c, netcdf_write_example)"
   ]
  },
  {
   "cell_type": "markdown",
   "metadata": {},
   "source": [
    "## Read back as xarray"
   ]
  },
  {
   "cell_type": "code",
   "execution_count": null,
   "metadata": {
    "collapsed": true,
    "scrolled": true
   },
   "outputs": [],
   "source": [
    "import xarray"
   ]
  },
  {
   "cell_type": "code",
   "execution_count": null,
   "metadata": {
    "collapsed": false,
    "scrolled": true
   },
   "outputs": [],
   "source": [
    "example = xarray.open_dataset('/home/simonaoliver/example2.nc')"
   ]
  },
  {
   "cell_type": "code",
   "execution_count": null,
   "metadata": {
    "collapsed": false,
    "scrolled": true
   },
   "outputs": [],
   "source": [
    "example['02'].plot()"
   ]
  },
  {
   "cell_type": "code",
   "execution_count": null,
   "metadata": {
    "collapsed": false,
    "scrolled": true
   },
   "outputs": [],
   "source": [
    "s2a_l1c['02'].plot()"
   ]
  },
  {
   "cell_type": "code",
   "execution_count": null,
   "metadata": {
    "collapsed": false,
    "scrolled": true
   },
   "outputs": [],
   "source": [
    "s2a_l1c_albers_10m = dc.load(product='s2a_level1c_albers_10', x=(147.36, 147.41), y=(-35.1, -35.15), measurements=['red','green','blue'])"
   ]
  },
  {
   "cell_type": "code",
   "execution_count": null,
   "metadata": {
    "collapsed": false,
    "scrolled": true
   },
   "outputs": [],
   "source": [
    "plot_rgb(s2a_l1c_albers_10m, 6000)"
   ]
  },
  {
   "cell_type": "code",
   "execution_count": null,
   "metadata": {
    "collapsed": false,
    "scrolled": true
   },
   "outputs": [],
   "source": [
    "s2a_sen2cor_60m = dc.load(product='s2a_sen2cor_granule_scl',x=(147.36, 147.41), y=(-37.1, -37.15), measurements=['SCL_20m'], output_crs='EPSG:4326', resolution=(-0.0060, 0.0060))"
   ]
  },
  {
   "cell_type": "code",
   "execution_count": null,
   "metadata": {
    "collapsed": true,
    "scrolled": true
   },
   "outputs": [],
   "source": [
    "sen2corSLC = dc.load(product='s2a_sen2cor_granule_scl', output_crs='EPSG:4326', resolution=(-0.0025, 0.0025))"
   ]
  },
  {
   "cell_type": "code",
   "execution_count": null,
   "metadata": {
    "collapsed": false,
    "scrolled": true
   },
   "outputs": [],
   "source": [
    "s2a_sen2cor_60m"
   ]
  },
  {
   "cell_type": "code",
   "execution_count": null,
   "metadata": {
    "collapsed": true,
    "scrolled": true
   },
   "outputs": [],
   "source": []
  }
 ],
 "metadata": {
  "anaconda-cloud": {},
  "kernelspec": {
   "display_name": "Python 3",
   "language": "python",
   "name": "python3"
  },
  "language_info": {
   "codemirror_mode": {
    "name": "ipython",
    "version": 3
   },
   "file_extension": ".py",
   "mimetype": "text/x-python",
   "name": "python",
   "nbconvert_exporter": "python",
   "pygments_lexer": "ipython3",
   "version": "3.5.2"
  }
 },
 "nbformat": 4,
 "nbformat_minor": 0
}
