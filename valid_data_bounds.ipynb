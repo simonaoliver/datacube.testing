{
 "cells": [
  {
   "cell_type": "code",
   "execution_count": 1,
   "metadata": {
    "ExecuteTime": {
     "end_time": "2016-06-14T11:06:18.854855",
     "start_time": "2016-06-14T11:06:18.851918"
    },
    "collapsed": false
   },
   "outputs": [],
   "source": [
    "import rasterio\n",
    "import shapely.geometry\n",
    "import shapely.ops\n",
    "\n",
    "from datacube import Datacube"
   ]
  },
  {
   "cell_type": "code",
   "execution_count": 2,
   "metadata": {
    "ExecuteTime": {
     "end_time": "2016-06-14T11:05:47.487144",
     "start_time": "2016-06-14T11:05:47.484282"
    },
    "collapsed": true
   },
   "outputs": [],
   "source": [
    "def datasets_union(dss):\n",
    "    return shapely.ops.unary_union([shapely.geometry.Polygon(ds.extent.points) for ds in dss])"
   ]
  },
  {
   "cell_type": "code",
   "execution_count": 3,
   "metadata": {
    "ExecuteTime": {
     "end_time": "2016-06-14T11:06:20.750130",
     "start_time": "2016-06-14T11:06:20.724714"
    },
    "collapsed": false
   },
   "outputs": [],
   "source": [
    "datacube = Datacube()"
   ]
  },
  {
   "cell_type": "code",
   "execution_count": 9,
   "metadata": {
    "ExecuteTime": {
     "end_time": "2016-06-14T11:06:21.662081",
     "start_time": "2016-06-14T11:06:21.587872"
    },
    "collapsed": false
   },
   "outputs": [
    {
     "data": {
      "image/svg+xml": [
       "<svg xmlns=\"http://www.w3.org/2000/svg\" xmlns:xlink=\"http://www.w3.org/1999/xlink\" width=\"300\" height=\"300\" viewBox=\"359902.4 6077762.4 336355.2 125315.2\" preserveAspectRatio=\"xMinYMin meet\"><g transform=\"matrix(1,0,0,-1,0,12280840.0)\"><path fill-rule=\"evenodd\" fill=\"#66cc99\" stroke=\"#555555\" stroke-width=\"2242.368\" opacity=\"0.6\" d=\"M 600827.152962,6142862.7108 L 602655.145314,6142418.05704 L 610215.909389,6140377.85232 L 657496.356154,6127057.7276 L 671145.690604,6122665.94842 L 683172.954988,6118949.55343 L 683313.363364,6118899.41742 L 683406.24695,6118847.80869 L 683459.615239,6118802.74721 L 683500.0,6118660.0 L 683499.958115,6118632.26074 L 683608.944272,6118577.88854 L 683794.142136,6118394.14214 L 683800.0,6118180.0 L 683339.460421,6116235.38567 L 679079.40285,6098995.14929 L 677039.381943,6090855.06641 L 676840.910678,6090220.0 L 676622.238287,6090220.0 L 676463.294313,6090220.0 L 609780.0,6090220.0 L 600000.0,6090220.0 L 509760.0,6090220.0 L 499980.0,6090220.0 L 428133.796357,6090220.0 L 427647.274922,6090220.0 L 427058.646801,6090220.0 L 422897.997218,6091030.20261 L 422667.138545,6091077.42011 L 422388.233032,6091121.16516 L 401268.132362,6095381.18538 L 400706.756758,6095559.77189 L 397667.687109,6096161.27698 L 395631.135211,6096591.6049 L 372558.011532,6101270.19969 L 372360.0,6101330.0 L 372360.28833,6101472.384 L 374260.291225,6109212.39576 L 384360.294562,6150072.40925 L 394230.298575,6189782.42536 L 394420.329255,6190522.54493 L 394520.0,6190620.0 L 394723.238577,6190584.19502 L 394740.0,6190600.0 L 395291.816363,6190598.82494 L 409031.816363,6187838.82494 L 409156.412138,6187802.89501 L 446352.571745,6180218.66814 L 495613.170732,6169298.53659 L 503216.350604,6167486.71562 L 504313.249539,6167258.5188 L 515234.15984,6164678.30522 L 549314.552138,6156338.20855 L 563955.248747,6152618.02996 L 600827.152962,6142862.7108 z\" /></g></svg>"
      ],
      "text/plain": [
       "<shapely.geometry.polygon.Polygon at 0x7f71ae4c9250>"
      ]
     },
     "execution_count": 9,
     "metadata": {},
     "output_type": "execute_result"
    }
   ],
   "source": [
    "scenes = datacube.index.datasets.search_eager(product='s2a_level1c_granule')\n",
    "datasets_union(scenes)"
   ]
  },
  {
   "cell_type": "code",
   "execution_count": 11,
   "metadata": {
    "ExecuteTime": {
     "end_time": "2016-06-14T11:06:29.872841",
     "start_time": "2016-06-14T11:06:28.834871"
    },
    "collapsed": false
   },
   "outputs": [
    {
     "data": {
      "image/svg+xml": [
       "<svg xmlns=\"http://www.w3.org/2000/svg\" xmlns:xlink=\"http://www.w3.org/1999/xlink\" width=\"300\" height=\"300\" viewBox=\"1184001.6 -4015958.4 431956.8 231956.8\" preserveAspectRatio=\"xMinYMin meet\"><g transform=\"matrix(1,0,0,-1,0,-7799960.0)\"><g><path fill-rule=\"evenodd\" fill=\"#66cc99\" stroke=\"#555555\" stroke-width=\"2879.712\" opacity=\"0.6\" d=\"M 1500000.0,-3999960.0 L 1500000.0,-3900000.0 L 1599960.0,-3900000.0 L 1599960.0,-3999960.0 L 1500000.0,-3999960.0 z\" /><path fill-rule=\"evenodd\" fill=\"#66cc99\" stroke=\"#555555\" stroke-width=\"2879.712\" opacity=\"0.6\" d=\"M 1200000.0,-3999960.0 L 1200000.0,-3900000.0 L 1299960.0,-3900000.0 L 1299960.0,-3999960.0 L 1200000.0,-3999960.0 z\" /><path fill-rule=\"evenodd\" fill=\"#66cc99\" stroke=\"#555555\" stroke-width=\"2879.712\" opacity=\"0.6\" d=\"M 1300000.0,-3999960.0 L 1300000.0,-3900000.0 L 1399960.0,-3900000.0 L 1399960.0,-3999960.0 L 1300000.0,-3999960.0 z\" /><path fill-rule=\"evenodd\" fill=\"#66cc99\" stroke=\"#555555\" stroke-width=\"2879.712\" opacity=\"0.6\" d=\"M 1400000.0,-3999960.0 L 1400000.0,-3900000.0 L 1499960.0,-3900000.0 L 1499960.0,-3999960.0 L 1400000.0,-3999960.0 z\" /><path fill-rule=\"evenodd\" fill=\"#66cc99\" stroke=\"#555555\" stroke-width=\"2879.712\" opacity=\"0.6\" d=\"M 1400000.0,-3899960.0 L 1400000.0,-3800000.0 L 1499960.0,-3800000.0 L 1499960.0,-3899960.0 L 1400000.0,-3899960.0 z\" /><path fill-rule=\"evenodd\" fill=\"#66cc99\" stroke=\"#555555\" stroke-width=\"2879.712\" opacity=\"0.6\" d=\"M 1200000.0,-3899960.0 L 1200000.0,-3800000.0 L 1299960.0,-3800000.0 L 1299960.0,-3899960.0 L 1200000.0,-3899960.0 z\" /><path fill-rule=\"evenodd\" fill=\"#66cc99\" stroke=\"#555555\" stroke-width=\"2879.712\" opacity=\"0.6\" d=\"M 1300000.0,-3899960.0 L 1300000.0,-3800000.0 L 1399960.0,-3800000.0 L 1399960.0,-3899960.0 L 1300000.0,-3899960.0 z\" /></g></g></svg>"
      ],
      "text/plain": [
       "<shapely.geometry.multipolygon.MultiPolygon at 0x7f71af482f10>"
      ]
     },
     "execution_count": 11,
     "metadata": {},
     "output_type": "execute_result"
    }
   ],
   "source": [
    "scenes = datacube.index.datasets.search_eager(product='s2a_level1c_albers_60')\n",
    "datasets_union(scenes)"
   ]
  },
  {
   "cell_type": "code",
   "execution_count": null,
   "metadata": {
    "collapsed": true
   },
   "outputs": [],
   "source": []
  }
 ],
 "metadata": {
  "gist": {
   "data": {
    "description": "Untitled.ipynb",
    "public": false
   },
   "id": ""
  },
  "kernelspec": {
   "display_name": "Python 2",
   "language": "python",
   "name": "python2"
  },
  "language_info": {
   "codemirror_mode": {
    "name": "ipython",
    "version": 2
   },
   "file_extension": ".py",
   "mimetype": "text/x-python",
   "name": "python",
   "nbconvert_exporter": "python",
   "pygments_lexer": "ipython2",
   "version": "2.7.9"
  },
  "toc": {
   "toc_cell": false,
   "toc_number_sections": true,
   "toc_threshold": 6,
   "toc_window_display": false
  },
  "widgets": {
   "state": {},
   "version": "1.1.1"
  }
 },
 "nbformat": 4,
 "nbformat_minor": 0
}
