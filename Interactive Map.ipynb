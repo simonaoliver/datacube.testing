{
 "cells": [
  {
   "cell_type": "code",
   "execution_count": 3,
   "metadata": {
    "collapsed": false
   },
   "outputs": [
    {
     "name": "stderr",
     "output_type": "stream",
     "text": [
      "ERROR:/home/simonaoliver/venvs/agdc-v2/local/lib/python2.7/site-packages/bokeh/core/validation/check.pyc:E-1005 (MISSING_GOOGLE_API_KEY): Google now requires API keys for all Google Maps usage: GMapPlot, ViewModel:GMapPlot, ref _id: ef574352-add3-45fa-9bdf-a0b10f956d5c\n",
      "ERROR:/home/simonaoliver/venvs/agdc-v2/local/lib/python2.7/site-packages/bokeh/core/validation/check.pyc:E-1005 (MISSING_GOOGLE_API_KEY): Google now requires API keys for all Google Maps usage: GMapPlot, ViewModel:GMapPlot, ref _id: 7e0cb134-a592-40f3-9530-e356868c0a20\n"
     ]
    }
   ],
   "source": [
    "from bokeh.io import output_file, show\n",
    "from bokeh.plotting import figure\n",
    "from bokeh.tile_providers import STAMEN_TONER\n",
    "\n",
    "bound = 20000000 # meters\n",
    "fig = figure(tools='pan, wheel_zoom', x_range=(-bound, bound), y_range=(-bound, bound))\n",
    "fig.axis.visible = False\n",
    "fig.add_tile(STAMEN_TONER)\n",
    "output_file(\"stamen_toner_plot.html\")\n",
    "show(fig)"
   ]
  },
  {
   "cell_type": "code",
   "execution_count": null,
   "metadata": {
    "collapsed": true
   },
   "outputs": [],
   "source": []
  },
  {
   "cell_type": "code",
   "execution_count": null,
   "metadata": {
    "collapsed": true
   },
   "outputs": [],
   "source": []
  }
 ],
 "metadata": {
  "kernelspec": {
   "display_name": "Python 2",
   "language": "python",
   "name": "python2"
  },
  "language_info": {
   "codemirror_mode": {
    "name": "ipython",
    "version": 2
   },
   "file_extension": ".py",
   "mimetype": "text/x-python",
   "name": "python",
   "nbconvert_exporter": "python",
   "pygments_lexer": "ipython2",
   "version": "2.7.9"
  },
  "widgets": {
   "state": {},
   "version": "1.1.1"
  }
 },
 "nbformat": 4,
 "nbformat_minor": 0
}
