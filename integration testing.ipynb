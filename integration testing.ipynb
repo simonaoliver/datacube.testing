{
 "cells": [
  {
   "cell_type": "code",
   "execution_count": null,
   "metadata": {
    "collapsed": true
   },
   "outputs": [],
   "source": [
    "#!datacube product add '/home/simonaoliver/code/agdc-v2/docs/config_samples/dataset_types/s1_granules.yaml'"
   ]
  },
  {
   "cell_type": "code",
   "execution_count": null,
   "metadata": {
    "collapsed": false
   },
   "outputs": [],
   "source": [
    "#!datacube product add '/home/simonaoliver/code/agdc-v2/docs/config_samples/dataset_types/aust-1d-chl_oc3_wgs84-pd.yaml'"
   ]
  },
  {
   "cell_type": "code",
   "execution_count": null,
   "metadata": {
    "collapsed": false
   },
   "outputs": [],
   "source": [
    "#imos = '/media/simonaoliver/datacube/input/IMOS/agdc-metadata.yaml'\n",
    "#!datacube -v dataset add $imos --auto-match"
   ]
  },
  {
   "cell_type": "code",
   "execution_count": 4,
   "metadata": {
    "collapsed": false,
    "scrolled": true
   },
   "outputs": [
    {
     "name": "stdout",
     "output_type": "stream",
     "text": [
      "Initialising database...\n",
      "Created.\n",
      "Checking indexes/views.\n",
      "Done.\n",
      "Version: 1.1.10+23.g8b69af4\n",
      "Read configurations files from: ['/home/simonaoliver/.datacube.conf']\n",
      "Host: localhost:5432\n",
      "Database: datacube\n",
      "User: simonaoliver\n",
      "\n",
      "\n",
      "Attempting connect\n",
      "Success.\n"
     ]
    }
   ],
   "source": [
    "!dropdb datacube\n",
    "!createdb datacube\n",
    "!datacube system init\n",
    "!datacube product add '/home/simonaoliver/code/agdc-v2/docs/config_samples/dataset_types/ls5_scenes.yaml'\n",
    "!datacube product add '/home/simonaoliver/code/agdc-v2/docs/config_samples/dataset_types/ls7_scenes.yaml'\n",
    "!datacube product add '/home/simonaoliver/code/agdc-v2/docs/config_samples/dataset_types/ls8_scenes.yaml'\n",
    "!datacube product add '/home/simonaoliver/code/agdc-v2/docs/config_samples/dataset_types/s2_granules_SCL_only.yaml'\n",
    "!datacube product add '/home/simonaoliver/code/agdc-v2/docs/config_samples/dataset_types/modis_tiles.yaml'\n",
    "!datacube product add '/home/simonaoliver/code/agdc-v2/docs/config_samples/dataset_types/h8_granules.yaml'\n",
    "!datacube product add '/home/simonaoliver/code/agdc-v2/docs/config_samples/dataset_types/s1_scenes.yaml'\n",
    "!datacube product add '/home/simonaoliver/code/agdc-v2/docs/config_samples/dataset_types/radiometrics.yaml'\n",
    "!datacube system check"
   ]
  },
  {
   "cell_type": "code",
   "execution_count": 5,
   "metadata": {
    "collapsed": false
   },
   "outputs": [
    {
     "name": "stdout",
     "output_type": "stream",
     "text": [
      "2016-10-16 22:06:05,845 datacube \u001b[37mINFO\u001b[0m Running datacube command: /home/simonaoliver/venvs/py35/bin/datacube -v dataset add /media/simonaoliver/datacube1/input/National_Radiometrics/radiometrics.yaml --auto-match\n",
      "2016-10-16 22:06:06,130 datacube-dataset \u001b[37mINFO\u001b[0m Matched Dataset <id=896af8cf-7d16-453d-89b1-e3f1f5cad921 type=gamma_ray location=/media/simonaoliver/datacube1/input/National_Radiometrics/radiometrics.yaml>\n",
      "2016-10-16 22:06:06,131 datacube.index._datasets \u001b[37mINFO\u001b[0m Indexing 896af8cf-7d16-453d-89b1-e3f1f5cad921\n"
     ]
    }
   ],
   "source": [
    "radiometrics = '/media/simonaoliver/datacube1/input/National_Radiometrics/radiometrics.yaml'\n",
    "!datacube -v dataset add $radiometrics --auto-match"
   ]
  },
  {
   "cell_type": "code",
   "execution_count": null,
   "metadata": {
    "collapsed": false
   },
   "outputs": [],
   "source": [
    "sen2cor_granule = '/media/simonaoliver/datacube/input/S2_NBAR/S2A_USER_PRD_MSIL2A_PDMC_20160314T110945_R073_V20160314T001209_20160314T001209.SAFE/agdc-metadata.yaml'\n",
    "!datacube -v dataset add $sen2cor_granule --auto-match"
   ]
  },
  {
   "cell_type": "code",
   "execution_count": null,
   "metadata": {
    "collapsed": false
   },
   "outputs": [],
   "source": [
    "s1gamma0scene = '/media/simonaoliver/datacube/input/SENTINEL_1A/agdc-metadata.yaml'\n",
    "!datacube -v dataset add $s1gamma0scene --auto-match"
   ]
  },
  {
   "cell_type": "code",
   "execution_count": null,
   "metadata": {
    "collapsed": false
   },
   "outputs": [],
   "source": [
    "s1gamma0albers_ingester = '/home/simonaoliver/code/agdc-v2/docs/config_samples/ingester/s1_gamma0_albers.yaml'\n",
    "#!datacube -v ingest --config-file $s1gamma0albers_ingester"
   ]
  },
  {
   "cell_type": "code",
   "execution_count": null,
   "metadata": {
    "collapsed": true
   },
   "outputs": [],
   "source": [
    "ls8ledapsscene = '/media/simonaoliver/datacube/input/LordHowe/*/agdc-metadata.yaml'"
   ]
  },
  {
   "cell_type": "code",
   "execution_count": null,
   "metadata": {
    "collapsed": false
   },
   "outputs": [],
   "source": [
    "!datacube -v dataset add $ls8ledapsscene --auto-match"
   ]
  },
  {
   "cell_type": "code",
   "execution_count": null,
   "metadata": {
    "collapsed": true
   },
   "outputs": [],
   "source": [
    "nbarscenes = '/media/simonaoliver/datacube/input/GA_v2_LandsatNBAR/LS7_ETM_NBAR_P54_GANBAR01-002_090_084_20151212/ga-metadata.yaml'\n",
    "nbartscenes = '/media/simonaoliver/datacube/input/GA_v2_LandsatNBAR/LS7_ETM_NBART_P54_GANBART01-002_090_084_20151212/ga-metadata.yaml'\n",
    "pqscenes = '/media/simonaoliver/datacube/input/GA_v2_LandsatNBAR/LS5_TM_PQ_P55_GAPQ01-002_090_084_20110107/ga-metadata.yaml'\n",
    "ls5ledapsscene = '/media/simonaoliver/datacube/input/USGS_LandsatLEDAPS/LT50960852011290-SC20160211221617/agdc-metadata.yaml'\n",
    "ls7ledapsscene = '/media/simonaoliver/datacube/input/USGS_LandsatLEDAPS/LE70960852016024-SC20160211221824/agdc-metadata.yaml'\n",
    "ls8ledapsscene = '/media/simonaoliver/datacube/input/USGS_LandsatLEDAPS/LC80960852015365-SC20160211222236/agdc-metadata.yaml'\n",
    "s2agranules = '/home/simonaoliver/data/S2A_OPER_PRD_MSIL1C_PDMC_20151205T075851_R073_V20151205T001643_20151205T001643.SAFE/agdc-metadata.yaml'\n",
    "modistiles = '/media/simonaoliver/datacube/input/USGS_MODIS/'\n",
    "h8granules = '/media/simonaoliver/datacube/input/H8/2015/12/05/0710/'"
   ]
  },
  {
   "cell_type": "code",
   "execution_count": null,
   "metadata": {
    "collapsed": false
   },
   "outputs": [],
   "source": [
    "!datacube -v dataset add $h8granules --auto-match"
   ]
  },
  {
   "cell_type": "code",
   "execution_count": null,
   "metadata": {
    "collapsed": false
   },
   "outputs": [],
   "source": [
    "!datacube -v dataset add $modistiles --auto-match"
   ]
  },
  {
   "cell_type": "code",
   "execution_count": null,
   "metadata": {
    "collapsed": false
   },
   "outputs": [],
   "source": [
    "!datacube -v dataset add $s2agranules --auto-match"
   ]
  },
  {
   "cell_type": "code",
   "execution_count": null,
   "metadata": {
    "collapsed": false
   },
   "outputs": [],
   "source": [
    "# Not required unless you want to create NetCDF formatted data \n",
    "# - then maybe it's a reformatting exercise rather than a NetCDF ingestion\n",
    "modis_ingester = '/home/simonaoliver/code/agdc-v2/docs/config_samples/ingester/mcd43a1_sinusoidal.yaml'\n",
    "!datacube -v ingest --config-file $modis_ingester"
   ]
  },
  {
   "cell_type": "code",
   "execution_count": null,
   "metadata": {
    "collapsed": false
   },
   "outputs": [],
   "source": [
    "modis_ingester = '/home/simonaoliver/code/agdc-v2/docs/config_samples/ingester/mcd43a2_sinusoidal.yaml'\n",
    "!datacube -v ingest --config-file $modis_ingester"
   ]
  },
  {
   "cell_type": "code",
   "execution_count": null,
   "metadata": {
    "collapsed": false
   },
   "outputs": [],
   "source": [
    "modis_ingester = '/home/simonaoliver/code/agdc-v2/docs/config_samples/ingester/mcd43a3_sinusoidal.yaml'\n",
    "!datacube -v ingest --config-file $modis_ingester"
   ]
  },
  {
   "cell_type": "code",
   "execution_count": null,
   "metadata": {
    "collapsed": false
   },
   "outputs": [],
   "source": [
    "modis_ingester = '/home/simonaoliver/code/agdc-v2/docs/config_samples/ingester/mcd43a4_sinusoidal.yaml'\n",
    "!datacube -v ingest --config-file $modis_ingester"
   ]
  },
  {
   "cell_type": "code",
   "execution_count": null,
   "metadata": {
    "collapsed": false
   },
   "outputs": [],
   "source": [
    "!datacube -v dataset add --auto-match $s2agranules"
   ]
  },
  {
   "cell_type": "code",
   "execution_count": null,
   "metadata": {
    "collapsed": false
   },
   "outputs": [],
   "source": [
    "s2aingester60 = '/home/simonaoliver/code/agdc-v2/docs/config_samples/ingester/s2amsil1c_albers_60.yaml'\n",
    "!datacube -v ingest --config-file $s2aingester60"
   ]
  },
  {
   "cell_type": "code",
   "execution_count": null,
   "metadata": {
    "collapsed": false
   },
   "outputs": [],
   "source": [
    "s2aingester10 = '/home/simonaoliver/code/agdc-v2/docs/config_samples/ingester/s2amsil1c_albers_10.yaml'\n",
    "#!datacube -v ingest --config-file $s2aingester10"
   ]
  },
  {
   "cell_type": "code",
   "execution_count": null,
   "metadata": {
    "collapsed": false
   },
   "outputs": [],
   "source": [
    "s2aingester20 = '/home/simonaoliver/code/agdc-v2/docs/config_samples/ingester/s2amsil1c_albers_20.yaml'\n",
    "!datacube -v ingest --config-file $s2aingester20"
   ]
  },
  {
   "cell_type": "code",
   "execution_count": null,
   "metadata": {
    "collapsed": false,
    "scrolled": false
   },
   "outputs": [],
   "source": [
    "!datacube -v dataset add $ls5ledapsscene --auto-match "
   ]
  },
  {
   "cell_type": "code",
   "execution_count": null,
   "metadata": {
    "collapsed": false
   },
   "outputs": [],
   "source": [
    "!datacube -v dataset add $ls7ledapsscene --auto-match "
   ]
  },
  {
   "cell_type": "code",
   "execution_count": null,
   "metadata": {
    "collapsed": false
   },
   "outputs": [],
   "source": [
    "!datacube -v dataset add $ls8ledapsscene --auto-match "
   ]
  },
  {
   "cell_type": "code",
   "execution_count": null,
   "metadata": {
    "collapsed": false,
    "scrolled": true
   },
   "outputs": [],
   "source": [
    "ls5ledapsingester = '/home/simonaoliver/code/agdc-v2/docs/config_samples/ingester/ls5_ledaps_albers.yaml'\n",
    "!datacube -v ingest --config-file $ls5ledapsingester"
   ]
  },
  {
   "cell_type": "code",
   "execution_count": null,
   "metadata": {
    "collapsed": false
   },
   "outputs": [],
   "source": [
    "ls7ledapsingester = '/home/simonaoliver/code/agdc-v2/docs/config_samples/ingester/ls7_ledaps_albers.yaml'\n",
    "!datacube -v ingest --config-file $ls7ledapsingester"
   ]
  },
  {
   "cell_type": "code",
   "execution_count": null,
   "metadata": {
    "collapsed": false
   },
   "outputs": [],
   "source": [
    "ls8ledapsingester = '/home/simonaoliver/code/agdc-v2/docs/config_samples/ingester/ls8_ledaps_albers.yaml'\n",
    "!datacube -v ingest --config-file $ls8ledapsingester"
   ]
  },
  {
   "cell_type": "code",
   "execution_count": null,
   "metadata": {
    "collapsed": false
   },
   "outputs": [],
   "source": [
    "#import os \n",
    "#for item in [nbarscenes,nbartscenes]:\n",
    "#    for x in os.listdir(item):\n",
    "#        inputscene = os.path.join(item,x,\"ga-metadata.yaml\")\n",
    "#        #!datacube -v index --match-rules $matchrules $inputscene\n",
    "#        !datacube -v dataset add $inputscene --auto-match \n",
    "!datacube -v dataset add $nbarscenes --auto-match "
   ]
  },
  {
   "cell_type": "code",
   "execution_count": null,
   "metadata": {
    "collapsed": false
   },
   "outputs": [],
   "source": [
    "nbaringester = '/home/simonaoliver/code/agdc-v2/docs/config_samples/ingester/ls7_nbar_albers.yaml'\n",
    "#!datacube -v ingest --config-file $nbaringester"
   ]
  },
  {
   "cell_type": "code",
   "execution_count": null,
   "metadata": {
    "collapsed": false
   },
   "outputs": [],
   "source": [
    "!datacube -v dataset add $nbartscenes --auto-match "
   ]
  },
  {
   "cell_type": "code",
   "execution_count": null,
   "metadata": {
    "collapsed": false
   },
   "outputs": [],
   "source": [
    "nbartingester = '/home/simonaoliver/code/agdc-v2/docs/config_samples/ingester/ls7_nbart_albers.yaml'\n",
    "#!datacube -v ingest --config-file $nbartingester"
   ]
  },
  {
   "cell_type": "code",
   "execution_count": null,
   "metadata": {
    "collapsed": false
   },
   "outputs": [],
   "source": [
    "!datacube -v dataset add $pqscenes --auto-match "
   ]
  },
  {
   "cell_type": "code",
   "execution_count": null,
   "metadata": {
    "collapsed": false,
    "scrolled": false
   },
   "outputs": [],
   "source": [
    "pqingester = '/home/simonaoliver/code/agdc-v2/docs/config_samples/ingester/ls5_pq_albers.yaml'\n",
    "#!datacube -v ingest --config-file $pqingester"
   ]
  },
  {
   "cell_type": "code",
   "execution_count": null,
   "metadata": {
    "collapsed": true
   },
   "outputs": [],
   "source": []
  }
 ],
 "metadata": {
  "kernelspec": {
   "display_name": "Python 3",
   "language": "python",
   "name": "python3"
  },
  "language_info": {
   "codemirror_mode": {
    "name": "ipython",
    "version": 3
   },
   "file_extension": ".py",
   "mimetype": "text/x-python",
   "name": "python",
   "nbconvert_exporter": "python",
   "pygments_lexer": "ipython3",
   "version": "3.5.2"
  },
  "widgets": {
   "state": {},
   "version": "1.1.1"
  }
 },
 "nbformat": 4,
 "nbformat_minor": 0
}
