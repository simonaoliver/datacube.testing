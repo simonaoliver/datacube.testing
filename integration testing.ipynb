{
 "cells": [
  {
   "cell_type": "code",
   "execution_count": 1,
   "metadata": {
    "collapsed": true
   },
   "outputs": [],
   "source": [
    "#!datacube product add '/home/simonaoliver/code/agdc-v2/docs/config_samples/dataset_types/s1_granules.yaml'"
   ]
  },
  {
   "cell_type": "code",
   "execution_count": 2,
   "metadata": {
    "collapsed": false
   },
   "outputs": [],
   "source": [
    "#!datacube product add '/home/simonaoliver/code/agdc-v2/docs/config_samples/dataset_types/aust-1d-chl_oc3_wgs84-pd.yaml'"
   ]
  },
  {
   "cell_type": "code",
   "execution_count": 3,
   "metadata": {
    "collapsed": false
   },
   "outputs": [],
   "source": [
    "#imos = '/media/simonaoliver/datacube/input/IMOS/agdc-metadata.yaml'\n",
    "#!datacube -v dataset add $imos --auto-match"
   ]
  },
  {
   "cell_type": "code",
   "execution_count": 1,
   "metadata": {
    "collapsed": false,
    "scrolled": false
   },
   "outputs": [
    {
     "name": "stdout",
     "output_type": "stream",
     "text": [
      "Initialising database...\n",
      "Created.\n",
      "Checking indexes/views.\n",
      "Done.\n",
      "Added \"gamma_ray\"\n",
      "Added \"srtm_dem1sv1_0\"\n",
      "Added \"ls5_satellite_telemetry_data\"\n",
      "Added \"ls5_level1_scene\"\n",
      "Added \"ls5_nbar_scene\"\n",
      "Added \"ls5_nbart_scene\"\n",
      "Added \"ls5_pq_scene\"\n",
      "Added \"ls5_ledaps_scene\"\n",
      "Added \"ls7_satellite_telemetry_data\"\n",
      "Added \"ls7_level1_scene\"\n",
      "Added \"ls7_nbar_scene\"\n",
      "Added \"ls7_nbart_scene\"\n",
      "Added \"ls7_pq_scene\"\n",
      "Added \"ls7_ledaps_scene\"\n",
      "Added \"ls8_satellite_telemetry_data\"\n",
      "Added \"ls8_level1_scene\"\n",
      "Added \"ls8_nbar_scene\"\n",
      "Added \"ls8_nbart_scene\"\n",
      "Added \"ls8_pq_scene\"\n",
      "Added \"ls8_ledaps_scene\"\n",
      "Added \"s2a_level1c_granule\"\n",
      "Added \"modis_mcd43a1_tile\"\n",
      "Added \"modis_mcd43a2_tile\"\n",
      "Added \"modis_mcd43a3_tile\"\n",
      "Added \"modis_mcd43a4_tile\"\n",
      "Added \"h8_ahi_brf_granule\"\n",
      "Added \"h8_ahi_obs_granule\"\n",
      "Added \"h8_ahi_solar_granule\"\n",
      "Added \"s1a_gamma0_scene\"\n",
      "Added \"s2a_level1c_granule_scl\"\n",
      "Added \"s2a_sen2cor_granule\"\n",
      "Added \"gamma_ray\"\n",
      "Version: 1.1.13+41.g61e60fa\n",
      "Read configurations files from: ['/home/simonaoliver/.datacube.conf']\n",
      "Host: localhost:5432\n",
      "Database: datacube\n",
      "User: simonaoliver\n",
      "\n",
      "\n",
      "Attempting connect\n",
      "Success.\n"
     ]
    }
   ],
   "source": [
    "!dropdb datacube\n",
    "!createdb datacube\n",
    "!datacube system init\n",
    "!datacube product add '/home/simonaoliver/code/agdc-v2/docs/config_samples/dataset_types/radiometrics_mosaic.yaml'\n",
    "!datacube product add '/home/simonaoliver/code/agdc-v2/docs/config_samples/dataset_types/dem1sv1_0.yaml'\n",
    "!datacube product add '/home/simonaoliver/code/agdc-v2/docs/config_samples/dataset_types/ls5_scenes.yaml'\n",
    "!datacube product add '/home/simonaoliver/code/agdc-v2/docs/config_samples/dataset_types/ls7_scenes.yaml'\n",
    "!datacube product add '/home/simonaoliver/code/agdc-v2/docs/config_samples/dataset_types/ls8_scenes.yaml'\n",
    "!datacube product add '/home/simonaoliver/code/agdc-v2/docs/config_samples/dataset_types/s2_granules.yaml'\n",
    "!datacube product add '/home/simonaoliver/code/agdc-v2/docs/config_samples/dataset_types/modis_tiles.yaml'\n",
    "!datacube product add '/home/simonaoliver/code/agdc-v2/docs/config_samples/dataset_types/h8_granules.yaml'\n",
    "!datacube product add '/home/simonaoliver/code/agdc-v2/docs/config_samples/dataset_types/s1_scenes.yaml'\n",
    "!datacube product add '/home/simonaoliver/code/agdc-v2_20161031/docs/config_samples/dataset_types/s2_granules_SCL_only.yaml'\n",
    "!datacube product add '/home/simonaoliver/code/agdc-v2/docs/config_samples/dataset_types/radiometrics_mosaic.yaml'\n",
    "!datacube system check"
   ]
  },
  {
   "cell_type": "code",
   "execution_count": 2,
   "metadata": {
    "collapsed": false
   },
   "outputs": [
    {
     "name": "stdout",
     "output_type": "stream",
     "text": [
      "2016-11-23 13:55:38,250 datacube \u001b[37mINFO\u001b[0m Running datacube command: /home/simonaoliver/miniconda2/envs/py35/bin/datacube -v dataset add /home/simonaoliver/code/testing_notebooks/radiometrics.yaml --auto-match\n",
      "2016-11-23 13:55:39,184 datacube-dataset \u001b[37mINFO\u001b[0m Matched Dataset <id=77a97dc4-5229-47ea-b7cf-157db9c2ad85 type=gamma_ray location=/home/simonaoliver/code/testing_notebooks/radiometrics.yaml>\n",
      "2016-11-23 13:55:39,187 datacube.index._datasets \u001b[37mINFO\u001b[0m Indexing 77a97dc4-5229-47ea-b7cf-157db9c2ad85\n"
     ]
    }
   ],
   "source": [
    "radiometrics = '/home/simonaoliver/code/testing_notebooks/radiometrics.yaml'\n",
    "!datacube -v dataset add $radiometrics --auto-match"
   ]
  },
  {
   "cell_type": "code",
   "execution_count": 7,
   "metadata": {
    "collapsed": false
   },
   "outputs": [
    {
     "name": "stdout",
     "output_type": "stream",
     "text": [
      "2016-11-19 07:46:16,045 datacube \u001b[37mINFO\u001b[0m Running datacube command: /home/simonaoliver/miniconda2/envs/py35/bin/datacube -v dataset add /home/simonaoliver/code/testing_notebooks/Elevation_1secSRTM_DEMs_v1.0_DEMSH_Mosaic_dem1sv1_0.yaml --auto-match\n",
      "2016-11-19 07:46:16,854 datacube-dataset \u001b[37mINFO\u001b[0m Matched Dataset <id=007f754d-6b3b-4a34-beaf-557c4eff2daa type=dem1sv1_0 location=/home/simonaoliver/code/testing_notebooks/Elevation_1secSRTM_DEMs_v1.0_DEMSH_Mosaic_dem1sv1_0.yaml>\n",
      "2016-11-19 07:46:16,858 datacube.index._datasets \u001b[37mINFO\u001b[0m Indexing 007f754d-6b3b-4a34-beaf-557c4eff2daa\n"
     ]
    }
   ],
   "source": [
    "srtmdem = '/home/simonaoliver/code/testing_notebooks/Elevation_1secSRTM_DEMs_v1.0_DEMSH_Mosaic_dem1sv1_0.yaml'\n",
    "!datacube -v dataset add $srtmdem --auto-match"
   ]
  },
  {
   "cell_type": "code",
   "execution_count": 5,
   "metadata": {
    "collapsed": false
   },
   "outputs": [
    {
     "name": "stdout",
     "output_type": "stream",
     "text": [
      "2016-11-01 22:46:34,045 datacube \u001b[37mINFO\u001b[0m Running datacube command: /home/simonaoliver/venvs/agdc-v2/bin/datacube -v dataset add /media/simonaoliver/datacube/input/S2_NBAR/S2A_USER_PRD_MSIL2A_PDMC_20160314T110945_R073_V20160314T001209_20160314T001209.SAFE/agdc-metadata.yaml --auto-match\n",
      "2016-11-01 22:46:34,976 datacube-dataset \u001b[37mINFO\u001b[0m Matched Dataset <id=ae5309c2-f920-4745-99ec-e9746d214446 type=s2a_sen2cor_granule location=/media/simonaoliver/datacube/input/S2_NBAR/S2A_USER_PRD_MSIL2A_PDMC_20160314T110945_R073_V20160314T001209_20160314T001209.SAFE/agdc-metadata.yaml>\n",
      "2016-11-01 22:46:34,977 datacube.index._datasets \u001b[37mINFO\u001b[0m Indexing ae5309c2-f920-4745-99ec-e9746d214446\n",
      "2016-11-01 22:46:35,145 datacube-dataset \u001b[37mINFO\u001b[0m Matched Dataset <id=cdea439a-6ca7-4bda-be30-5a8105c333ca type=s2a_sen2cor_granule location=/media/simonaoliver/datacube/input/S2_NBAR/S2A_USER_PRD_MSIL2A_PDMC_20160314T110945_R073_V20160314T001209_20160314T001209.SAFE/agdc-metadata.yaml>\n",
      "2016-11-01 22:46:35,145 datacube.index._datasets \u001b[37mINFO\u001b[0m Indexing cdea439a-6ca7-4bda-be30-5a8105c333ca\n",
      "2016-11-01 22:46:35,163 datacube-dataset \u001b[37mINFO\u001b[0m Matched Dataset <id=9ce3814e-d37c-4fba-ab8b-3f058c9f4a5f type=s2a_sen2cor_granule location=/media/simonaoliver/datacube/input/S2_NBAR/S2A_USER_PRD_MSIL2A_PDMC_20160314T110945_R073_V20160314T001209_20160314T001209.SAFE/agdc-metadata.yaml>\n",
      "2016-11-01 22:46:35,164 datacube.index._datasets \u001b[37mINFO\u001b[0m Indexing 9ce3814e-d37c-4fba-ab8b-3f058c9f4a5f\n",
      "2016-11-01 22:46:35,181 datacube-dataset \u001b[37mINFO\u001b[0m Matched Dataset <id=d0497644-bbec-454e-91d7-7d8284d83386 type=s2a_sen2cor_granule location=/media/simonaoliver/datacube/input/S2_NBAR/S2A_USER_PRD_MSIL2A_PDMC_20160314T110945_R073_V20160314T001209_20160314T001209.SAFE/agdc-metadata.yaml>\n",
      "2016-11-01 22:46:35,181 datacube.index._datasets \u001b[37mINFO\u001b[0m Indexing d0497644-bbec-454e-91d7-7d8284d83386\n",
      "2016-11-01 22:46:35,247 datacube-dataset \u001b[37mINFO\u001b[0m Matched Dataset <id=c3ccfb5d-52dd-476c-a390-483507a6a8a6 type=s2a_sen2cor_granule location=/media/simonaoliver/datacube/input/S2_NBAR/S2A_USER_PRD_MSIL2A_PDMC_20160314T110945_R073_V20160314T001209_20160314T001209.SAFE/agdc-metadata.yaml>\n",
      "2016-11-01 22:46:35,248 datacube.index._datasets \u001b[37mINFO\u001b[0m Indexing c3ccfb5d-52dd-476c-a390-483507a6a8a6\n",
      "2016-11-01 22:46:35,409 datacube-dataset \u001b[37mINFO\u001b[0m Matched Dataset <id=910fa190-ab3d-4b0f-bc53-56e239ff8bf7 type=s2a_sen2cor_granule location=/media/simonaoliver/datacube/input/S2_NBAR/S2A_USER_PRD_MSIL2A_PDMC_20160314T110945_R073_V20160314T001209_20160314T001209.SAFE/agdc-metadata.yaml>\n",
      "2016-11-01 22:46:35,410 datacube.index._datasets \u001b[37mINFO\u001b[0m Indexing 910fa190-ab3d-4b0f-bc53-56e239ff8bf7\n",
      "2016-11-01 22:46:35,444 datacube-dataset \u001b[37mINFO\u001b[0m Matched Dataset <id=b8eca259-37a9-4cbf-8845-4e95310ebd70 type=s2a_sen2cor_granule location=/media/simonaoliver/datacube/input/S2_NBAR/S2A_USER_PRD_MSIL2A_PDMC_20160314T110945_R073_V20160314T001209_20160314T001209.SAFE/agdc-metadata.yaml>\n",
      "2016-11-01 22:46:35,445 datacube.index._datasets \u001b[37mINFO\u001b[0m Indexing b8eca259-37a9-4cbf-8845-4e95310ebd70\n",
      "2016-11-01 22:46:35,509 datacube-dataset \u001b[37mINFO\u001b[0m Matched Dataset <id=da6bcef5-6468-457b-9d73-22f7b974ab32 type=s2a_sen2cor_granule location=/media/simonaoliver/datacube/input/S2_NBAR/S2A_USER_PRD_MSIL2A_PDMC_20160314T110945_R073_V20160314T001209_20160314T001209.SAFE/agdc-metadata.yaml>\n",
      "2016-11-01 22:46:35,518 datacube.index._datasets \u001b[37mINFO\u001b[0m Indexing da6bcef5-6468-457b-9d73-22f7b974ab32\n",
      "2016-11-01 22:46:35,533 datacube-dataset \u001b[37mINFO\u001b[0m Matched Dataset <id=bf49f996-d633-4e7f-828e-1ec674c757eb type=s2a_sen2cor_granule location=/media/simonaoliver/datacube/input/S2_NBAR/S2A_USER_PRD_MSIL2A_PDMC_20160314T110945_R073_V20160314T001209_20160314T001209.SAFE/agdc-metadata.yaml>\n",
      "2016-11-01 22:46:35,546 datacube.index._datasets \u001b[37mINFO\u001b[0m Indexing bf49f996-d633-4e7f-828e-1ec674c757eb\n",
      "2016-11-01 22:46:35,566 datacube-dataset \u001b[37mINFO\u001b[0m Matched Dataset <id=e4b13240-c53e-41b6-9f4b-cec4edb5972d type=s2a_sen2cor_granule location=/media/simonaoliver/datacube/input/S2_NBAR/S2A_USER_PRD_MSIL2A_PDMC_20160314T110945_R073_V20160314T001209_20160314T001209.SAFE/agdc-metadata.yaml>\n",
      "2016-11-01 22:46:35,566 datacube.index._datasets \u001b[37mINFO\u001b[0m Indexing e4b13240-c53e-41b6-9f4b-cec4edb5972d\n",
      "2016-11-01 22:46:35,604 datacube-dataset \u001b[37mINFO\u001b[0m Matched Dataset <id=4d80f611-74e9-4455-b9ba-c40b28255fc1 type=s2a_sen2cor_granule location=/media/simonaoliver/datacube/input/S2_NBAR/S2A_USER_PRD_MSIL2A_PDMC_20160314T110945_R073_V20160314T001209_20160314T001209.SAFE/agdc-metadata.yaml>\n",
      "2016-11-01 22:46:35,604 datacube.index._datasets \u001b[37mINFO\u001b[0m Indexing 4d80f611-74e9-4455-b9ba-c40b28255fc1\n",
      "2016-11-01 22:46:35,662 datacube-dataset \u001b[37mINFO\u001b[0m Matched Dataset <id=b3ecd38e-cac5-442b-be9e-494214d61149 type=s2a_sen2cor_granule location=/media/simonaoliver/datacube/input/S2_NBAR/S2A_USER_PRD_MSIL2A_PDMC_20160314T110945_R073_V20160314T001209_20160314T001209.SAFE/agdc-metadata.yaml>\n",
      "2016-11-01 22:46:35,662 datacube.index._datasets \u001b[37mINFO\u001b[0m Indexing b3ecd38e-cac5-442b-be9e-494214d61149\n",
      "2016-11-01 22:46:35,694 datacube-dataset \u001b[37mINFO\u001b[0m Matched Dataset <id=3dbcdb81-c5ae-4000-8116-02cba9ee2f5e type=s2a_sen2cor_granule location=/media/simonaoliver/datacube/input/S2_NBAR/S2A_USER_PRD_MSIL2A_PDMC_20160314T110945_R073_V20160314T001209_20160314T001209.SAFE/agdc-metadata.yaml>\n",
      "2016-11-01 22:46:35,695 datacube.index._datasets \u001b[37mINFO\u001b[0m Indexing 3dbcdb81-c5ae-4000-8116-02cba9ee2f5e\n"
     ]
    }
   ],
   "source": [
    "sen2cor_granule = '/media/simonaoliver/datacube/input/S2_NBAR/S2A_USER_PRD_MSIL2A_PDMC_20160314T110945_R073_V20160314T001209_20160314T001209.SAFE/agdc-metadata.yaml'\n",
    "!datacube -v dataset add $sen2cor_granule --auto-match"
   ]
  },
  {
   "cell_type": "code",
   "execution_count": 6,
   "metadata": {
    "collapsed": false
   },
   "outputs": [
    {
     "name": "stdout",
     "output_type": "stream",
     "text": [
      "2016-11-01 22:46:37,782 datacube \u001b[37mINFO\u001b[0m Running datacube command: /home/simonaoliver/venvs/agdc-v2/bin/datacube -v dataset add /media/simonaoliver/datacube/input/SENTINEL_1A/agdc-metadata.yaml --auto-match\n",
      "2016-11-01 22:46:38,316 datacube-dataset \u001b[37mINFO\u001b[0m Matched Dataset <id=57d32c1b-808e-4efc-b639-e9337fe3cfd5 type=s1a_gamma0_scene location=/media/simonaoliver/datacube/input/SENTINEL_1A/agdc-metadata.yaml>\n",
      "2016-11-01 22:46:38,321 datacube.index._datasets \u001b[37mINFO\u001b[0m Indexing 57d32c1b-808e-4efc-b639-e9337fe3cfd5\n"
     ]
    }
   ],
   "source": [
    "s1gamma0scene = '/media/simonaoliver/datacube/input/SENTINEL_1A/agdc-metadata.yaml'\n",
    "!datacube -v dataset add $s1gamma0scene --auto-match"
   ]
  },
  {
   "cell_type": "code",
   "execution_count": 7,
   "metadata": {
    "collapsed": false
   },
   "outputs": [],
   "source": [
    "s1gamma0albers_ingester = '/home/simonaoliver/code/agdc-v2/docs/config_samples/ingester/s1_gamma0_albers.yaml'\n",
    "#!datacube -v ingest --config-file $s1gamma0albers_ingester"
   ]
  },
  {
   "cell_type": "code",
   "execution_count": 8,
   "metadata": {
    "collapsed": true
   },
   "outputs": [],
   "source": [
    "ls8ledapsscene = '/media/simonaoliver/datacube/input/LordHowe/*/agdc-metadata.yaml'"
   ]
  },
  {
   "cell_type": "code",
   "execution_count": 9,
   "metadata": {
    "collapsed": false
   },
   "outputs": [
    {
     "name": "stdout",
     "output_type": "stream",
     "text": [
      "2016-11-01 22:46:57,629 datacube \u001b[37mINFO\u001b[0m Running datacube command: /home/simonaoliver/venvs/agdc-v2/bin/datacube -v dataset add /media/simonaoliver/datacube/input/LordHowe/LC80840822013338-SC20160630035828/agdc-metadata.yaml /media/simonaoliver/datacube/input/LordHowe/LC80840822013354-SC20160630033729/agdc-metadata.yaml /media/simonaoliver/datacube/input/LordHowe/LC80840822014005-SC20160630035505/agdc-metadata.yaml /media/simonaoliver/datacube/input/LordHowe/LC80840822014021-SC20160630032531/agdc-metadata.yaml /media/simonaoliver/datacube/input/LordHowe/LC80840822014069-SC20160630033133/agdc-metadata.yaml /media/simonaoliver/datacube/input/LordHowe/LC80840822014101-SC20160630032803/agdc-metadata.yaml /media/simonaoliver/datacube/input/LordHowe/LC80840822014117-SC20160630034453/agdc-metadata.yaml /media/simonaoliver/datacube/input/LordHowe/LC80840822014133-SC20160630032130/agdc-metadata.yaml /media/simonaoliver/datacube/input/LordHowe/LC80840822014149-SC20160630033230/agdc-metadata.yaml /media/simonaoliver/datacube/input/LordHowe/LC80840822014181-SC20160630033035/agdc-metadata.yaml /media/simonaoliver/datacube/input/LordHowe/LC80840822014197-SC20160630033756/agdc-metadata.yaml /media/simonaoliver/datacube/input/LordHowe/LC80840822014213-SC20160630031935/agdc-metadata.yaml /media/simonaoliver/datacube/input/LordHowe/LC80840822014229-SC20160630032942/agdc-metadata.yaml /media/simonaoliver/datacube/input/LordHowe/LC80840822014245-SC20160630032923/agdc-metadata.yaml /media/simonaoliver/datacube/input/LordHowe/LC80840822014261-SC20160630034131/agdc-metadata.yaml /media/simonaoliver/datacube/input/LordHowe/LC80840822014277-SC20160630031908/agdc-metadata.yaml /media/simonaoliver/datacube/input/LordHowe/LC80840822014293-SC20160630032604/agdc-metadata.yaml /media/simonaoliver/datacube/input/LordHowe/LC80840822014309-SC20160630034046/agdc-metadata.yaml /media/simonaoliver/datacube/input/LordHowe/LC80840822014325-SC20160630033047/agdc-metadata.yaml /media/simonaoliver/datacube/input/LordHowe/LC80840822014341-SC20160630031338/agdc-metadata.yaml /media/simonaoliver/datacube/input/LordHowe/LC80840822014357-SC20160630032557/agdc-metadata.yaml /media/simonaoliver/datacube/input/LordHowe/LC80840822015008-SC20160630034125/agdc-metadata.yaml /media/simonaoliver/datacube/input/LordHowe/LC80840822015024-SC20160630033702/agdc-metadata.yaml /media/simonaoliver/datacube/input/LordHowe/LC80840822015040-SC20160630033636/agdc-metadata.yaml /media/simonaoliver/datacube/input/LordHowe/LC80840822015056-SC20160630032512/agdc-metadata.yaml /media/simonaoliver/datacube/input/LordHowe/LC80840822015072-SC20160630032250/agdc-metadata.yaml /media/simonaoliver/datacube/input/LordHowe/LC80840822015088-SC20160630030915/agdc-metadata.yaml /media/simonaoliver/datacube/input/LordHowe/LC80840822015104-SC20160630032627/agdc-metadata.yaml /media/simonaoliver/datacube/input/LordHowe/LC80840822015120-SC20160630030332/agdc-metadata.yaml /media/simonaoliver/datacube/input/LordHowe/LC80840822015136-SC20160630034154/agdc-metadata.yaml /media/simonaoliver/datacube/input/LordHowe/LC80840822015152-SC20160630033858/agdc-metadata.yaml /media/simonaoliver/datacube/input/LordHowe/LC80840822015168-SC20160630033515/agdc-metadata.yaml /media/simonaoliver/datacube/input/LordHowe/LC80840822015184-SC20160630032805/agdc-metadata.yaml /media/simonaoliver/datacube/input/LordHowe/LC80840822015200-SC20160630033915/agdc-metadata.yaml /media/simonaoliver/datacube/input/LordHowe/LC80840822015216-SC20160630033443/agdc-metadata.yaml /media/simonaoliver/datacube/input/LordHowe/LC80840822015232-SC20160630033806/agdc-metadata.yaml /media/simonaoliver/datacube/input/LordHowe/LC80840822015248-SC20160630033909/agdc-metadata.yaml /media/simonaoliver/datacube/input/LordHowe/LC80840822015264-SC20160630034055/agdc-metadata.yaml /media/simonaoliver/datacube/input/LordHowe/LC80840822015280-SC20160630034053/agdc-metadata.yaml /media/simonaoliver/datacube/input/LordHowe/LC80840822015296-SC20160630032647/agdc-metadata.yaml /media/simonaoliver/datacube/input/LordHowe/LC80840822015312-SC20160630034100/agdc-metadata.yaml /media/simonaoliver/datacube/input/LordHowe/LC80840822015328-SC20160630033701/agdc-metadata.yaml /media/simonaoliver/datacube/input/LordHowe/LC80840822015344-SC20160630034145/agdc-metadata.yaml /media/simonaoliver/datacube/input/LordHowe/LC80840822015360-SC20160630031524/agdc-metadata.yaml /media/simonaoliver/datacube/input/LordHowe/LC80840822016011-SC20160630032424/agdc-metadata.yaml /media/simonaoliver/datacube/input/LordHowe/LC80840822016027-SC20160630033547/agdc-metadata.yaml /media/simonaoliver/datacube/input/LordHowe/LC80840822016043-SC20160630033925/agdc-metadata.yaml /media/simonaoliver/datacube/input/LordHowe/LC80840822016059-SC20160630034101/agdc-metadata.yaml /media/simonaoliver/datacube/input/LordHowe/LC80840822016075-SC20160630031739/agdc-metadata.yaml /media/simonaoliver/datacube/input/LordHowe/LC80840822016091-SC20160630032822/agdc-metadata.yaml /media/simonaoliver/datacube/input/LordHowe/LC80840822016107-SC20160630032337/agdc-metadata.yaml /media/simonaoliver/datacube/input/LordHowe/LC80840822016123-SC20160630032208/agdc-metadata.yaml /media/simonaoliver/datacube/input/LordHowe/LC80840822016139-SC20160630030623/agdc-metadata.yaml /media/simonaoliver/datacube/input/LordHowe/LC80840822016155-SC20160630032640/agdc-metadata.yaml /media/simonaoliver/datacube/input/LordHowe/LC80840822016171-SC20160630030921/agdc-metadata.yaml /media/simonaoliver/datacube/input/LordHowe/LC80850822013121-SC20160630032347/agdc-metadata.yaml /media/simonaoliver/datacube/input/LordHowe/LC80850822013137-SC20160630034042/agdc-metadata.yaml /media/simonaoliver/datacube/input/LordHowe/LC80850822013233-SC20160630033956/agdc-metadata.yaml /media/simonaoliver/datacube/input/LordHowe/LC80850822013297-SC20160630040239/agdc-metadata.yaml /media/simonaoliver/datacube/input/LordHowe/LC80850822013329-SC20160630034436/agdc-metadata.yaml /media/simonaoliver/datacube/input/LordHowe/LC80850822013345-SC20160630031833/agdc-metadata.yaml /media/simonaoliver/datacube/input/LordHowe/LC80850822013361-SC20160630035315/agdc-metadata.yaml /media/simonaoliver/datacube/input/LordHowe/LC80850822014012-SC20160630034400/agdc-metadata.yaml /media/simonaoliver/datacube/input/LordHowe/LC80850822014028-SC20160630032803/agdc-metadata.yaml /media/simonaoliver/datacube/input/LordHowe/LC80850822014060-SC20160630033801/agdc-metadata.yaml /media/simonaoliver/datacube/input/LordHowe/LC80850822014076-SC20160630032224/agdc-metadata.yaml /media/simonaoliver/datacube/input/LordHowe/LC80850822014092-SC20160630032827/agdc-metadata.yaml /media/simonaoliver/datacube/input/LordHowe/LC80850822014108-SC20160630032223/agdc-metadata.yaml /media/simonaoliver/datacube/input/LordHowe/LC80850822014124-SC20160630033308/agdc-metadata.yaml /media/simonaoliver/datacube/input/LordHowe/LC80850822014140-SC20160630032757/agdc-metadata.yaml /media/simonaoliver/datacube/input/LordHowe/LC80850822014156-SC20160630032514/agdc-metadata.yaml /media/simonaoliver/datacube/input/LordHowe/LC80850822014172-SC20160630032821/agdc-metadata.yaml /media/simonaoliver/datacube/input/LordHowe/LC80850822014188-SC20160630033041/agdc-metadata.yaml /media/simonaoliver/datacube/input/LordHowe/LC80850822014220-SC20160630033059/agdc-metadata.yaml /media/simonaoliver/datacube/input/LordHowe/LC80850822014236-SC20160630032419/agdc-metadata.yaml /media/simonaoliver/datacube/input/LordHowe/LC80850822014252-SC20160630034220/agdc-metadata.yaml /media/simonaoliver/datacube/input/LordHowe/LC80850822014284-SC20160630032539/agdc-metadata.yaml /media/simonaoliver/datacube/input/LordHowe/LC80850822014300-SC20160630034739/agdc-metadata.yaml /media/simonaoliver/datacube/input/LordHowe/LC80850822014332-SC20160630034246/agdc-metadata.yaml /media/simonaoliver/datacube/input/LordHowe/LC80850822014348-SC20160630035025/agdc-metadata.yaml /media/simonaoliver/datacube/input/LordHowe/LC80850822014364-SC20160630034422/agdc-metadata.yaml /media/simonaoliver/datacube/input/LordHowe/LC80850822015015-SC20160630033321/agdc-metadata.yaml /media/simonaoliver/datacube/input/LordHowe/LC80850822015031-SC20160630032518/agdc-metadata.yaml /media/simonaoliver/datacube/input/LordHowe/LC80850822015047-SC20160630033909/agdc-metadata.yaml /media/simonaoliver/datacube/input/LordHowe/LC80850822015063-SC20160630033420/agdc-metadata.yaml /media/simonaoliver/datacube/input/LordHowe/LC80850822015079-SC20160630031345/agdc-metadata.yaml /media/simonaoliver/datacube/input/LordHowe/LC80850822015095-SC20160630031255/agdc-metadata.yaml /media/simonaoliver/datacube/input/LordHowe/LC80850822015111-SC20160630030959/agdc-metadata.yaml /media/simonaoliver/datacube/input/LordHowe/LC80850822015127-SC20160630032501/agdc-metadata.yaml /media/simonaoliver/datacube/input/LordHowe/LC80850822015159-SC20160630032329/agdc-metadata.yaml /media/simonaoliver/datacube/input/LordHowe/LC80850822015175-SC20160630032501/agdc-metadata.yaml /media/simonaoliver/datacube/input/LordHowe/LC80850822015191-SC20160630031022/agdc-metadata.yaml /media/simonaoliver/datacube/input/LordHowe/LC80850822015207-SC20160630033918/agdc-metadata.yaml /media/simonaoliver/datacube/input/LordHowe/LC80850822015223-SC20160630032539/agdc-metadata.yaml /media/simonaoliver/datacube/input/LordHowe/LC80850822015239-SC20160630031348/agdc-metadata.yaml /media/simonaoliver/datacube/input/LordHowe/LC80850822015255-SC20160630033315/agdc-metadata.yaml /media/simonaoliver/datacube/input/LordHowe/LC80850822015271-SC20160630033921/agdc-metadata.yaml /media/simonaoliver/datacube/input/LordHowe/LC80850822015287-SC20160630034605/agdc-metadata.yaml /media/simonaoliver/datacube/input/LordHowe/LC80850822015303-SC20160630034525/agdc-metadata.yaml /media/simonaoliver/datacube/input/LordHowe/LC80850822015319-SC20160630034735/agdc-metadata.yaml /media/simonaoliver/datacube/input/LordHowe/LC80850822015335-SC20160630033810/agdc-metadata.yaml /media/simonaoliver/datacube/input/LordHowe/LC80850822015351-SC20160630034351/agdc-metadata.yaml /media/simonaoliver/datacube/input/LordHowe/LC80850822016002-SC20160630033736/agdc-metadata.yaml /media/simonaoliver/datacube/input/LordHowe/LC80850822016018-SC20160630033340/agdc-metadata.yaml /media/simonaoliver/datacube/input/LordHowe/LC80850822016034-SC20160630033548/agdc-metadata.yaml /media/simonaoliver/datacube/input/LordHowe/LC80850822016066-SC20160630033003/agdc-metadata.yaml /media/simonaoliver/datacube/input/LordHowe/LC80850822016082-SC20160630032804/agdc-metadata.yaml /media/simonaoliver/datacube/input/LordHowe/LC80850822016114-SC20160630032117/agdc-metadata.yaml /media/simonaoliver/datacube/input/LordHowe/LC80850822016130-SC20160630032956/agdc-metadata.yaml /media/simonaoliver/datacube/input/LordHowe/LC80850822016146-SC20160630033032/agdc-metadata.yaml /media/simonaoliver/datacube/input/LordHowe/LC80850822016162-SC20160630034247/agdc-metadata.yaml /media/simonaoliver/datacube/input/LordHowe/LC80850822016178-SC20160703095741/agdc-metadata.yaml --auto-match\n",
      "2016-11-01 22:46:59,675 datacube-dataset \u001b[37mINFO\u001b[0m Matched Dataset <id=0399be45-8192-47e5-93d6-620fd41eea0f type=ls8_ledaps_scene location=/media/simonaoliver/datacube/input/LordHowe/LC80840822013338-SC20160630035828/agdc-metadata.yaml>\n",
      "2016-11-01 22:46:59,678 datacube.index._datasets \u001b[37mINFO\u001b[0m Indexing 0399be45-8192-47e5-93d6-620fd41eea0f\n",
      "2016-11-01 22:47:00,006 datacube-dataset \u001b[37mINFO\u001b[0m Matched Dataset <id=43dbe69d-5125-46f6-90e6-acc65466c843 type=ls8_ledaps_scene location=/media/simonaoliver/datacube/input/LordHowe/LC80840822013354-SC20160630033729/agdc-metadata.yaml>\n",
      "2016-11-01 22:47:00,007 datacube.index._datasets \u001b[37mINFO\u001b[0m Indexing 43dbe69d-5125-46f6-90e6-acc65466c843\n",
      "2016-11-01 22:47:00,092 datacube-dataset \u001b[37mINFO\u001b[0m Matched Dataset <id=df98a848-3bac-41fb-bec8-16420de21d07 type=ls8_ledaps_scene location=/media/simonaoliver/datacube/input/LordHowe/LC80840822014005-SC20160630035505/agdc-metadata.yaml>\n",
      "2016-11-01 22:47:00,092 datacube.index._datasets \u001b[37mINFO\u001b[0m Indexing df98a848-3bac-41fb-bec8-16420de21d07\n",
      "2016-11-01 22:47:00,134 datacube-dataset \u001b[37mINFO\u001b[0m Matched Dataset <id=ebb8b18f-caad-4be1-8a9b-a5e1b7c26799 type=ls8_ledaps_scene location=/media/simonaoliver/datacube/input/LordHowe/LC80840822014021-SC20160630032531/agdc-metadata.yaml>\n",
      "2016-11-01 22:47:00,134 datacube.index._datasets \u001b[37mINFO\u001b[0m Indexing ebb8b18f-caad-4be1-8a9b-a5e1b7c26799\n",
      "2016-11-01 22:47:00,194 datacube-dataset \u001b[37mINFO\u001b[0m Matched Dataset <id=61879976-efc5-4b2e-81c5-4c045c8d87b2 type=ls8_ledaps_scene location=/media/simonaoliver/datacube/input/LordHowe/LC80840822014069-SC20160630033133/agdc-metadata.yaml>\n",
      "2016-11-01 22:47:00,194 datacube.index._datasets \u001b[37mINFO\u001b[0m Indexing 61879976-efc5-4b2e-81c5-4c045c8d87b2\n",
      "2016-11-01 22:47:00,235 datacube-dataset \u001b[37mINFO\u001b[0m Matched Dataset <id=1a2ce5d9-6f7c-4968-9768-6981319eff36 type=ls8_ledaps_scene location=/media/simonaoliver/datacube/input/LordHowe/LC80840822014101-SC20160630032803/agdc-metadata.yaml>\n",
      "2016-11-01 22:47:00,236 datacube.index._datasets \u001b[37mINFO\u001b[0m Indexing 1a2ce5d9-6f7c-4968-9768-6981319eff36\n",
      "2016-11-01 22:47:00,322 datacube-dataset \u001b[37mINFO\u001b[0m Matched Dataset <id=fbe87372-3544-445c-a767-9857728008b5 type=ls8_ledaps_scene location=/media/simonaoliver/datacube/input/LordHowe/LC80840822014117-SC20160630034453/agdc-metadata.yaml>\n",
      "2016-11-01 22:47:00,323 datacube.index._datasets \u001b[37mINFO\u001b[0m Indexing fbe87372-3544-445c-a767-9857728008b5\n",
      "2016-11-01 22:47:00,427 datacube-dataset \u001b[37mINFO\u001b[0m Matched Dataset <id=efff8a7e-2ff8-4b98-b6f6-52fa61f4f3b8 type=ls8_ledaps_scene location=/media/simonaoliver/datacube/input/LordHowe/LC80840822014133-SC20160630032130/agdc-metadata.yaml>\n",
      "2016-11-01 22:47:00,428 datacube.index._datasets \u001b[37mINFO\u001b[0m Indexing efff8a7e-2ff8-4b98-b6f6-52fa61f4f3b8\n",
      "2016-11-01 22:47:00,607 datacube-dataset \u001b[37mINFO\u001b[0m Matched Dataset <id=93c1c26a-fadc-4f02-ba94-f6810df67e4d type=ls8_ledaps_scene location=/media/simonaoliver/datacube/input/LordHowe/LC80840822014149-SC20160630033230/agdc-metadata.yaml>\n",
      "2016-11-01 22:47:00,607 datacube.index._datasets \u001b[37mINFO\u001b[0m Indexing 93c1c26a-fadc-4f02-ba94-f6810df67e4d\n",
      "2016-11-01 22:47:00,645 datacube-dataset \u001b[37mINFO\u001b[0m Matched Dataset <id=896efbcc-438a-4dad-a8f5-547f95e8c260 type=ls8_ledaps_scene location=/media/simonaoliver/datacube/input/LordHowe/LC80840822014181-SC20160630033035/agdc-metadata.yaml>\n",
      "2016-11-01 22:47:00,645 datacube.index._datasets \u001b[37mINFO\u001b[0m Indexing 896efbcc-438a-4dad-a8f5-547f95e8c260\n",
      "2016-11-01 22:47:00,723 datacube-dataset \u001b[37mINFO\u001b[0m Matched Dataset <id=062c5650-881b-4525-8fed-53b5a39e391a type=ls8_ledaps_scene location=/media/simonaoliver/datacube/input/LordHowe/LC80840822014197-SC20160630033756/agdc-metadata.yaml>\n",
      "2016-11-01 22:47:00,724 datacube.index._datasets \u001b[37mINFO\u001b[0m Indexing 062c5650-881b-4525-8fed-53b5a39e391a\n",
      "2016-11-01 22:47:00,832 datacube-dataset \u001b[37mINFO\u001b[0m Matched Dataset <id=8d144272-0496-47ae-b739-0330875e0663 type=ls8_ledaps_scene location=/media/simonaoliver/datacube/input/LordHowe/LC80840822014213-SC20160630031935/agdc-metadata.yaml>\n",
      "2016-11-01 22:47:00,833 datacube.index._datasets \u001b[37mINFO\u001b[0m Indexing 8d144272-0496-47ae-b739-0330875e0663\n",
      "2016-11-01 22:47:00,937 datacube-dataset \u001b[37mINFO\u001b[0m Matched Dataset <id=ee867f89-8775-441e-a35e-81d91db336ae type=ls8_ledaps_scene location=/media/simonaoliver/datacube/input/LordHowe/LC80840822014229-SC20160630032942/agdc-metadata.yaml>\n",
      "2016-11-01 22:47:00,938 datacube.index._datasets \u001b[37mINFO\u001b[0m Indexing ee867f89-8775-441e-a35e-81d91db336ae\n",
      "2016-11-01 22:47:01,041 datacube-dataset \u001b[37mINFO\u001b[0m Matched Dataset <id=1376490c-1f30-4771-8e30-36707081da0f type=ls8_ledaps_scene location=/media/simonaoliver/datacube/input/LordHowe/LC80840822014245-SC20160630032923/agdc-metadata.yaml>\n",
      "2016-11-01 22:47:01,042 datacube.index._datasets \u001b[37mINFO\u001b[0m Indexing 1376490c-1f30-4771-8e30-36707081da0f\n",
      "2016-11-01 22:47:01,127 datacube-dataset \u001b[37mINFO\u001b[0m Matched Dataset <id=ca35c749-5789-491d-b678-15896d45afa7 type=ls8_ledaps_scene location=/media/simonaoliver/datacube/input/LordHowe/LC80840822014261-SC20160630034131/agdc-metadata.yaml>\n",
      "2016-11-01 22:47:01,128 datacube.index._datasets \u001b[37mINFO\u001b[0m Indexing ca35c749-5789-491d-b678-15896d45afa7\n",
      "2016-11-01 22:47:01,155 datacube-dataset \u001b[37mINFO\u001b[0m Matched Dataset <id=7d392ed4-1a18-49d3-923a-bb51e657bfca type=ls8_ledaps_scene location=/media/simonaoliver/datacube/input/LordHowe/LC80840822014277-SC20160630031908/agdc-metadata.yaml>\n",
      "2016-11-01 22:47:01,155 datacube.index._datasets \u001b[37mINFO\u001b[0m Indexing 7d392ed4-1a18-49d3-923a-bb51e657bfca\n",
      "2016-11-01 22:47:01,239 datacube-dataset \u001b[37mINFO\u001b[0m Matched Dataset <id=98a811b8-2229-4c75-99a2-459c614ff4c3 type=ls8_ledaps_scene location=/media/simonaoliver/datacube/input/LordHowe/LC80840822014293-SC20160630032604/agdc-metadata.yaml>\n",
      "2016-11-01 22:47:01,240 datacube.index._datasets \u001b[37mINFO\u001b[0m Indexing 98a811b8-2229-4c75-99a2-459c614ff4c3\n",
      "2016-11-01 22:47:01,337 datacube-dataset \u001b[37mINFO\u001b[0m Matched Dataset <id=6656bdf8-8a0a-4f25-bb85-2c9f7ebf6e34 type=ls8_ledaps_scene location=/media/simonaoliver/datacube/input/LordHowe/LC80840822014309-SC20160630034046/agdc-metadata.yaml>\n",
      "2016-11-01 22:47:01,337 datacube.index._datasets \u001b[37mINFO\u001b[0m Indexing 6656bdf8-8a0a-4f25-bb85-2c9f7ebf6e34\n",
      "2016-11-01 22:47:01,367 datacube-dataset \u001b[37mINFO\u001b[0m Matched Dataset <id=17cf21b2-57bf-4824-8c26-9be19b487ed4 type=ls8_ledaps_scene location=/media/simonaoliver/datacube/input/LordHowe/LC80840822014325-SC20160630033047/agdc-metadata.yaml>\n",
      "2016-11-01 22:47:01,368 datacube.index._datasets \u001b[37mINFO\u001b[0m Indexing 17cf21b2-57bf-4824-8c26-9be19b487ed4\n",
      "2016-11-01 22:47:01,650 datacube-dataset \u001b[37mINFO\u001b[0m Matched Dataset <id=36df7637-2418-427d-9125-ad0bc55934be type=ls8_ledaps_scene location=/media/simonaoliver/datacube/input/LordHowe/LC80840822014341-SC20160630031338/agdc-metadata.yaml>\n",
      "2016-11-01 22:47:01,654 datacube.index._datasets \u001b[37mINFO\u001b[0m Indexing 36df7637-2418-427d-9125-ad0bc55934be\n",
      "2016-11-01 22:47:02,048 datacube-dataset \u001b[37mINFO\u001b[0m Matched Dataset <id=b814f86c-a471-4964-a0a2-3b7c3dcdec62 type=ls8_ledaps_scene location=/media/simonaoliver/datacube/input/LordHowe/LC80840822014357-SC20160630032557/agdc-metadata.yaml>\n",
      "2016-11-01 22:47:02,050 datacube.index._datasets \u001b[37mINFO\u001b[0m Indexing b814f86c-a471-4964-a0a2-3b7c3dcdec62\n",
      "2016-11-01 22:47:02,413 datacube-dataset \u001b[37mINFO\u001b[0m Matched Dataset <id=485fd62b-4e72-4124-829b-3fb13008d4a2 type=ls8_ledaps_scene location=/media/simonaoliver/datacube/input/LordHowe/LC80840822015008-SC20160630034125/agdc-metadata.yaml>\n",
      "2016-11-01 22:47:02,415 datacube.index._datasets \u001b[37mINFO\u001b[0m Indexing 485fd62b-4e72-4124-829b-3fb13008d4a2\n",
      "2016-11-01 22:47:02,579 datacube-dataset \u001b[37mINFO\u001b[0m Matched Dataset <id=bfe0f9a6-402e-449c-9e03-c4897e167f2b type=ls8_ledaps_scene location=/media/simonaoliver/datacube/input/LordHowe/LC80840822015024-SC20160630033702/agdc-metadata.yaml>\n",
      "2016-11-01 22:47:02,580 datacube.index._datasets \u001b[37mINFO\u001b[0m Indexing bfe0f9a6-402e-449c-9e03-c4897e167f2b\n",
      "2016-11-01 22:47:02,684 datacube-dataset \u001b[37mINFO\u001b[0m Matched Dataset <id=7f1b9758-6981-4847-bd83-7d3e4f9d4ba9 type=ls8_ledaps_scene location=/media/simonaoliver/datacube/input/LordHowe/LC80840822015040-SC20160630033636/agdc-metadata.yaml>\n",
      "2016-11-01 22:47:02,684 datacube.index._datasets \u001b[37mINFO\u001b[0m Indexing 7f1b9758-6981-4847-bd83-7d3e4f9d4ba9\n",
      "2016-11-01 22:47:02,708 datacube-dataset \u001b[37mINFO\u001b[0m Matched Dataset <id=6397ad30-46d9-4e42-9cb3-fe4ff6535e8a type=ls8_ledaps_scene location=/media/simonaoliver/datacube/input/LordHowe/LC80840822015056-SC20160630032512/agdc-metadata.yaml>\n",
      "2016-11-01 22:47:02,709 datacube.index._datasets \u001b[37mINFO\u001b[0m Indexing 6397ad30-46d9-4e42-9cb3-fe4ff6535e8a\n",
      "2016-11-01 22:47:02,796 datacube-dataset \u001b[37mINFO\u001b[0m Matched Dataset <id=f704fe81-0c01-4819-8673-a69dea2ac405 type=ls8_ledaps_scene location=/media/simonaoliver/datacube/input/LordHowe/LC80840822015072-SC20160630032250/agdc-metadata.yaml>\n",
      "2016-11-01 22:47:02,797 datacube.index._datasets \u001b[37mINFO\u001b[0m Indexing f704fe81-0c01-4819-8673-a69dea2ac405\n",
      "2016-11-01 22:47:02,923 datacube-dataset \u001b[37mINFO\u001b[0m Matched Dataset <id=dd90be38-4ac8-4537-82ff-a098cc03a038 type=ls8_ledaps_scene location=/media/simonaoliver/datacube/input/LordHowe/LC80840822015088-SC20160630030915/agdc-metadata.yaml>\n",
      "2016-11-01 22:47:02,924 datacube.index._datasets \u001b[37mINFO\u001b[0m Indexing dd90be38-4ac8-4537-82ff-a098cc03a038\n",
      "2016-11-01 22:47:02,989 datacube-dataset \u001b[37mINFO\u001b[0m Matched Dataset <id=e3c2e630-d23c-4f3b-9d50-b128f59a5af3 type=ls8_ledaps_scene location=/media/simonaoliver/datacube/input/LordHowe/LC80840822015104-SC20160630032627/agdc-metadata.yaml>\n",
      "2016-11-01 22:47:02,989 datacube.index._datasets \u001b[37mINFO\u001b[0m Indexing e3c2e630-d23c-4f3b-9d50-b128f59a5af3\n",
      "2016-11-01 22:47:03,019 datacube-dataset \u001b[37mINFO\u001b[0m Matched Dataset <id=d0f070ad-9d5d-4dca-8404-7a32d6b43211 type=ls8_ledaps_scene location=/media/simonaoliver/datacube/input/LordHowe/LC80840822015120-SC20160630030332/agdc-metadata.yaml>\n",
      "2016-11-01 22:47:03,020 datacube.index._datasets \u001b[37mINFO\u001b[0m Indexing d0f070ad-9d5d-4dca-8404-7a32d6b43211\n",
      "2016-11-01 22:47:03,121 datacube-dataset \u001b[37mINFO\u001b[0m Matched Dataset <id=1768ddd8-29e2-4599-b74f-c66210987891 type=ls8_ledaps_scene location=/media/simonaoliver/datacube/input/LordHowe/LC80840822015136-SC20160630034154/agdc-metadata.yaml>\n",
      "2016-11-01 22:47:03,122 datacube.index._datasets \u001b[37mINFO\u001b[0m Indexing 1768ddd8-29e2-4599-b74f-c66210987891\n",
      "2016-11-01 22:47:03,203 datacube-dataset \u001b[37mINFO\u001b[0m Matched Dataset <id=d37597eb-0278-4fe9-9d9d-341d292af9f8 type=ls8_ledaps_scene location=/media/simonaoliver/datacube/input/LordHowe/LC80840822015152-SC20160630033858/agdc-metadata.yaml>\n",
      "2016-11-01 22:47:03,204 datacube.index._datasets \u001b[37mINFO\u001b[0m Indexing d37597eb-0278-4fe9-9d9d-341d292af9f8\n",
      "2016-11-01 22:47:03,227 datacube-dataset \u001b[37mINFO\u001b[0m Matched Dataset <id=ac500895-88d5-47d5-ab75-86cf241869c6 type=ls8_ledaps_scene location=/media/simonaoliver/datacube/input/LordHowe/LC80840822015168-SC20160630033515/agdc-metadata.yaml>\n",
      "2016-11-01 22:47:03,227 datacube.index._datasets \u001b[37mINFO\u001b[0m Indexing ac500895-88d5-47d5-ab75-86cf241869c6\n",
      "2016-11-01 22:47:03,428 datacube-dataset \u001b[37mINFO\u001b[0m Matched Dataset <id=5b04de2a-2f00-479d-b29e-0832e667c653 type=ls8_ledaps_scene location=/media/simonaoliver/datacube/input/LordHowe/LC80840822015184-SC20160630032805/agdc-metadata.yaml>\n",
      "2016-11-01 22:47:03,435 datacube.index._datasets \u001b[37mINFO\u001b[0m Indexing 5b04de2a-2f00-479d-b29e-0832e667c653\n",
      "2016-11-01 22:47:03,671 datacube-dataset \u001b[37mINFO\u001b[0m Matched Dataset <id=8803eaf7-3826-4390-8db7-51debdc90c20 type=ls8_ledaps_scene location=/media/simonaoliver/datacube/input/LordHowe/LC80840822015200-SC20160630033915/agdc-metadata.yaml>\n",
      "2016-11-01 22:47:03,672 datacube.index._datasets \u001b[37mINFO\u001b[0m Indexing 8803eaf7-3826-4390-8db7-51debdc90c20\n",
      "2016-11-01 22:47:03,923 datacube-dataset \u001b[37mINFO\u001b[0m Matched Dataset <id=01746901-6206-4bea-afbf-fcc6c8527ade type=ls8_ledaps_scene location=/media/simonaoliver/datacube/input/LordHowe/LC80840822015216-SC20160630033443/agdc-metadata.yaml>\n",
      "2016-11-01 22:47:03,924 datacube.index._datasets \u001b[37mINFO\u001b[0m Indexing 01746901-6206-4bea-afbf-fcc6c8527ade\n",
      "2016-11-01 22:47:04,226 datacube-dataset \u001b[37mINFO\u001b[0m Matched Dataset <id=eddd7b99-2db7-4f8b-8b2c-d7c1128d8964 type=ls8_ledaps_scene location=/media/simonaoliver/datacube/input/LordHowe/LC80840822015232-SC20160630033806/agdc-metadata.yaml>\n",
      "2016-11-01 22:47:04,227 datacube.index._datasets \u001b[37mINFO\u001b[0m Indexing eddd7b99-2db7-4f8b-8b2c-d7c1128d8964\n",
      "2016-11-01 22:47:04,252 datacube-dataset \u001b[37mINFO\u001b[0m Matched Dataset <id=0105f14b-9ed1-4f99-a634-a1459b147c7b type=ls8_ledaps_scene location=/media/simonaoliver/datacube/input/LordHowe/LC80840822015248-SC20160630033909/agdc-metadata.yaml>\n",
      "2016-11-01 22:47:04,252 datacube.index._datasets \u001b[37mINFO\u001b[0m Indexing 0105f14b-9ed1-4f99-a634-a1459b147c7b\n",
      "2016-11-01 22:47:04,367 datacube-dataset \u001b[37mINFO\u001b[0m Matched Dataset <id=c7beccba-d2f1-426d-87f9-eb2c3e4b0a43 type=ls8_ledaps_scene location=/media/simonaoliver/datacube/input/LordHowe/LC80840822015264-SC20160630034055/agdc-metadata.yaml>\n",
      "2016-11-01 22:47:04,367 datacube.index._datasets \u001b[37mINFO\u001b[0m Indexing c7beccba-d2f1-426d-87f9-eb2c3e4b0a43\n",
      "2016-11-01 22:47:04,479 datacube-dataset \u001b[37mINFO\u001b[0m Matched Dataset <id=3b7af804-9e68-4418-a9e4-a1e99db75984 type=ls8_ledaps_scene location=/media/simonaoliver/datacube/input/LordHowe/LC80840822015280-SC20160630034053/agdc-metadata.yaml>\n",
      "2016-11-01 22:47:04,479 datacube.index._datasets \u001b[37mINFO\u001b[0m Indexing 3b7af804-9e68-4418-a9e4-a1e99db75984\n",
      "2016-11-01 22:47:04,504 datacube-dataset \u001b[37mINFO\u001b[0m Matched Dataset <id=1fd3a302-a705-411a-ab30-b99c0708c198 type=ls8_ledaps_scene location=/media/simonaoliver/datacube/input/LordHowe/LC80840822015296-SC20160630032647/agdc-metadata.yaml>\n",
      "2016-11-01 22:47:04,504 datacube.index._datasets \u001b[37mINFO\u001b[0m Indexing 1fd3a302-a705-411a-ab30-b99c0708c198\n",
      "2016-11-01 22:47:04,560 datacube-dataset \u001b[37mINFO\u001b[0m Matched Dataset <id=e6fe23af-36b6-48d1-9e82-7b6b17348a1f type=ls8_ledaps_scene location=/media/simonaoliver/datacube/input/LordHowe/LC80840822015312-SC20160630034100/agdc-metadata.yaml>\n",
      "2016-11-01 22:47:04,561 datacube.index._datasets \u001b[37mINFO\u001b[0m Indexing e6fe23af-36b6-48d1-9e82-7b6b17348a1f\n",
      "2016-11-01 22:47:04,680 datacube-dataset \u001b[37mINFO\u001b[0m Matched Dataset <id=856fb1fc-8ae4-4749-8a53-3c2a09e6012b type=ls8_ledaps_scene location=/media/simonaoliver/datacube/input/LordHowe/LC80840822015328-SC20160630033701/agdc-metadata.yaml>\n",
      "2016-11-01 22:47:04,680 datacube.index._datasets \u001b[37mINFO\u001b[0m Indexing 856fb1fc-8ae4-4749-8a53-3c2a09e6012b\n",
      "2016-11-01 22:47:04,755 datacube-dataset \u001b[37mINFO\u001b[0m Matched Dataset <id=18f8110f-2cbb-4e74-92c6-3c43c1aa0bff type=ls8_ledaps_scene location=/media/simonaoliver/datacube/input/LordHowe/LC80840822015344-SC20160630034145/agdc-metadata.yaml>\n",
      "2016-11-01 22:47:04,756 datacube.index._datasets \u001b[37mINFO\u001b[0m Indexing 18f8110f-2cbb-4e74-92c6-3c43c1aa0bff\n",
      "2016-11-01 22:47:04,780 datacube-dataset \u001b[37mINFO\u001b[0m Matched Dataset <id=ba5f58a2-3337-4c97-b96b-7937362f0cce type=ls8_ledaps_scene location=/media/simonaoliver/datacube/input/LordHowe/LC80840822015360-SC20160630031524/agdc-metadata.yaml>\n",
      "2016-11-01 22:47:04,780 datacube.index._datasets \u001b[37mINFO\u001b[0m Indexing ba5f58a2-3337-4c97-b96b-7937362f0cce\n",
      "2016-11-01 22:47:04,952 datacube-dataset \u001b[37mINFO\u001b[0m Matched Dataset <id=d6de028c-101b-4073-8faf-1c7f9b3413ee type=ls8_ledaps_scene location=/media/simonaoliver/datacube/input/LordHowe/LC80840822016011-SC20160630032424/agdc-metadata.yaml>\n",
      "2016-11-01 22:47:04,953 datacube.index._datasets \u001b[37mINFO\u001b[0m Indexing d6de028c-101b-4073-8faf-1c7f9b3413ee\n",
      "2016-11-01 22:47:05,067 datacube-dataset \u001b[37mINFO\u001b[0m Matched Dataset <id=08735ced-25aa-4c8c-b6b7-a2ee4dbf3b64 type=ls8_ledaps_scene location=/media/simonaoliver/datacube/input/LordHowe/LC80840822016027-SC20160630033547/agdc-metadata.yaml>\n",
      "2016-11-01 22:47:05,068 datacube.index._datasets \u001b[37mINFO\u001b[0m Indexing 08735ced-25aa-4c8c-b6b7-a2ee4dbf3b64\n",
      "2016-11-01 22:47:05,162 datacube-dataset \u001b[37mINFO\u001b[0m Matched Dataset <id=83bd047b-b18d-4d75-af67-dd56c18ce64a type=ls8_ledaps_scene location=/media/simonaoliver/datacube/input/LordHowe/LC80840822016043-SC20160630033925/agdc-metadata.yaml>\n",
      "2016-11-01 22:47:05,163 datacube.index._datasets \u001b[37mINFO\u001b[0m Indexing 83bd047b-b18d-4d75-af67-dd56c18ce64a\n",
      "2016-11-01 22:47:05,187 datacube-dataset \u001b[37mINFO\u001b[0m Matched Dataset <id=4ceb78b0-5157-40e0-b841-022dce5dfe0b type=ls8_ledaps_scene location=/media/simonaoliver/datacube/input/LordHowe/LC80840822016059-SC20160630034101/agdc-metadata.yaml>\n",
      "2016-11-01 22:47:05,187 datacube.index._datasets \u001b[37mINFO\u001b[0m Indexing 4ceb78b0-5157-40e0-b841-022dce5dfe0b\n",
      "2016-11-01 22:47:05,267 datacube-dataset \u001b[37mINFO\u001b[0m Matched Dataset <id=aed241c0-cb05-4896-a82e-6b81b4440e0e type=ls8_ledaps_scene location=/media/simonaoliver/datacube/input/LordHowe/LC80840822016075-SC20160630031739/agdc-metadata.yaml>\n",
      "2016-11-01 22:47:05,268 datacube.index._datasets \u001b[37mINFO\u001b[0m Indexing aed241c0-cb05-4896-a82e-6b81b4440e0e\n",
      "2016-11-01 22:47:05,370 datacube-dataset \u001b[37mINFO\u001b[0m Matched Dataset <id=e4b2a786-3ee4-4d09-b1c8-9c52f825e64f type=ls8_ledaps_scene location=/media/simonaoliver/datacube/input/LordHowe/LC80840822016091-SC20160630032822/agdc-metadata.yaml>\n",
      "2016-11-01 22:47:05,372 datacube.index._datasets \u001b[37mINFO\u001b[0m Indexing e4b2a786-3ee4-4d09-b1c8-9c52f825e64f\n",
      "2016-11-01 22:47:05,497 datacube-dataset \u001b[37mINFO\u001b[0m Matched Dataset <id=206c3c2b-7196-4d48-9241-589fbf9e487a type=ls8_ledaps_scene location=/media/simonaoliver/datacube/input/LordHowe/LC80840822016107-SC20160630032337/agdc-metadata.yaml>\n",
      "2016-11-01 22:47:05,498 datacube.index._datasets \u001b[37mINFO\u001b[0m Indexing 206c3c2b-7196-4d48-9241-589fbf9e487a\n",
      "2016-11-01 22:47:05,778 datacube-dataset \u001b[37mINFO\u001b[0m Matched Dataset <id=9bed7189-36d2-45f3-a91b-317176e39ce9 type=ls8_ledaps_scene location=/media/simonaoliver/datacube/input/LordHowe/LC80840822016123-SC20160630032208/agdc-metadata.yaml>\n",
      "2016-11-01 22:47:05,779 datacube.index._datasets \u001b[37mINFO\u001b[0m Indexing 9bed7189-36d2-45f3-a91b-317176e39ce9\n",
      "2016-11-01 22:47:05,881 datacube-dataset \u001b[37mINFO\u001b[0m Matched Dataset <id=75e18e13-dc1d-4fb6-bb29-80d52ff34e4d type=ls8_ledaps_scene location=/media/simonaoliver/datacube/input/LordHowe/LC80840822016139-SC20160630030623/agdc-metadata.yaml>\n",
      "2016-11-01 22:47:05,881 datacube.index._datasets \u001b[37mINFO\u001b[0m Indexing 75e18e13-dc1d-4fb6-bb29-80d52ff34e4d\n",
      "2016-11-01 22:47:05,977 datacube-dataset \u001b[37mINFO\u001b[0m Matched Dataset <id=35debd58-a1f9-419d-83fd-fdbed997d1b1 type=ls8_ledaps_scene location=/media/simonaoliver/datacube/input/LordHowe/LC80840822016155-SC20160630032640/agdc-metadata.yaml>\n",
      "2016-11-01 22:47:05,978 datacube.index._datasets \u001b[37mINFO\u001b[0m Indexing 35debd58-a1f9-419d-83fd-fdbed997d1b1\n",
      "2016-11-01 22:47:06,006 datacube-dataset \u001b[37mINFO\u001b[0m Matched Dataset <id=b350a790-7d93-4e90-8fd3-8a1f1d291095 type=ls8_ledaps_scene location=/media/simonaoliver/datacube/input/LordHowe/LC80840822016171-SC20160630030921/agdc-metadata.yaml>\n",
      "2016-11-01 22:47:06,007 datacube.index._datasets \u001b[37mINFO\u001b[0m Indexing b350a790-7d93-4e90-8fd3-8a1f1d291095\n",
      "2016-11-01 22:47:06,092 datacube-dataset \u001b[37mINFO\u001b[0m Matched Dataset <id=5fee0b60-b2c0-462d-ac2a-fb5d13013f14 type=ls8_ledaps_scene location=/media/simonaoliver/datacube/input/LordHowe/LC80850822013121-SC20160630032347/agdc-metadata.yaml>\n",
      "2016-11-01 22:47:06,092 datacube.index._datasets \u001b[37mINFO\u001b[0m Indexing 5fee0b60-b2c0-462d-ac2a-fb5d13013f14\n",
      "2016-11-01 22:47:06,187 datacube-dataset \u001b[37mINFO\u001b[0m Matched Dataset <id=86f1cfe0-6576-45a0-a1e8-769cf30ca049 type=ls8_ledaps_scene location=/media/simonaoliver/datacube/input/LordHowe/LC80850822013137-SC20160630034042/agdc-metadata.yaml>\n",
      "2016-11-01 22:47:06,187 datacube.index._datasets \u001b[37mINFO\u001b[0m Indexing 86f1cfe0-6576-45a0-a1e8-769cf30ca049\n",
      "2016-11-01 22:47:06,224 datacube-dataset \u001b[37mINFO\u001b[0m Matched Dataset <id=897c39b1-e533-4be9-a833-840872a0a370 type=ls8_ledaps_scene location=/media/simonaoliver/datacube/input/LordHowe/LC80850822013233-SC20160630033956/agdc-metadata.yaml>\n",
      "2016-11-01 22:47:06,224 datacube.index._datasets \u001b[37mINFO\u001b[0m Indexing 897c39b1-e533-4be9-a833-840872a0a370\n",
      "2016-11-01 22:47:06,312 datacube-dataset \u001b[37mINFO\u001b[0m Matched Dataset <id=84ab172e-72a1-4b4e-8cb6-af03a4b34eea type=ls8_ledaps_scene location=/media/simonaoliver/datacube/input/LordHowe/LC80850822013297-SC20160630040239/agdc-metadata.yaml>\n",
      "2016-11-01 22:47:06,312 datacube.index._datasets \u001b[37mINFO\u001b[0m Indexing 84ab172e-72a1-4b4e-8cb6-af03a4b34eea\n",
      "2016-11-01 22:47:06,404 datacube-dataset \u001b[37mINFO\u001b[0m Matched Dataset <id=c92998d7-dc02-426d-b45d-f705a8e0149e type=ls8_ledaps_scene location=/media/simonaoliver/datacube/input/LordHowe/LC80850822013329-SC20160630034436/agdc-metadata.yaml>\n",
      "2016-11-01 22:47:06,405 datacube.index._datasets \u001b[37mINFO\u001b[0m Indexing c92998d7-dc02-426d-b45d-f705a8e0149e\n",
      "2016-11-01 22:47:06,501 datacube-dataset \u001b[37mINFO\u001b[0m Matched Dataset <id=9948eeac-c037-4020-abdf-e8e2aeb8e95d type=ls8_ledaps_scene location=/media/simonaoliver/datacube/input/LordHowe/LC80850822013345-SC20160630031833/agdc-metadata.yaml>\n",
      "2016-11-01 22:47:06,501 datacube.index._datasets \u001b[37mINFO\u001b[0m Indexing 9948eeac-c037-4020-abdf-e8e2aeb8e95d\n",
      "2016-11-01 22:47:06,608 datacube-dataset \u001b[37mINFO\u001b[0m Matched Dataset <id=42a574e0-c693-43db-97ff-0b87e999f9f2 type=ls8_ledaps_scene location=/media/simonaoliver/datacube/input/LordHowe/LC80850822013361-SC20160630035315/agdc-metadata.yaml>\n",
      "2016-11-01 22:47:06,608 datacube.index._datasets \u001b[37mINFO\u001b[0m Indexing 42a574e0-c693-43db-97ff-0b87e999f9f2\n",
      "2016-11-01 22:47:06,648 datacube-dataset \u001b[37mINFO\u001b[0m Matched Dataset <id=e277f1a5-0451-40dc-b5c4-3c050d369f5a type=ls8_ledaps_scene location=/media/simonaoliver/datacube/input/LordHowe/LC80850822014012-SC20160630034400/agdc-metadata.yaml>\n",
      "2016-11-01 22:47:06,649 datacube.index._datasets \u001b[37mINFO\u001b[0m Indexing e277f1a5-0451-40dc-b5c4-3c050d369f5a\n",
      "2016-11-01 22:47:06,718 datacube-dataset \u001b[37mINFO\u001b[0m Matched Dataset <id=ed7334a8-340e-4a92-b8b1-f310b03cbf72 type=ls8_ledaps_scene location=/media/simonaoliver/datacube/input/LordHowe/LC80850822014028-SC20160630032803/agdc-metadata.yaml>\n",
      "2016-11-01 22:47:06,718 datacube.index._datasets \u001b[37mINFO\u001b[0m Indexing ed7334a8-340e-4a92-b8b1-f310b03cbf72\n",
      "2016-11-01 22:47:06,750 datacube-dataset \u001b[37mINFO\u001b[0m Matched Dataset <id=ff8e12f9-b8e2-4c3a-b135-d37010b0236d type=ls8_ledaps_scene location=/media/simonaoliver/datacube/input/LordHowe/LC80850822014060-SC20160630033801/agdc-metadata.yaml>\n",
      "2016-11-01 22:47:06,751 datacube.index._datasets \u001b[37mINFO\u001b[0m Indexing ff8e12f9-b8e2-4c3a-b135-d37010b0236d\n",
      "2016-11-01 22:47:06,828 datacube-dataset \u001b[37mINFO\u001b[0m Matched Dataset <id=77c90c9e-0790-4a40-9152-b5c14d3d1b7d type=ls8_ledaps_scene location=/media/simonaoliver/datacube/input/LordHowe/LC80850822014076-SC20160630032224/agdc-metadata.yaml>\n",
      "2016-11-01 22:47:06,829 datacube.index._datasets \u001b[37mINFO\u001b[0m Indexing 77c90c9e-0790-4a40-9152-b5c14d3d1b7d\n",
      "2016-11-01 22:47:06,916 datacube-dataset \u001b[37mINFO\u001b[0m Matched Dataset <id=ab495a30-474c-4b3f-b441-6e2a0c3260d8 type=ls8_ledaps_scene location=/media/simonaoliver/datacube/input/LordHowe/LC80850822014092-SC20160630032827/agdc-metadata.yaml>\n",
      "2016-11-01 22:47:06,917 datacube.index._datasets \u001b[37mINFO\u001b[0m Indexing ab495a30-474c-4b3f-b441-6e2a0c3260d8\n",
      "2016-11-01 22:47:06,953 datacube-dataset \u001b[37mINFO\u001b[0m Matched Dataset <id=b211fcca-1897-49c7-8a17-eb95fe8efff0 type=ls8_ledaps_scene location=/media/simonaoliver/datacube/input/LordHowe/LC80850822014108-SC20160630032223/agdc-metadata.yaml>\n",
      "2016-11-01 22:47:06,953 datacube.index._datasets \u001b[37mINFO\u001b[0m Indexing b211fcca-1897-49c7-8a17-eb95fe8efff0\n",
      "2016-11-01 22:47:07,028 datacube-dataset \u001b[37mINFO\u001b[0m Matched Dataset <id=271ee735-e4bc-43bd-a02c-0e43a5097613 type=ls8_ledaps_scene location=/media/simonaoliver/datacube/input/LordHowe/LC80850822014124-SC20160630033308/agdc-metadata.yaml>\n",
      "2016-11-01 22:47:07,029 datacube.index._datasets \u001b[37mINFO\u001b[0m Indexing 271ee735-e4bc-43bd-a02c-0e43a5097613\n",
      "2016-11-01 22:47:07,052 datacube-dataset \u001b[37mINFO\u001b[0m Matched Dataset <id=44bc6d80-1bcc-41e1-84f3-3574f32ad1dd type=ls8_ledaps_scene location=/media/simonaoliver/datacube/input/LordHowe/LC80850822014140-SC20160630032757/agdc-metadata.yaml>\n",
      "2016-11-01 22:47:07,053 datacube.index._datasets \u001b[37mINFO\u001b[0m Indexing 44bc6d80-1bcc-41e1-84f3-3574f32ad1dd\n",
      "2016-11-01 22:47:07,148 datacube-dataset \u001b[37mINFO\u001b[0m Matched Dataset <id=3f25b533-f94e-4b1b-93e1-8deba3d95c8e type=ls8_ledaps_scene location=/media/simonaoliver/datacube/input/LordHowe/LC80850822014156-SC20160630032514/agdc-metadata.yaml>\n",
      "2016-11-01 22:47:07,148 datacube.index._datasets \u001b[37mINFO\u001b[0m Indexing 3f25b533-f94e-4b1b-93e1-8deba3d95c8e\n",
      "2016-11-01 22:47:07,233 datacube-dataset \u001b[37mINFO\u001b[0m Matched Dataset <id=56516dca-cf61-4574-a55d-59e17391a6bc type=ls8_ledaps_scene location=/media/simonaoliver/datacube/input/LordHowe/LC80850822014172-SC20160630032821/agdc-metadata.yaml>\n",
      "2016-11-01 22:47:07,234 datacube.index._datasets \u001b[37mINFO\u001b[0m Indexing 56516dca-cf61-4574-a55d-59e17391a6bc\n",
      "2016-11-01 22:47:07,266 datacube-dataset \u001b[37mINFO\u001b[0m Matched Dataset <id=e97aaed9-0205-46ca-ac2d-0fec5d0e6f15 type=ls8_ledaps_scene location=/media/simonaoliver/datacube/input/LordHowe/LC80850822014188-SC20160630033041/agdc-metadata.yaml>\n",
      "2016-11-01 22:47:07,266 datacube.index._datasets \u001b[37mINFO\u001b[0m Indexing e97aaed9-0205-46ca-ac2d-0fec5d0e6f15\n",
      "2016-11-01 22:47:07,342 datacube-dataset \u001b[37mINFO\u001b[0m Matched Dataset <id=3e31b1ad-b544-4941-a404-b2115e222f19 type=ls8_ledaps_scene location=/media/simonaoliver/datacube/input/LordHowe/LC80850822014220-SC20160630033059/agdc-metadata.yaml>\n",
      "2016-11-01 22:47:07,342 datacube.index._datasets \u001b[37mINFO\u001b[0m Indexing 3e31b1ad-b544-4941-a404-b2115e222f19\n",
      "2016-11-01 22:47:07,433 datacube-dataset \u001b[37mINFO\u001b[0m Matched Dataset <id=84653b7e-5509-4256-91ce-cc5b4fd2818d type=ls8_ledaps_scene location=/media/simonaoliver/datacube/input/LordHowe/LC80850822014236-SC20160630032419/agdc-metadata.yaml>\n",
      "2016-11-01 22:47:07,433 datacube.index._datasets \u001b[37mINFO\u001b[0m Indexing 84653b7e-5509-4256-91ce-cc5b4fd2818d\n",
      "2016-11-01 22:47:07,455 datacube-dataset \u001b[37mINFO\u001b[0m Matched Dataset <id=939aff65-427b-4604-b9e5-aa7c3f4da4e7 type=ls8_ledaps_scene location=/media/simonaoliver/datacube/input/LordHowe/LC80850822014252-SC20160630034220/agdc-metadata.yaml>\n",
      "2016-11-01 22:47:07,455 datacube.index._datasets \u001b[37mINFO\u001b[0m Indexing 939aff65-427b-4604-b9e5-aa7c3f4da4e7\n",
      "2016-11-01 22:47:07,544 datacube-dataset \u001b[37mINFO\u001b[0m Matched Dataset <id=9886d54d-af3c-4eea-8694-0651a2c8c69e type=ls8_ledaps_scene location=/media/simonaoliver/datacube/input/LordHowe/LC80850822014284-SC20160630032539/agdc-metadata.yaml>\n",
      "2016-11-01 22:47:07,544 datacube.index._datasets \u001b[37mINFO\u001b[0m Indexing 9886d54d-af3c-4eea-8694-0651a2c8c69e\n",
      "2016-11-01 22:47:07,651 datacube-dataset \u001b[37mINFO\u001b[0m Matched Dataset <id=a680a5e5-0894-434f-99d1-c06c217f784f type=ls8_ledaps_scene location=/media/simonaoliver/datacube/input/LordHowe/LC80850822014300-SC20160630034739/agdc-metadata.yaml>\n",
      "2016-11-01 22:47:07,651 datacube.index._datasets \u001b[37mINFO\u001b[0m Indexing a680a5e5-0894-434f-99d1-c06c217f784f\n",
      "2016-11-01 22:47:07,749 datacube-dataset \u001b[37mINFO\u001b[0m Matched Dataset <id=e28b8e68-f35b-4704-bb67-548b04a68a0c type=ls8_ledaps_scene location=/media/simonaoliver/datacube/input/LordHowe/LC80850822014332-SC20160630034246/agdc-metadata.yaml>\n",
      "2016-11-01 22:47:07,750 datacube.index._datasets \u001b[37mINFO\u001b[0m Indexing e28b8e68-f35b-4704-bb67-548b04a68a0c\n",
      "2016-11-01 22:47:07,910 datacube-dataset \u001b[37mINFO\u001b[0m Matched Dataset <id=8bcd3a11-6a8a-410f-9a52-8af918da9a59 type=ls8_ledaps_scene location=/media/simonaoliver/datacube/input/LordHowe/LC80850822014348-SC20160630035025/agdc-metadata.yaml>\n",
      "2016-11-01 22:47:07,911 datacube.index._datasets \u001b[37mINFO\u001b[0m Indexing 8bcd3a11-6a8a-410f-9a52-8af918da9a59\n",
      "2016-11-01 22:47:08,276 datacube-dataset \u001b[37mINFO\u001b[0m Matched Dataset <id=9d183e87-b38a-4c1c-ae65-48884d688f3d type=ls8_ledaps_scene location=/media/simonaoliver/datacube/input/LordHowe/LC80850822014364-SC20160630034422/agdc-metadata.yaml>\n",
      "2016-11-01 22:47:08,278 datacube.index._datasets \u001b[37mINFO\u001b[0m Indexing 9d183e87-b38a-4c1c-ae65-48884d688f3d\n",
      "2016-11-01 22:47:08,486 datacube-dataset \u001b[37mINFO\u001b[0m Matched Dataset <id=5704191c-6895-4e8d-b123-7a212c1e97d4 type=ls8_ledaps_scene location=/media/simonaoliver/datacube/input/LordHowe/LC80850822015015-SC20160630033321/agdc-metadata.yaml>\n",
      "2016-11-01 22:47:08,486 datacube.index._datasets \u001b[37mINFO\u001b[0m Indexing 5704191c-6895-4e8d-b123-7a212c1e97d4\n",
      "2016-11-01 22:47:08,547 datacube-dataset \u001b[37mINFO\u001b[0m Matched Dataset <id=2577feeb-8f5a-4c93-bf1f-f93df810a248 type=ls8_ledaps_scene location=/media/simonaoliver/datacube/input/LordHowe/LC80850822015031-SC20160630032518/agdc-metadata.yaml>\n",
      "2016-11-01 22:47:08,548 datacube.index._datasets \u001b[37mINFO\u001b[0m Indexing 2577feeb-8f5a-4c93-bf1f-f93df810a248\n",
      "2016-11-01 22:47:08,784 datacube-dataset \u001b[37mINFO\u001b[0m Matched Dataset <id=9039c76a-06fc-40da-8693-592a9b85babf type=ls8_ledaps_scene location=/media/simonaoliver/datacube/input/LordHowe/LC80850822015047-SC20160630033909/agdc-metadata.yaml>\n",
      "2016-11-01 22:47:08,786 datacube.index._datasets \u001b[37mINFO\u001b[0m Indexing 9039c76a-06fc-40da-8693-592a9b85babf\n",
      "2016-11-01 22:47:09,028 datacube-dataset \u001b[37mINFO\u001b[0m Matched Dataset <id=33f61730-95b3-4ab1-9fdc-bffe43144017 type=ls8_ledaps_scene location=/media/simonaoliver/datacube/input/LordHowe/LC80850822015063-SC20160630033420/agdc-metadata.yaml>\n",
      "2016-11-01 22:47:09,029 datacube.index._datasets \u001b[37mINFO\u001b[0m Indexing 33f61730-95b3-4ab1-9fdc-bffe43144017\n",
      "2016-11-01 22:47:09,068 datacube-dataset \u001b[37mINFO\u001b[0m Matched Dataset <id=391b1e74-6175-4a2c-afd1-a57f5deff8e4 type=ls8_ledaps_scene location=/media/simonaoliver/datacube/input/LordHowe/LC80850822015079-SC20160630031345/agdc-metadata.yaml>\n",
      "2016-11-01 22:47:09,080 datacube.index._datasets \u001b[37mINFO\u001b[0m Indexing 391b1e74-6175-4a2c-afd1-a57f5deff8e4\n",
      "2016-11-01 22:47:09,103 datacube-dataset \u001b[37mINFO\u001b[0m Matched Dataset <id=f5c9a530-c286-4c6e-a01c-10ead420d3a8 type=ls8_ledaps_scene location=/media/simonaoliver/datacube/input/LordHowe/LC80850822015095-SC20160630031255/agdc-metadata.yaml>\n",
      "2016-11-01 22:47:09,103 datacube.index._datasets \u001b[37mINFO\u001b[0m Indexing f5c9a530-c286-4c6e-a01c-10ead420d3a8\n",
      "2016-11-01 22:47:09,197 datacube-dataset \u001b[37mINFO\u001b[0m Matched Dataset <id=9d2299f5-7797-40b6-a89d-700032232229 type=ls8_ledaps_scene location=/media/simonaoliver/datacube/input/LordHowe/LC80850822015111-SC20160630030959/agdc-metadata.yaml>\n",
      "2016-11-01 22:47:09,198 datacube.index._datasets \u001b[37mINFO\u001b[0m Indexing 9d2299f5-7797-40b6-a89d-700032232229\n",
      "2016-11-01 22:47:09,222 datacube-dataset \u001b[37mINFO\u001b[0m Matched Dataset <id=aef0af5f-87c6-4a8c-b350-c2bfeacb89af type=ls8_ledaps_scene location=/media/simonaoliver/datacube/input/LordHowe/LC80850822015127-SC20160630032501/agdc-metadata.yaml>\n",
      "2016-11-01 22:47:09,222 datacube.index._datasets \u001b[37mINFO\u001b[0m Indexing aef0af5f-87c6-4a8c-b350-c2bfeacb89af\n",
      "2016-11-01 22:47:09,518 datacube-dataset \u001b[37mINFO\u001b[0m Matched Dataset <id=0db7a1a6-15a5-4470-88ce-aff1cf5b5b45 type=ls8_ledaps_scene location=/media/simonaoliver/datacube/input/LordHowe/LC80850822015159-SC20160630032329/agdc-metadata.yaml>\n",
      "2016-11-01 22:47:09,519 datacube.index._datasets \u001b[37mINFO\u001b[0m Indexing 0db7a1a6-15a5-4470-88ce-aff1cf5b5b45\n",
      "2016-11-01 22:47:09,920 datacube-dataset \u001b[37mINFO\u001b[0m Matched Dataset <id=adc5f158-89e4-4d62-b86c-d946c6add07f type=ls8_ledaps_scene location=/media/simonaoliver/datacube/input/LordHowe/LC80850822015175-SC20160630032501/agdc-metadata.yaml>\n",
      "2016-11-01 22:47:09,920 datacube.index._datasets \u001b[37mINFO\u001b[0m Indexing adc5f158-89e4-4d62-b86c-d946c6add07f\n",
      "2016-11-01 22:47:10,023 datacube-dataset \u001b[37mINFO\u001b[0m Matched Dataset <id=3f654e93-588b-4e6e-861e-dab5cb6cf48c type=ls8_ledaps_scene location=/media/simonaoliver/datacube/input/LordHowe/LC80850822015191-SC20160630031022/agdc-metadata.yaml>\n",
      "2016-11-01 22:47:10,024 datacube.index._datasets \u001b[37mINFO\u001b[0m Indexing 3f654e93-588b-4e6e-861e-dab5cb6cf48c\n",
      "2016-11-01 22:47:10,149 datacube-dataset \u001b[37mINFO\u001b[0m Matched Dataset <id=518a8031-d384-4e68-a84d-fd6ece6e7aab type=ls8_ledaps_scene location=/media/simonaoliver/datacube/input/LordHowe/LC80850822015207-SC20160630033918/agdc-metadata.yaml>\n",
      "2016-11-01 22:47:10,150 datacube.index._datasets \u001b[37mINFO\u001b[0m Indexing 518a8031-d384-4e68-a84d-fd6ece6e7aab\n",
      "2016-11-01 22:47:10,255 datacube-dataset \u001b[37mINFO\u001b[0m Matched Dataset <id=9eb80272-a700-4e84-b363-d6f449bba30d type=ls8_ledaps_scene location=/media/simonaoliver/datacube/input/LordHowe/LC80850822015223-SC20160630032539/agdc-metadata.yaml>\n",
      "2016-11-01 22:47:10,255 datacube.index._datasets \u001b[37mINFO\u001b[0m Indexing 9eb80272-a700-4e84-b363-d6f449bba30d\n",
      "2016-11-01 22:47:10,348 datacube-dataset \u001b[37mINFO\u001b[0m Matched Dataset <id=bf2c9562-0802-43f2-9203-dbfcb816417c type=ls8_ledaps_scene location=/media/simonaoliver/datacube/input/LordHowe/LC80850822015239-SC20160630031348/agdc-metadata.yaml>\n",
      "2016-11-01 22:47:10,349 datacube.index._datasets \u001b[37mINFO\u001b[0m Indexing bf2c9562-0802-43f2-9203-dbfcb816417c\n",
      "2016-11-01 22:47:10,550 datacube-dataset \u001b[37mINFO\u001b[0m Matched Dataset <id=b9c288bb-f33a-4ce3-b7b7-dd7c3fca4df9 type=ls8_ledaps_scene location=/media/simonaoliver/datacube/input/LordHowe/LC80850822015255-SC20160630033315/agdc-metadata.yaml>\n",
      "2016-11-01 22:47:10,551 datacube.index._datasets \u001b[37mINFO\u001b[0m Indexing b9c288bb-f33a-4ce3-b7b7-dd7c3fca4df9\n",
      "2016-11-01 22:47:10,661 datacube-dataset \u001b[37mINFO\u001b[0m Matched Dataset <id=d49b8d6d-2400-468e-9b25-4cbffef5f666 type=ls8_ledaps_scene location=/media/simonaoliver/datacube/input/LordHowe/LC80850822015271-SC20160630033921/agdc-metadata.yaml>\n",
      "2016-11-01 22:47:10,661 datacube.index._datasets \u001b[37mINFO\u001b[0m Indexing d49b8d6d-2400-468e-9b25-4cbffef5f666\n",
      "2016-11-01 22:47:10,757 datacube-dataset \u001b[37mINFO\u001b[0m Matched Dataset <id=f42fee07-fe39-4d33-8c84-b14475475d31 type=ls8_ledaps_scene location=/media/simonaoliver/datacube/input/LordHowe/LC80850822015287-SC20160630034605/agdc-metadata.yaml>\n",
      "2016-11-01 22:47:10,757 datacube.index._datasets \u001b[37mINFO\u001b[0m Indexing f42fee07-fe39-4d33-8c84-b14475475d31\n",
      "2016-11-01 22:47:10,779 datacube-dataset \u001b[37mINFO\u001b[0m Matched Dataset <id=3faa98ba-5fd2-4e42-b0be-8f8e5954571b type=ls8_ledaps_scene location=/media/simonaoliver/datacube/input/LordHowe/LC80850822015303-SC20160630034525/agdc-metadata.yaml>\n",
      "2016-11-01 22:47:10,779 datacube.index._datasets \u001b[37mINFO\u001b[0m Indexing 3faa98ba-5fd2-4e42-b0be-8f8e5954571b\n",
      "2016-11-01 22:47:10,862 datacube-dataset \u001b[37mINFO\u001b[0m Matched Dataset <id=0780e450-6e33-4f85-abba-5c9ad9f2e4e3 type=ls8_ledaps_scene location=/media/simonaoliver/datacube/input/LordHowe/LC80850822015319-SC20160630034735/agdc-metadata.yaml>\n",
      "2016-11-01 22:47:10,863 datacube.index._datasets \u001b[37mINFO\u001b[0m Indexing 0780e450-6e33-4f85-abba-5c9ad9f2e4e3\n",
      "2016-11-01 22:47:10,953 datacube-dataset \u001b[37mINFO\u001b[0m Matched Dataset <id=3995515f-203c-4fbf-ac24-2767874a35a7 type=ls8_ledaps_scene location=/media/simonaoliver/datacube/input/LordHowe/LC80850822015335-SC20160630033810/agdc-metadata.yaml>\n",
      "2016-11-01 22:47:10,954 datacube.index._datasets \u001b[37mINFO\u001b[0m Indexing 3995515f-203c-4fbf-ac24-2767874a35a7\n",
      "2016-11-01 22:47:10,976 datacube-dataset \u001b[37mINFO\u001b[0m Matched Dataset <id=5fb2c013-65d9-4279-bc64-4e871b7d6973 type=ls8_ledaps_scene location=/media/simonaoliver/datacube/input/LordHowe/LC80850822015351-SC20160630034351/agdc-metadata.yaml>\n",
      "2016-11-01 22:47:10,976 datacube.index._datasets \u001b[37mINFO\u001b[0m Indexing 5fb2c013-65d9-4279-bc64-4e871b7d6973\n",
      "2016-11-01 22:47:11,070 datacube-dataset \u001b[37mINFO\u001b[0m Matched Dataset <id=19cc9360-8118-4baf-bf9d-a692fc8ccc91 type=ls8_ledaps_scene location=/media/simonaoliver/datacube/input/LordHowe/LC80850822016002-SC20160630033736/agdc-metadata.yaml>\n",
      "2016-11-01 22:47:11,070 datacube.index._datasets \u001b[37mINFO\u001b[0m Indexing 19cc9360-8118-4baf-bf9d-a692fc8ccc91\n",
      "2016-11-01 22:47:11,092 datacube-dataset \u001b[37mINFO\u001b[0m Matched Dataset <id=339a8fa3-7c2c-41a5-bda5-cd94aae10ff2 type=ls8_ledaps_scene location=/media/simonaoliver/datacube/input/LordHowe/LC80850822016018-SC20160630033340/agdc-metadata.yaml>\n",
      "2016-11-01 22:47:11,093 datacube.index._datasets \u001b[37mINFO\u001b[0m Indexing 339a8fa3-7c2c-41a5-bda5-cd94aae10ff2\n",
      "2016-11-01 22:47:11,189 datacube-dataset \u001b[37mINFO\u001b[0m Matched Dataset <id=ed4fff24-c6a0-4a78-a6c9-7a847bbd3d96 type=ls8_ledaps_scene location=/media/simonaoliver/datacube/input/LordHowe/LC80850822016034-SC20160630033548/agdc-metadata.yaml>\n",
      "2016-11-01 22:47:11,190 datacube.index._datasets \u001b[37mINFO\u001b[0m Indexing ed4fff24-c6a0-4a78-a6c9-7a847bbd3d96\n",
      "2016-11-01 22:47:11,283 datacube-dataset \u001b[37mINFO\u001b[0m Matched Dataset <id=84b49f6c-b00f-413b-b937-d3ad6ddb5511 type=ls8_ledaps_scene location=/media/simonaoliver/datacube/input/LordHowe/LC80850822016066-SC20160630033003/agdc-metadata.yaml>\n",
      "2016-11-01 22:47:11,283 datacube.index._datasets \u001b[37mINFO\u001b[0m Indexing 84b49f6c-b00f-413b-b937-d3ad6ddb5511\n",
      "2016-11-01 22:47:11,372 datacube-dataset \u001b[37mINFO\u001b[0m Matched Dataset <id=ac46f004-4649-4c1f-befb-87bd0dd1eac9 type=ls8_ledaps_scene location=/media/simonaoliver/datacube/input/LordHowe/LC80850822016082-SC20160630032804/agdc-metadata.yaml>\n",
      "2016-11-01 22:47:11,372 datacube.index._datasets \u001b[37mINFO\u001b[0m Indexing ac46f004-4649-4c1f-befb-87bd0dd1eac9\n",
      "2016-11-01 22:47:11,393 datacube-dataset \u001b[37mINFO\u001b[0m Matched Dataset <id=3d9f7d28-a7bd-4dbd-ac11-229f426655f9 type=ls8_ledaps_scene location=/media/simonaoliver/datacube/input/LordHowe/LC80850822016114-SC20160630032117/agdc-metadata.yaml>\n",
      "2016-11-01 22:47:11,394 datacube.index._datasets \u001b[37mINFO\u001b[0m Indexing 3d9f7d28-a7bd-4dbd-ac11-229f426655f9\n",
      "2016-11-01 22:47:11,486 datacube-dataset \u001b[37mINFO\u001b[0m Matched Dataset <id=b32d9423-3c2d-4b6f-b9d2-5e966853d5df type=ls8_ledaps_scene location=/media/simonaoliver/datacube/input/LordHowe/LC80850822016130-SC20160630032956/agdc-metadata.yaml>\n",
      "2016-11-01 22:47:11,487 datacube.index._datasets \u001b[37mINFO\u001b[0m Indexing b32d9423-3c2d-4b6f-b9d2-5e966853d5df\n",
      "2016-11-01 22:47:11,582 datacube-dataset \u001b[37mINFO\u001b[0m Matched Dataset <id=7e8678c1-6edd-4107-bff3-00146a710447 type=ls8_ledaps_scene location=/media/simonaoliver/datacube/input/LordHowe/LC80850822016146-SC20160630033032/agdc-metadata.yaml>\n",
      "2016-11-01 22:47:11,582 datacube.index._datasets \u001b[37mINFO\u001b[0m Indexing 7e8678c1-6edd-4107-bff3-00146a710447\n",
      "2016-11-01 22:47:11,610 datacube-dataset \u001b[37mINFO\u001b[0m Matched Dataset <id=24402377-69ab-4891-bab9-355e4f04385f type=ls8_ledaps_scene location=/media/simonaoliver/datacube/input/LordHowe/LC80850822016162-SC20160630034247/agdc-metadata.yaml>\n",
      "2016-11-01 22:47:11,610 datacube.index._datasets \u001b[37mINFO\u001b[0m Indexing 24402377-69ab-4891-bab9-355e4f04385f\n",
      "2016-11-01 22:47:11,700 datacube-dataset \u001b[37mINFO\u001b[0m Matched Dataset <id=1e6caf0e-8cc5-49a5-881c-124bf2d07d8d type=ls8_ledaps_scene location=/media/simonaoliver/datacube/input/LordHowe/LC80850822016178-SC20160703095741/agdc-metadata.yaml>\n",
      "2016-11-01 22:47:11,700 datacube.index._datasets \u001b[37mINFO\u001b[0m Indexing 1e6caf0e-8cc5-49a5-881c-124bf2d07d8d\n"
     ]
    }
   ],
   "source": [
    "!datacube -v dataset add $ls8ledapsscene --auto-match"
   ]
  },
  {
   "cell_type": "code",
   "execution_count": 2,
   "metadata": {
    "collapsed": true
   },
   "outputs": [],
   "source": [
    "nbarscenes = '/media/simonaoliver/datacube/input/GA_v2_LandsatNBAR/LS7_ETM_NBAR_P54_GANBAR01-002_090_084_20151212/ga-metadata.yaml'\n",
    "nbartscenes = '/media/simonaoliver/datacube/input/GA_v2_LandsatNBAR/LS7_ETM_NBART_P54_GANBART01-002_090_084_20151212/ga-metadata.yaml'\n",
    "pqscenes = '/media/simonaoliver/datacube/input/GA_v2_LandsatNBAR/LS5_TM_PQ_P55_GAPQ01-002_090_084_20110107/ga-metadata.yaml'\n",
    "ls5ledapsscene = '/media/simonaoliver/datacube/input/USGS_LandsatLEDAPS/LT50960852011290-SC20160211221617/agdc-metadata.yaml'\n",
    "ls7ledapsscene = '/media/simonaoliver/datacube/input/USGS_LandsatLEDAPS/LE70960852016024-SC20160211221824/agdc-metadata.yaml'\n",
    "ls8ledapsscene = '/media/simonaoliver/datacube/input/USGS_LandsatLEDAPS/LC80960852015365-SC20160211222236/agdc-metadata.yaml'\n",
    "s2agranules = '/home/simonaoliver/data/S2A_OPER_PRD_MSIL1C_PDMC_20151205T075851_R073_V20151205T001643_20151205T001643.SAFE/agdc-metadata.yaml'\n",
    "modistiles = '/media/simonaoliver/datacube/input/USGS_MODIS/'\n",
    "h8granules = '/media/simonaoliver/datacube/input/H8/2015/12/05/0710/'"
   ]
  },
  {
   "cell_type": "code",
   "execution_count": 11,
   "metadata": {
    "collapsed": false
   },
   "outputs": [
    {
     "name": "stdout",
     "output_type": "stream",
     "text": [
      "2016-11-01 22:47:22,185 datacube \u001b[37mINFO\u001b[0m Running datacube command: /home/simonaoliver/venvs/agdc-v2/bin/datacube -v dataset add /media/simonaoliver/datacube/input/H8/2015/12/05/0710/ --auto-match\n",
      "2016-11-01 22:47:22,685 datacube-dataset \u001b[37mINFO\u001b[0m Matched Dataset <id=fae7f58d-3ca2-4523-ac47-0e0c4ff6b911 type=h8_ahi_brf_granule location=/media/simonaoliver/datacube/input/H8/2015/12/05/0710/agdc-metadata.yaml>\n",
      "2016-11-01 22:47:22,686 datacube.index._datasets \u001b[37mINFO\u001b[0m Indexing 1ece5f9e-0aaf-4357-a65a-12b649d600b3\n",
      "2016-11-01 22:47:22,715 datacube.index._datasets \u001b[37mINFO\u001b[0m Indexing 9e75a2d5-0101-4082-b45e-f38d764d01c7\n",
      "2016-11-01 22:47:22,802 datacube.index._datasets \u001b[37mINFO\u001b[0m Indexing fae7f58d-3ca2-4523-ac47-0e0c4ff6b911\n"
     ]
    }
   ],
   "source": [
    "!datacube -v dataset add $h8granules --auto-match"
   ]
  },
  {
   "cell_type": "code",
   "execution_count": 8,
   "metadata": {
    "collapsed": false
   },
   "outputs": [
    {
     "name": "stdout",
     "output_type": "stream",
     "text": [
      "2016-11-11 10:43:08,380 datacube \u001b[37mINFO\u001b[0m Running datacube command: /home/simonaoliver/venvs/agdc-v2/bin/datacube -v dataset add /media/simonaoliver/datacube/input/USGS_MODIS/MCD43A4.006.yaml --auto-match\n",
      "2016-11-11 10:43:08,890 datacube-dataset \u001b[37mINFO\u001b[0m Matched Dataset <id=98335178-34aa-40b0-8944-75334aba3d37 type=modis_mcd43a4_tile location=/media/simonaoliver/datacube/input/USGS_MODIS/MCD43A4.006.yaml>\n",
      "2016-11-11 10:43:08,891 datacube.index._datasets \u001b[37mINFO\u001b[0m Indexing 98335178-34aa-40b0-8944-75334aba3d37\n",
      "2016-11-11 10:43:09,218 datacube-dataset \u001b[37mINFO\u001b[0m Matched Dataset <id=bfa812e4-c04c-46d3-ad47-63465dca5fe0 type=modis_mcd43a4_tile location=/media/simonaoliver/datacube/input/USGS_MODIS/MCD43A4.006.yaml>\n",
      "2016-11-11 10:43:09,219 datacube.index._datasets \u001b[37mINFO\u001b[0m Indexing bfa812e4-c04c-46d3-ad47-63465dca5fe0\n",
      "2016-11-11 10:43:09,490 datacube-dataset \u001b[37mINFO\u001b[0m Matched Dataset <id=a3808bd7-03c2-4136-bbff-4f7ca7e18a35 type=modis_mcd43a4_tile location=/media/simonaoliver/datacube/input/USGS_MODIS/MCD43A4.006.yaml>\n",
      "2016-11-11 10:43:09,493 datacube.index._datasets \u001b[37mINFO\u001b[0m Indexing a3808bd7-03c2-4136-bbff-4f7ca7e18a35\n",
      "2016-11-11 10:43:09,538 datacube-dataset \u001b[37mINFO\u001b[0m Matched Dataset <id=5fa33c15-945c-4fa5-a706-5e1d6def4171 type=modis_mcd43a4_tile location=/media/simonaoliver/datacube/input/USGS_MODIS/MCD43A4.006.yaml>\n",
      "2016-11-11 10:43:09,539 datacube.index._datasets \u001b[37mINFO\u001b[0m Indexing 5fa33c15-945c-4fa5-a706-5e1d6def4171\n"
     ]
    }
   ],
   "source": [
    "!datacube -v dataset add '/media/simonaoliver/datacube/input/USGS_MODIS/MCD43A4.006.yaml' --auto-match"
   ]
  },
  {
   "cell_type": "code",
   "execution_count": 3,
   "metadata": {
    "collapsed": false
   },
   "outputs": [
    {
     "name": "stdout",
     "output_type": "stream",
     "text": [
      "2016-11-11 10:00:05,204 datacube \u001b[37mINFO\u001b[0m Running datacube command: /home/simonaoliver/venvs/agdc-v2/bin/datacube -v dataset add /media/simonaoliver/datacube/input/USGS_MODIS/MCD43A3.006.yaml --auto-match\n",
      "2016-11-11 10:00:05,618 datacube-dataset \u001b[37mINFO\u001b[0m Matched Dataset <id=6a4d1098-b002-4488-ba3f-499d4f649c1a type=modis_mcd43a3_tile location=/media/simonaoliver/datacube/input/USGS_MODIS/MCD43A3.006.yaml>\n",
      "2016-11-11 10:00:05,619 datacube.index._datasets \u001b[37mINFO\u001b[0m Indexing 6a4d1098-b002-4488-ba3f-499d4f649c1a\n",
      "2016-11-11 10:00:05,814 datacube-dataset \u001b[37mINFO\u001b[0m Matched Dataset <id=27af8889-d52e-42b5-89e1-6ea73d7bcd86 type=modis_mcd43a3_tile location=/media/simonaoliver/datacube/input/USGS_MODIS/MCD43A3.006.yaml>\n",
      "2016-11-11 10:00:05,815 datacube.index._datasets \u001b[37mINFO\u001b[0m Indexing 27af8889-d52e-42b5-89e1-6ea73d7bcd86\n"
     ]
    }
   ],
   "source": [
    "!datacube -v dataset add '/media/simonaoliver/datacube/input/USGS_MODIS/MCD43A3.006.yaml' --auto-match"
   ]
  },
  {
   "cell_type": "code",
   "execution_count": 6,
   "metadata": {
    "collapsed": false
   },
   "outputs": [
    {
     "name": "stdout",
     "output_type": "stream",
     "text": [
      "2016-11-11 10:31:17,049 datacube \u001b[37mINFO\u001b[0m Running datacube command: /home/simonaoliver/venvs/agdc-v2/bin/datacube -v dataset add /media/simonaoliver/datacube/input/USGS_MODIS/MCD43A2.006.yaml --auto-match\n",
      "2016-11-11 10:31:17,677 datacube-dataset \u001b[37mINFO\u001b[0m Matched Dataset <id=89318407-c645-4b4b-a5fe-3591b1347af5 type=modis_mcd43a2_tile location=/media/simonaoliver/datacube/input/USGS_MODIS/MCD43A2.006.yaml>\n",
      "2016-11-11 10:31:17,679 datacube.index._datasets \u001b[37mINFO\u001b[0m Indexing 89318407-c645-4b4b-a5fe-3591b1347af5\n",
      "2016-11-11 10:31:17,880 datacube-dataset \u001b[37mINFO\u001b[0m Matched Dataset <id=e9e168de-06cd-4b7d-a552-152d0d21bdc2 type=modis_mcd43a2_tile location=/media/simonaoliver/datacube/input/USGS_MODIS/MCD43A2.006.yaml>\n",
      "2016-11-11 10:31:17,881 datacube.index._datasets \u001b[37mINFO\u001b[0m Indexing e9e168de-06cd-4b7d-a552-152d0d21bdc2\n",
      "2016-11-11 10:31:18,107 datacube-dataset \u001b[37mINFO\u001b[0m Matched Dataset <id=5c21ce32-331e-4cfe-9b45-151d1da6b11b type=modis_mcd43a2_tile location=/media/simonaoliver/datacube/input/USGS_MODIS/MCD43A2.006.yaml>\n",
      "2016-11-11 10:31:18,107 datacube.index._datasets \u001b[37mINFO\u001b[0m Indexing 5c21ce32-331e-4cfe-9b45-151d1da6b11b\n",
      "2016-11-11 10:31:18,239 datacube-dataset \u001b[37mINFO\u001b[0m Matched Dataset <id=d4e4ad24-8371-4459-aa7b-c57e0c3aa18a type=modis_mcd43a2_tile location=/media/simonaoliver/datacube/input/USGS_MODIS/MCD43A2.006.yaml>\n",
      "2016-11-11 10:31:18,240 datacube.index._datasets \u001b[37mINFO\u001b[0m Indexing d4e4ad24-8371-4459-aa7b-c57e0c3aa18a\n"
     ]
    }
   ],
   "source": [
    "!datacube -v dataset add '/media/simonaoliver/datacube/input/USGS_MODIS/MCD43A2.006.yaml' --auto-match"
   ]
  },
  {
   "cell_type": "code",
   "execution_count": 5,
   "metadata": {
    "collapsed": false
   },
   "outputs": [
    {
     "name": "stdout",
     "output_type": "stream",
     "text": [
      "2016-11-11 10:00:12,080 datacube \u001b[37mINFO\u001b[0m Running datacube command: /home/simonaoliver/venvs/agdc-v2/bin/datacube -v dataset add /media/simonaoliver/datacube/input/USGS_MODIS/MCD43A1.006.yaml --auto-match\n",
      "2016-11-11 10:00:12,250 datacube-dataset \u001b[37mINFO\u001b[0m Matched Dataset <id=b57dc801-6ae2-48c2-8825-dfafbf410a63 type=modis_mcd43a1_tile location=/media/simonaoliver/datacube/input/USGS_MODIS/MCD43A1.006.yaml>\n",
      "2016-11-11 10:00:12,251 datacube.index._datasets \u001b[37mINFO\u001b[0m Indexing b57dc801-6ae2-48c2-8825-dfafbf410a63\n",
      "2016-11-11 10:00:12,319 datacube-dataset \u001b[37mINFO\u001b[0m Matched Dataset <id=4edde6fa-ee1e-4606-b564-419191455265 type=modis_mcd43a1_tile location=/media/simonaoliver/datacube/input/USGS_MODIS/MCD43A1.006.yaml>\n",
      "2016-11-11 10:00:12,319 datacube.index._datasets \u001b[37mINFO\u001b[0m Indexing 4edde6fa-ee1e-4606-b564-419191455265\n",
      "2016-11-11 10:00:12,375 datacube-dataset \u001b[37mINFO\u001b[0m Matched Dataset <id=9d46e5e7-a115-486b-b5e6-3ee8da8b4c38 type=modis_mcd43a1_tile location=/media/simonaoliver/datacube/input/USGS_MODIS/MCD43A1.006.yaml>\n",
      "2016-11-11 10:00:12,376 datacube.index._datasets \u001b[37mINFO\u001b[0m Indexing 9d46e5e7-a115-486b-b5e6-3ee8da8b4c38\n",
      "2016-11-11 10:00:12,403 datacube-dataset \u001b[37mINFO\u001b[0m Matched Dataset <id=2232cb81-becf-41e0-a72a-7c8ca0def577 type=modis_mcd43a1_tile location=/media/simonaoliver/datacube/input/USGS_MODIS/MCD43A1.006.yaml>\n",
      "2016-11-11 10:00:12,403 datacube.index._datasets \u001b[37mINFO\u001b[0m Indexing 2232cb81-becf-41e0-a72a-7c8ca0def577\n",
      "2016-11-11 10:00:12,492 datacube-dataset \u001b[37mINFO\u001b[0m Matched Dataset <id=9dbf00f4-7148-4ef7-827d-4303603248be type=modis_mcd43a1_tile location=/media/simonaoliver/datacube/input/USGS_MODIS/MCD43A1.006.yaml>\n",
      "2016-11-11 10:00:12,492 datacube.index._datasets \u001b[37mINFO\u001b[0m Indexing 9dbf00f4-7148-4ef7-827d-4303603248be\n",
      "2016-11-11 10:00:12,664 datacube-dataset \u001b[37mINFO\u001b[0m Matched Dataset <id=1de88659-59fa-4c45-8cda-132e274f48dc type=modis_mcd43a1_tile location=/media/simonaoliver/datacube/input/USGS_MODIS/MCD43A1.006.yaml>\n",
      "2016-11-11 10:00:12,664 datacube.index._datasets \u001b[37mINFO\u001b[0m Indexing 1de88659-59fa-4c45-8cda-132e274f48dc\n",
      "2016-11-11 10:00:12,690 datacube-dataset \u001b[37mINFO\u001b[0m Matched Dataset <id=0aba91d8-34e7-4487-b1b1-843babdb303f type=modis_mcd43a1_tile location=/media/simonaoliver/datacube/input/USGS_MODIS/MCD43A1.006.yaml>\n",
      "2016-11-11 10:00:12,691 datacube.index._datasets \u001b[37mINFO\u001b[0m Indexing 0aba91d8-34e7-4487-b1b1-843babdb303f\n",
      "2016-11-11 10:00:12,785 datacube-dataset \u001b[37mINFO\u001b[0m Matched Dataset <id=c5695b29-1ac4-40bd-a4c7-1a46d77f6bb1 type=modis_mcd43a1_tile location=/media/simonaoliver/datacube/input/USGS_MODIS/MCD43A1.006.yaml>\n",
      "2016-11-11 10:00:12,785 datacube.index._datasets \u001b[37mINFO\u001b[0m Indexing c5695b29-1ac4-40bd-a4c7-1a46d77f6bb1\n",
      "2016-11-11 10:00:12,817 datacube-dataset \u001b[37mINFO\u001b[0m Matched Dataset <id=a840e656-4708-4494-a18e-010dcabb0a38 type=modis_mcd43a1_tile location=/media/simonaoliver/datacube/input/USGS_MODIS/MCD43A1.006.yaml>\n",
      "2016-11-11 10:00:12,817 datacube.index._datasets \u001b[37mINFO\u001b[0m Indexing a840e656-4708-4494-a18e-010dcabb0a38\n",
      "2016-11-11 10:00:12,894 datacube-dataset \u001b[37mINFO\u001b[0m Matched Dataset <id=4737979f-19a6-46b6-89c3-52325d437591 type=modis_mcd43a1_tile location=/media/simonaoliver/datacube/input/USGS_MODIS/MCD43A1.006.yaml>\n",
      "2016-11-11 10:00:12,895 datacube.index._datasets \u001b[37mINFO\u001b[0m Indexing 4737979f-19a6-46b6-89c3-52325d437591\n"
     ]
    }
   ],
   "source": [
    "!datacube -v dataset add '/media/simonaoliver/datacube/input/USGS_MODIS/MCD43A1.006.yaml' --auto-match"
   ]
  },
  {
   "cell_type": "code",
   "execution_count": 11,
   "metadata": {
    "collapsed": false
   },
   "outputs": [
    {
     "name": "stdout",
     "output_type": "stream",
     "text": [
      "2016-11-10 16:59:36,434 datacube \u001b[37mINFO\u001b[0m Running datacube command: /home/simonaoliver/venvs/py35/bin/datacube -v dataset add --auto-match\r\n"
     ]
    }
   ],
   "source": [
    "!datacube -v dataset add $modistiles --auto-match"
   ]
  },
  {
   "cell_type": "code",
   "execution_count": 3,
   "metadata": {
    "collapsed": false
   },
   "outputs": [
    {
     "name": "stdout",
     "output_type": "stream",
     "text": [
      "2016-11-24 18:09:29,492 datacube \u001b[37mINFO\u001b[0m Running datacube command: /home/simonaoliver/miniconda2/envs/py35/bin/datacube -v dataset add /home/simonaoliver/data/S2A_OPER_PRD_MSIL1C_PDMC_20151205T075851_R073_V20151205T001643_20151205T001643.SAFE/agdc-metadata.yaml --auto-match\n",
      "2016-11-24 18:09:30,186 datacube-dataset \u001b[37mINFO\u001b[0m Matched Dataset <id=bc3c5a40-ed4f-4bee-85df-38e1a0f32587 type=s2a_level1c_granule location=/home/simonaoliver/data/S2A_OPER_PRD_MSIL1C_PDMC_20151205T075851_R073_V20151205T001643_20151205T001643.SAFE/agdc-metadata.yaml>\n",
      "2016-11-24 18:09:30,207 datacube.index._datasets \u001b[37mINFO\u001b[0m Indexing bc3c5a40-ed4f-4bee-85df-38e1a0f32587\n",
      "2016-11-24 18:09:30,649 datacube-dataset \u001b[37mINFO\u001b[0m Matched Dataset <id=4e089df2-f584-41f8-ab42-6d94743f04d6 type=s2a_level1c_granule location=/home/simonaoliver/data/S2A_OPER_PRD_MSIL1C_PDMC_20151205T075851_R073_V20151205T001643_20151205T001643.SAFE/agdc-metadata.yaml>\n",
      "2016-11-24 18:09:30,651 datacube.index._datasets \u001b[37mINFO\u001b[0m Indexing 4e089df2-f584-41f8-ab42-6d94743f04d6\n",
      "2016-11-24 18:09:30,731 datacube-dataset \u001b[37mINFO\u001b[0m Matched Dataset <id=10058794-9393-4925-851d-6d9800a81095 type=s2a_level1c_granule location=/home/simonaoliver/data/S2A_OPER_PRD_MSIL1C_PDMC_20151205T075851_R073_V20151205T001643_20151205T001643.SAFE/agdc-metadata.yaml>\n",
      "2016-11-24 18:09:30,734 datacube.index._datasets \u001b[37mINFO\u001b[0m Indexing 10058794-9393-4925-851d-6d9800a81095\n",
      "2016-11-24 18:09:30,870 datacube-dataset \u001b[37mINFO\u001b[0m Matched Dataset <id=353ecfae-f19b-49ea-844b-fa52325bf127 type=s2a_level1c_granule location=/home/simonaoliver/data/S2A_OPER_PRD_MSIL1C_PDMC_20151205T075851_R073_V20151205T001643_20151205T001643.SAFE/agdc-metadata.yaml>\n",
      "2016-11-24 18:09:30,871 datacube.index._datasets \u001b[37mINFO\u001b[0m Indexing 353ecfae-f19b-49ea-844b-fa52325bf127\n"
     ]
    }
   ],
   "source": [
    "!datacube -v dataset add $s2agranules --auto-match"
   ]
  },
  {
   "cell_type": "code",
   "execution_count": 14,
   "metadata": {
    "collapsed": false
   },
   "outputs": [
    {
     "name": "stdout",
     "output_type": "stream",
     "text": [
      "2016-11-01 22:49:17,364 datacube \u001b[37mINFO\u001b[0m Running datacube command: /home/simonaoliver/venvs/agdc-v2/bin/datacube -v ingest --config-file /home/simonaoliver/code/agdc-v2/docs/config_samples/ingester/mcd43a1_sinusoidal.yaml\n",
      "2016-11-01 22:49:17,454 agdc-ingest \u001b[37mINFO\u001b[0m Created DatasetType modis_mcd43a1_sinusoidal\n",
      "2016-11-01 22:49:17,475 datacube.index.postgres._dynamic \u001b[37mINFO\u001b[0m Creating index: dix_modis_mcd43a1_sinusoidal_lat_lon_time\n",
      "2016-11-01 22:49:17,519 datacube.index.postgres._dynamic \u001b[37mINFO\u001b[0m Creating index: dix_modis_mcd43a1_sinusoidal_time_lat_lon\n",
      "2016-11-01 22:49:17,530 datacube.index.postgres._dynamic \u001b[37mINFO\u001b[0m Creating index: dix_modis_mcd43a1_sinusoidal_sat_path_sat_row_time\n",
      "2016-11-01 22:49:17,614 datacube.index.postgres._dynamic \u001b[37mINFO\u001b[0m Creating index: dix_modis_mcd43a1_sinusoidal_orbit\n",
      "2016-11-01 22:49:17,624 datacube.index.postgres._dynamic \u001b[37mINFO\u001b[0m Creating index: dix_modis_mcd43a1_sinusoidal_gsi\n",
      "2016-11-01 22:49:18,061 agdc-ingest \u001b[37mINFO\u001b[0m 4 tasks discovered\n",
      "2016-11-01 22:49:18,089 agdc-ingest \u001b[37mINFO\u001b[0m Submitting task: (10, -3, numpy.datetime64('2000-03-04T23:59:59.999999000'))\n",
      "2016-11-01 22:49:18,089 agdc-ingest \u001b[37mINFO\u001b[0m Submitting task: (10, -4, numpy.datetime64('2000-03-04T23:59:59.999999000'))\n",
      "2016-11-01 22:49:18,090 agdc-ingest \u001b[37mINFO\u001b[0m Submitting task: (11, -4, numpy.datetime64('2000-03-04T23:59:59.999999000'))\n",
      "2016-11-01 22:49:18,090 agdc-ingest \u001b[37mINFO\u001b[0m Submitting task: (11, -3, numpy.datetime64('2000-03-04T23:59:59.999999000'))\n",
      "2016-11-01 22:49:18,090 agdc-ingest \u001b[37mINFO\u001b[0m Starting task (10, -3, numpy.datetime64('2000-03-04T23:59:59.999999000'))\n",
      "2016-11-01 22:51:00,548 datacube.storage.storage \u001b[37mINFO\u001b[0m Creating storage unit: /media/simonaoliver/datacube/tiles/MCD43A1/MCD43A1_500_sinusoidal_10_-3_20000304235959999999.nc\n",
      "2016-11-01 22:51:10,512 agdc-ingest \u001b[37mINFO\u001b[0m Finished task (10, -3, numpy.datetime64('2000-03-04T23:59:59.999999000'))\n",
      "2016-11-01 22:51:10,514 agdc-ingest \u001b[37mINFO\u001b[0m completed 1, failed 0, pending 3\n",
      "2016-11-01 22:51:10,514 datacube.index._datasets \u001b[37mINFO\u001b[0m Indexing d42f6b65-ae21-4503-9673-8374ef670e94\n",
      "2016-11-01 22:51:10,639 agdc-ingest \u001b[37mINFO\u001b[0m Starting task (10, -4, numpy.datetime64('2000-03-04T23:59:59.999999000'))\n",
      "2016-11-01 22:54:42,486 datacube.storage.storage \u001b[37mINFO\u001b[0m Creating storage unit: /media/simonaoliver/datacube/tiles/MCD43A1/MCD43A1_500_sinusoidal_10_-4_20000304235959999999.nc\n",
      "2016-11-01 22:54:57,003 agdc-ingest \u001b[37mINFO\u001b[0m Finished task (10, -4, numpy.datetime64('2000-03-04T23:59:59.999999000'))\n",
      "2016-11-01 22:54:57,003 agdc-ingest \u001b[37mINFO\u001b[0m completed 1, failed 0, pending 2\n",
      "2016-11-01 22:54:57,004 datacube.index._datasets \u001b[37mINFO\u001b[0m Indexing 9acf61ec-3fa5-4921-855f-7efeefbbd9e6\n",
      "2016-11-01 22:54:57,105 agdc-ingest \u001b[37mINFO\u001b[0m Starting task (11, -4, numpy.datetime64('2000-03-04T23:59:59.999999000'))\n",
      "2016-11-01 22:57:43,161 datacube.storage.storage \u001b[37mINFO\u001b[0m Creating storage unit: /media/simonaoliver/datacube/tiles/MCD43A1/MCD43A1_500_sinusoidal_11_-4_20000304235959999999.nc\n",
      "2016-11-01 22:57:47,920 agdc-ingest \u001b[37mINFO\u001b[0m Finished task (11, -4, numpy.datetime64('2000-03-04T23:59:59.999999000'))\n",
      "2016-11-01 22:57:47,923 agdc-ingest \u001b[37mINFO\u001b[0m completed 1, failed 0, pending 1\n",
      "2016-11-01 22:57:47,924 datacube.index._datasets \u001b[37mINFO\u001b[0m Indexing 8838f596-23cf-462f-9dfc-d2499cf31547\n",
      "2016-11-01 22:57:48,390 agdc-ingest \u001b[37mINFO\u001b[0m Starting task (11, -3, numpy.datetime64('2000-03-04T23:59:59.999999000'))\n",
      "2016-11-01 22:59:01,688 datacube.storage.storage \u001b[37mINFO\u001b[0m Creating storage unit: /media/simonaoliver/datacube/tiles/MCD43A1/MCD43A1_500_sinusoidal_11_-3_20000304235959999999.nc\n",
      "2016-11-01 22:59:09,591 agdc-ingest \u001b[37mINFO\u001b[0m Finished task (11, -3, numpy.datetime64('2000-03-04T23:59:59.999999000'))\n",
      "2016-11-01 22:59:09,592 agdc-ingest \u001b[37mINFO\u001b[0m completed 1, failed 0, pending 0\n",
      "2016-11-01 22:59:09,592 datacube.index._datasets \u001b[37mINFO\u001b[0m Indexing cea27a32-3790-43cf-84cc-16a6f497903a\n",
      "4 successful, 0 failed\n"
     ]
    }
   ],
   "source": [
    "# Not required unless you want to create NetCDF formatted data \n",
    "# - then maybe it's a reformatting exercise rather than a NetCDF ingestion\n",
    "modis_ingester = '/home/simonaoliver/code/agdc-v2/docs/config_samples/ingester/mcd43a1_sinusoidal.yaml'\n",
    "!datacube -v ingest --config-file $modis_ingester"
   ]
  },
  {
   "cell_type": "code",
   "execution_count": 15,
   "metadata": {
    "collapsed": false
   },
   "outputs": [
    {
     "name": "stdout",
     "output_type": "stream",
     "text": [
      "2016-11-01 22:59:16,978 datacube \u001b[37mINFO\u001b[0m Running datacube command: /home/simonaoliver/venvs/agdc-v2/bin/datacube -v ingest --config-file /home/simonaoliver/code/agdc-v2/docs/config_samples/ingester/mcd43a2_sinusoidal.yaml\n",
      "2016-11-01 22:59:17,272 agdc-ingest \u001b[37mINFO\u001b[0m Created DatasetType modis_mcd43a2_sinusoidal\n",
      "2016-11-01 22:59:17,596 datacube.index.postgres._dynamic \u001b[37mINFO\u001b[0m Creating index: dix_modis_mcd43a2_sinusoidal_lat_lon_time\n",
      "2016-11-01 22:59:17,620 datacube.index.postgres._dynamic \u001b[37mINFO\u001b[0m Creating index: dix_modis_mcd43a2_sinusoidal_time_lat_lon\n",
      "2016-11-01 22:59:17,627 datacube.index.postgres._dynamic \u001b[37mINFO\u001b[0m Creating index: dix_modis_mcd43a2_sinusoidal_sat_path_sat_row_time\n",
      "2016-11-01 22:59:17,641 datacube.index.postgres._dynamic \u001b[37mINFO\u001b[0m Creating index: dix_modis_mcd43a2_sinusoidal_orbit\n",
      "2016-11-01 22:59:17,689 datacube.index.postgres._dynamic \u001b[37mINFO\u001b[0m Creating index: dix_modis_mcd43a2_sinusoidal_gsi\n",
      "2016-11-01 22:59:20,076 agdc-ingest \u001b[37mINFO\u001b[0m 4 tasks discovered\n",
      "2016-11-01 22:59:20,506 agdc-ingest \u001b[37mINFO\u001b[0m Submitting task: (10, -3, numpy.datetime64('2000-03-04T23:59:59.999999000'))\n",
      "2016-11-01 22:59:20,507 agdc-ingest \u001b[37mINFO\u001b[0m Submitting task: (10, -4, numpy.datetime64('2000-03-04T23:59:59.999999000'))\n",
      "2016-11-01 22:59:20,508 agdc-ingest \u001b[37mINFO\u001b[0m Submitting task: (11, -4, numpy.datetime64('2000-03-04T23:59:59.999999000'))\n",
      "2016-11-01 22:59:20,509 agdc-ingest \u001b[37mINFO\u001b[0m Submitting task: (11, -3, numpy.datetime64('2000-03-04T23:59:59.999999000'))\n",
      "2016-11-01 22:59:20,509 agdc-ingest \u001b[37mINFO\u001b[0m Starting task (10, -3, numpy.datetime64('2000-03-04T23:59:59.999999000'))\n",
      "2016-11-01 22:59:27,459 datacube.storage.storage \u001b[37mINFO\u001b[0m Creating storage unit: /media/simonaoliver/datacube/tiles/MCD43A2/MCD43A2_500_sinusoidal_10_-3_20000304235959999999.nc\n",
      "2016-11-01 22:59:29,800 agdc-ingest \u001b[37mINFO\u001b[0m Finished task (10, -3, numpy.datetime64('2000-03-04T23:59:59.999999000'))\n",
      "2016-11-01 22:59:29,801 agdc-ingest \u001b[37mINFO\u001b[0m completed 1, failed 0, pending 3\n",
      "2016-11-01 22:59:29,801 datacube.index._datasets \u001b[37mINFO\u001b[0m Indexing 653d231b-438d-41cb-bc7e-e0f92e1bb479\n",
      "2016-11-01 22:59:29,816 agdc-ingest \u001b[37mINFO\u001b[0m Starting task (10, -4, numpy.datetime64('2000-03-04T23:59:59.999999000'))\n",
      "2016-11-01 22:59:46,533 datacube.storage.storage \u001b[37mINFO\u001b[0m Creating storage unit: /media/simonaoliver/datacube/tiles/MCD43A2/MCD43A2_500_sinusoidal_10_-4_20000304235959999999.nc\n",
      "2016-11-01 22:59:49,804 agdc-ingest \u001b[37mINFO\u001b[0m Finished task (10, -4, numpy.datetime64('2000-03-04T23:59:59.999999000'))\n",
      "2016-11-01 22:59:49,805 agdc-ingest \u001b[37mINFO\u001b[0m completed 1, failed 0, pending 2\n",
      "2016-11-01 22:59:49,805 datacube.index._datasets \u001b[37mINFO\u001b[0m Indexing 86079409-9d1d-45f5-8f54-b1cc6f73835e\n",
      "2016-11-01 22:59:49,828 agdc-ingest \u001b[37mINFO\u001b[0m Starting task (11, -4, numpy.datetime64('2000-03-04T23:59:59.999999000'))\n",
      "2016-11-01 22:59:55,196 datacube.storage.storage \u001b[37mINFO\u001b[0m Creating storage unit: /media/simonaoliver/datacube/tiles/MCD43A2/MCD43A2_500_sinusoidal_11_-4_20000304235959999999.nc\n",
      "2016-11-01 22:59:57,056 agdc-ingest \u001b[37mINFO\u001b[0m Finished task (11, -4, numpy.datetime64('2000-03-04T23:59:59.999999000'))\n",
      "2016-11-01 22:59:57,127 agdc-ingest \u001b[37mINFO\u001b[0m completed 1, failed 0, pending 1\n",
      "2016-11-01 22:59:57,130 datacube.index._datasets \u001b[37mINFO\u001b[0m Indexing 79020ee7-6c2a-4c2c-b312-47bafbf2ad7d\n",
      "2016-11-01 22:59:57,243 agdc-ingest \u001b[37mINFO\u001b[0m Starting task (11, -3, numpy.datetime64('2000-03-04T23:59:59.999999000'))\n",
      "2016-11-01 23:00:00,324 datacube.storage.storage \u001b[37mINFO\u001b[0m Creating storage unit: /media/simonaoliver/datacube/tiles/MCD43A2/MCD43A2_500_sinusoidal_11_-3_20000304235959999999.nc\n",
      "2016-11-01 23:00:03,866 agdc-ingest \u001b[37mINFO\u001b[0m Finished task (11, -3, numpy.datetime64('2000-03-04T23:59:59.999999000'))\n",
      "2016-11-01 23:00:03,867 agdc-ingest \u001b[37mINFO\u001b[0m completed 1, failed 0, pending 0\n",
      "2016-11-01 23:00:03,868 datacube.index._datasets \u001b[37mINFO\u001b[0m Indexing 6aa8f71d-646c-4787-a15e-eb448eeabb06\n",
      "4 successful, 0 failed\n"
     ]
    }
   ],
   "source": [
    "modis_ingester = '/home/simonaoliver/code/agdc-v2/docs/config_samples/ingester/mcd43a2_sinusoidal.yaml'\n",
    "!datacube -v ingest --config-file $modis_ingester"
   ]
  },
  {
   "cell_type": "code",
   "execution_count": 16,
   "metadata": {
    "collapsed": false
   },
   "outputs": [
    {
     "name": "stdout",
     "output_type": "stream",
     "text": [
      "2016-11-01 23:00:10,068 datacube \u001b[37mINFO\u001b[0m Running datacube command: /home/simonaoliver/venvs/agdc-v2/bin/datacube -v ingest --config-file /home/simonaoliver/code/agdc-v2/docs/config_samples/ingester/mcd43a3_sinusoidal.yaml\n",
      "2016-11-01 23:00:10,704 agdc-ingest \u001b[37mINFO\u001b[0m Created DatasetType modis_mcd43a3_sinusoidal\n",
      "2016-11-01 23:00:11,014 datacube.index.postgres._dynamic \u001b[37mINFO\u001b[0m Creating index: dix_modis_mcd43a3_sinusoidal_lat_lon_time\n",
      "2016-11-01 23:00:11,056 datacube.index.postgres._dynamic \u001b[37mINFO\u001b[0m Creating index: dix_modis_mcd43a3_sinusoidal_time_lat_lon\n",
      "2016-11-01 23:00:11,234 datacube.index.postgres._dynamic \u001b[37mINFO\u001b[0m Creating index: dix_modis_mcd43a3_sinusoidal_sat_path_sat_row_time\n",
      "2016-11-01 23:00:11,412 datacube.index.postgres._dynamic \u001b[37mINFO\u001b[0m Creating index: dix_modis_mcd43a3_sinusoidal_orbit\n",
      "2016-11-01 23:00:11,445 datacube.index.postgres._dynamic \u001b[37mINFO\u001b[0m Creating index: dix_modis_mcd43a3_sinusoidal_gsi\n",
      "2016-11-01 23:00:12,266 agdc-ingest \u001b[37mINFO\u001b[0m 4 tasks discovered\n",
      "2016-11-01 23:00:12,345 agdc-ingest \u001b[37mINFO\u001b[0m Submitting task: (10, -3, numpy.datetime64('2000-03-04T23:59:59.999999000'))\n",
      "2016-11-01 23:00:12,346 agdc-ingest \u001b[37mINFO\u001b[0m Submitting task: (10, -4, numpy.datetime64('2000-03-04T23:59:59.999999000'))\n",
      "2016-11-01 23:00:12,346 agdc-ingest \u001b[37mINFO\u001b[0m Submitting task: (11, -4, numpy.datetime64('2000-03-04T23:59:59.999999000'))\n",
      "2016-11-01 23:00:12,346 agdc-ingest \u001b[37mINFO\u001b[0m Submitting task: (11, -3, numpy.datetime64('2000-03-04T23:59:59.999999000'))\n",
      "2016-11-01 23:00:12,346 agdc-ingest \u001b[37mINFO\u001b[0m Starting task (10, -3, numpy.datetime64('2000-03-04T23:59:59.999999000'))\n",
      "2016-11-01 23:00:43,826 datacube.storage.storage \u001b[37mINFO\u001b[0m Creating storage unit: /media/simonaoliver/datacube/tiles/MCD43A3/MCD43A3_500_sinusoidal_10_-3_20000304235959999999.nc\n",
      "2016-11-01 23:01:01,617 agdc-ingest \u001b[37mINFO\u001b[0m Finished task (10, -3, numpy.datetime64('2000-03-04T23:59:59.999999000'))\n",
      "2016-11-01 23:01:01,618 agdc-ingest \u001b[37mINFO\u001b[0m completed 1, failed 0, pending 3\n",
      "2016-11-01 23:01:01,618 datacube.index._datasets \u001b[37mINFO\u001b[0m Indexing f412f308-7233-4a2a-8334-6fed3c4d202d\n",
      "2016-11-01 23:01:01,632 agdc-ingest \u001b[37mINFO\u001b[0m Starting task (10, -4, numpy.datetime64('2000-03-04T23:59:59.999999000'))\n",
      "2016-11-01 23:02:17,140 datacube.storage.storage \u001b[37mINFO\u001b[0m Creating storage unit: /media/simonaoliver/datacube/tiles/MCD43A3/MCD43A3_500_sinusoidal_10_-4_20000304235959999999.nc\n",
      "2016-11-01 23:02:33,354 agdc-ingest \u001b[37mINFO\u001b[0m Finished task (10, -4, numpy.datetime64('2000-03-04T23:59:59.999999000'))\n",
      "2016-11-01 23:02:33,355 agdc-ingest \u001b[37mINFO\u001b[0m completed 1, failed 0, pending 2\n",
      "2016-11-01 23:02:33,355 datacube.index._datasets \u001b[37mINFO\u001b[0m Indexing 7d3d523a-f50b-455e-b6af-49f1375088ea\n",
      "2016-11-01 23:02:33,554 agdc-ingest \u001b[37mINFO\u001b[0m Starting task (11, -4, numpy.datetime64('2000-03-04T23:59:59.999999000'))\n",
      "2016-11-01 23:02:51,516 datacube.storage.storage \u001b[37mINFO\u001b[0m Creating storage unit: /media/simonaoliver/datacube/tiles/MCD43A3/MCD43A3_500_sinusoidal_11_-4_20000304235959999999.nc\n",
      "2016-11-01 23:02:58,174 agdc-ingest \u001b[37mINFO\u001b[0m Finished task (11, -4, numpy.datetime64('2000-03-04T23:59:59.999999000'))\n",
      "2016-11-01 23:02:58,175 agdc-ingest \u001b[37mINFO\u001b[0m completed 1, failed 0, pending 1\n",
      "2016-11-01 23:02:58,176 datacube.index._datasets \u001b[37mINFO\u001b[0m Indexing 4a3c25c9-86f6-4a94-a9c1-582b8646c966\n",
      "2016-11-01 23:02:58,270 agdc-ingest \u001b[37mINFO\u001b[0m Starting task (11, -3, numpy.datetime64('2000-03-04T23:59:59.999999000'))\n",
      "2016-11-01 23:03:06,916 datacube.storage.storage \u001b[37mINFO\u001b[0m Creating storage unit: /media/simonaoliver/datacube/tiles/MCD43A3/MCD43A3_500_sinusoidal_11_-3_20000304235959999999.nc\n",
      "2016-11-01 23:03:15,814 agdc-ingest \u001b[37mINFO\u001b[0m Finished task (11, -3, numpy.datetime64('2000-03-04T23:59:59.999999000'))\n",
      "2016-11-01 23:03:15,815 agdc-ingest \u001b[37mINFO\u001b[0m completed 1, failed 0, pending 0\n",
      "2016-11-01 23:03:15,816 datacube.index._datasets \u001b[37mINFO\u001b[0m Indexing 486471fa-84f7-4a11-aac1-d1bab4d4f4cb\n",
      "4 successful, 0 failed\n"
     ]
    }
   ],
   "source": [
    "modis_ingester = '/home/simonaoliver/code/agdc-v2/docs/config_samples/ingester/mcd43a3_sinusoidal.yaml'\n",
    "!datacube -v ingest --config-file $modis_ingester"
   ]
  },
  {
   "cell_type": "code",
   "execution_count": 17,
   "metadata": {
    "collapsed": false
   },
   "outputs": [
    {
     "name": "stdout",
     "output_type": "stream",
     "text": [
      "2016-11-01 23:03:19,749 datacube \u001b[37mINFO\u001b[0m Running datacube command: /home/simonaoliver/venvs/agdc-v2/bin/datacube -v ingest --config-file /home/simonaoliver/code/agdc-v2/docs/config_samples/ingester/mcd43a4_sinusoidal.yaml\n",
      "2016-11-01 23:03:19,866 agdc-ingest \u001b[37mINFO\u001b[0m Created DatasetType modis_mcd43a4_sinusoidal\n",
      "2016-11-01 23:03:19,970 datacube.index.postgres._dynamic \u001b[37mINFO\u001b[0m Creating index: dix_modis_mcd43a4_sinusoidal_lat_lon_time\n",
      "2016-11-01 23:03:19,986 datacube.index.postgres._dynamic \u001b[37mINFO\u001b[0m Creating index: dix_modis_mcd43a4_sinusoidal_time_lat_lon\n",
      "2016-11-01 23:03:19,994 datacube.index.postgres._dynamic \u001b[37mINFO\u001b[0m Creating index: dix_modis_mcd43a4_sinusoidal_sat_path_sat_row_time\n",
      "2016-11-01 23:03:20,005 datacube.index.postgres._dynamic \u001b[37mINFO\u001b[0m Creating index: dix_modis_mcd43a4_sinusoidal_orbit\n",
      "2016-11-01 23:03:20,018 datacube.index.postgres._dynamic \u001b[37mINFO\u001b[0m Creating index: dix_modis_mcd43a4_sinusoidal_gsi\n",
      "2016-11-01 23:03:20,444 agdc-ingest \u001b[37mINFO\u001b[0m 4 tasks discovered\n",
      "2016-11-01 23:03:20,520 agdc-ingest \u001b[37mINFO\u001b[0m Submitting task: (10, -3, numpy.datetime64('2000-03-04T23:59:59.999999000'))\n",
      "2016-11-01 23:03:20,521 agdc-ingest \u001b[37mINFO\u001b[0m Submitting task: (10, -4, numpy.datetime64('2000-03-04T23:59:59.999999000'))\n",
      "2016-11-01 23:03:20,521 agdc-ingest \u001b[37mINFO\u001b[0m Submitting task: (11, -4, numpy.datetime64('2000-03-04T23:59:59.999999000'))\n",
      "2016-11-01 23:03:20,521 agdc-ingest \u001b[37mINFO\u001b[0m Submitting task: (11, -3, numpy.datetime64('2000-03-04T23:59:59.999999000'))\n",
      "2016-11-01 23:03:20,522 agdc-ingest \u001b[37mINFO\u001b[0m Starting task (10, -3, numpy.datetime64('2000-03-04T23:59:59.999999000'))\n",
      "2016-11-01 23:03:32,086 datacube.storage.storage \u001b[37mINFO\u001b[0m Creating storage unit: /media/simonaoliver/datacube/tiles/MCD43A4/MCD43A4_500_sinusoidal_10_-3_20000304235959999999.nc\n",
      "2016-11-01 23:03:35,395 agdc-ingest \u001b[37mINFO\u001b[0m Finished task (10, -3, numpy.datetime64('2000-03-04T23:59:59.999999000'))\n",
      "2016-11-01 23:03:35,396 agdc-ingest \u001b[37mINFO\u001b[0m completed 1, failed 0, pending 3\n",
      "2016-11-01 23:03:35,396 datacube.index._datasets \u001b[37mINFO\u001b[0m Indexing baa6eb8c-9e8d-4047-9746-e064490e88cc\n",
      "2016-11-01 23:03:35,411 agdc-ingest \u001b[37mINFO\u001b[0m Starting task (10, -4, numpy.datetime64('2000-03-04T23:59:59.999999000'))\n",
      "2016-11-01 23:04:09,752 datacube.storage.storage \u001b[37mINFO\u001b[0m Creating storage unit: /media/simonaoliver/datacube/tiles/MCD43A4/MCD43A4_500_sinusoidal_10_-4_20000304235959999999.nc\n",
      "2016-11-01 23:04:20,094 agdc-ingest \u001b[37mINFO\u001b[0m Finished task (10, -4, numpy.datetime64('2000-03-04T23:59:59.999999000'))\n",
      "2016-11-01 23:04:20,095 agdc-ingest \u001b[37mINFO\u001b[0m completed 1, failed 0, pending 2\n",
      "2016-11-01 23:04:20,095 datacube.index._datasets \u001b[37mINFO\u001b[0m Indexing f3ff9695-dbe9-4e19-93b3-903a99186de7\n",
      "2016-11-01 23:04:20,109 agdc-ingest \u001b[37mINFO\u001b[0m Starting task (11, -4, numpy.datetime64('2000-03-04T23:59:59.999999000'))\n",
      "2016-11-01 23:04:26,815 datacube.storage.storage \u001b[37mINFO\u001b[0m Creating storage unit: /media/simonaoliver/datacube/tiles/MCD43A4/MCD43A4_500_sinusoidal_11_-4_20000304235959999999.nc\n",
      "2016-11-01 23:04:31,275 agdc-ingest \u001b[37mINFO\u001b[0m Finished task (11, -4, numpy.datetime64('2000-03-04T23:59:59.999999000'))\n",
      "2016-11-01 23:04:31,276 agdc-ingest \u001b[37mINFO\u001b[0m completed 1, failed 0, pending 1\n",
      "2016-11-01 23:04:31,276 datacube.index._datasets \u001b[37mINFO\u001b[0m Indexing 57806da3-a2f7-46ca-a758-9c13d8e6ce69\n",
      "2016-11-01 23:04:31,319 agdc-ingest \u001b[37mINFO\u001b[0m Starting task (11, -3, numpy.datetime64('2000-03-04T23:59:59.999999000'))\n",
      "2016-11-01 23:04:35,048 datacube.storage.storage \u001b[37mINFO\u001b[0m Creating storage unit: /media/simonaoliver/datacube/tiles/MCD43A4/MCD43A4_500_sinusoidal_11_-3_20000304235959999999.nc\n",
      "2016-11-01 23:04:36,820 agdc-ingest \u001b[37mINFO\u001b[0m Finished task (11, -3, numpy.datetime64('2000-03-04T23:59:59.999999000'))\n",
      "2016-11-01 23:04:36,820 agdc-ingest \u001b[37mINFO\u001b[0m completed 1, failed 0, pending 0\n",
      "2016-11-01 23:04:36,821 datacube.index._datasets \u001b[37mINFO\u001b[0m Indexing 2c866476-98d0-4578-8eb7-c4d613636423\n",
      "4 successful, 0 failed\n"
     ]
    }
   ],
   "source": [
    "modis_ingester = '/home/simonaoliver/code/agdc-v2/docs/config_samples/ingester/mcd43a4_sinusoidal.yaml'\n",
    "!datacube -v ingest --config-file $modis_ingester"
   ]
  },
  {
   "cell_type": "code",
   "execution_count": 18,
   "metadata": {
    "collapsed": false
   },
   "outputs": [
    {
     "name": "stdout",
     "output_type": "stream",
     "text": [
      "2016-11-01 23:04:39,270 datacube \u001b[37mINFO\u001b[0m Running datacube command: /home/simonaoliver/venvs/agdc-v2/bin/datacube -v dataset add --auto-match /home/simonaoliver/data/S2A_OPER_PRD_MSIL1C_PDMC_20151205T075851_R073_V20151205T001643_20151205T001643.SAFE/agdc-metadata.yaml\n",
      "2016-11-01 23:04:39,676 datacube-dataset \u001b[37mINFO\u001b[0m Matched Dataset <id=bc3c5a40-ed4f-4bee-85df-38e1a0f32587 type=s2a_level1c_granule location=/home/simonaoliver/data/S2A_OPER_PRD_MSIL1C_PDMC_20151205T075851_R073_V20151205T001643_20151205T001643.SAFE/agdc-metadata.yaml>\n",
      "2016-11-01 23:04:39,677 datacube.index._datasets \u001b[37mINFO\u001b[0m Indexing bc3c5a40-ed4f-4bee-85df-38e1a0f32587\n",
      "2016-11-01 23:04:39,792 datacube.index._datasets \u001b[33mWARNING\u001b[0m Duplicate dataset, not inserting: bc3c5a40-ed4f-4bee-85df-38e1a0f32587\n",
      "2016-11-01 23:04:39,812 datacube.index._datasets \u001b[33mWARNING\u001b[0m Location already exists: file:///home/simonaoliver/data/S2A_OPER_PRD_MSIL1C_PDMC_20151205T075851_R073_V20151205T001643_20151205T001643.SAFE/agdc-metadata.yaml\n",
      "2016-11-01 23:04:39,909 datacube-dataset \u001b[37mINFO\u001b[0m Matched Dataset <id=4e089df2-f584-41f8-ab42-6d94743f04d6 type=s2a_level1c_granule location=/home/simonaoliver/data/S2A_OPER_PRD_MSIL1C_PDMC_20151205T075851_R073_V20151205T001643_20151205T001643.SAFE/agdc-metadata.yaml>\n",
      "2016-11-01 23:04:39,910 datacube.index._datasets \u001b[37mINFO\u001b[0m Indexing 4e089df2-f584-41f8-ab42-6d94743f04d6\n",
      "2016-11-01 23:04:39,922 datacube.index._datasets \u001b[33mWARNING\u001b[0m Duplicate dataset, not inserting: 4e089df2-f584-41f8-ab42-6d94743f04d6\n",
      "2016-11-01 23:04:40,102 datacube.index._datasets \u001b[33mWARNING\u001b[0m Location already exists: file:///home/simonaoliver/data/S2A_OPER_PRD_MSIL1C_PDMC_20151205T075851_R073_V20151205T001643_20151205T001643.SAFE/agdc-metadata.yaml\n",
      "2016-11-01 23:04:40,327 datacube-dataset \u001b[37mINFO\u001b[0m Matched Dataset <id=10058794-9393-4925-851d-6d9800a81095 type=s2a_level1c_granule location=/home/simonaoliver/data/S2A_OPER_PRD_MSIL1C_PDMC_20151205T075851_R073_V20151205T001643_20151205T001643.SAFE/agdc-metadata.yaml>\n",
      "2016-11-01 23:04:40,329 datacube.index._datasets \u001b[37mINFO\u001b[0m Indexing 10058794-9393-4925-851d-6d9800a81095\n",
      "2016-11-01 23:04:40,345 datacube.index._datasets \u001b[33mWARNING\u001b[0m Duplicate dataset, not inserting: 10058794-9393-4925-851d-6d9800a81095\n",
      "2016-11-01 23:04:40,399 datacube.index._datasets \u001b[33mWARNING\u001b[0m Location already exists: file:///home/simonaoliver/data/S2A_OPER_PRD_MSIL1C_PDMC_20151205T075851_R073_V20151205T001643_20151205T001643.SAFE/agdc-metadata.yaml\n",
      "2016-11-01 23:04:40,528 datacube-dataset \u001b[37mINFO\u001b[0m Matched Dataset <id=353ecfae-f19b-49ea-844b-fa52325bf127 type=s2a_level1c_granule location=/home/simonaoliver/data/S2A_OPER_PRD_MSIL1C_PDMC_20151205T075851_R073_V20151205T001643_20151205T001643.SAFE/agdc-metadata.yaml>\n",
      "2016-11-01 23:04:40,529 datacube.index._datasets \u001b[37mINFO\u001b[0m Indexing 353ecfae-f19b-49ea-844b-fa52325bf127\n",
      "2016-11-01 23:04:40,616 datacube.index._datasets \u001b[33mWARNING\u001b[0m Duplicate dataset, not inserting: 353ecfae-f19b-49ea-844b-fa52325bf127\n",
      "2016-11-01 23:04:40,634 datacube.index._datasets \u001b[33mWARNING\u001b[0m Location already exists: file:///home/simonaoliver/data/S2A_OPER_PRD_MSIL1C_PDMC_20151205T075851_R073_V20151205T001643_20151205T001643.SAFE/agdc-metadata.yaml\n"
     ]
    }
   ],
   "source": [
    "!datacube -v dataset add --auto-match $s2agranules"
   ]
  },
  {
   "cell_type": "code",
   "execution_count": 19,
   "metadata": {
    "collapsed": false
   },
   "outputs": [
    {
     "name": "stdout",
     "output_type": "stream",
     "text": [
      "2016-11-01 23:04:44,020 datacube \u001b[37mINFO\u001b[0m Running datacube command: /home/simonaoliver/venvs/agdc-v2/bin/datacube -v ingest --config-file /home/simonaoliver/code/agdc-v2/docs/config_samples/ingester/s2amsil1c_albers_60.yaml\n",
      "2016-11-01 23:04:44,123 agdc-ingest \u001b[37mINFO\u001b[0m Created DatasetType s2a_level1c_albers_60\n",
      "2016-11-01 23:04:44,148 datacube.index.postgres._dynamic \u001b[37mINFO\u001b[0m Creating index: dix_s2a_level1c_albers_60_lat_lon_time\n",
      "2016-11-01 23:04:44,157 datacube.index.postgres._dynamic \u001b[37mINFO\u001b[0m Creating index: dix_s2a_level1c_albers_60_time_lat_lon\n",
      "2016-11-01 23:04:44,164 datacube.index.postgres._dynamic \u001b[37mINFO\u001b[0m Creating index: dix_s2a_level1c_albers_60_sat_path_sat_row_time\n",
      "2016-11-01 23:04:44,183 datacube.index.postgres._dynamic \u001b[37mINFO\u001b[0m Creating index: dix_s2a_level1c_albers_60_orbit\n",
      "2016-11-01 23:04:44,195 datacube.index.postgres._dynamic \u001b[37mINFO\u001b[0m Creating index: dix_s2a_level1c_albers_60_gsi\n",
      "2016-11-01 23:04:44,573 agdc-ingest \u001b[37mINFO\u001b[0m 7 tasks discovered\n",
      "2016-11-01 23:04:44,760 agdc-ingest \u001b[37mINFO\u001b[0m Submitting task: (13, -39, numpy.datetime64('2015-12-05T00:16:43.498000000'))\n",
      "2016-11-01 23:04:44,774 agdc-ingest \u001b[37mINFO\u001b[0m Submitting task: (15, -40, numpy.datetime64('2015-12-05T00:16:43.498000000'))\n",
      "2016-11-01 23:04:44,774 agdc-ingest \u001b[37mINFO\u001b[0m Submitting task: (13, -40, numpy.datetime64('2015-12-05T00:16:43.498000000'))\n",
      "2016-11-01 23:04:44,775 agdc-ingest \u001b[37mINFO\u001b[0m Submitting task: (14, -40, numpy.datetime64('2015-12-05T00:16:43.498000000'))\n",
      "2016-11-01 23:04:44,845 agdc-ingest \u001b[37mINFO\u001b[0m Submitting task: (12, -40, numpy.datetime64('2015-12-05T00:16:43.498000000'))\n",
      "2016-11-01 23:04:44,845 agdc-ingest \u001b[37mINFO\u001b[0m Submitting task: (14, -39, numpy.datetime64('2015-12-05T00:16:43.498000000'))\n",
      "2016-11-01 23:04:44,846 agdc-ingest \u001b[37mINFO\u001b[0m Submitting task: (12, -39, numpy.datetime64('2015-12-05T00:16:43.498000000'))\n",
      "2016-11-01 23:04:44,846 agdc-ingest \u001b[37mINFO\u001b[0m Starting task (13, -39, numpy.datetime64('2015-12-05T00:16:43.498000000'))\n",
      "2016-11-01 23:04:56,371 datacube.storage.storage \u001b[37mINFO\u001b[0m Creating storage unit: /media/simonaoliver/datacube/tiles/S2A_MSI_L1C/S2A_MSI_L1C_60_3577_13_-39_20151205001643498000.nc\n",
      "2016-11-01 23:04:57,615 agdc-ingest \u001b[37mINFO\u001b[0m Finished task (13, -39, numpy.datetime64('2015-12-05T00:16:43.498000000'))\n",
      "2016-11-01 23:04:57,616 agdc-ingest \u001b[37mINFO\u001b[0m completed 1, failed 0, pending 6\n",
      "2016-11-01 23:04:57,616 datacube.index._datasets \u001b[37mINFO\u001b[0m Indexing c32a851e-7d30-43f7-abc1-8c9715616666\n",
      "2016-11-01 23:04:57,638 agdc-ingest \u001b[37mINFO\u001b[0m Starting task (15, -40, numpy.datetime64('2015-12-05T00:16:43.498000000'))\n",
      "2016-11-01 23:05:02,104 datacube.storage.storage \u001b[37mINFO\u001b[0m Creating storage unit: /media/simonaoliver/datacube/tiles/S2A_MSI_L1C/S2A_MSI_L1C_60_3577_15_-40_20151205001643498000.nc\n",
      "2016-11-01 23:05:03,023 agdc-ingest \u001b[37mINFO\u001b[0m Finished task (15, -40, numpy.datetime64('2015-12-05T00:16:43.498000000'))\n",
      "2016-11-01 23:05:03,024 agdc-ingest \u001b[37mINFO\u001b[0m completed 1, failed 0, pending 5\n",
      "2016-11-01 23:05:03,024 datacube.index._datasets \u001b[37mINFO\u001b[0m Indexing 89e6fe27-4888-460f-893a-ace2d3f9790c\n",
      "2016-11-01 23:05:03,045 agdc-ingest \u001b[37mINFO\u001b[0m Starting task (13, -40, numpy.datetime64('2015-12-05T00:16:43.498000000'))\n",
      "2016-11-01 23:05:11,051 datacube.storage.storage \u001b[37mINFO\u001b[0m Creating storage unit: /media/simonaoliver/datacube/tiles/S2A_MSI_L1C/S2A_MSI_L1C_60_3577_13_-40_20151205001643498000.nc\n",
      "2016-11-01 23:05:13,328 agdc-ingest \u001b[37mINFO\u001b[0m Finished task (13, -40, numpy.datetime64('2015-12-05T00:16:43.498000000'))\n",
      "2016-11-01 23:05:13,329 agdc-ingest \u001b[37mINFO\u001b[0m completed 1, failed 0, pending 4\n",
      "2016-11-01 23:05:13,329 datacube.index._datasets \u001b[37mINFO\u001b[0m Indexing 7667d1e6-0557-4b99-bf20-8c49ac76ae39\n",
      "2016-11-01 23:05:13,361 agdc-ingest \u001b[37mINFO\u001b[0m Starting task (14, -40, numpy.datetime64('2015-12-05T00:16:43.498000000'))\n",
      "2016-11-01 23:05:21,919 datacube.storage.storage \u001b[37mINFO\u001b[0m Creating storage unit: /media/simonaoliver/datacube/tiles/S2A_MSI_L1C/S2A_MSI_L1C_60_3577_14_-40_20151205001643498000.nc\n",
      "2016-11-01 23:05:22,941 agdc-ingest \u001b[37mINFO\u001b[0m Finished task (14, -40, numpy.datetime64('2015-12-05T00:16:43.498000000'))\n",
      "2016-11-01 23:05:22,942 agdc-ingest \u001b[37mINFO\u001b[0m completed 1, failed 0, pending 3\n",
      "2016-11-01 23:05:22,943 datacube.index._datasets \u001b[37mINFO\u001b[0m Indexing 26c61112-ee1b-4ecf-8ca0-5b352645603d\n",
      "2016-11-01 23:05:22,965 agdc-ingest \u001b[37mINFO\u001b[0m Starting task (12, -40, numpy.datetime64('2015-12-05T00:16:43.498000000'))\n",
      "2016-11-01 23:05:28,760 datacube.storage.storage \u001b[37mINFO\u001b[0m Creating storage unit: /media/simonaoliver/datacube/tiles/S2A_MSI_L1C/S2A_MSI_L1C_60_3577_12_-40_20151205001643498000.nc\n",
      "2016-11-01 23:05:29,438 agdc-ingest \u001b[37mINFO\u001b[0m Finished task (12, -40, numpy.datetime64('2015-12-05T00:16:43.498000000'))\n",
      "2016-11-01 23:05:29,439 agdc-ingest \u001b[37mINFO\u001b[0m completed 1, failed 0, pending 2\n",
      "2016-11-01 23:05:29,439 datacube.index._datasets \u001b[37mINFO\u001b[0m Indexing 7ade51ff-2098-43eb-a9d9-e4f4401bc871\n",
      "2016-11-01 23:05:29,525 agdc-ingest \u001b[37mINFO\u001b[0m Starting task (14, -39, numpy.datetime64('2015-12-05T00:16:43.498000000'))\n",
      "2016-11-01 23:05:38,267 datacube.storage.storage \u001b[37mINFO\u001b[0m Creating storage unit: /media/simonaoliver/datacube/tiles/S2A_MSI_L1C/S2A_MSI_L1C_60_3577_14_-39_20151205001643498000.nc\n",
      "2016-11-01 23:05:39,971 agdc-ingest \u001b[37mINFO\u001b[0m Finished task (14, -39, numpy.datetime64('2015-12-05T00:16:43.498000000'))\n",
      "2016-11-01 23:05:39,971 agdc-ingest \u001b[37mINFO\u001b[0m completed 1, failed 0, pending 1\n",
      "2016-11-01 23:05:39,972 datacube.index._datasets \u001b[37mINFO\u001b[0m Indexing 5237a285-6e15-43e7-82bc-7b1dfc2ffcbf\n",
      "2016-11-01 23:05:40,005 agdc-ingest \u001b[37mINFO\u001b[0m Starting task (12, -39, numpy.datetime64('2015-12-05T00:16:43.498000000'))\n",
      "2016-11-01 23:05:49,823 datacube.storage.storage \u001b[37mINFO\u001b[0m Creating storage unit: /media/simonaoliver/datacube/tiles/S2A_MSI_L1C/S2A_MSI_L1C_60_3577_12_-39_20151205001643498000.nc\n",
      "2016-11-01 23:05:50,869 agdc-ingest \u001b[37mINFO\u001b[0m Finished task (12, -39, numpy.datetime64('2015-12-05T00:16:43.498000000'))\n",
      "2016-11-01 23:05:50,869 agdc-ingest \u001b[37mINFO\u001b[0m completed 1, failed 0, pending 0\n",
      "2016-11-01 23:05:50,870 datacube.index._datasets \u001b[37mINFO\u001b[0m Indexing 340dde08-3f02-4e8c-a86e-069bd7a76c42\n",
      "7 successful, 0 failed\n"
     ]
    }
   ],
   "source": [
    "s2aingester60 = '/home/simonaoliver/code/agdc-v2/docs/config_samples/ingester/s2amsil1c_albers_60.yaml'\n",
    "!datacube -v ingest --config-file $s2aingester60"
   ]
  },
  {
   "cell_type": "code",
   "execution_count": 20,
   "metadata": {
    "collapsed": false
   },
   "outputs": [
    {
     "name": "stdout",
     "output_type": "stream",
     "text": [
      "2016-11-01 23:05:53,903 datacube \u001b[37mINFO\u001b[0m Running datacube command: /home/simonaoliver/venvs/agdc-v2/bin/datacube -v ingest --config-file /home/simonaoliver/code/agdc-v2/docs/config_samples/ingester/s2amsil1c_albers_10.yaml\n",
      "2016-11-01 23:05:54,239 agdc-ingest \u001b[37mINFO\u001b[0m Created DatasetType s2a_level1c_albers_10\n",
      "2016-11-01 23:05:54,405 datacube.index.postgres._dynamic \u001b[37mINFO\u001b[0m Creating index: dix_s2a_level1c_albers_10_lat_lon_time\n",
      "2016-11-01 23:05:54,414 datacube.index.postgres._dynamic \u001b[37mINFO\u001b[0m Creating index: dix_s2a_level1c_albers_10_time_lat_lon\n",
      "2016-11-01 23:05:54,421 datacube.index.postgres._dynamic \u001b[37mINFO\u001b[0m Creating index: dix_s2a_level1c_albers_10_sat_path_sat_row_time\n",
      "2016-11-01 23:05:54,499 datacube.index.postgres._dynamic \u001b[37mINFO\u001b[0m Creating index: dix_s2a_level1c_albers_10_orbit\n",
      "2016-11-01 23:05:54,509 datacube.index.postgres._dynamic \u001b[37mINFO\u001b[0m Creating index: dix_s2a_level1c_albers_10_gsi\n",
      "2016-11-01 23:05:55,045 agdc-ingest \u001b[37mINFO\u001b[0m 7 tasks discovered\n",
      "2016-11-01 23:05:55,202 agdc-ingest \u001b[37mINFO\u001b[0m Submitting task: (13, -39, numpy.datetime64('2015-12-05T00:16:43.498000000'))\n",
      "2016-11-01 23:05:55,211 agdc-ingest \u001b[37mINFO\u001b[0m Submitting task: (15, -40, numpy.datetime64('2015-12-05T00:16:43.498000000'))\n",
      "2016-11-01 23:05:55,211 agdc-ingest \u001b[37mINFO\u001b[0m Submitting task: (13, -40, numpy.datetime64('2015-12-05T00:16:43.498000000'))\n",
      "2016-11-01 23:05:55,211 agdc-ingest \u001b[37mINFO\u001b[0m Submitting task: (14, -40, numpy.datetime64('2015-12-05T00:16:43.498000000'))\n",
      "2016-11-01 23:05:55,224 agdc-ingest \u001b[37mINFO\u001b[0m Submitting task: (12, -40, numpy.datetime64('2015-12-05T00:16:43.498000000'))\n",
      "2016-11-01 23:05:55,225 agdc-ingest \u001b[37mINFO\u001b[0m Submitting task: (14, -39, numpy.datetime64('2015-12-05T00:16:43.498000000'))\n",
      "2016-11-01 23:05:55,225 agdc-ingest \u001b[37mINFO\u001b[0m Submitting task: (12, -39, numpy.datetime64('2015-12-05T00:16:43.498000000'))\n",
      "2016-11-01 23:05:55,225 agdc-ingest \u001b[37mINFO\u001b[0m Starting task (13, -39, numpy.datetime64('2015-12-05T00:16:43.498000000'))\n",
      "2016-11-01 23:10:14,072 datacube.storage.storage \u001b[37mINFO\u001b[0m Creating storage unit: /media/simonaoliver/datacube/tiles/S2A_MSI_L1C/S2A_MSI_L1C_10_3577_13_-39_20151205001643498000.nc\n",
      "2016-11-01 23:11:41,205 agdc-ingest \u001b[37mINFO\u001b[0m Finished task (13, -39, numpy.datetime64('2015-12-05T00:16:43.498000000'))\n",
      "2016-11-01 23:11:41,294 agdc-ingest \u001b[37mINFO\u001b[0m completed 1, failed 0, pending 6\n",
      "2016-11-01 23:11:41,295 datacube.index._datasets \u001b[37mINFO\u001b[0m Indexing 7608396c-3faf-4d61-9414-60778b534228\n",
      "2016-11-01 23:11:41,428 agdc-ingest \u001b[37mINFO\u001b[0m Starting task (15, -40, numpy.datetime64('2015-12-05T00:16:43.498000000'))\n",
      "2016-11-01 23:13:13,408 datacube.storage.storage \u001b[37mINFO\u001b[0m Creating storage unit: /media/simonaoliver/datacube/tiles/S2A_MSI_L1C/S2A_MSI_L1C_10_3577_15_-40_20151205001643498000.nc\n",
      "2016-11-01 23:14:04,364 agdc-ingest \u001b[37mINFO\u001b[0m Finished task (15, -40, numpy.datetime64('2015-12-05T00:16:43.498000000'))\n",
      "2016-11-01 23:14:04,373 agdc-ingest \u001b[37mINFO\u001b[0m completed 1, failed 0, pending 5\n",
      "2016-11-01 23:14:04,373 datacube.index._datasets \u001b[37mINFO\u001b[0m Indexing 5a69c99d-dd0d-478a-8b5d-1e2a1c0858bd\n",
      "2016-11-01 23:14:04,489 agdc-ingest \u001b[37mINFO\u001b[0m Starting task (13, -40, numpy.datetime64('2015-12-05T00:16:43.498000000'))\n",
      "2016-11-01 23:16:40,146 datacube.storage.storage \u001b[37mINFO\u001b[0m Creating storage unit: /media/simonaoliver/datacube/tiles/S2A_MSI_L1C/S2A_MSI_L1C_10_3577_13_-40_20151205001643498000.nc\n",
      "2016-11-01 23:17:52,528 agdc-ingest \u001b[37mINFO\u001b[0m Finished task (13, -40, numpy.datetime64('2015-12-05T00:16:43.498000000'))\n",
      "2016-11-01 23:17:52,553 agdc-ingest \u001b[37mINFO\u001b[0m completed 1, failed 0, pending 4\n",
      "2016-11-01 23:17:52,559 datacube.index._datasets \u001b[37mINFO\u001b[0m Indexing a5e02c66-ebbe-44aa-82eb-f5a8e6fb20db\n",
      "2016-11-01 23:17:52,650 agdc-ingest \u001b[37mINFO\u001b[0m Starting task (14, -40, numpy.datetime64('2015-12-05T00:16:43.498000000'))\n",
      "2016-11-01 23:21:25,574 datacube.storage.storage \u001b[37mINFO\u001b[0m Creating storage unit: /media/simonaoliver/datacube/tiles/S2A_MSI_L1C/S2A_MSI_L1C_10_3577_14_-40_20151205001643498000.nc\n",
      "2016-11-01 23:23:09,681 agdc-ingest \u001b[37mINFO\u001b[0m Finished task (14, -40, numpy.datetime64('2015-12-05T00:16:43.498000000'))\n",
      "2016-11-01 23:23:09,691 agdc-ingest \u001b[37mINFO\u001b[0m completed 1, failed 0, pending 3\n",
      "2016-11-01 23:23:09,692 datacube.index._datasets \u001b[37mINFO\u001b[0m Indexing 10783377-45f5-4a43-b9ef-af9d5b10fcff\n",
      "2016-11-01 23:23:09,769 agdc-ingest \u001b[37mINFO\u001b[0m Starting task (12, -40, numpy.datetime64('2015-12-05T00:16:43.498000000'))\n",
      "2016-11-01 23:25:16,114 datacube.storage.storage \u001b[37mINFO\u001b[0m Creating storage unit: /media/simonaoliver/datacube/tiles/S2A_MSI_L1C/S2A_MSI_L1C_10_3577_12_-40_20151205001643498000.nc\n",
      "2016-11-01 23:26:13,204 agdc-ingest \u001b[37mINFO\u001b[0m Finished task (12, -40, numpy.datetime64('2015-12-05T00:16:43.498000000'))\n",
      "2016-11-01 23:26:13,383 agdc-ingest \u001b[37mINFO\u001b[0m completed 1, failed 0, pending 2\n",
      "2016-11-01 23:26:13,384 datacube.index._datasets \u001b[37mINFO\u001b[0m Indexing 351890c3-236b-49ef-87d3-64db8b98ed19\n",
      "2016-11-01 23:26:13,617 agdc-ingest \u001b[37mINFO\u001b[0m Starting task (14, -39, numpy.datetime64('2015-12-05T00:16:43.498000000'))\n",
      "2016-11-01 23:28:44,877 datacube.storage.storage \u001b[37mINFO\u001b[0m Creating storage unit: /media/simonaoliver/datacube/tiles/S2A_MSI_L1C/S2A_MSI_L1C_10_3577_14_-39_20151205001643498000.nc\n",
      "2016-11-01 23:29:20,380 agdc-ingest \u001b[37mINFO\u001b[0m Finished task (14, -39, numpy.datetime64('2015-12-05T00:16:43.498000000'))\n",
      "2016-11-01 23:29:20,389 agdc-ingest \u001b[37mINFO\u001b[0m completed 1, failed 0, pending 1\n",
      "2016-11-01 23:29:20,390 datacube.index._datasets \u001b[37mINFO\u001b[0m Indexing 6e965756-3fd7-4a99-bcce-93fad4e675d3\n",
      "2016-11-01 23:29:20,516 agdc-ingest \u001b[37mINFO\u001b[0m Starting task (12, -39, numpy.datetime64('2015-12-05T00:16:43.498000000'))\n",
      "2016-11-01 23:59:02,559 datacube.storage.storage \u001b[37mINFO\u001b[0m Creating storage unit: /media/simonaoliver/datacube/tiles/S2A_MSI_L1C/S2A_MSI_L1C_10_3577_12_-39_20151205001643498000.nc\n",
      "2016-11-01 23:59:41,678 agdc-ingest \u001b[37mINFO\u001b[0m Finished task (12, -39, numpy.datetime64('2015-12-05T00:16:43.498000000'))\n",
      "2016-11-01 23:59:41,682 agdc-ingest \u001b[37mINFO\u001b[0m completed 1, failed 0, pending 0\n",
      "2016-11-01 23:59:41,683 datacube.index._datasets \u001b[37mINFO\u001b[0m Indexing 4d1e2661-87d6-4182-a408-64e465bafa22\n",
      "7 successful, 0 failed\n"
     ]
    }
   ],
   "source": [
    "s2aingester10 = '/home/simonaoliver/code/agdc-v2/docs/config_samples/ingester/s2amsil1c_albers_10.yaml'\n",
    "!datacube -v ingest --config-file $s2aingester10"
   ]
  },
  {
   "cell_type": "code",
   "execution_count": 21,
   "metadata": {
    "collapsed": false
   },
   "outputs": [
    {
     "name": "stdout",
     "output_type": "stream",
     "text": [
      "2016-11-01 23:59:46,977 datacube \u001b[37mINFO\u001b[0m Running datacube command: /home/simonaoliver/venvs/agdc-v2/bin/datacube -v ingest --config-file /home/simonaoliver/code/agdc-v2/docs/config_samples/ingester/s2amsil1c_albers_20.yaml\n",
      "2016-11-01 23:59:47,591 agdc-ingest \u001b[37mINFO\u001b[0m Created DatasetType s2a_level1c_albers_20\n",
      "2016-11-01 23:59:47,904 datacube.index.postgres._dynamic \u001b[37mINFO\u001b[0m Creating index: dix_s2a_level1c_albers_20_lat_lon_time\n",
      "2016-11-01 23:59:48,010 datacube.index.postgres._dynamic \u001b[37mINFO\u001b[0m Creating index: dix_s2a_level1c_albers_20_time_lat_lon\n",
      "2016-11-01 23:59:48,133 datacube.index.postgres._dynamic \u001b[37mINFO\u001b[0m Creating index: dix_s2a_level1c_albers_20_sat_path_sat_row_time\n",
      "2016-11-01 23:59:48,255 datacube.index.postgres._dynamic \u001b[37mINFO\u001b[0m Creating index: dix_s2a_level1c_albers_20_orbit\n",
      "2016-11-01 23:59:48,333 datacube.index.postgres._dynamic \u001b[37mINFO\u001b[0m Creating index: dix_s2a_level1c_albers_20_gsi\n",
      "2016-11-01 23:59:49,251 agdc-ingest \u001b[37mINFO\u001b[0m 7 tasks discovered\n",
      "2016-11-01 23:59:49,370 agdc-ingest \u001b[37mINFO\u001b[0m Submitting task: (13, -39, numpy.datetime64('2015-12-05T00:16:43.498000000'))\n",
      "2016-11-01 23:59:49,379 agdc-ingest \u001b[37mINFO\u001b[0m Submitting task: (15, -40, numpy.datetime64('2015-12-05T00:16:43.498000000'))\n",
      "2016-11-01 23:59:49,379 agdc-ingest \u001b[37mINFO\u001b[0m Submitting task: (13, -40, numpy.datetime64('2015-12-05T00:16:43.498000000'))\n",
      "2016-11-01 23:59:49,380 agdc-ingest \u001b[37mINFO\u001b[0m Submitting task: (14, -40, numpy.datetime64('2015-12-05T00:16:43.498000000'))\n",
      "2016-11-01 23:59:49,388 agdc-ingest \u001b[37mINFO\u001b[0m Submitting task: (12, -40, numpy.datetime64('2015-12-05T00:16:43.498000000'))\n",
      "2016-11-01 23:59:49,388 agdc-ingest \u001b[37mINFO\u001b[0m Submitting task: (14, -39, numpy.datetime64('2015-12-05T00:16:43.498000000'))\n",
      "2016-11-01 23:59:49,388 agdc-ingest \u001b[37mINFO\u001b[0m Submitting task: (12, -39, numpy.datetime64('2015-12-05T00:16:43.498000000'))\n",
      "2016-11-01 23:59:49,388 agdc-ingest \u001b[37mINFO\u001b[0m Starting task (13, -39, numpy.datetime64('2015-12-05T00:16:43.498000000'))\n",
      "2016-11-02 00:02:44,716 datacube.storage.storage \u001b[37mINFO\u001b[0m Creating storage unit: /media/simonaoliver/datacube/tiles/S2A_MSI_L1C/S2A_MSI_L1C_20_3577_13_-39_20151205001643498000.nc\n",
      "2016-11-02 00:03:19,758 agdc-ingest \u001b[37mINFO\u001b[0m Finished task (13, -39, numpy.datetime64('2015-12-05T00:16:43.498000000'))\n",
      "2016-11-02 00:03:19,760 agdc-ingest \u001b[37mINFO\u001b[0m completed 1, failed 0, pending 6\n",
      "2016-11-02 00:03:19,760 datacube.index._datasets \u001b[37mINFO\u001b[0m Indexing d39244cf-f867-49ba-9272-b649754a56ca\n",
      "2016-11-02 00:03:20,002 agdc-ingest \u001b[37mINFO\u001b[0m Starting task (15, -40, numpy.datetime64('2015-12-05T00:16:43.498000000'))\n",
      "2016-11-02 00:04:36,294 datacube.storage.storage \u001b[37mINFO\u001b[0m Creating storage unit: /media/simonaoliver/datacube/tiles/S2A_MSI_L1C/S2A_MSI_L1C_20_3577_15_-40_20151205001643498000.nc\n",
      "2016-11-02 00:04:59,807 agdc-ingest \u001b[37mINFO\u001b[0m Finished task (15, -40, numpy.datetime64('2015-12-05T00:16:43.498000000'))\n",
      "2016-11-02 00:04:59,811 agdc-ingest \u001b[37mINFO\u001b[0m completed 1, failed 0, pending 5\n",
      "2016-11-02 00:04:59,812 datacube.index._datasets \u001b[37mINFO\u001b[0m Indexing 968c325c-fc81-4871-a3c2-f722a68713cf\n",
      "2016-11-02 00:05:00,384 agdc-ingest \u001b[37mINFO\u001b[0m Starting task (13, -40, numpy.datetime64('2015-12-05T00:16:43.498000000'))\n",
      "2016-11-02 00:07:05,934 datacube.storage.storage \u001b[37mINFO\u001b[0m Creating storage unit: /media/simonaoliver/datacube/tiles/S2A_MSI_L1C/S2A_MSI_L1C_20_3577_13_-40_20151205001643498000.nc\n",
      "2016-11-02 00:07:46,743 agdc-ingest \u001b[37mINFO\u001b[0m Finished task (13, -40, numpy.datetime64('2015-12-05T00:16:43.498000000'))\n",
      "2016-11-02 00:07:46,745 agdc-ingest \u001b[37mINFO\u001b[0m completed 1, failed 0, pending 4\n",
      "2016-11-02 00:07:46,746 datacube.index._datasets \u001b[37mINFO\u001b[0m Indexing 53086f87-5aec-4827-86d0-b17e26860a49\n",
      "2016-11-02 00:07:47,252 agdc-ingest \u001b[37mINFO\u001b[0m Starting task (14, -40, numpy.datetime64('2015-12-05T00:16:43.498000000'))\n",
      "2016-11-02 00:10:19,109 datacube.storage.storage \u001b[37mINFO\u001b[0m Creating storage unit: /media/simonaoliver/datacube/tiles/S2A_MSI_L1C/S2A_MSI_L1C_20_3577_14_-40_20151205001643498000.nc\n",
      "2016-11-02 00:11:03,181 agdc-ingest \u001b[37mINFO\u001b[0m Finished task (14, -40, numpy.datetime64('2015-12-05T00:16:43.498000000'))\n",
      "2016-11-02 00:11:03,183 agdc-ingest \u001b[37mINFO\u001b[0m completed 1, failed 0, pending 3\n",
      "2016-11-02 00:11:03,184 datacube.index._datasets \u001b[37mINFO\u001b[0m Indexing f815ea22-9bfc-4d3c-a031-a1490619d21e\n",
      "2016-11-02 00:11:03,610 agdc-ingest \u001b[37mINFO\u001b[0m Starting task (12, -40, numpy.datetime64('2015-12-05T00:16:43.498000000'))\n",
      "2016-11-02 00:12:15,723 datacube.storage.storage \u001b[37mINFO\u001b[0m Creating storage unit: /media/simonaoliver/datacube/tiles/S2A_MSI_L1C/S2A_MSI_L1C_20_3577_12_-40_20151205001643498000.nc\n",
      "2016-11-02 00:12:41,492 agdc-ingest \u001b[37mINFO\u001b[0m Finished task (12, -40, numpy.datetime64('2015-12-05T00:16:43.498000000'))\n",
      "2016-11-02 00:12:41,493 agdc-ingest \u001b[37mINFO\u001b[0m completed 1, failed 0, pending 2\n",
      "2016-11-02 00:12:41,493 datacube.index._datasets \u001b[37mINFO\u001b[0m Indexing f0c3620d-6d2a-4245-be6e-b612867a7659\n",
      "2016-11-02 00:12:41,727 agdc-ingest \u001b[37mINFO\u001b[0m Starting task (14, -39, numpy.datetime64('2015-12-05T00:16:43.498000000'))\n",
      "2016-11-02 00:14:30,627 datacube.storage.storage \u001b[37mINFO\u001b[0m Creating storage unit: /media/simonaoliver/datacube/tiles/S2A_MSI_L1C/S2A_MSI_L1C_20_3577_14_-39_20151205001643498000.nc\n",
      "2016-11-02 00:14:54,535 agdc-ingest \u001b[37mINFO\u001b[0m Finished task (14, -39, numpy.datetime64('2015-12-05T00:16:43.498000000'))\n",
      "2016-11-02 00:14:54,535 agdc-ingest \u001b[37mINFO\u001b[0m completed 1, failed 0, pending 1\n",
      "2016-11-02 00:14:54,536 datacube.index._datasets \u001b[37mINFO\u001b[0m Indexing 1cae4f88-e139-49f8-b529-65f33adeaece\n",
      "2016-11-02 00:14:54,852 agdc-ingest \u001b[37mINFO\u001b[0m Starting task (12, -39, numpy.datetime64('2015-12-05T00:16:43.498000000'))\n",
      "2016-11-02 00:17:42,183 datacube.storage.storage \u001b[37mINFO\u001b[0m Creating storage unit: /media/simonaoliver/datacube/tiles/S2A_MSI_L1C/S2A_MSI_L1C_20_3577_12_-39_20151205001643498000.nc\n",
      "2016-11-02 00:18:18,531 agdc-ingest \u001b[37mINFO\u001b[0m Finished task (12, -39, numpy.datetime64('2015-12-05T00:16:43.498000000'))\n",
      "2016-11-02 00:18:18,531 agdc-ingest \u001b[37mINFO\u001b[0m completed 1, failed 0, pending 0\n",
      "2016-11-02 00:18:18,532 datacube.index._datasets \u001b[37mINFO\u001b[0m Indexing 47b560c8-d922-4c77-8a0b-524dc5888842\n",
      "7 successful, 0 failed\n"
     ]
    }
   ],
   "source": [
    "s2aingester20 = '/home/simonaoliver/code/agdc-v2/docs/config_samples/ingester/s2amsil1c_albers_20.yaml'\n",
    "!datacube -v ingest --config-file $s2aingester20"
   ]
  },
  {
   "cell_type": "code",
   "execution_count": 22,
   "metadata": {
    "collapsed": false,
    "scrolled": false
   },
   "outputs": [
    {
     "name": "stdout",
     "output_type": "stream",
     "text": [
      "2016-11-02 00:18:23,656 datacube \u001b[37mINFO\u001b[0m Running datacube command: /home/simonaoliver/venvs/agdc-v2/bin/datacube -v dataset add /media/simonaoliver/datacube/input/USGS_LandsatLEDAPS/LT50960852011290-SC20160211221617/agdc-metadata.yaml --auto-match\n",
      "2016-11-02 00:18:24,058 datacube-dataset \u001b[37mINFO\u001b[0m Matched Dataset <id=f2de604b-f3df-4fed-a82e-a0be6559e748 type=ls5_ledaps_scene location=/media/simonaoliver/datacube/input/USGS_LandsatLEDAPS/LT50960852011290-SC20160211221617/agdc-metadata.yaml>\n",
      "2016-11-02 00:18:24,062 datacube.index._datasets \u001b[37mINFO\u001b[0m Indexing f2de604b-f3df-4fed-a82e-a0be6559e748\n"
     ]
    }
   ],
   "source": [
    "!datacube -v dataset add $ls5ledapsscene --auto-match "
   ]
  },
  {
   "cell_type": "code",
   "execution_count": 23,
   "metadata": {
    "collapsed": false
   },
   "outputs": [
    {
     "name": "stdout",
     "output_type": "stream",
     "text": [
      "2016-11-02 00:18:30,687 datacube \u001b[37mINFO\u001b[0m Running datacube command: /home/simonaoliver/venvs/agdc-v2/bin/datacube -v dataset add /media/simonaoliver/datacube/input/USGS_LandsatLEDAPS/LE70960852016024-SC20160211221824/agdc-metadata.yaml --auto-match\n",
      "2016-11-02 00:18:31,473 datacube-dataset \u001b[37mINFO\u001b[0m Matched Dataset <id=7367d84d-87c8-4c22-9f0c-221b2cbefe54 type=ls7_ledaps_scene location=/media/simonaoliver/datacube/input/USGS_LandsatLEDAPS/LE70960852016024-SC20160211221824/agdc-metadata.yaml>\n",
      "2016-11-02 00:18:31,475 datacube.index._datasets \u001b[37mINFO\u001b[0m Indexing 7367d84d-87c8-4c22-9f0c-221b2cbefe54\n"
     ]
    }
   ],
   "source": [
    "!datacube -v dataset add $ls7ledapsscene --auto-match "
   ]
  },
  {
   "cell_type": "code",
   "execution_count": 24,
   "metadata": {
    "collapsed": false
   },
   "outputs": [
    {
     "name": "stdout",
     "output_type": "stream",
     "text": [
      "2016-11-02 00:18:35,812 datacube \u001b[37mINFO\u001b[0m Running datacube command: /home/simonaoliver/venvs/agdc-v2/bin/datacube -v dataset add /media/simonaoliver/datacube/input/USGS_LandsatLEDAPS/LC80960852015365-SC20160211222236/agdc-metadata.yaml --auto-match\n",
      "2016-11-02 00:18:36,739 datacube-dataset \u001b[37mINFO\u001b[0m Matched Dataset <id=6dfb4cbe-28b0-4055-a9d5-25d2a3f3f931 type=ls8_ledaps_scene location=/media/simonaoliver/datacube/input/USGS_LandsatLEDAPS/LC80960852015365-SC20160211222236/agdc-metadata.yaml>\n",
      "2016-11-02 00:18:36,742 datacube.index._datasets \u001b[37mINFO\u001b[0m Indexing 6dfb4cbe-28b0-4055-a9d5-25d2a3f3f931\n"
     ]
    }
   ],
   "source": [
    "!datacube -v dataset add $ls8ledapsscene --auto-match "
   ]
  },
  {
   "cell_type": "code",
   "execution_count": 25,
   "metadata": {
    "collapsed": false,
    "scrolled": true
   },
   "outputs": [
    {
     "name": "stdout",
     "output_type": "stream",
     "text": [
      "2016-11-02 00:18:41,706 datacube \u001b[37mINFO\u001b[0m Running datacube command: /home/simonaoliver/venvs/agdc-v2/bin/datacube -v ingest --config-file /home/simonaoliver/code/agdc-v2/docs/config_samples/ingester/ls5_ledaps_albers.yaml\n",
      "2016-11-02 00:18:42,004 agdc-ingest \u001b[37mINFO\u001b[0m Created DatasetType ls5_ledaps_albers\n",
      "2016-11-02 00:18:42,212 datacube.index.postgres._dynamic \u001b[37mINFO\u001b[0m Creating index: dix_ls5_ledaps_albers_lat_lon_time\n",
      "2016-11-02 00:18:42,220 datacube.index.postgres._dynamic \u001b[37mINFO\u001b[0m Creating index: dix_ls5_ledaps_albers_time_lat_lon\n",
      "2016-11-02 00:18:42,226 datacube.index.postgres._dynamic \u001b[37mINFO\u001b[0m Creating index: dix_ls5_ledaps_albers_sat_path_sat_row_time\n",
      "2016-11-02 00:18:42,236 datacube.index.postgres._dynamic \u001b[37mINFO\u001b[0m Creating index: dix_ls5_ledaps_albers_orbit\n",
      "2016-11-02 00:18:42,253 datacube.index.postgres._dynamic \u001b[37mINFO\u001b[0m Creating index: dix_ls5_ledaps_albers_gsi\n",
      "2016-11-02 00:18:44,746 agdc-ingest \u001b[37mINFO\u001b[0m 9 tasks discovered\n",
      "2016-11-02 00:18:45,146 agdc-ingest \u001b[37mINFO\u001b[0m Submitting task: (7, -41, numpy.datetime64('2011-10-17T00:15:48.000000000'))\n",
      "2016-11-02 00:18:45,147 agdc-ingest \u001b[37mINFO\u001b[0m Submitting task: (6, -40, numpy.datetime64('2011-10-17T00:15:48.000000000'))\n",
      "2016-11-02 00:18:45,148 agdc-ingest \u001b[37mINFO\u001b[0m Submitting task: (8, -41, numpy.datetime64('2011-10-17T00:15:48.000000000'))\n",
      "2016-11-02 00:18:45,149 agdc-ingest \u001b[37mINFO\u001b[0m Submitting task: (6, -39, numpy.datetime64('2011-10-17T00:15:48.000000000'))\n",
      "2016-11-02 00:18:45,149 agdc-ingest \u001b[37mINFO\u001b[0m Submitting task: (8, -40, numpy.datetime64('2011-10-17T00:15:48.000000000'))\n",
      "2016-11-02 00:18:45,150 agdc-ingest \u001b[37mINFO\u001b[0m Submitting task: (6, -41, numpy.datetime64('2011-10-17T00:15:48.000000000'))\n",
      "2016-11-02 00:18:45,152 agdc-ingest \u001b[37mINFO\u001b[0m Submitting task: (7, -39, numpy.datetime64('2011-10-17T00:15:48.000000000'))\n",
      "2016-11-02 00:18:45,152 agdc-ingest \u001b[37mINFO\u001b[0m Submitting task: (8, -39, numpy.datetime64('2011-10-17T00:15:48.000000000'))\n",
      "2016-11-02 00:18:45,153 agdc-ingest \u001b[37mINFO\u001b[0m Submitting task: (7, -40, numpy.datetime64('2011-10-17T00:15:48.000000000'))\n",
      "2016-11-02 00:18:45,154 agdc-ingest \u001b[37mINFO\u001b[0m Starting task (7, -41, numpy.datetime64('2011-10-17T00:15:48.000000000'))\n",
      "2016-11-02 00:19:58,955 datacube.storage.storage \u001b[37mINFO\u001b[0m Creating storage unit: /media/simonaoliver/datacube/tiles/LS5_TM_LEDAPS/LS5_TM_LEDAPS_3577_7_-41_20111017001548000000.nc\n",
      "2016-11-02 00:20:43,917 agdc-ingest \u001b[37mINFO\u001b[0m Finished task (7, -41, numpy.datetime64('2011-10-17T00:15:48.000000000'))\n",
      "2016-11-02 00:20:43,918 agdc-ingest \u001b[37mINFO\u001b[0m completed 1, failed 0, pending 8\n",
      "2016-11-02 00:20:43,919 datacube.index._datasets \u001b[37mINFO\u001b[0m Indexing 47d9002f-59d5-4f12-b202-929f4cdddf7f\n",
      "2016-11-02 00:20:44,020 agdc-ingest \u001b[37mINFO\u001b[0m Starting task (6, -40, numpy.datetime64('2011-10-17T00:15:48.000000000'))\n",
      "2016-11-02 00:21:55,327 datacube.storage.storage \u001b[37mINFO\u001b[0m Creating storage unit: /media/simonaoliver/datacube/tiles/LS5_TM_LEDAPS/LS5_TM_LEDAPS_3577_6_-40_20111017001548000000.nc\n",
      "2016-11-02 00:22:45,908 agdc-ingest \u001b[37mINFO\u001b[0m Finished task (6, -40, numpy.datetime64('2011-10-17T00:15:48.000000000'))\n",
      "2016-11-02 00:22:45,940 agdc-ingest \u001b[37mINFO\u001b[0m completed 1, failed 0, pending 7\n",
      "2016-11-02 00:22:45,941 datacube.index._datasets \u001b[37mINFO\u001b[0m Indexing 8d507e94-b723-42f8-9938-eedc198807a9\n",
      "2016-11-02 00:22:46,382 agdc-ingest \u001b[37mINFO\u001b[0m Starting task (8, -41, numpy.datetime64('2011-10-17T00:15:48.000000000'))\n",
      "2016-11-02 00:23:32,412 datacube.storage.storage \u001b[37mINFO\u001b[0m Creating storage unit: /media/simonaoliver/datacube/tiles/LS5_TM_LEDAPS/LS5_TM_LEDAPS_3577_8_-41_20111017001548000000.nc\n",
      "2016-11-02 00:23:59,153 agdc-ingest \u001b[37mINFO\u001b[0m Finished task (8, -41, numpy.datetime64('2011-10-17T00:15:48.000000000'))\n",
      "2016-11-02 00:23:59,155 agdc-ingest \u001b[37mINFO\u001b[0m completed 1, failed 0, pending 6\n",
      "2016-11-02 00:23:59,156 datacube.index._datasets \u001b[37mINFO\u001b[0m Indexing 108f8862-9bd1-4a0d-ac98-b75509f75601\n",
      "2016-11-02 00:23:59,668 agdc-ingest \u001b[37mINFO\u001b[0m Starting task (6, -39, numpy.datetime64('2011-10-17T00:15:48.000000000'))\n",
      "2016-11-02 00:24:30,996 datacube.storage.storage \u001b[37mINFO\u001b[0m Creating storage unit: /media/simonaoliver/datacube/tiles/LS5_TM_LEDAPS/LS5_TM_LEDAPS_3577_6_-39_20111017001548000000.nc\n",
      "2016-11-02 00:25:00,571 agdc-ingest \u001b[37mINFO\u001b[0m Finished task (6, -39, numpy.datetime64('2011-10-17T00:15:48.000000000'))\n",
      "2016-11-02 00:25:00,618 agdc-ingest \u001b[37mINFO\u001b[0m completed 1, failed 0, pending 5\n",
      "2016-11-02 00:25:00,620 datacube.index._datasets \u001b[37mINFO\u001b[0m Indexing 371197e0-fcbe-4a6f-a7df-19871295f194\n",
      "2016-11-02 00:25:01,049 agdc-ingest \u001b[37mINFO\u001b[0m Starting task (8, -40, numpy.datetime64('2011-10-17T00:15:48.000000000'))\n",
      "2016-11-02 00:26:01,706 datacube.storage.storage \u001b[37mINFO\u001b[0m Creating storage unit: /media/simonaoliver/datacube/tiles/LS5_TM_LEDAPS/LS5_TM_LEDAPS_3577_8_-40_20111017001548000000.nc\n",
      "2016-11-02 00:26:52,517 agdc-ingest \u001b[37mINFO\u001b[0m Finished task (8, -40, numpy.datetime64('2011-10-17T00:15:48.000000000'))\n",
      "2016-11-02 00:26:52,517 agdc-ingest \u001b[37mINFO\u001b[0m completed 1, failed 0, pending 4\n",
      "2016-11-02 00:26:52,517 datacube.index._datasets \u001b[37mINFO\u001b[0m Indexing abc90e8f-1d0f-4987-b731-4ee41b278708\n",
      "2016-11-02 00:26:52,634 agdc-ingest \u001b[37mINFO\u001b[0m Starting task (6, -41, numpy.datetime64('2011-10-17T00:15:48.000000000'))\n",
      "2016-11-02 00:27:43,204 datacube.storage.storage \u001b[37mINFO\u001b[0m Creating storage unit: /media/simonaoliver/datacube/tiles/LS5_TM_LEDAPS/LS5_TM_LEDAPS_3577_6_-41_20111017001548000000.nc\n",
      "2016-11-02 00:28:21,720 agdc-ingest \u001b[37mINFO\u001b[0m Finished task (6, -41, numpy.datetime64('2011-10-17T00:15:48.000000000'))\n",
      "2016-11-02 00:28:21,722 agdc-ingest \u001b[37mINFO\u001b[0m completed 1, failed 0, pending 3\n",
      "2016-11-02 00:28:21,724 datacube.index._datasets \u001b[37mINFO\u001b[0m Indexing 6eb582c3-ba13-4a69-aeae-e36d20c116ed\n",
      "2016-11-02 00:28:22,331 agdc-ingest \u001b[37mINFO\u001b[0m Starting task (7, -39, numpy.datetime64('2011-10-17T00:15:48.000000000'))\n",
      "2016-11-02 00:28:47,308 datacube.storage.storage \u001b[37mINFO\u001b[0m Creating storage unit: /media/simonaoliver/datacube/tiles/LS5_TM_LEDAPS/LS5_TM_LEDAPS_3577_7_-39_20111017001548000000.nc\n",
      "2016-11-02 00:29:21,820 agdc-ingest \u001b[37mINFO\u001b[0m Finished task (7, -39, numpy.datetime64('2011-10-17T00:15:48.000000000'))\n",
      "2016-11-02 00:29:21,870 agdc-ingest \u001b[37mINFO\u001b[0m completed 1, failed 0, pending 2\n",
      "2016-11-02 00:29:21,871 datacube.index._datasets \u001b[37mINFO\u001b[0m Indexing 3e4cb7d9-1526-4b2e-ab1a-385805f2d296\n",
      "2016-11-02 00:29:22,005 agdc-ingest \u001b[37mINFO\u001b[0m Starting task (8, -39, numpy.datetime64('2011-10-17T00:15:48.000000000'))\n",
      "2016-11-02 00:29:39,171 datacube.storage.storage \u001b[37mINFO\u001b[0m Creating storage unit: /media/simonaoliver/datacube/tiles/LS5_TM_LEDAPS/LS5_TM_LEDAPS_3577_8_-39_20111017001548000000.nc\n",
      "2016-11-02 00:30:05,450 agdc-ingest \u001b[37mINFO\u001b[0m Finished task (8, -39, numpy.datetime64('2011-10-17T00:15:48.000000000'))\n",
      "2016-11-02 00:30:05,450 agdc-ingest \u001b[37mINFO\u001b[0m completed 1, failed 0, pending 1\n",
      "2016-11-02 00:30:05,450 datacube.index._datasets \u001b[37mINFO\u001b[0m Indexing c8ca0285-d2aa-41f9-a335-700a46af2840\n",
      "2016-11-02 00:30:05,556 agdc-ingest \u001b[37mINFO\u001b[0m Starting task (7, -40, numpy.datetime64('2011-10-17T00:15:48.000000000'))\n",
      "2016-11-02 00:30:45,462 datacube.storage.storage \u001b[37mINFO\u001b[0m Creating storage unit: /media/simonaoliver/datacube/tiles/LS5_TM_LEDAPS/LS5_TM_LEDAPS_3577_7_-40_20111017001548000000.nc\n",
      "2016-11-02 00:31:42,027 agdc-ingest \u001b[37mINFO\u001b[0m Finished task (7, -40, numpy.datetime64('2011-10-17T00:15:48.000000000'))\n",
      "2016-11-02 00:31:42,028 agdc-ingest \u001b[37mINFO\u001b[0m completed 1, failed 0, pending 0\n",
      "2016-11-02 00:31:42,029 datacube.index._datasets \u001b[37mINFO\u001b[0m Indexing d851a529-b42a-4eec-81d4-aaf059f40145\n",
      "9 successful, 0 failed\n"
     ]
    }
   ],
   "source": [
    "ls5ledapsingester = '/home/simonaoliver/code/agdc-v2/docs/config_samples/ingester/ls5_ledaps_albers.yaml'\n",
    "!datacube -v ingest --config-file $ls5ledapsingester"
   ]
  },
  {
   "cell_type": "code",
   "execution_count": null,
   "metadata": {
    "collapsed": false
   },
   "outputs": [],
   "source": [
    "ls7ledapsingester = '/home/simonaoliver/code/agdc-v2/docs/config_samples/ingester/ls7_ledaps_albers.yaml'\n",
    "!datacube -v ingest --config-file $ls7ledapsingester"
   ]
  },
  {
   "cell_type": "code",
   "execution_count": null,
   "metadata": {
    "collapsed": false
   },
   "outputs": [],
   "source": [
    "ls8ledapsingester = '/home/simonaoliver/code/agdc-v2/docs/config_samples/ingester/ls8_ledaps_albers.yaml'\n",
    "!datacube -v ingest --config-file $ls8ledapsingester"
   ]
  },
  {
   "cell_type": "code",
   "execution_count": null,
   "metadata": {
    "collapsed": false
   },
   "outputs": [],
   "source": [
    "#import os \n",
    "#for item in [nbarscenes,nbartscenes]:\n",
    "#    for x in os.listdir(item):\n",
    "#        inputscene = os.path.join(item,x,\"ga-metadata.yaml\")\n",
    "#        #!datacube -v index --match-rules $matchrules $inputscene\n",
    "#        !datacube -v dataset add $inputscene --auto-match \n",
    "!datacube -v dataset add $nbarscenes --auto-match "
   ]
  },
  {
   "cell_type": "code",
   "execution_count": null,
   "metadata": {
    "collapsed": false
   },
   "outputs": [],
   "source": [
    "nbaringester = '/home/simonaoliver/code/agdc-v2/docs/config_samples/ingester/ls7_nbar_albers.yaml'\n",
    "#!datacube -v ingest --config-file $nbaringester"
   ]
  },
  {
   "cell_type": "code",
   "execution_count": null,
   "metadata": {
    "collapsed": false
   },
   "outputs": [],
   "source": [
    "!datacube -v dataset add $nbartscenes --auto-match "
   ]
  },
  {
   "cell_type": "code",
   "execution_count": null,
   "metadata": {
    "collapsed": false
   },
   "outputs": [],
   "source": [
    "nbartingester = '/home/simonaoliver/code/agdc-v2/docs/config_samples/ingester/ls7_nbart_albers.yaml'\n",
    "#!datacube -v ingest --config-file $nbartingester"
   ]
  },
  {
   "cell_type": "code",
   "execution_count": null,
   "metadata": {
    "collapsed": false
   },
   "outputs": [],
   "source": [
    "!datacube -v dataset add $pqscenes --auto-match "
   ]
  },
  {
   "cell_type": "code",
   "execution_count": null,
   "metadata": {
    "collapsed": false,
    "scrolled": false
   },
   "outputs": [],
   "source": [
    "pqingester = '/home/simonaoliver/code/agdc-v2/docs/config_samples/ingester/ls5_pq_albers.yaml'\n",
    "#!datacube -v ingest --config-file $pqingester"
   ]
  },
  {
   "cell_type": "code",
   "execution_count": null,
   "metadata": {
    "collapsed": true
   },
   "outputs": [],
   "source": []
  }
 ],
 "metadata": {
  "anaconda-cloud": {},
  "kernelspec": {
   "display_name": "Python 3",
   "language": "python",
   "name": "python3"
  },
  "language_info": {
   "codemirror_mode": {
    "name": "ipython",
    "version": 3
   },
   "file_extension": ".py",
   "mimetype": "text/x-python",
   "name": "python",
   "nbconvert_exporter": "python",
   "pygments_lexer": "ipython3",
   "version": "3.5.2"
  }
 },
 "nbformat": 4,
 "nbformat_minor": 0
}
