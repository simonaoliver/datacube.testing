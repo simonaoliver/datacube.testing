{
 "cells": [
  {
   "cell_type": "code",
   "execution_count": 1,
   "metadata": {
    "collapsed": false
   },
   "outputs": [
    {
     "ename": "ImportError",
     "evalue": "/home/simonaoliver/miniconda2/lib/./libcurl.so.4: undefined symbol: SSLv2_client_method",
     "output_type": "error",
     "traceback": [
      "\u001b[1;31m---------------------------------------------------------------------------\u001b[0m",
      "\u001b[1;31mImportError\u001b[0m                               Traceback (most recent call last)",
      "\u001b[1;32m<ipython-input-1-1b9eaff69208>\u001b[0m in \u001b[0;36m<module>\u001b[1;34m()\u001b[0m\n\u001b[1;32m----> 1\u001b[1;33m \u001b[1;32mimport\u001b[0m \u001b[0mnetCDF4\u001b[0m\u001b[1;33m\u001b[0m\u001b[0m\n\u001b[0m\u001b[0;32m      2\u001b[0m \u001b[1;32mimport\u001b[0m \u001b[0mrasterio\u001b[0m\u001b[1;33m.\u001b[0m\u001b[0mfeatures\u001b[0m\u001b[1;33m\u001b[0m\u001b[0m\n\u001b[0;32m      3\u001b[0m \u001b[1;32mfrom\u001b[0m \u001b[0mshapely\u001b[0m\u001b[1;33m.\u001b[0m\u001b[0mgeometry\u001b[0m \u001b[1;32mimport\u001b[0m \u001b[0mPoint\u001b[0m\u001b[1;33m\u001b[0m\u001b[0m\n\u001b[0;32m      4\u001b[0m \u001b[1;32mimport\u001b[0m \u001b[0mnumpy\u001b[0m \u001b[1;32mas\u001b[0m \u001b[0mnp\u001b[0m\u001b[1;33m\u001b[0m\u001b[0m\n\u001b[0;32m      5\u001b[0m \u001b[1;32mimport\u001b[0m \u001b[0mmatplotlib\u001b[0m\u001b[1;33m.\u001b[0m\u001b[0mpyplot\u001b[0m \u001b[1;32mas\u001b[0m \u001b[0mplt\u001b[0m\u001b[1;33m\u001b[0m\u001b[0m\n",
      "\u001b[1;32m/home/simonaoliver/venvs/agdc-v2/local/lib/python2.7/site-packages/netCDF4/__init__.py\u001b[0m in \u001b[0;36m<module>\u001b[1;34m()\u001b[0m\n\u001b[0;32m      1\u001b[0m \u001b[1;31m# init for netCDF4. package\u001b[0m\u001b[1;33m\u001b[0m\u001b[1;33m\u001b[0m\u001b[0m\n\u001b[0;32m      2\u001b[0m \u001b[1;31m# Docstring comes from extension module _netCDF4.\u001b[0m\u001b[1;33m\u001b[0m\u001b[1;33m\u001b[0m\u001b[0m\n\u001b[1;32m----> 3\u001b[1;33m \u001b[1;32mfrom\u001b[0m \u001b[1;33m.\u001b[0m\u001b[0m_netCDF4\u001b[0m \u001b[1;32mimport\u001b[0m \u001b[1;33m*\u001b[0m\u001b[1;33m\u001b[0m\u001b[0m\n\u001b[0m\u001b[0;32m      4\u001b[0m \u001b[1;31m# Need explicit imports for names beginning with underscores\u001b[0m\u001b[1;33m\u001b[0m\u001b[1;33m\u001b[0m\u001b[0m\n\u001b[0;32m      5\u001b[0m \u001b[1;32mfrom\u001b[0m \u001b[1;33m.\u001b[0m\u001b[0m_netCDF4\u001b[0m \u001b[1;32mimport\u001b[0m \u001b[0m__doc__\u001b[0m\u001b[1;33m,\u001b[0m \u001b[0m__pdoc__\u001b[0m\u001b[1;33m\u001b[0m\u001b[0m\n",
      "\u001b[1;31mImportError\u001b[0m: /home/simonaoliver/miniconda2/lib/./libcurl.so.4: undefined symbol: SSLv2_client_method"
     ]
    }
   ],
   "source": [
    "import netCDF4\n",
    "import rasterio.features\n",
    "from shapely.geometry import Point\n",
    "import numpy as np\n",
    "import matplotlib.pyplot as plt\n",
    "from affine import Affine\n",
    "%matplotlib inline"
   ]
  },
  {
   "cell_type": "code",
   "execution_count": 2,
   "metadata": {
    "collapsed": false
   },
   "outputs": [
    {
     "data": {
      "text/plain": [
       "'http://thredds-water.ceh.ac.uk/thredds/dodsC/PETDetail/chess_pet_wwg_201005.nc'"
      ]
     },
     "execution_count": 2,
     "metadata": {},
     "output_type": "execute_result"
    }
   ],
   "source": [
    "URL_TEMPLATE = \"http://thredds-water.ceh.ac.uk/thredds/dodsC/PETDetail/chess_pet_wwg_{year:04d}{month:02d}.nc\"\n",
    "\n",
    "year = 2010\n",
    "month = 5\n",
    "url = URL_TEMPLATE.format(year=year, month=month)\n",
    "url"
   ]
  },
  {
   "cell_type": "code",
   "execution_count": 15,
   "metadata": {
    "collapsed": false
   },
   "outputs": [],
   "source": [
    "refDataPath = 'http://dapds00.nci.org.au/thredds/fileServer/rs0/tiles/EPSG4326_1deg_0.00025pixel/LS5_TM/112_-024/1989/LS5_TM_FC_112_-024_1989-01-10T01-52-03.658094.tif'\n",
    "# Open the terrain corrected surface reflectance data\n",
    "refDataSet = rasterio.open(refDataPath)"
   ]
  },
  {
   "cell_type": "code",
   "execution_count": 16,
   "metadata": {
    "collapsed": false
   },
   "outputs": [
    {
     "data": {
      "text/plain": [
       "u'GTiff'"
      ]
     },
     "execution_count": 16,
     "metadata": {},
     "output_type": "execute_result"
    }
   ],
   "source": [
    "refDataSet.driver"
   ]
  },
  {
   "cell_type": "code",
   "execution_count": 4,
   "metadata": {
    "collapsed": false
   },
   "outputs": [
    {
     "name": "stderr",
     "output_type": "stream",
     "text": [
      "ERROR:rasterio._gdal:CPLE_OpenFailed in `/vsicurl/http://thredds-water.ceh.ac.uk/thredds/dodsC/PETDetail/chess_pet_wwg_201005.nc' does not exist in the file system,\n",
      "and is not recognised as a supported dataset name.\n",
      "\n"
     ]
    },
    {
     "ename": "RasterioIOError",
     "evalue": "'/vsicurl/http://thredds-water.ceh.ac.uk/thredds/dodsC/PETDetail/chess_pet_wwg_201005.nc' does not exist in the file system, and is not recognised as a supported dataset name. ",
     "output_type": "error",
     "traceback": [
      "\u001b[1;31m---------------------------------------------------------------------------\u001b[0m",
      "\u001b[1;31mRasterioIOError\u001b[0m                           Traceback (most recent call last)",
      "\u001b[1;32m<ipython-input-4-19442a970089>\u001b[0m in \u001b[0;36m<module>\u001b[1;34m()\u001b[0m\n\u001b[1;32m----> 1\u001b[1;33m \u001b[0mopendapexample\u001b[0m \u001b[1;33m=\u001b[0m \u001b[0mrasterio\u001b[0m\u001b[1;33m.\u001b[0m\u001b[0mopen\u001b[0m\u001b[1;33m(\u001b[0m\u001b[0murl\u001b[0m\u001b[1;33m)\u001b[0m\u001b[1;33m\u001b[0m\u001b[0m\n\u001b[0m",
      "\u001b[1;32m/home/simonaoliver/venvs/agdc-v2/local/lib/python2.7/site-packages/rasterio/__init__.pyc\u001b[0m in \u001b[0;36mopen\u001b[1;34m(path, mode, driver, width, height, count, crs, transform, dtype, nodata, **kwargs)\u001b[0m\n\u001b[0;32m    191\u001b[0m         raise ValueError(\n\u001b[0;32m    192\u001b[0m             \"mode string must be one of 'r', 'r+', or 'w', not %s\" % mode)\n\u001b[1;32m--> 193\u001b[1;33m     \u001b[0ms\u001b[0m\u001b[1;33m.\u001b[0m\u001b[0mstart\u001b[0m\u001b[1;33m(\u001b[0m\u001b[1;33m)\u001b[0m\u001b[1;33m\u001b[0m\u001b[0m\n\u001b[0m\u001b[0;32m    194\u001b[0m     \u001b[1;32mreturn\u001b[0m \u001b[0ms\u001b[0m\u001b[1;33m\u001b[0m\u001b[0m\n\u001b[0;32m    195\u001b[0m \u001b[1;33m\u001b[0m\u001b[0m\n",
      "\u001b[1;32mrasterio/_base.pyx\u001b[0m in \u001b[0;36mrasterio._base.DatasetReader.start (rasterio/_base.c:2969)\u001b[1;34m()\u001b[0m\n",
      "\u001b[1;31mRasterioIOError\u001b[0m: '/vsicurl/http://thredds-water.ceh.ac.uk/thredds/dodsC/PETDetail/chess_pet_wwg_201005.nc' does not exist in the file system, and is not recognised as a supported dataset name. "
     ]
    }
   ],
   "source": [
    "opendapexample = gdal.Dataset..open(url)"
   ]
  },
  {
   "cell_type": "code",
   "execution_count": null,
   "metadata": {
    "collapsed": true
   },
   "outputs": [],
   "source": []
  },
  {
   "cell_type": "code",
   "execution_count": 3,
   "metadata": {
    "collapsed": false
   },
   "outputs": [
    {
     "data": {
      "text/plain": [
       "<type 'netCDF4._netCDF4.Dataset'>\n",
       "root group (NETCDF3_64BIT data model, file format UNDEFINED):\n",
       "    title: Potential evapotranspiration over well-watered grass.\n",
       "    institution: CEH Wallingford - NERC\n",
       "    geospatial_lat_min: 49.771\n",
       "    geospatial_lat_max: 59.3952\n",
       "    geospatial_lon_min: -9.00452\n",
       "    geospatial_lon_max: 2.49124\n",
       "    time_coverage_start: 2010-05-01\n",
       "    time_coverage_end: 2010-05-31\n",
       "    version: 1.2\n",
       "    Conventions: CF-1.6\n",
       "    description: Daily potential evapotranspiration (mm/day) at 1km resolution over Great Britain. Calculated using the Penman-Monteith equation assuming a well-watered grass surface.\n",
       "    date_created: 2015-09-24\n",
       "    creator_name: Eleanor Blyth, Douglas Clark, Jon Finch, Emma Robinson, Alison Rudd\n",
       "    creator_email: chess@ceh.ac.uk\n",
       "    publisher_name: Centre for Ecology and Hydrology\n",
       "    publisher_url: http://www.ceh.ac.uk\n",
       "    publisher_email: enquiries@ceh.ac.uk\n",
       "    source: Climate Hydrology Ecosystem research Support System (CHESS)\n",
       "    licence: Licensing conditions apply (datalicensing@ceh.ac.uk)\n",
       "    dimensions(sizes): time(31), x(656), y(1057)\n",
       "    variables(dimensions): float32 \u001b[4mtime\u001b[0m(time), float32 \u001b[4my\u001b[0m(y), float32 \u001b[4mx\u001b[0m(x), int32 \u001b[4mcrs\u001b[0m(), float32 \u001b[4mlat\u001b[0m(y,x), float32 \u001b[4mlon\u001b[0m(y,x), float32 \u001b[4mpet\u001b[0m(time,y,x)\n",
       "    groups: "
      ]
     },
     "execution_count": 3,
     "metadata": {},
     "output_type": "execute_result"
    }
   ],
   "source": [
    "dataset = netCDF4.Dataset(url)  # open the dataset\n",
    "dataset"
   ]
  },
  {
   "cell_type": "code",
   "execution_count": null,
   "metadata": {
    "collapsed": true
   },
   "outputs": [],
   "source": [
    "plt.figure(figsize=(6,7))\n",
    "plt.imshow(dataset['pet'][0,:,:], origin='lower')\n",
    "plt.colorbar()\n",
    "plt.xticks(np.arange(0, 800, 100))\n",
    "plt.yticks(np.arange(0, 1100, 100))\n",
    "plt.axis(\"equal\")\n",
    "plt.grid(True)\n",
    "plt.show()"
   ]
  },
  {
   "cell_type": "code",
   "execution_count": null,
   "metadata": {
    "collapsed": true
   },
   "outputs": [],
   "source": []
  }
 ],
 "metadata": {
  "kernelspec": {
   "display_name": "Python 2",
   "language": "python",
   "name": "python2"
  },
  "widgets": {
   "state": {},
   "version": "1.1.1"
  }
 },
 "nbformat": 4,
 "nbformat_minor": 0
}
