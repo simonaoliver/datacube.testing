{
 "cells": [
  {
   "cell_type": "code",
   "execution_count": 16,
   "metadata": {
    "collapsed": true
   },
   "outputs": [],
   "source": [
    "s2path='http://sentinel-s2-l1c.s3.amazonaws.com/tiles/56/L/LH/2016/11/2/0/tileInfo.json'"
   ]
  },
  {
   "cell_type": "code",
   "execution_count": 17,
   "metadata": {
    "collapsed": false
   },
   "outputs": [],
   "source": [
    "!python /home/simonaoliver/code/agdc-v2/utils/s2awsprepare.py --output s2s3.yaml $s2path"
   ]
  },
  {
   "cell_type": "code",
   "execution_count": 18,
   "metadata": {
    "collapsed": false
   },
   "outputs": [
    {
     "name": "stdout",
     "output_type": "stream",
     "text": [
      "extent:\r\n",
      "  center_dt: '2016-11-02T00:21:03.460Z'\r\n",
      "  coord:\r\n",
      "    ll: {lat: -15.368802825143177, lon: 151.13671590347747}\r\n",
      "    lr: {lat: -15.375011220716456, lon: 152.15953187079944}\r\n",
      "    ul: {lat: -16.360921843925325, lon: 151.12757755875904}\r\n",
      "    ur: {lat: -16.36755216534471, lon: 152.15540752150065}\r\n",
      "  from_dt: '2016-11-02T00:21:03.460Z'\r\n",
      "  to_dt: '2016-11-02T00:21:03.460Z'\r\n",
      "format: {name: JPEG2000}\r\n",
      "grid_spatial:\r\n",
      "  projection:\r\n",
      "    geo_ref_points:\r\n",
      "      ll: {x: 300000.0, y: 8300020.0}\r\n",
      "      lr: {x: 409800.0, y: 8300020.0}\r\n",
      "      ul: {x: 300000.0, y: 8190220.0}\r\n",
      "      ur: {x: 409800.0, y: 8190220.0}\r\n",
      "    spatial_reference: EPSG:32756\r\n",
      "    valid_data:\r\n",
      "      coordinates:\r\n",
      "      - - [300001.0, 8217015.06788702]\r\n",
      "        - [300001.0, 8241434.42315976]\r\n",
      "        - [304824.361752173, 8240148.474923362]\r\n",
      "        - [300001.0, 8217015.06788702]\r\n",
      "      type: Polygon\r\n",
      "id: 7dd9e96c-fdbb-4ecd-a6fa-7a5dfdf8f4b4\r\n",
      "image:\r\n",
      "  bands:\r\n",
      "    '01': {layer: 1, path: 'http://sentinel-s2-l1c.s3.amazonaws.com/tiles/56/L/LH/2016/11/2/0/B01.jp2'}\r\n",
      "    '02': {layer: 1, path: 'http://sentinel-s2-l1c.s3.amazonaws.com/tiles/56/L/LH/2016/11/2/0/B02.jp2'}\r\n",
      "    '03': {layer: 1, path: 'http://sentinel-s2-l1c.s3.amazonaws.com/tiles/56/L/LH/2016/11/2/0/B03.jp2'}\r\n",
      "    '04': {layer: 1, path: 'http://sentinel-s2-l1c.s3.amazonaws.com/tiles/56/L/LH/2016/11/2/0/B04.jp2'}\r\n",
      "    '05': {layer: 1, path: 'http://sentinel-s2-l1c.s3.amazonaws.com/tiles/56/L/LH/2016/11/2/0/B05.jp2'}\r\n",
      "    '06': {layer: 1, path: 'http://sentinel-s2-l1c.s3.amazonaws.com/tiles/56/L/LH/2016/11/2/0/B06.jp2'}\r\n",
      "    '07': {layer: 1, path: 'http://sentinel-s2-l1c.s3.amazonaws.com/tiles/56/L/LH/2016/11/2/0/B07.jp2'}\r\n",
      "    08: {layer: 1, path: 'http://sentinel-s2-l1c.s3.amazonaws.com/tiles/56/L/LH/2016/11/2/0/B08.jp2'}\r\n",
      "    09: {layer: 1, path: 'http://sentinel-s2-l1c.s3.amazonaws.com/tiles/56/L/LH/2016/11/2/0/B09.jp2'}\r\n",
      "    '10': {layer: 1, path: 'http://sentinel-s2-l1c.s3.amazonaws.com/tiles/56/L/LH/2016/11/2/0/B10.jp2'}\r\n",
      "    '11': {layer: 1, path: 'http://sentinel-s2-l1c.s3.amazonaws.com/tiles/56/L/LH/2016/11/2/0/B11.jp2'}\r\n",
      "    '12': {layer: 1, path: 'http://sentinel-s2-l1c.s3.amazonaws.com/tiles/56/L/LH/2016/11/2/0/B12.jp2'}\r\n",
      "    8A: {layer: 1, path: 'http://sentinel-s2-l1c.s3.amazonaws.com/tiles/56/L/LH/2016/11/2/0/B8A.jp2'}\r\n",
      "instrument: {name: MSI}\r\n",
      "lineage:\r\n",
      "  source_datasets: {}\r\n",
      "platform: {code: SENTINEL_2A}\r\n",
      "processing_level: L1C\r\n",
      "product_type: S2MSI1C\r\n"
     ]
    }
   ],
   "source": [
    "!cat s2s3.yaml"
   ]
  },
  {
   "cell_type": "code",
   "execution_count": 13,
   "metadata": {
    "collapsed": false
   },
   "outputs": [
    {
     "name": "stdout",
     "output_type": "stream",
     "text": [
      "\r\n"
     ]
    }
   ],
   "source": [
    "!echo $s2path"
   ]
  },
  {
   "cell_type": "code",
   "execution_count": null,
   "metadata": {
    "collapsed": true
   },
   "outputs": [],
   "source": []
  }
 ],
 "metadata": {
  "kernelspec": {
   "display_name": "Python 3",
   "language": "python",
   "name": "python3"
  },
  "language_info": {
   "codemirror_mode": {
    "name": "ipython",
    "version": 3
   },
   "file_extension": ".py",
   "mimetype": "text/x-python",
   "name": "python",
   "nbconvert_exporter": "python",
   "pygments_lexer": "ipython3",
   "version": "3.5.2"
  }
 },
 "nbformat": 4,
 "nbformat_minor": 1
}
