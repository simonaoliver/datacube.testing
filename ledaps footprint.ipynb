{
 "cells": [
  {
   "cell_type": "code",
   "execution_count": 20,
   "metadata": {
    "collapsed": false
   },
   "outputs": [
    {
     "name": "stdout",
     "output_type": "stream",
     "text": [
      "{'geo_ref_points': {'ul': {'y': -3884085.0, 'x': 306285.0}, 'll': {'y': -4096815.0, 'x': 306285.0}, 'lr': {'y': -4096815.0, 'x': 548115.0}, 'ur': {'y': -3884085.0, 'x': 548115.0}}, 'valid_data': {'type': 'Polygon', 'coordinates': [[[349365.0, -3884895.0], [348675.7847637078, -3887738.1831115317], [345855.75281619106, -3900068.321509209], [328155.74510804884, -3977858.3553557713], [309495.7363121806, -4060358.394201395], [309225.483902697, -4061649.633436854], [309242.3861696165, -4061832.219318196], [310472.3861696165, -4062402.219318196], [310749.9270626457, -4062464.5679777227], [503289.9310855467, -4095494.5686676446], [504101.83281573, -4095598.416407865], [543494.2626682514, -3921321.6103136693], [543914.516097303, -3919430.366563146], [543955.5337032477, -3919006.910124673], [541794.4868329805, -3918196.5395010584], [541370.1205888123, -3918105.440237311], [349365.0, -3884895.0]]]}, 'spatial_reference': 'PROJCS[\"WGS 84 / UTM zone 54N\",GEOGCS[\"WGS 84\",DATUM[\"WGS_1984\",SPHEROID[\"WGS 84\",6378137,298.257223563,AUTHORITY[\"EPSG\",\"7030\"]],AUTHORITY[\"EPSG\",\"6326\"]],PRIMEM[\"Greenwich\",0],UNIT[\"degree\",0.0174532925199433],AUTHORITY[\"EPSG\",\"4326\"]],PROJECTION[\"Transverse_Mercator\"],PARAMETER[\"latitude_of_origin\",0],PARAMETER[\"central_meridian\",141],PARAMETER[\"scale_factor\",0.9996],PARAMETER[\"false_easting\",500000],PARAMETER[\"false_northing\",0],UNIT[\"metre\",1,AUTHORITY[\"EPSG\",\"9001\"]],AUTHORITY[\"EPSG\",\"32654\"]]'}\n"
     ]
    }
   ],
   "source": [
    "-\n",
    "\n",
    "datasets = ['/media/simonaoliver/datacube/input/USGS_LandsatLEDAPS/LT50960852011290-SC20160211221617/']\n",
    "for dataset in datasets:\n",
    "    path = Path(dataset)\n",
    "    \n",
    "    logging.info(\"Processing %s\", path)\n",
    "    documents = prepare_datasets(path)\n",
    "\n",
    "    dataset, folder = documents\n",
    "    yaml_path = str(folder.joinpath('agdc-metadata.yaml'))\n",
    "    logging.info(\"Writing %s\", yaml_path)\n",
    "    with open(yaml_path, 'w') as stream:\n",
    "        yaml.dump(dataset, stream)\n",
    "\n",
    "#@click.command(help=\"Prepare USGS LS dataset for ingestion into the Data Cube.\")\n",
    "#@click.argument('datasets',\n",
    "#                type=click.Path(exists=True, readable=True, writable=True),\n",
    "#                nargs=-1)\n",
    "#def main(datasets):\n",
    "#    logging.basicConfig(format='%(asctime)s %(levelname)s %(message)s', level=logging.INFO)#\n",
    "\n",
    "#    for dataset in datasets:\n",
    "#        path = Path(dataset)#\n",
    "#\n",
    "#        logging.info(\"Processing %s\", path)\n",
    "#        documents = prepare_datasets(path)#\n",
    "#\n",
    "#        dataset, folder = documents\n",
    "#        yaml_path = str(folder.joinpath('agdc-metadata.yaml'))\n",
    "#        logging.info(\"Writing %s\", yaml_path)\n",
    "#        with open(yaml_path, 'w') as stream:\n",
    "#            yaml.dump(dataset, stream)\n",
    "\n",
    "#if __name__ == \"__main__\":\n",
    "#    main()\n"
   ]
  },
  {
   "cell_type": "code",
   "execution_count": null,
   "metadata": {
    "collapsed": false
   },
   "outputs": [],
   "source": []
  },
  {
   "cell_type": "code",
   "execution_count": null,
   "metadata": {
    "collapsed": true
   },
   "outputs": [],
   "source": []
  }
 ],
 "metadata": {
  "kernelspec": {
   "display_name": "Python 2",
   "language": "python",
   "name": "python2"
  },
  "language_info": {
   "codemirror_mode": {
    "name": "ipython",
    "version": 2
   },
   "file_extension": ".py",
   "mimetype": "text/x-python",
   "name": "python",
   "nbconvert_exporter": "python",
   "pygments_lexer": "ipython2",
   "version": "2.7.9"
  },
  "widgets": {
   "state": {},
   "version": "1.1.1"
  }
 },
 "nbformat": 4,
 "nbformat_minor": 0
}
